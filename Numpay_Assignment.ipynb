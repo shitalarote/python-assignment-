{
  "nbformat": 4,
  "nbformat_minor": 0,
  "metadata": {
    "colab": {
      "private_outputs": true,
      "provenance": [],
      "authorship_tag": "ABX9TyNWcDtCuh+XRORClp2tSS2W",
      "include_colab_link": true
    },
    "kernelspec": {
      "name": "python3",
      "display_name": "Python 3"
    },
    "language_info": {
      "name": "python"
    }
  },
  "cells": [
    {
      "cell_type": "markdown",
      "metadata": {
        "id": "view-in-github",
        "colab_type": "text"
      },
      "source": [
        "<a href=\"https://colab.research.google.com/github/shitalarote/python-assignment-/blob/main/Numpay_Assignment.ipynb\" target=\"_parent\"><img src=\"https://colab.research.google.com/assets/colab-badge.svg\" alt=\"Open In Colab\"/></a>"
      ]
    },
    {
      "cell_type": "markdown",
      "source": [
        "#**Q 1.Explain the purpose and advantages of NumPy in scientific computing and data analysis. How does it enhance Python's capabilities for numerical operations?**\n",
        "\n",
        "\n",
        "**Ans**\n",
        "\n",
        "### **Purpose and Advantages of NumPy in Scientific Computing and Data Analysis**\n",
        "\n",
        "NumPy (Numerical Python) is a fundamental package for scientific computing in Python. It provides powerful tools for working with numerical data, especially multi-dimensional arrays (ndarrays), and supports a wide range of mathematical, logical, statistical, and algebraic operations.\n",
        "\n",
        "### **Purpose of NumPy**\n",
        "**1.**Efficient Numerical Computation: Provides fast, memory-efficient array operations.\n",
        "\n",
        "**2.**Foundation for Other Libraries: Forms the core of the scientific Python ecosystem (e.g., SciPy, Pandas, TensorFlow).\n",
        "\n",
        "**3.**Support for Multi-Dimensional Arrays: Enables manipulation of arrays of any shape or size with ease.\n",
        "\n",
        "## **Advantages of NumPy**\n",
        "\n",
        "**1.Feature **\n",
        "\n",
        "N-Dimensional Arrays\n",
        "\n",
        "**Description**\n",
        "\n",
        "Supports ndarray objects for efficient array storage and operations.\n",
        "\n",
        "**2.Feature **\n",
        "\n",
        "Speed\n",
        "\n",
        "**Description**\n",
        "\n",
        "Operations on arrays are implemented in C, making them significantly faster than pure Python loops.\n",
        "\n",
        "**3.Feature **\n",
        "\n",
        "Broadcasting\n",
        "\n",
        "**Description**\n",
        "\n",
        "Allows arithmetic operations between arrays of different shapes without explicit looping.\n",
        "\n",
        "\n",
        "**4.Feature **\n",
        "\n",
        "Vectorization\n",
        "\n",
        "**Description**\n",
        "\n",
        "Replaces explicit loops with array expressions, improving code clarity and performance.\n",
        "\n",
        "\n",
        "**5.Feature **\n",
        "\n",
        "Memory Efficiency\n",
        "\n",
        "**Description**\n",
        "\n",
        "Uses less memory by leveraging contiguous memory blocks and data type control.\n",
        "\n",
        "**6.Feature **\n",
        "\n",
        "Comprehensive Functions\n",
        "\n",
        "**Description**\n",
        "\n",
        "Includes functions for linear algebra, statistics, Fourier transforms, and more.\n",
        "\n",
        "**7.Feature **\n",
        "\n",
        "Integration\n",
        "\n",
        "**Description**\n",
        "\n",
        "Easily integrates with C/C++, Fortran, and other Python libraries.\n",
        "\n",
        "## **How NumPy Enhances Python's Capabilities**\n",
        "\n",
        "**1.Performance:** Native Python is slow for large numerical computations due to interpreted execution and lack of vectorized operations. NumPy overcomes this by leveraging optimized C-based operations.\n",
        "\n",
        "**2.Array-Oriented Computation:** Enables operations on entire datasets (arrays/matrices) without writing loops, making code shorter and faster.\n",
        "\n",
        "**3.Advanced Indexing and Slicing:** Provides powerful ways to manipulate subsets of data easily.\n",
        "\n",
        "**4.Interoperability:** NumPy arrays can be easily used with other libraries like Pandas, Matplotlib, SciPy, and machine learning frameworks like Scikit-learn and TensorFlow.\n",
        "\n",
        "**5.Mathematical Abstractions:** Provides high-level abstractions for complex mathematical operations like matrix multiplication, eigenvalue computation, and statistical analysis.\n"
      ],
      "metadata": {
        "id": "D8aM4x4748Gz"
      }
    },
    {
      "cell_type": "markdown",
      "source": [
        "# **Q 2. Compare and contrast np.mean() and np.average() functions in NumPy.** **When would you use one over the other?**\n",
        "\n",
        "**Ans**\n",
        "\n",
        "Comparison of np.mean() and np.average() in NumPy\n",
        "Both np.mean() and np.average() are used to compute the average value of array elements, but they differ in functionality and use cases.\n",
        "\n",
        "## **Key Differences**\n",
        "\n",
        "\n",
        "\n",
        "| Feature              | `np.mean()`                                              | `np.average()`                                                                        |\n",
        "| -------------------- | -------------------------------------------------------- | ------------------------------------------------------------------------------------- |\n",
        "| **Basic Function**   | Computes the **arithmetic mean** (sum divided by count). | Computes a **weighted average** (if weights are provided).                            |\n",
        "| **Weights**          | Not supported.                                           | Supports weights for each element.                                                    |\n",
        "| **Default Behavior** | Simple mean across all or specified axis.                | Simple mean if weights are `None`; otherwise, computes weighted average.              |\n",
        "| **Return Type**      | Always returns a scalar or array of means.               | Returns a scalar or array, **plus optional `returned=True`** can give sum of weights. |\n",
        "| **Use Case**         | When all data points are equally important.              | When data points have different importance (weights).                                 |\n",
        "\n",
        "## **Example Usage**\n",
        "**1. np.mean()**"
      ],
      "metadata": {
        "id": "jpQuAbmK5LYj"
      }
    },
    {
      "cell_type": "code",
      "source": [
        "import numpy as np\n",
        "\n",
        "data = np.array([1, 2, 3, 4])\n",
        "mean_value = np.mean(data) # Output: 2.5"
      ],
      "metadata": {
        "id": "MBFgW6m5_f_x"
      },
      "execution_count": null,
      "outputs": []
    },
    {
      "cell_type": "markdown",
      "source": [
        "**2. np.average() without weights**"
      ],
      "metadata": {
        "id": "WLaOwP77_qi5"
      }
    },
    {
      "cell_type": "code",
      "source": [
        "average_value = np.average(data)  # Output: 2.5"
      ],
      "metadata": {
        "id": "MlnnsCkx_tHq"
      },
      "execution_count": null,
      "outputs": []
    },
    {
      "cell_type": "markdown",
      "source": [
        "**3. np.average() with weights**"
      ],
      "metadata": {
        "id": "XdFi0Qfw_w15"
      }
    },
    {
      "cell_type": "code",
      "source": [
        "weights = np.array([1, 1, 1, 3])\n",
        "weighted_avg = np.average(data, weights=weights)  # Output: 3.25"
      ],
      "metadata": {
        "id": "_e62_TaJ_9Oy"
      },
      "execution_count": null,
      "outputs": []
    },
    {
      "cell_type": "markdown",
      "source": [
        "**4. Using returned=True with np.average()**"
      ],
      "metadata": {
        "id": "URE_ykeyABny"
      }
    },
    {
      "cell_type": "code",
      "source": [
        "weighted_avg, sum_weights = np.average(data, weights=weights, returned=True)\n",
        "# Output: (3.25, 6.0)"
      ],
      "metadata": {
        "id": "QRnUZcyDAFij"
      },
      "execution_count": null,
      "outputs": []
    },
    {
      "cell_type": "markdown",
      "source": [],
      "metadata": {
        "id": "X7_6RxaABEHh"
      }
    },
    {
      "cell_type": "markdown",
      "source": [
        "## **When to Use Which**\n",
        "\n",
        "| Scenario                                       | Recommended Function                          |\n",
        "| ---------------------------------------------- | --------------------------------------------- |\n",
        "| All values equally important                   | `np.mean()` or `np.average()` without weights |\n",
        "| Values have different weights or significance  | `np.average()` with `weights=`                |\n",
        "| Want clarity and simplicity                    | `np.mean()`                                   |\n",
        "| Need to return both average and sum of weights | `np.average(..., returned=True)`              |\n"
      ],
      "metadata": {
        "id": "exRdCVdsBAGw"
      }
    },
    {
      "cell_type": "markdown",
      "source": [
        "# **Q 3. Describe the methods for reversing a NumPy array along different** **axes. **Provide examples for 1D and 2D arrays.**\n",
        "\n",
        "**Ans-**\n",
        "\n",
        "### **Reversing a NumPy Array Along Different Axes**\n",
        "\n",
        "Reversing elements in a NumPy array can be done in several ways depending on the array's dimensions and the axis you want to reverse along. Here’s how it's done:\n",
        "\n",
        "## **Reversing a 1D Array**\n",
        "\n",
        "### **Example:**\n"
      ],
      "metadata": {
        "id": "74rWD_NjAQOy"
      }
    },
    {
      "cell_type": "code",
      "source": [
        "import numpy as np\n",
        "\n",
        "arr = np.array([1, 2, 3, 4, 5])\n",
        "reversed_arr = arr[::-1]\n",
        "print(reversed_arr)  # Output: [5 4 3 2 1]"
      ],
      "metadata": {
        "id": "Pi0alJN0BgNS"
      },
      "execution_count": null,
      "outputs": []
    },
    {
      "cell_type": "markdown",
      "source": [
        "**Explanation:**\n",
        "\n",
        "[::-1] slices the array in reverse order (from end to start)."
      ],
      "metadata": {
        "id": "4AlKJovpBmiJ"
      }
    },
    {
      "cell_type": "markdown",
      "source": [
        "## **Reversing a 2D Array**\n",
        "Let’s say you have:"
      ],
      "metadata": {
        "id": "KetuEDBVBqYp"
      }
    },
    {
      "cell_type": "code",
      "source": [
        "arr2d = np.array([[1, 2, 3],\n",
        "                  [4, 5, 6],\n",
        "                  [7, 8, 9]])"
      ],
      "metadata": {
        "id": "pBlc_tmgBx0B"
      },
      "execution_count": null,
      "outputs": []
    },
    {
      "cell_type": "markdown",
      "source": [
        "### **1. Reverse the rows (axis=0):**"
      ],
      "metadata": {
        "id": "r2lYutOLB22Z"
      }
    },
    {
      "cell_type": "code",
      "source": [
        "rev_rows = arr2d[::-1, :]\n",
        "print(rev_rows)\n",
        "# Output:\n",
        "# [[7 8 9]\n",
        "#  [4 5 6]\n",
        "#  [1 2 3]]"
      ],
      "metadata": {
        "id": "9E2yrBhsB7YJ"
      },
      "execution_count": null,
      "outputs": []
    },
    {
      "cell_type": "markdown",
      "source": [
        "### **2. Reverse the columns (axis=1):**"
      ],
      "metadata": {
        "id": "g-lEATvbB_op"
      }
    },
    {
      "cell_type": "code",
      "source": [
        "rev_cols = arr2d[:, ::-1]\n",
        "print(rev_cols)\n",
        "# Output:\n",
        "# [[3 2 1]\n",
        "#  [6 5 4]\n",
        "#  [9 8 7]]"
      ],
      "metadata": {
        "id": "CkWN7-8cCIGi"
      },
      "execution_count": null,
      "outputs": []
    },
    {
      "cell_type": "markdown",
      "source": [
        "### **3. Reverse both rows and columns:**"
      ],
      "metadata": {
        "id": "VWc0B4JJCJYB"
      }
    },
    {
      "cell_type": "code",
      "source": [
        "rev_both = arr2d[::-1, ::-1]\n",
        "print(rev_both)\n",
        "# Output:\n",
        "# [[9 8 7]\n",
        "#  [6 5 4]\n",
        "#  [3 2 1]]"
      ],
      "metadata": {
        "id": "JrBULYD6COm6"
      },
      "execution_count": null,
      "outputs": []
    },
    {
      "cell_type": "markdown",
      "source": [
        "## **Alternative Method:** np.flip()\n",
        "\n",
        "The np.flip() function provides a cleaner way to reverse along specified axes.\n",
        "\n",
        "**1. Flip along rows (axis 0):**"
      ],
      "metadata": {
        "id": "stRZMoHMCSKB"
      }
    },
    {
      "cell_type": "code",
      "source": [
        "np.flip(arr2d, axis=0)"
      ],
      "metadata": {
        "id": "5wgIB9A9CcEo"
      },
      "execution_count": null,
      "outputs": []
    },
    {
      "cell_type": "markdown",
      "source": [
        "**2. Flip along columns (axis 1):**"
      ],
      "metadata": {
        "id": "nbYqQmWwCfE5"
      }
    },
    {
      "cell_type": "code",
      "source": [
        "np.flip(arr2d, axis=1)"
      ],
      "metadata": {
        "id": "U4_vYhpDClUC"
      },
      "execution_count": null,
      "outputs": []
    },
    {
      "cell_type": "markdown",
      "source": [
        "**3. Flip all axes:**"
      ],
      "metadata": {
        "id": "bXzKWaCsCpzJ"
      }
    },
    {
      "cell_type": "code",
      "source": [
        "np.flip(arr2d)  # Equivalent to reversing both axes"
      ],
      "metadata": {
        "id": "hywFlRKvCrhR"
      },
      "execution_count": null,
      "outputs": []
    },
    {
      "cell_type": "markdown",
      "source": [
        "**Table-**\n",
        "\n",
        "| Operation                | Slice Notation    | `np.flip()` Equivalent |\n",
        "| ------------------------ | ----------------- | ---------------------- |\n",
        "| Reverse 1D               | `arr[::-1]`       | `np.flip(arr)`         |\n",
        "| Reverse rows (axis 0)    | `arr[::-1, :]`    | `np.flip(arr, axis=0)` |\n",
        "| Reverse columns (axis 1) | `arr[:, ::-1]`    | `np.flip(arr, axis=1)` |\n",
        "| Reverse both axes        | `arr[::-1, ::-1]` | `np.flip(arr)`         |\n"
      ],
      "metadata": {
        "id": "U4vO9FxLCxMp"
      }
    },
    {
      "cell_type": "markdown",
      "source": [
        "# **Q 4. How can you determine the data type of elements in a NumPy array? Discuss the importance of data types in memory management and performance**.\n",
        "\n",
        "\n"
      ],
      "metadata": {
        "id": "QmLd52kyC_Ch"
      }
    },
    {
      "cell_type": "markdown",
      "source": [
        "**Ans-**\n",
        "\n",
        "## **Determining the Data Type of Elements in a NumPy Array**\n",
        "\n",
        "To determine the data type of elements in a NumPy array, use the .dtype attribute.\n",
        "\n",
        "## **Example:**"
      ],
      "metadata": {
        "id": "UKTRB_oMDavI"
      }
    },
    {
      "cell_type": "code",
      "source": [
        "import numpy as np\n",
        "\n",
        "arr = np.array([1, 2, 3])\n",
        "print(arr.dtype)  # Output: int64 (or int32 depending on system)"
      ],
      "metadata": {
        "id": "FKGMoDhFDpAp"
      },
      "execution_count": null,
      "outputs": []
    },
    {
      "cell_type": "markdown",
      "source": [
        "If the array contains floats or mixed types:"
      ],
      "metadata": {
        "id": "t-F9qtqiDzqC"
      }
    },
    {
      "cell_type": "code",
      "source": [
        "arr2 = np.array([1.5, 2.0, 3.7])\n",
        "print(arr2.dtype)  # Output: float64"
      ],
      "metadata": {
        "id": "Jv9LvtI2D2mh"
      },
      "execution_count": null,
      "outputs": []
    },
    {
      "cell_type": "markdown",
      "source": [
        "## **Why Data Types Matter in NumPy**\n",
        "\n",
        "### **1. Memory Management**\n",
        "\n",
        "NumPy arrays are stored in contiguous blocks of memory, and the data type (dtype) determines how much memory each element uses.\n",
        "\n",
        "| Data Type | Bytes   |\n",
        "| --------- | ------- |\n",
        "| `int8`    | 1 byte  |\n",
        "| `int32`   | 4 bytes |\n",
        "| `float64` | 8 bytes |\n",
        "\n",
        "\n",
        "An array of 1,000,000 int64 integers uses ~8 MB, but using int8 reduces that to ~1 MB.\n",
        "\n",
        "### **2. Performance**\n",
        "\n",
        "Operations on fixed-type arrays are highly optimized at the C level, making them much faster than native Python lists.\n",
        "\n",
        "Using the appropriate dtype ensures faster computation and lower overhead, especially in large-scale computations or machine learning workflows.\n",
        "\n",
        "### **3. Data Integrity**\n",
        "\n",
        "Using a consistent data type avoids unintended type conversions (which can be slow or error-prone).\n",
        "\n",
        "### **Example:**\n"
      ],
      "metadata": {
        "id": "cr4wlbhVD5xp"
      }
    },
    {
      "cell_type": "code",
      "source": [
        "arr = np.array([1, 2, 3], dtype=np.float32)\n",
        "print(arr.dtype)  # float32"
      ],
      "metadata": {
        "id": "eeYuVKoEE4dR"
      },
      "execution_count": null,
      "outputs": []
    },
    {
      "cell_type": "markdown",
      "source": [
        "If you accidentally mix data types, NumPy will upcast (e.g., from int to float), which may use more memory or affect results.\n",
        "\n",
        "### **4. Custom dtypes and Structured Arrays**\n",
        "\n",
        "NumPy also supports custom and structured dtypes for more complex data handling (like database records or CSV parsing)."
      ],
      "metadata": {
        "id": "V9y2GQaWE8eb"
      }
    },
    {
      "cell_type": "markdown",
      "source": [
        "# **Q 5. Define ndarrays in NumPy and explain their key features. How do they differ from standard Python lists?**\n",
        "\n",
        "**Ans-**\n",
        "\n",
        "### **Definition and Features of ndarray in NumPy**\n",
        "\n",
        " **Definition:**\n",
        "\n",
        "In NumPy, an ndarray (short for N-dimensional array) is a powerful, multi-dimensional container for homogeneous data (all elements of the same type). It forms the core of NumPy’s array-processing capabilities.\n",
        "\n"
      ],
      "metadata": {
        "id": "ZjIz4s6QFMTy"
      }
    },
    {
      "cell_type": "code",
      "source": [
        "import numpy as np\n",
        "arr = np.array([1, 2, 3])\n",
        "print(type(arr))  # Output: <class 'numpy.ndarray'>"
      ],
      "metadata": {
        "id": "3UFWg6ktGJDZ"
      },
      "execution_count": null,
      "outputs": []
    },
    {
      "cell_type": "markdown",
      "source": [
        "### **Key Features of ndarray**\n",
        "\n",
        "| Feature                     | Description                                                               |\n",
        "| --------------------------- | ------------------------------------------------------------------------- |\n",
        "| **Multidimensional**        | Supports 1D, 2D, 3D, and higher-dimensional arrays.                       |\n",
        "| **Homogeneous**             | All elements must be of the same data type (`dtype`).                     |\n",
        "| **Fixed Size**              | Once created, the array size is fixed (unlike lists, which are dynamic).  |\n",
        "| **Efficient Storage**       | Stored in **contiguous memory**, enabling fast access and processing.     |\n",
        "| **Broadcasting**            | Supports broadcasting for arithmetic operations across different shapes.  |\n",
        "| **Vectorized Operations**   | Enables element-wise operations without explicit loops.                   |\n",
        "| **Built-in Math Functions** | Supports a wide range of operations: sum, mean, dot, reshape, etc.        |\n",
        "| **Shape and Dimension**     | Attributes like `.shape`, `.ndim`, and `.size` give array structure info. |\n",
        "\n",
        "\n",
        "### **ndarray vs. Python List**\n",
        "\n",
        "\n",
        "| Feature               | `ndarray`                                                       | Python List                                   |\n",
        "| --------------------- | --------------------------------------------------------------- | --------------------------------------------- |\n",
        "| **Data Type**         | Homogeneous (e.g., all `int32`)                                 | Heterogeneous (mixed types allowed)           |\n",
        "| **Performance**       | Fast (C-backed, vectorized)                                     | Slow for large numerical operations           |\n",
        "| **Functionality**     | Rich set of numerical functions (e.g., `.mean()`, `.reshape()`) | Limited to basic operations                   |\n",
        "| **Memory Efficiency** | More efficient due to fixed-type, contiguous storage            | Less efficient (pointers to separate objects) |\n",
        "| **Dimensionality**    | Supports multi-dimensional arrays                               | Nested lists are cumbersome for >1D           |\n",
        "| **Broadcasting**      | Supported                                                       | Not supported                                 |\n",
        "| **Looping Needed?**   | No (vectorized)                                                 | Yes (for element-wise ops)                    |\n",
        "\n",
        "\n",
        "### **Example Comparison**"
      ],
      "metadata": {
        "id": "KvqLBV_hGMfh"
      }
    },
    {
      "cell_type": "code",
      "source": [
        "# Python list\n",
        "lst = [1, 2, 3]\n",
        "# NumPy array\n",
        "arr = np.array([1, 2, 3])\n",
        "\n",
        "# Multiply each element by 2\n",
        "print([x * 2 for x in lst])  # List: [2, 4, 6]\n",
        "print(arr * 2)               # ndarray: [2 4 6] (vectorized)"
      ],
      "metadata": {
        "id": "DZUN-2dTGn-x"
      },
      "execution_count": null,
      "outputs": []
    },
    {
      "cell_type": "markdown",
      "source": [
        "# **Q 6. Analyze the performance benefits of NumPy arrays over Python lists for large-scale numerical operations.**\n",
        "\n",
        "**Ans-**\n",
        "\n",
        "### **Performance Benefits of NumPy Arrays over Python Lists in Large-Scale Numerical Operations**\n",
        "\n",
        "When handling large-scale numerical computations, NumPy arrays (ndarray) are significantly faster and more memory-efficient than Python lists. Here's why:\n",
        "\n",
        "### **1. Vectorization (No Explicit Loops)**\n",
        "\n",
        "**NumPy** uses **vectorized operations** (executed in optimized C code), whereas Python lists require explicit loops for element-wise operations.\n",
        "\n",
        "### **Example:**"
      ],
      "metadata": {
        "id": "ohiD8IkpGu8j"
      }
    },
    {
      "cell_type": "code",
      "source": [
        "import numpy as np\n",
        "import time\n",
        "\n",
        "# Large data size\n",
        "size = 1_000_000\n",
        "\n",
        "# NumPy array\n",
        "a = np.arange(size)\n",
        "start = time.time()\n",
        "a = a * 2\n",
        "print(\"NumPy time:\", time.time() - start)\n",
        "\n",
        "# Python list\n",
        "b = list(range(size))\n",
        "start = time.time()\n",
        "b = [x * 2 for x in b]\n",
        "print(\"List time:\", time.time() - start)"
      ],
      "metadata": {
        "id": "uqlo7QMgHgPR"
      },
      "execution_count": null,
      "outputs": []
    },
    {
      "cell_type": "markdown",
      "source": [
        "### **Expected Output:**\n",
        "\n",
        "NumPy: much faster (milliseconds)\n",
        "\n",
        "List: significantly slower (often seconds)\n",
        "\n",
        "### **2. Memory Efficiency**\n",
        "\n",
        "**NumPy arrays** use a fixed data type and contiguous memory blocks → lower memory usage.\n",
        "\n",
        "**Python lists** store pointers to individual objects → higher overhead.\n",
        "\n",
        "### **Example:**"
      ],
      "metadata": {
        "id": "VXe6RSyYHjLo"
      }
    },
    {
      "cell_type": "code",
      "source": [
        "import sys\n",
        "\n",
        "list_data = list(range(1000))\n",
        "array_data = np.array(list_data)\n",
        "\n",
        "print(\"List memory:\", sys.getsizeof(list_data))          # ~9000+ bytes\n",
        "print(\"Array memory:\", array_data.nbytes)               # ~4000 bytes (int32)"
      ],
      "metadata": {
        "id": "HXyOF7DxH8ox"
      },
      "execution_count": null,
      "outputs": []
    },
    {
      "cell_type": "markdown",
      "source": [
        "### **3. Built-in Optimized Functions**\n",
        "\n",
        "NumPy provides highly optimized implementations for mathematical and statistical operations:"
      ],
      "metadata": {
        "id": "7o_VmfiAIfbR"
      }
    },
    {
      "cell_type": "code",
      "source": [
        "np.mean(arr), np.sum(arr), np.dot(arr1, arr2), np.std(arr), etc."
      ],
      "metadata": {
        "id": "ib-ewz1SImIZ"
      },
      "execution_count": null,
      "outputs": []
    },
    {
      "cell_type": "markdown",
      "source": [
        "These are much faster than manually implemented loops or list comprehensions.\n",
        "\n"
      ],
      "metadata": {
        "id": "B1df4A0RI1iB"
      }
    },
    {
      "cell_type": "markdown",
      "source": [
        "### **4. Parallelization & SIMD**\n",
        "\n",
        "NumPy operations often take advantage of SIMD (Single Instruction, Multiple Data) and multi-threaded C libraries (like BLAS, LAPACK), allowing even more speed-up.\n",
        "\n",
        "### **5. Broadcasting Support**\n",
        "\n",
        "NumPy can perform operations between arrays of different shapes without copying data explicitly.\n",
        "\n"
      ],
      "metadata": {
        "id": "paSEhnFXI_Gh"
      }
    },
    {
      "cell_type": "code",
      "source": [
        "a = np.array([1, 2, 3])\n",
        "b = 2\n",
        "print(a + b)  # Output: [3 4 5]"
      ],
      "metadata": {
        "id": "hhTe3ja-JOWM"
      },
      "execution_count": null,
      "outputs": []
    },
    {
      "cell_type": "markdown",
      "source": [
        "No such functionality exists in pure Python lists without writing manual loops.\n",
        "\n",
        "### **Table**\n",
        "\n",
        "| Feature                 | NumPy Array              | Python List                |\n",
        "| ----------------------- | ------------------------ | -------------------------- |\n",
        "| Speed                   | ✅ Fast (C-optimized)     | ❌ Slow                     |\n",
        "| Memory Usage            | ✅ Low (contiguous block) | ❌ High (object references) |\n",
        "| Operations              | ✅ Vectorized             | ❌ Loop-based               |\n",
        "| Broadcasting            | ✅ Supported              | ❌ Not supported            |\n",
        "| Built-in Math Functions | ✅ Extensive              | ❌ Minimal                  |\n"
      ],
      "metadata": {
        "id": "yw-kUqDaJRMw"
      }
    },
    {
      "cell_type": "markdown",
      "source": [
        "For large-scale numerical tasks, NumPy arrays offer dramatic improvements in speed, memory use, and simplicity, making them the go-to choice for data science, machine learning, and scientific computing"
      ],
      "metadata": {
        "id": "ANhSy1WYJahJ"
      }
    },
    {
      "cell_type": "markdown",
      "source": [
        "# **Q 7. Compare vstack() and hstack() functions in NumPy. Provide examples demonstrating their usage and output.**\n",
        "\n",
        "**Ans-**\n",
        "**Comparison of** np.vstack() **and** np.hstack() **in NumPy**\n",
        "Both vstack() and hstack() are used to **concatenate arrays**, but along **different axes:**\n",
        "\n",
        "\n",
        "np.vstack() → Vertical stack → stacks arrays row-wise (along axis=0).\n",
        "\n",
        "np.hstack() → Horizontal stack → stacks arrays column-wise (along axis=1 for 2D arrays).\n",
        "\n",
        "\n",
        "### **1D Array Example**"
      ],
      "metadata": {
        "id": "NmCfbgzHJe0b"
      }
    },
    {
      "cell_type": "code",
      "source": [
        "import numpy as np\n",
        "\n",
        "a = np.array([1, 2, 3])\n",
        "b = np.array([4, 5, 6])\n"
      ],
      "metadata": {
        "id": "Pw_JvLCZKZSB"
      },
      "execution_count": null,
      "outputs": []
    },
    {
      "cell_type": "markdown",
      "source": [
        "np.vstack([a, b])"
      ],
      "metadata": {
        "id": "q0nzYYX_KcmY"
      }
    },
    {
      "cell_type": "code",
      "source": [
        "print(np.vstack([a, b]))\n",
        "# Output:\n",
        "# [[1 2 3]\n",
        "#  [4 5 6]]\n"
      ],
      "metadata": {
        "id": "k0HdMc4OKe2Z"
      },
      "execution_count": null,
      "outputs": []
    },
    {
      "cell_type": "markdown",
      "source": [
        "**Shape:** (2, 3)\n",
        "\n",
        "np.hstack([a, b])"
      ],
      "metadata": {
        "id": "by6Ic-H0KkCi"
      }
    },
    {
      "cell_type": "code",
      "source": [
        "print(np.hstack([a, b]))\n",
        "# Output:\n",
        "# [1 2 3 4 5 6]\n"
      ],
      "metadata": {
        "id": "LOcNqSwwKn6o"
      },
      "execution_count": null,
      "outputs": []
    },
    {
      "cell_type": "markdown",
      "source": [
        "**Shape:** (6,) → still 1D"
      ],
      "metadata": {
        "id": "jXuS8A_3KvL4"
      }
    },
    {
      "cell_type": "markdown",
      "source": [
        "### **2D Array Example**"
      ],
      "metadata": {
        "id": "Tl1jaVYmK0OA"
      }
    },
    {
      "cell_type": "code",
      "source": [
        "a = np.array([[1, 2], [3, 4]])\n",
        "b = np.array([[5, 6], [7, 8]])\n"
      ],
      "metadata": {
        "id": "xNSTHIQJK4RC"
      },
      "execution_count": null,
      "outputs": []
    },
    {
      "cell_type": "markdown",
      "source": [
        "np.vstack([a, b])"
      ],
      "metadata": {
        "id": "dSNHal4yK-kI"
      }
    },
    {
      "cell_type": "code",
      "source": [
        "print(np.vstack([a, b]))\n",
        "# Output:\n",
        "# [[1 2]\n",
        "#  [3 4]\n",
        "#  [5 6]\n",
        "#  [7 8]]\n"
      ],
      "metadata": {
        "id": "b1aJATgBLAw9"
      },
      "execution_count": null,
      "outputs": []
    },
    {
      "cell_type": "markdown",
      "source": [
        "**Adds more rows**\n",
        "\n",
        "np.hstack([a, b])"
      ],
      "metadata": {
        "id": "Ol4dNugRLFYi"
      }
    },
    {
      "cell_type": "code",
      "source": [
        "print(np.hstack([a, b]))\n",
        "# Output:\n",
        "# [[1 2 5 6]\n",
        "#  [3 4 7 8]]\n"
      ],
      "metadata": {
        "id": "ejNWlt2jLJ35"
      },
      "execution_count": null,
      "outputs": []
    },
    {
      "cell_type": "markdown",
      "source": [
        "Adds more columns\n",
        "\n",
        "### **Key Differences**\n",
        "\n",
        "| Feature       | `np.vstack()`     | `np.hstack()`        |\n",
        "| ------------- | ----------------- | -------------------- |\n",
        "| Direction     | Vertical (rows)   | Horizontal (columns) |\n",
        "| Axis          | `axis=0`          | `axis=1`             |\n",
        "| Requires Same | Number of columns | Number of rows       |\n",
        "| Adds          | New rows          | New columns          |\n",
        "\n",
        "\n",
        "Use vstack() when you want to add new rows (stack arrays vertically).\n",
        "\n",
        "Use hstack() when you want to add new columns (stack arrays horizontally).\n",
        "\n",
        "Both are useful for building datasets, combining features, or reshaping data in data science tasks."
      ],
      "metadata": {
        "id": "WvO2aLTrLOOx"
      }
    },
    {
      "cell_type": "markdown",
      "source": [
        "# **Q 8. Explain the differences between fliplr() and flipud() methods in NumPy, including their effects on various array dimensions.**\n",
        "\n",
        "**Ans-**\n",
        "\n",
        "**Differences Between** np.fliplr() **and** np.flipud() **in NumPy**\n",
        "Both np.fliplr() and np.flipud() are used to **flip (reverse)** arrays, but they operate along **different axes** and are primarily intended for **2D arrays.**\n",
        "\n",
        "### **Function Overview**\n",
        "\n",
        "| Function      | Meaning                | Axis Affected                                                                  | Typical Use     |\n",
        "| ------------- | ---------------------- | ------------------------------------------------------------------------------ | --------------- |\n",
        "| `np.fliplr()` | **Flip Left to Right** | Flips array in the **left/right direction** → operates on **columns (axis=1)** | Horizontal flip |\n",
        "| `np.flipud()` | **Flip Up to Down**    | Flips array in the **up/down direction** → operates on **rows (axis=0)**       | Vertical flip   |\n",
        "\n",
        "### **Example with a 2D Array**"
      ],
      "metadata": {
        "id": "4F6ON8sTLe4r"
      }
    },
    {
      "cell_type": "code",
      "source": [
        "import numpy as np\n",
        "\n",
        "arr = np.array([[1, 2, 3],\n",
        "                [4, 5, 6],\n",
        "                [7, 8, 9]])\n"
      ],
      "metadata": {
        "id": "voOLU179MN1I"
      },
      "execution_count": null,
      "outputs": []
    },
    {
      "cell_type": "markdown",
      "source": [
        "np.fliplr(arr)"
      ],
      "metadata": {
        "id": "xBnvyHLAMUV5"
      }
    },
    {
      "cell_type": "code",
      "source": [
        "print(np.fliplr(arr))\n",
        "# Output:\n",
        "# [[3 2 1]\n",
        "#  [6 5 4]\n",
        "#  [9 8 7]]\n"
      ],
      "metadata": {
        "id": "3R0Pq7G8MXkw"
      },
      "execution_count": null,
      "outputs": []
    },
    {
      "cell_type": "markdown",
      "source": [
        "Flips columns (horizontal mirror)\n",
        "\n",
        "np.flipud(arr)"
      ],
      "metadata": {
        "id": "I3EnohFVMdMR"
      }
    },
    {
      "cell_type": "code",
      "source": [
        "print(np.flipud(arr))\n",
        "# Output:\n",
        "# [[7 8 9]\n",
        "#  [4 5 6]\n",
        "#  [1 2 3]]\n"
      ],
      "metadata": {
        "id": "UzAh8zQeMgI8"
      },
      "execution_count": null,
      "outputs": []
    },
    {
      "cell_type": "markdown",
      "source": [
        "Flips rows (vertical mirror)"
      ],
      "metadata": {
        "id": "5fw9R3H3MkNg"
      }
    },
    {
      "cell_type": "markdown",
      "source": [
        "### **Important Notes**\n",
        "\n",
        "Both functions require at least 2D input; they raise an error with 1D arrays:"
      ],
      "metadata": {
        "id": "Q5JDmDPlMovh"
      }
    },
    {
      "cell_type": "code",
      "source": [
        "np.fliplr(np.array([1, 2, 3]))  # ❌ ValueError\n",
        "np.flipud(np.array([1, 2, 3]))  # ✅ Works (equivalent to arr[::-1])\n"
      ],
      "metadata": {
        "id": "gh3m2InTMyeh"
      },
      "execution_count": null,
      "outputs": []
    },
    {
      "cell_type": "markdown",
      "source": [
        "They are specialized versions of the more general np.flip() function:"
      ],
      "metadata": {
        "id": "w5-B3kdfM2hZ"
      }
    },
    {
      "cell_type": "code",
      "source": [
        "np.flip(arr, axis=1)  # Same as np.fliplr()\n",
        "np.flip(arr, axis=0)  # Same as np.flipud()\n"
      ],
      "metadata": {
        "id": "DAD_U7AsM3Z4"
      },
      "execution_count": null,
      "outputs": []
    },
    {
      "cell_type": "markdown",
      "source": [
        "**Table**\n",
        "\n",
        "| Feature       | `np.fliplr()`                | `np.flipud()`                |\n",
        "| ------------- | ---------------------------- | ---------------------------- |\n",
        "| Direction     | Left-right (horizontal flip) | Up-down (vertical flip)      |\n",
        "| Axis Affected | Columns (`axis=1`)           | Rows (`axis=0`)              |\n",
        "| Input Type    | Requires 2D+ arrays          | Works with 1D and 2D+ arrays |\n",
        "| Common Use    | Image processing, matrix ops | Reversing row order, etc.    |\n"
      ],
      "metadata": {
        "id": "ZSf1lHSPM8Ux"
      }
    },
    {
      "cell_type": "markdown",
      "source": [
        "# **Q 9. Discuss the functionality of the array_split() method in NumPy. How does it handle uneven splits?**\n",
        "\n",
        "**Ans-**\n",
        "\n",
        "**Functionality of** np.array_split() **in NumPy**\n",
        "\n",
        "The np.array_split() function is used to split an array into multiple sub-arrays, similar to np.split(), but with one key difference:\n",
        "\n",
        " It can handle cases where the array cannot be split evenly, distributing elements as evenly as possible.\n",
        "\n",
        "### **Syntax:**"
      ],
      "metadata": {
        "id": "BAM5wpysNK4i"
      }
    },
    {
      "cell_type": "code",
      "source": [
        "np.array_split(array, num_splits, axis=0)\n"
      ],
      "metadata": {
        "id": "LVyS_U9mNpQB"
      },
      "execution_count": null,
      "outputs": []
    },
    {
      "cell_type": "markdown",
      "source": [
        "**array:** The input array.\n",
        "\n",
        "**num_splits:** Number of parts to split into.\n",
        "\n",
        "**axis:** The axis along which to split (default is axis=0, i.e., rows for 2D arrays).\n",
        "\n"
      ],
      "metadata": {
        "id": "0VSRhCvvNrjJ"
      }
    },
    {
      "cell_type": "markdown",
      "source": [
        "### **Example: 1D Array (Uneven Split)**\n",
        "\n"
      ],
      "metadata": {
        "id": "AzuteXz1NzQy"
      }
    },
    {
      "cell_type": "code",
      "source": [
        "import numpy as np\n",
        "\n",
        "arr = np.array([0, 1, 2, 3, 4, 5, 6])\n",
        "\n",
        "# Split into 3 parts\n",
        "parts = np.array_split(arr, 3)\n",
        "for part in parts:\n",
        "    print(part)\n"
      ],
      "metadata": {
        "id": "Qj0F4jUJN4-h"
      },
      "execution_count": null,
      "outputs": []
    },
    {
      "cell_type": "markdown",
      "source": [
        "Total elements: 7\n",
        "\n",
        "Requested parts: 3\n",
        "\n",
        "Split sizes: [3, 2, 2]\n",
        "\n",
        "### **How It Handles Uneven Splits**\n",
        "\n",
        "It calculates the base size of each split: len(arr) // num_splits\n",
        "\n",
        "Then, it distributes the remainder (if any) across the first few splits.\n",
        "\n",
        "**For example:**\n",
        "\n",
        "array_split([0,1,2,3,4], 2) → sizes: [3, 2]\n",
        "\n",
        "array_split([0,1,2,3,4], 3) → sizes: [2, 2, 1]\n",
        "\n"
      ],
      "metadata": {
        "id": "gQWgLzRmN-Kj"
      }
    },
    {
      "cell_type": "markdown",
      "source": [
        "### **Example: 2D Array (Split along axis=1)**"
      ],
      "metadata": {
        "id": "O6MzzvHiOMj5"
      }
    },
    {
      "cell_type": "code",
      "source": [
        "arr2d = np.array([[1, 2, 3, 4, 5, 6]])\n",
        "\n",
        "# Split into 4 columns\n",
        "parts = np.array_split(arr2d, 4, axis=1)\n",
        "for part in parts:\n",
        "    print(part)\n"
      ],
      "metadata": {
        "id": "69d5eE_dOPWJ"
      },
      "execution_count": null,
      "outputs": []
    },
    {
      "cell_type": "markdown",
      "source": [
        "### **Difference from np.split()**"
      ],
      "metadata": {
        "id": "64V4oCuUOShD"
      }
    },
    {
      "cell_type": "code",
      "source": [
        "np.split(arr, 3)  # ❌ Raises ValueError if arr can't be split evenly\n",
        "np.array_split(arr, 3)  # ✅ Works, even if uneven\n"
      ],
      "metadata": {
        "id": "a8v10L-0OYWy"
      },
      "execution_count": null,
      "outputs": []
    },
    {
      "cell_type": "markdown",
      "source": [
        "### **Table**\n",
        "\n",
        "| Feature                           | `np.array_split()` |\n",
        "| --------------------------------- | ------------------ |\n",
        "| Splits arrays into multiple parts | ✅                  |\n",
        "| Handles uneven splits             | ✅                  |\n",
        "| Accepts axis parameter            | ✅                  |\n",
        "| Returns list of sub-arrays        | ✅                  |\n",
        "| Safer than `np.split()`           | ✅                  |\n"
      ],
      "metadata": {
        "id": "UxNeeDOkOb2A"
      }
    },
    {
      "cell_type": "markdown",
      "source": [
        "# **Q 10. Explain the concepts of vectorization and broadcasting in NumPy. How do they contribute to efficient array operations?**\n",
        "\n",
        "**Ans-**\n",
        "\n",
        "### **Vectorization and Broadcasting in NumPy**\n",
        "\n",
        "NumPy is designed for **high-performance numerical computing**, and two core concepts that make this possible are **vectorization** and **broadcasting.**\n",
        "\n",
        "## **1. Vectorization**\n",
        "\n",
        "### **What It Is:**\n",
        "\n",
        "Vectorization refers to performing operations on entire arrays without using explicit Python loops. It leverages underlying C-level implementations for fast execution.\n",
        "\n",
        "### K**ey Benefit:**\n",
        "\n",
        "**Faster** than loops\n",
        "\n",
        "**Cleaner** syntax\n",
        "\n",
        "**More efficient memory use**"
      ],
      "metadata": {
        "id": "bmI3BCkYOh4N"
      }
    },
    {
      "cell_type": "markdown",
      "source": [
        "## **Example:**"
      ],
      "metadata": {
        "id": "riCGAAiBPdDZ"
      }
    },
    {
      "cell_type": "code",
      "source": [
        "import numpy as np\n",
        "\n",
        "# Traditional loop approach (slow)\n",
        "a = list(range(1000000))\n",
        "b = [x * 2 for x in a]\n",
        "\n",
        "# Vectorized NumPy approach (fast)\n",
        "arr = np.arange(1000000)\n",
        "result = arr * 2\n"
      ],
      "metadata": {
        "id": "RBr8O3kNPg4g"
      },
      "execution_count": null,
      "outputs": []
    },
    {
      "cell_type": "markdown",
      "source": [
        "**Result:** NumPy’s vectorized version is ~10–100× faster."
      ],
      "metadata": {
        "id": "xya9zKf6Pj6w"
      }
    },
    {
      "cell_type": "markdown",
      "source": [
        "## **2. Broadcasting**\n",
        "###  **What It Is:**\n",
        "Broadcasting allows arrays of different shapes to be used together in arithmetic operations without explicitly copying or reshaping data.\n",
        "\n",
        "###  **Key Benefit:**\n",
        "Saves memory and computation time\n",
        "\n",
        "Avoids unnecessary array replication\n",
        "\n",
        "### **Example:**\n"
      ],
      "metadata": {
        "id": "A5HRBsBPPnla"
      }
    },
    {
      "cell_type": "code",
      "source": [
        "a = np.array([1, 2, 3])        # Shape: (3,)\n",
        "b = np.array([[10], [20], [30]])  # Shape: (3, 1)\n",
        "\n",
        "# Broadcasting occurs here\n",
        "print(a + b)\n"
      ],
      "metadata": {
        "id": "lD2yjgoxQCOR"
      },
      "execution_count": null,
      "outputs": []
    },
    {
      "cell_type": "markdown",
      "source": [
        "a is broadcast across columns\n",
        "\n",
        "b is broadcast across rows\n",
        "\n"
      ],
      "metadata": {
        "id": "4VZCCmiIQE7w"
      }
    },
    {
      "cell_type": "markdown",
      "source": [
        "## **Broadcasting Rules Summary:**\n",
        "1.If arrays have different ranks (number of dimensions), NumPy **pads the** **smaller shape with 1s** on the left.\n",
        "\n",
        "2.Dimensions are **compatible** when:\n",
        "\n",
        "They are equal, or\n",
        "\n",
        "One of them is 1\n",
        "\n",
        "3.Broadcasting expands size **only in memory view**, not physically.\n",
        "\n",
        "\n",
        "\n"
      ],
      "metadata": {
        "id": "gQI17bTRQIEY"
      }
    },
    {
      "cell_type": "markdown",
      "source": [
        "## **Why These Concepts Matter**\n",
        "\n",
        "| Benefit             | Vectorization             | Broadcasting                       |\n",
        "| ------------------- | ------------------------- | ---------------------------------- |\n",
        "| Performance         | ✅ Eliminates Python loops | ✅ Avoids unnecessary memory copies |\n",
        "| Cleaner Syntax      | ✅                         | ✅                                  |\n",
        "| Memory Efficient    | ✅                         | ✅                                  |\n",
        "| Enables Complex Ops | ✅ Fast math functions     | ✅ Shape-matching arithmetic        |\n"
      ],
      "metadata": {
        "id": "UOAdEdVmQnf0"
      }
    },
    {
      "cell_type": "markdown",
      "source": [
        "## **Real-Life Use Case Example**\n",
        "\n",
        "Adding a scalar to a matrix:"
      ],
      "metadata": {
        "id": "Zbd-vorNQxox"
      }
    },
    {
      "cell_type": "code",
      "source": [
        "arr = np.array([[1, 2], [3, 4]])\n",
        "print(arr + 10)  # Broadcasting: adds 10 to every element\n"
      ],
      "metadata": {
        "id": "t9tE33V2Q57a"
      },
      "execution_count": null,
      "outputs": []
    },
    {
      "cell_type": "markdown",
      "source": [
        "Normalizing rows:"
      ],
      "metadata": {
        "id": "TH8OOSo7Q8oz"
      }
    },
    {
      "cell_type": "code",
      "source": [
        "arr = np.array([[1, 2, 3], [4, 5, 6]])\n",
        "row_sums = arr.sum(axis=1, keepdims=True)  # shape (2,1)\n",
        "norm = arr / row_sums  # Broadcasting works automatically\n"
      ],
      "metadata": {
        "id": "bIr3xPKxQ9pQ"
      },
      "execution_count": null,
      "outputs": []
    },
    {
      "cell_type": "markdown",
      "source": [],
      "metadata": {
        "id": "-TxR4O8mRBap"
      }
    },
    {
      "cell_type": "markdown",
      "source": [
        "### **Table**\n",
        "\n",
        "| Concept           | Definition                                      | Boosts                         |\n",
        "| ----------------- | ----------------------------------------------- | ------------------------------ |\n",
        "| **Vectorization** | Replace loops with array-wide operations        | Speed, readability             |\n",
        "| **Broadcasting**  | Implicitly expands arrays with different shapes | Flexibility, memory efficiency |\n"
      ],
      "metadata": {
        "id": "HdwFVoj3REtJ"
      }
    },
    {
      "cell_type": "markdown",
      "source": [
        "# **Practical Questions:**"
      ],
      "metadata": {
        "id": "tnknFFqVRNjR"
      }
    },
    {
      "cell_type": "markdown",
      "source": [
        "# **1. Create a 3x3 NumPy array with random integers between 1 and 100. Then, interchange its rows and columns.**\n",
        "\n",
        "**Task: Create a 3×3 NumPy Array and Transpose It**\n",
        "Here’s how you can do it using NumPy:\n",
        "\n"
      ],
      "metadata": {
        "id": "uXA8sviVRXpJ"
      }
    },
    {
      "cell_type": "code",
      "source": [
        "import numpy as np\n",
        "\n",
        "# Create a 3x3 array with random integers between 1 and 100\n",
        "arr = np.random.randint(1, 101, size=(3, 3))\n",
        "print(\"Original Array:\\n\", arr)\n",
        "\n",
        "# Interchange rows and columns (transpose the array)\n",
        "transposed_arr = arr.T\n",
        "print(\"Transposed Array:\\n\", transposed_arr)\n"
      ],
      "metadata": {
        "id": "t2wsw3kgRsDY"
      },
      "execution_count": null,
      "outputs": []
    },
    {
      "cell_type": "markdown",
      "source": [
        "### **Explanation:**\n",
        "np.random.randint(1, 101, size=(3, 3)): Generates a 3×3 array of random integers from 1 to 100 (inclusive of 1, exclusive of 101).\n",
        "\n",
        "T: Transposes the array (swaps rows with columns).\n",
        "\n"
      ],
      "metadata": {
        "id": "MU1xF04TRvqA"
      }
    },
    {
      "cell_type": "markdown",
      "source": [
        "# **2. Generate a 1D NumPy array with 10 elements. Reshape it into a 2x5 array, then into a 5x2 array.**\n",
        "\n",
        "Here's how you can generate a 1D NumPy array and reshape it into different dimensions:\n",
        "\n",
        "\n",
        "\n"
      ],
      "metadata": {
        "id": "xG9U8QvWR1oQ"
      }
    },
    {
      "cell_type": "code",
      "source": [
        "import numpy as np\n",
        "\n",
        "# Step 1: Generate a 1D array with 10 elements\n",
        "arr = np.arange(10)\n",
        "print(\"Original 1D Array:\\n\", arr)\n",
        "\n",
        "# Step 2: Reshape into a 2x5 array\n",
        "arr_2x5 = arr.reshape(2, 5)\n",
        "print(\"\\nReshaped to 2x5 Array:\\n\", arr_2x5)\n",
        "\n",
        "# Step 3: Reshape into a 5x2 array\n",
        "arr_5x2 = arr.reshape(5, 2)\n",
        "print(\"\\nReshaped to 5x2 Array:\\n\", arr_5x2)\n"
      ],
      "metadata": {
        "id": "RvdpBvd2SIPo"
      },
      "execution_count": null,
      "outputs": []
    },
    {
      "cell_type": "markdown",
      "source": [
        "### **Notes:**\n",
        "reshape(rows, columns) requires that the total number of elements remains the same.\n",
        "\n",
        "You can reshape in any configuration as long as the product of dimensions equals 10 in this case."
      ],
      "metadata": {
        "id": "CET_Zh_0SMAA"
      }
    },
    {
      "cell_type": "markdown",
      "source": [
        "# **3. Create a 4x4 NumPy array with random float values. Add a border of zeros around it, resulting in a 6x6 array.**\n",
        "\n",
        "We can create a 4x4 NumPy array with random float values and add a border of zeros using np.pad() like this:\n",
        "\n",
        "\n"
      ],
      "metadata": {
        "id": "wBc0kxkISPyY"
      }
    },
    {
      "cell_type": "code",
      "source": [
        "import numpy as np\n",
        "\n",
        "# Step 1: Create a 4x4 array with random float values\n",
        "arr = np.random.rand(4, 4)\n",
        "print(\"Original 4x4 Array:\\n\", arr)\n",
        "\n",
        "# Step 2: Add a border of zeros to make it a 6x6 array\n",
        "arr_with_border = np.pad(arr, pad_width=1, mode='constant', constant_values=0)\n",
        "print(\"\\n6x6 Array with Zero Border:\\n\", arr_with_border)\n"
      ],
      "metadata": {
        "id": "a_-coU4lSgeI"
      },
      "execution_count": null,
      "outputs": []
    },
    {
      "cell_type": "markdown",
      "source": [
        "### **Explanation:**\n",
        "np.random.rand(4, 4) → generates random floats in [0, 1).\n",
        "\n",
        "np.pad(..., pad_width=1) → adds one layer of padding (rows and columns) on all sides.\n",
        "\n",
        "mode='constant', constant_values=0 → specifies the border should be filled with zeros."
      ],
      "metadata": {
        "id": "dWhYXcYUSlCx"
      }
    },
    {
      "cell_type": "markdown",
      "source": [
        "# **4. Using NumPy, create an array of integers from 10 to 60 with a step of 5.**\n",
        "\n",
        "We can create an array of integers from 10 to 60 with a step of 5 using np.arange():\n",
        "\n",
        "\n",
        "\n",
        "\n"
      ],
      "metadata": {
        "id": "zq-1FEnfSsco"
      }
    },
    {
      "cell_type": "code",
      "source": [
        "import numpy as np\n",
        "\n",
        "arr = np.arange(10, 61, 5)\n",
        "print(\"Array from 10 to 60 with step of 5:\\n\", arr)\n"
      ],
      "metadata": {
        "id": "hBAx5n4nS51_"
      },
      "execution_count": null,
      "outputs": []
    },
    {
      "cell_type": "markdown",
      "source": [
        "np.arange(start, stop, step) generates values from start to stop (inclusive of start, exclusive of stop unless step fits exactly).\n",
        "\n",
        "Since 60 is exactly reachable from 10 in steps of 5, it's included."
      ],
      "metadata": {
        "id": "LnMhGFieTAH4"
      }
    },
    {
      "cell_type": "markdown",
      "source": [
        "# **5. Create a NumPy array of strings ['python', 'numpy', 'pandas']. Apply different case transformations (uppercase, lowercase, title case, etc.) to each element.**\n",
        "\n",
        "We can create a NumPy array of strings and apply different case transformations using NumPy's char module, which supports vectorized string operations.\n",
        "\n",
        "### **Example:**"
      ],
      "metadata": {
        "id": "wX9kq47YTBPQ"
      }
    },
    {
      "cell_type": "code",
      "source": [
        "import numpy as np\n",
        "\n",
        "# Create the array of strings\n",
        "arr = np.array(['python', 'numpy', 'pandas'])\n",
        "\n",
        "# Apply case transformations\n",
        "upper_arr = np.char.upper(arr)\n",
        "lower_arr = np.char.lower(arr)\n",
        "title_arr = np.char.title(arr)\n",
        "capitalize_arr = np.char.capitalize(arr)\n",
        "swapcase_arr = np.char.swapcase(arr)\n",
        "\n",
        "# Print results\n",
        "print(\"Original:\", arr)\n",
        "print(\"Uppercase:\", upper_arr)\n",
        "print(\"Lowercase:\", lower_arr)\n",
        "print(\"Title Case:\", title_arr)\n",
        "print(\"Capitalized:\", capitalize_arr)\n",
        "print(\"Swap Case:\", swapcase_arr)\n"
      ],
      "metadata": {
        "id": "OQfdNx-zTSQI"
      },
      "execution_count": null,
      "outputs": []
    },
    {
      "cell_type": "markdown",
      "source": [
        "np.char.upper() → Converts to uppercase\n",
        "\n",
        "np.char.lower() → Converts to lowercase\n",
        "\n",
        "np.char.title() → Capitalizes each word\n",
        "\n",
        "np.char.capitalize() → Capitalizes only the first letter\n",
        "\n",
        "np.char.swapcase() → Swaps case of each letter"
      ],
      "metadata": {
        "id": "hEkMZ3U_TVk3"
      }
    },
    {
      "cell_type": "markdown",
      "source": [
        "# **6. Generate a NumPy array of words. Insert a space between each character of every word in the array.**\n",
        "\n",
        "We can generate a NumPy array of words and insert a space between each character of every word using np.char.join().\n",
        "\n",
        "### **Example:**\n"
      ],
      "metadata": {
        "id": "3ti6pURfTWYn"
      }
    },
    {
      "cell_type": "code",
      "source": [
        "import numpy as np\n",
        "\n",
        "# Step 1: Create an array of words\n",
        "words = np.array(['python', 'numpy', 'pandas'])\n",
        "\n",
        "# Step 2: Insert space between each character in every word\n",
        "spaced_words = np.char.join(' ', words)\n",
        "\n",
        "# Step 3: Display the result\n",
        "print(\"Original Words:\", words)\n",
        "print(\"Spaced Words:\", spaced_words)\n"
      ],
      "metadata": {
        "id": "nHSrr9bqTnah"
      },
      "execution_count": null,
      "outputs": []
    },
    {
      "cell_type": "markdown",
      "source": [
        "### **How It Works:**\n",
        "\n",
        "np.char.join(' ', words) joins each character in the string with a space.\n",
        "\n",
        "This operation is vectorized, so it's applied to every element in the array efficiently."
      ],
      "metadata": {
        "id": "FzecVjwQTq1R"
      }
    },
    {
      "cell_type": "markdown",
      "source": [
        "# **7. Create two 2D NumPy arrays and perform element-wise addition, subtraction, multiplication, and division.**\n",
        "\n"
      ],
      "metadata": {
        "id": "ENmj0V4XTx1I"
      }
    },
    {
      "cell_type": "markdown",
      "source": [
        "We can create two 2D NumPy arrays and perform element-wise operations like addition, subtraction, multiplication, and division as follows:\n",
        "\n",
        "### **Example:**"
      ],
      "metadata": {
        "id": "mbw7YqNxT6Eo"
      }
    },
    {
      "cell_type": "code",
      "source": [
        "import numpy as np\n",
        "\n",
        "# Create two 2D arrays\n",
        "arr1 = np.array([[1, 2, 3], [4, 5, 6]])\n",
        "arr2 = np.array([[6, 5, 4], [3, 2, 1]])\n",
        "\n",
        "# Element-wise addition\n",
        "add_result = arr1 + arr2\n",
        "\n",
        "# Element-wise subtraction\n",
        "sub_result = arr1 - arr2\n",
        "\n",
        "# Element-wise multiplication\n",
        "mul_result = arr1 * arr2\n",
        "\n",
        "# Element-wise division\n",
        "div_result = arr1 / arr2\n",
        "\n",
        "# Display the results\n",
        "print(\"Array 1:\\n\", arr1)\n",
        "print(\"Array 2:\\n\", arr2)\n",
        "print(\"\\nElement-wise Addition:\\n\", add_result)\n",
        "print(\"\\nElement-wise Subtraction:\\n\", sub_result)\n",
        "print(\"\\nElement-wise Multiplication:\\n\", mul_result)\n",
        "print(\"\\nElement-wise Division:\\n\", div_result)\n"
      ],
      "metadata": {
        "id": "6FIx8GvXUA15"
      },
      "execution_count": null,
      "outputs": []
    },
    {
      "cell_type": "markdown",
      "source": [
        "### **Explanation:**\n",
        "**Addition (+):** Adds corresponding elements of both arrays.\n",
        "\n",
        "**Subtraction (-):** Subtracts corresponding elements of the second array from the first.\n",
        "\n",
        "**Multiplication**(*):Multiplies corresponding elements.\n",
        "\n",
        "**Division (/):** Divides corresponding elements of the first array by the second.\n",
        "\n",
        "These operations are performed **element-wise**, meaning the operation is applied to each corresponding pair of elements from the two arrays."
      ],
      "metadata": {
        "id": "zBB4Ri0tUF4p"
      }
    },
    {
      "cell_type": "markdown",
      "source": [
        "# **8. Use NumPy to create a 5x5 identity matrix, then extract its diagonal elements.**\n",
        "\n",
        "We can create a 5x5 identity matrix using np.eye() and then extract its diagonal elements using np.diag().\n",
        "\n",
        "### **Example:**"
      ],
      "metadata": {
        "id": "H8MTlllEU3Oi"
      }
    },
    {
      "cell_type": "code",
      "source": [
        "import numpy as np\n",
        "\n",
        "# Step 1: Create a 5x5 identity matrix\n",
        "identity_matrix = np.eye(5)\n",
        "print(\"5x5 Identity Matrix:\\n\", identity_matrix)\n",
        "\n",
        "# Step 2: Extract the diagonal elements\n",
        "diagonal_elements = np.diag(identity_matrix)\n",
        "print(\"\\nDiagonal Elements:\", diagonal_elements)\n"
      ],
      "metadata": {
        "id": "d6HTCU-FVIcp"
      },
      "execution_count": null,
      "outputs": []
    },
    {
      "cell_type": "markdown",
      "source": [
        "### **Explanation:**\n",
        "np.eye(5) creates a 5x5 identity matrix with ones on the diagonal and zeros elsewhere.\n",
        "\n",
        "np.diag(identity_matrix) extracts the diagonal elements from the matrix, which are all 1s in the case of the identity matrix."
      ],
      "metadata": {
        "id": "c2YnxYZBVOt4"
      }
    },
    {
      "cell_type": "markdown",
      "source": [
        "# **9. Generate a NumPy array of 100 random integers between 0 and 1000. Find and display all prime numbers in this array.**\n",
        "\n",
        "We can generate a NumPy array of 100 random integers between 0 and 1000, then filter out the prime numbers using a custom prime-checking function.\n",
        "\n",
        "### **Full Example:**"
      ],
      "metadata": {
        "id": "Jw0s-hzlVb5A"
      }
    },
    {
      "cell_type": "code",
      "source": [
        "import numpy as np\n",
        "\n",
        "# Step 1: Generate random integers\n",
        "arr = np.random.randint(0, 1001, size=100)\n",
        "\n",
        "# Step 2: Define a vectorized function to check for primes\n",
        "def is_prime(n):\n",
        "    if n < 2:\n",
        "        return False\n",
        "    for i in range(2, int(n**0.5)+1):\n",
        "        if n % i == 0:\n",
        "            return False\n",
        "    return True\n",
        "\n",
        "# Vectorize the function\n",
        "vectorized_is_prime = np.vectorize(is_prime)\n",
        "\n",
        "# Step 3: Apply it to the array and filter\n",
        "primes = arr[vectorized_is_prime(arr)]\n",
        "\n",
        "# Step 4: Display\n",
        "print(\"Original Array:\\n\", arr)\n",
        "print(\"\\nPrime Numbers in the Array:\\n\", primes)\n"
      ],
      "metadata": {
        "id": "AICGaZoQVpdo"
      },
      "execution_count": null,
      "outputs": []
    },
    {
      "cell_type": "markdown",
      "source": [
        "### **How It Works:**\n",
        "np.random.randint(0, 1001, size=100): generates 100 random integers between 0 and 1000.\n",
        "\n",
        "is_prime() checks if a number is prime.\n",
        "\n",
        "np.vectorize() allows applying the function element-wise over the array.\n",
        "\n",
        "Array indexing arr[mask] selects only prime numbers."
      ],
      "metadata": {
        "id": "HUcZkGVAVvjo"
      }
    },
    {
      "cell_type": "markdown",
      "source": [
        "# **10. Create a NumPy array representing daily temperatures for a month. Calculate and display the weekly averages.**\n",
        "\n",
        "We can represent daily temperatures for a 30-day month using a 1D NumPy array and compute weekly averages by reshaping the array into weeks (assuming 4 full weeks + 2 extra days, or rounding accordingly).\n",
        "\n",
        "### **Example (Assuming 30 Days):**\n",
        "\n"
      ],
      "metadata": {
        "id": "7CRPjrlYVxw3"
      }
    },
    {
      "cell_type": "code",
      "source": [
        "import numpy as np\n",
        "\n",
        "# Step 1: Generate daily temperatures for 30 days (e.g., random values between 15°C and 35°C)\n",
        "daily_temps = np.random.uniform(15, 35, size=30)\n",
        "print(\"Daily Temperatures:\\n\", daily_temps)\n",
        "\n",
        "# Step 2: Reshape into 5 weeks of 6 days each OR 4 weeks of 7 days (we'll use 4 full weeks here)\n",
        "weeks = daily_temps[:28].reshape(4, 7)  # Use first 28 days\n",
        "\n",
        "# Step 3: Calculate weekly averages\n",
        "weekly_averages = weeks.mean(axis=1)\n",
        "print(\"\\nWeekly Averages (Week 1 to Week 4):\\n\", weekly_averages)\n",
        "\n",
        "# Optional: Show any remaining days\n",
        "remaining_days = daily_temps[28:]\n",
        "if remaining_days.size > 0:\n",
        "    print(\"\\nRemaining Days (not included in averages):\\n\", remaining_days)\n"
      ],
      "metadata": {
        "id": "W6jFsuzcWC-o"
      },
      "execution_count": null,
      "outputs": []
    },
    {
      "cell_type": "markdown",
      "source": [
        "### **Explanation:**\n",
        "np.random.uniform(15, 35, size=30): Generates float values for temperatures.\n",
        "\n",
        ".reshape(4, 7): Organizes into 4 full weeks of 7 days.\n",
        "\n",
        ".mean(axis=1): Calculates mean temperature for each row (week)."
      ],
      "metadata": {
        "id": "2Qm4LbCfWHbr"
      }
    }
  ]
}