{
  "nbformat": 4,
  "nbformat_minor": 0,
  "metadata": {
    "colab": {
      "private_outputs": true,
      "provenance": [],
      "authorship_tag": "ABX9TyPyGf/Y7pSukRcMVvi4VL70",
      "include_colab_link": true
    },
    "kernelspec": {
      "name": "python3",
      "display_name": "Python 3"
    },
    "language_info": {
      "name": "python"
    }
  },
  "cells": [
    {
      "cell_type": "markdown",
      "metadata": {
        "id": "view-in-github",
        "colab_type": "text"
      },
      "source": [
        "<a href=\"https://colab.research.google.com/github/shitalarote/python-assignment-/blob/main/Data_Toolkit.ipynb\" target=\"_parent\"><img src=\"https://colab.research.google.com/assets/colab-badge.svg\" alt=\"Open In Colab\"/></a>"
      ]
    },
    {
      "cell_type": "markdown",
      "source": [
        "## **1.Demonstrate three different methods for creating identical 2D arrays in NumPy. Provide the code for each method and the final output after each method**\n",
        "\n",
        "Here are three different methods to create identical 2D arrays using NumPy, each producing the same output:\n",
        "\n",
        "### **Goal: Create a 2D array with shape (3, 4) filled with the value 7**\n",
        "\n",
        "## **Method 1: Using np.full()**\n",
        "\n"
      ],
      "metadata": {
        "id": "8JWbNgmAyTeY"
      }
    },
    {
      "cell_type": "code",
      "source": [
        "import numpy as np\n",
        "\n",
        "array1 = np.full((3, 4), 7)\n",
        "print(\"Method 1 - np.full():\\n\", array1)\n"
      ],
      "metadata": {
        "id": "42CTJRxZyxR3"
      },
      "execution_count": null,
      "outputs": []
    },
    {
      "cell_type": "markdown",
      "source": [
        "## **Method 2: Using np.ones() and multiplying**"
      ],
      "metadata": {
        "id": "YiI_631qy2b9"
      }
    },
    {
      "cell_type": "code",
      "source": [
        "array2 = np.ones((3, 4)) * 7\n",
        "print(\"Method 2 - np.ones() * 7:\\n\", array2.astype(int))\n"
      ],
      "metadata": {
        "id": "XLULFvFpy5tG"
      },
      "execution_count": null,
      "outputs": []
    },
    {
      "cell_type": "markdown",
      "source": [
        "## **Method 3: Using broadcasting with np.empty() + fill()**\n"
      ],
      "metadata": {
        "id": "fFjPh1kdy7MH"
      }
    },
    {
      "cell_type": "code",
      "source": [
        "array3 = np.empty((3, 4))\n",
        "array3.fill(7)\n",
        "print(\"Method 3 - np.empty() + fill():\\n\", array3.astype(int))\n"
      ],
      "metadata": {
        "id": "gumwaSdXy-o9"
      },
      "execution_count": null,
      "outputs": []
    },
    {
      "cell_type": "markdown",
      "source": [
        "Each method gives you a 3×4 array filled with the value 7, but they differ slightly in performance and memory behavior."
      ],
      "metadata": {
        "id": "bTiTt462zD_G"
      }
    },
    {
      "cell_type": "markdown",
      "source": [
        "## **2.Using the Numpy function, generate an array of 100 evenly spaced numbers between 1 and 10 and Reshape that 1D array into a 2D array**\n",
        "\n",
        "You can use NumPy's linspace() to generate 100 evenly spaced numbers between 1 and 10, and then use .reshape() to convert the 1D array into a 2D array.\n",
        "\n",
        "## **Full Code:**"
      ],
      "metadata": {
        "id": "2eSEZoDYzFFF"
      }
    },
    {
      "cell_type": "code",
      "source": [
        "import numpy as np\n",
        "\n",
        "# Generate 100 evenly spaced numbers between 1 and 10\n",
        "arr_1d = np.linspace(1, 10, 100)\n",
        "\n",
        "# Reshape into a 2D array (e.g., 10 rows × 10 columns)\n",
        "arr_2d = arr_1d.reshape((10, 10))\n",
        "\n",
        "print(\"Reshaped 2D Array (10x10):\\n\", arr_2d)\n"
      ],
      "metadata": {
        "id": "v2BLQ4SuzT_1"
      },
      "execution_count": null,
      "outputs": []
    },
    {
      "cell_type": "markdown",
      "source": [
        "You can change the shape (e.g., (20, 5) or (25, 4)) as long as the total number of elements remains 100."
      ],
      "metadata": {
        "id": "SeLwvjU5zeRV"
      }
    },
    {
      "cell_type": "markdown",
      "source": [
        "##  **3.Explain the following termsg**\n",
        "### **The difference in np.array, np.asarray and np.asanyarray**\n",
        "### **The difference between Deep copy and shallow copy**\n",
        "\n",
        "## **1. np.array, np.asarray, and np.asanyarray**\n",
        "All three functions are used to convert input data into a NumPy array, but they behave slightly differently:\n",
        "\n",
        "| Function          | Behavior                                                                                                  |\n",
        "| ----------------- | --------------------------------------------------------------------------------------------------------- |\n",
        "| `np.array()`      | Always returns a **new array**, unless `copy=False` is specified and the input is already a NumPy array.  |\n",
        "| `np.asarray()`    | Avoids copying data **if the input is already an ndarray**; it's more memory-efficient than `np.array()`. |\n",
        "| `np.asanyarray()` | Like `np.asarray()`, but **preserves subclasses** of `ndarray` (e.g., `matrix`, masked arrays).           |\n",
        "\n",
        "\n",
        "## **➤ Example:**"
      ],
      "metadata": {
        "id": "m73MMDRTze-m"
      }
    },
    {
      "cell_type": "code",
      "source": [
        "import numpy as np\n",
        "\n",
        "lst = [1, 2, 3]\n",
        "a = np.array(lst)        # creates a new ndarray\n",
        "b = np.asarray(a)        # does NOT copy if a is already ndarray\n",
        "c = np.asanyarray(a)     # same as asarray, but retains subclasses like matrix\n"
      ],
      "metadata": {
        "id": "9afveRHS0K1W"
      },
      "execution_count": null,
      "outputs": []
    },
    {
      "cell_type": "markdown",
      "source": [
        "## **2. Deep Copy vs Shallow Copy**"
      ],
      "metadata": {
        "id": "hdyg7bXW0QS2"
      }
    },
    {
      "cell_type": "markdown",
      "source": [
        "| Feature         | Shallow Copy                                                 | Deep Copy                                         |\n",
        "| --------------- | ------------------------------------------------------------ | ------------------------------------------------- |\n",
        "| Copies data?    | **No** — only references the original data                   | **Yes** — creates a completely independent copy   |\n",
        "| Memory          | More memory efficient                                        | Uses more memory                                  |\n",
        "| Changes affect? | **Both arrays share data** — modifying one affects the other | **Independent** — changes don’t affect each other |\n"
      ],
      "metadata": {
        "id": "PAXz384v0VYF"
      }
    },
    {
      "cell_type": "markdown",
      "source": [
        "## **➤ Example in NumPy:**"
      ],
      "metadata": {
        "id": "Ysw_A5A20adE"
      }
    },
    {
      "cell_type": "code",
      "source": [
        "import numpy as np\n",
        "\n",
        "arr = np.array([1, 2, 3])\n",
        "\n",
        "shallow = arr.view()     # Shallow copy\n",
        "deep = arr.copy()        # Deep copy\n",
        "\n",
        "shallow[0] = 100         # Will affect original 'arr'\n",
        "deep[1] = 200            # Won't affect original 'arr'\n"
      ],
      "metadata": {
        "id": "OlK9JO960b69"
      },
      "execution_count": null,
      "outputs": []
    },
    {
      "cell_type": "markdown",
      "source": [
        "## **4.Generate a 3x3 array with random floating-point numbers between 5 and 20. Then, round each number in the array to 2 decimal places.8**\n",
        "\n",
        "You can create a 3x3 array with random floating-point numbers between 5 and 20 using np.random.uniform(). Then, you can round each number in the array to 2 decimal places using np.round().\n",
        "\n",
        "## **Full Code:**"
      ],
      "metadata": {
        "id": "P-fvaCmD0gZ9"
      }
    },
    {
      "cell_type": "code",
      "source": [
        "import numpy as np\n",
        "\n",
        "# Generate a 3x3 array with random floating-point numbers between 5 and 20\n",
        "arr = np.random.uniform(5, 20, (3, 3))\n",
        "\n",
        "# Round each number to 2 decimal places\n",
        "arr_rounded = np.round(arr, 2)\n",
        "\n",
        "print(\"Generated 3x3 Array (Rounded to 2 decimal places):\\n\", arr_rounded)\n"
      ],
      "metadata": {
        "id": "SCPKEFDW07y9"
      },
      "execution_count": null,
      "outputs": []
    },
    {
      "cell_type": "markdown",
      "source": [
        "## **Explanation:**\n",
        "np.random.uniform(5, 20, (3, 3)): Generates random numbers between 5 and 20 in a 3x3 shape.\n",
        "\n",
        "np.round(arr, 2): Rounds each element of the array to 2 decimal places."
      ],
      "metadata": {
        "id": "BtzvjC0i1CkG"
      }
    },
    {
      "cell_type": "markdown",
      "source": [
        "## **5.Create a NumPy array with random integers between 1 and 10 of shape (5, 6). After creating the array perform the following operations:**\n",
        "\n",
        " a)Extract all even integers from array.\n",
        "\n",
        " b)Extract all odd integers from array.\n",
        "\n",
        " You can create a NumPy array with random integers between 1 and 10 of shape (5, 6) using np.random.randint(). Then, you can extract all even and odd integers by applying conditions based on modulus operations.\n",
        "\n",
        "##  **Full Code:**"
      ],
      "metadata": {
        "id": "POEQ38PZ1E99"
      }
    },
    {
      "cell_type": "code",
      "source": [
        "import numpy as np\n",
        "\n",
        "# Create a 5x6 array with random integers between 1 and 10\n",
        "arr = np.random.randint(1, 11, (5, 6))\n",
        "\n",
        "# Print the original array\n",
        "print(\"Original Array:\\n\", arr)\n",
        "\n",
        "# a) Extract all even integers\n",
        "even_numbers = arr[arr % 2 == 0]\n",
        "\n",
        "# b) Extract all odd integers\n",
        "odd_numbers = arr[arr % 2 != 0]\n",
        "\n",
        "print(\"\\nEven Integers:\\n\", even_numbers)\n",
        "print(\"\\nOdd Integers:\\n\", odd_numbers)\n"
      ],
      "metadata": {
        "id": "vgUUnHGk1f0V"
      },
      "execution_count": null,
      "outputs": []
    },
    {
      "cell_type": "markdown",
      "source": [
        "## **Explanation:**\n",
        "arr % 2 == 0: This condition selects even integers (where the remainder of division by 2 is 0).\n",
        "\n",
        "arr % 2 != 0: This condition selects odd integers (where the remainder of division by 2 is not 0)."
      ],
      "metadata": {
        "id": "Wj_KQuBO1i51"
      }
    },
    {
      "cell_type": "markdown",
      "source": [
        "## **6.Create a 3D NumPy array of shape (3, 3, 3) containing random integers between 1 and 10. Perform the following operations:**\n",
        "\n",
        " a) Find the indices of the maximum values along each depth level (third axis).\n",
        "\n",
        " b) Perform element-wise multiplication of between both array.\n",
        "\n",
        "**To create a 3D NumPy array of shape (3, 3, 3) containing random integers between 1 and 10, we will use np.random.randint(). Then, we will:**\n",
        "\n",
        "1.Find the indices of the maximum values along each depth level (third axis).\n",
        "\n",
        "2.Perform element-wise multiplication between two such arrays.\n",
        "\n",
        "## **Full Code:**\n",
        "\n"
      ],
      "metadata": {
        "id": "4jXvzTXS1lSd"
      }
    },
    {
      "cell_type": "code",
      "source": [
        "import numpy as np\n",
        "\n",
        "# Create a 3D array with shape (3, 3, 3) containing random integers between 1 and 10\n",
        "arr1 = np.random.randint(1, 11, (3, 3, 3))\n",
        "\n",
        "# Print the first array\n",
        "print(\"Array 1:\\n\", arr1)\n",
        "\n",
        "# a) Find the indices of the maximum values along each depth level (third axis)\n",
        "max_indices = np.argmax(arr1, axis=2)\n",
        "\n",
        "# b) Perform element-wise multiplication with a second random 3D array\n",
        "arr2 = np.random.randint(1, 11, (3, 3, 3))\n",
        "elementwise_multiplication = arr1 * arr2\n",
        "\n",
        "# Print the results\n",
        "print(\"\\nIndices of Maximum Values Along Each Depth Level (axis=2):\\n\", max_indices)\n",
        "print(\"\\nArray 2:\\n\", arr2)\n",
        "print(\"\\nElement-wise Multiplication of Array 1 and Array 2:\\n\", elementwise_multiplication)\n"
      ],
      "metadata": {
        "id": "3-ahghLo2XqN"
      },
      "execution_count": null,
      "outputs": []
    },
    {
      "cell_type": "markdown",
      "source": [
        "## **Explanation:**\n",
        "**Finding Indices of Maximum Values (axis=2):**\n",
        "\n",
        "np.argmax(arr1, axis=2) returns the indices of the maximum values along the third axis (depth level). For each 2D slice of the array, it finds the index of the maximum value across the rows.\n",
        "\n",
        "**Element-wise Multiplication:**\n",
        "\n",
        "arr1 * arr2 performs element-wise multiplication between two arrays of the same shape. Each element in arr1 is multiplied by the corresponding element in arr2."
      ],
      "metadata": {
        "id": "WBBNpgSf2jh0"
      }
    },
    {
      "cell_type": "markdown",
      "source": [
        "## **7.Clean and transform the'Phone' column in the sample dataset to remove non-numeric characters and convert it to a numeric data type. Also display the table attributes and data types of each column**\n",
        "\n",
        "**To clean and transform the 'Phone' column by removing non-numeric characters and converting it to a numeric data type, you can follow these steps:**\n",
        "\n",
        "1.Remove all non-numeric characters using a regular expression (re).\n",
        "\n",
        "2.Convert the column to a numeric data type (int or float).\n",
        "\n",
        "3.Display the table attributes and data types for each column.\n",
        "\n",
        "Let's assume the dataset is in a Pandas DataFrame.\n",
        "\n",
        "## **Example Code:**"
      ],
      "metadata": {
        "id": "5fVyq6KO2sFd"
      }
    },
    {
      "cell_type": "code",
      "source": [
        "import pandas as pd\n",
        "import re\n",
        "\n",
        "# Sample dataset\n",
        "data = {\n",
        "    'Name': ['Alice', 'Bob', 'Charlie'],\n",
        "    'Phone': ['(123) 456-7890', '987-654-3210', '(555) 123-4567'],\n",
        "    'Age': [25, 30, 35]\n",
        "}\n",
        "\n",
        "# Create DataFrame\n",
        "df = pd.DataFrame(data)\n",
        "\n",
        "# Display the original DataFrame\n",
        "print(\"Original DataFrame:\\n\", df)\n",
        "\n",
        "# a) Clean the 'Phone' column by removing non-numeric characters\n",
        "df['Phone'] = df['Phone'].apply(lambda x: re.sub(r'\\D', '', x))\n",
        "\n",
        "# b) Convert the 'Phone' column to numeric (integer)\n",
        "df['Phone'] = pd.to_numeric(df['Phone'], errors='coerce')\n",
        "\n",
        "# Display cleaned DataFrame\n",
        "print(\"\\nCleaned DataFrame:\\n\", df)\n",
        "\n",
        "# c) Display attributes and data types\n",
        "print(\"\\nData Types of Each Column:\\n\", df.dtypes)\n"
      ],
      "metadata": {
        "id": "TDyAzpI73gE1"
      },
      "execution_count": null,
      "outputs": []
    },
    {
      "cell_type": "markdown",
      "source": [
        "## **Explanation:**\n",
        "**1.Cleaning the 'Phone' column:**\n",
        "\n",
        "re.sub(r'\\D', '', x) removes all non-numeric characters (\\D matches any character that isn't a digit).\n",
        "\n",
        "**2.Converting to Numeric:**\n",
        "\n",
        "pd.to_numeric(df['Phone'], errors='coerce') converts the cleaned column to numeric values. The errors='coerce' argument will turn any non-numeric value into NaN, though in this case, we don't expect that to happen.\n",
        "\n",
        "**3.Data Types:**\n",
        "\n",
        "df.dtypes shows the data types of each column in the DataFrame."
      ],
      "metadata": {
        "id": "e72ZOiPh3mKY"
      }
    },
    {
      "cell_type": "markdown",
      "source": [
        "## **8.Perform the following tasks using people dataset:**\n",
        "\n",
        " a) Read the 'data.csv' file using pandas, skipping the first 50 rows.\n",
        "\n",
        " b) Only read the columns: 'Last Name', ‘Gender’,’Email’,‘Phone’ and ‘Salary’ from the file.\n",
        "\n",
        " c) Display the first 10 rows of the filtered dataset.\n",
        "\n",
        " d) Extract the ‘Salary’' column as a Series and display its last 5 values\n",
        "\n",
        "**To perform the tasks using a people dataset from a file named 'data.csv', we will follow these steps:**\n",
        "\n",
        "1.Read the CSV file, skipping the first 50 rows.\n",
        "\n",
        "2.Select only specific columns: 'Last Name', 'Gender', 'Email', 'Phone', 'Salary'.\n",
        "\n",
        "3.Display the first 10 rows of the filtered dataset.\n",
        "\n",
        "4.Extract the 'Salary' column as a Series and display its last 5 values.\n",
        "\n",
        "Here's the code to perform these tasks:\n",
        "\n",
        "## **Full Code:**\n"
      ],
      "metadata": {
        "id": "iNb4vU-I3yWt"
      }
    },
    {
      "cell_type": "code",
      "source": [
        "import pandas as pd\n",
        "\n",
        "# a) Read the 'data.csv' file, skipping the first 50 rows\n",
        "df = pd.read_csv('data.csv',skiprows=50)\n",
        "\n",
        "# b) Only read the columns: 'Last Name', 'Gender', 'Email', 'Phone', 'Salary'\n",
        "df_filtered = df[['Last Name', 'Gender', 'Email', 'Phone', 'Salary']]\n",
        "\n",
        "# c) Display the first 10 rows of the filtered dataset\n",
        "print(\"First 10 rows of the filtered dataset:\\n\", df_filtered.head(10))\n",
        "\n",
        "# d) Extract the 'Salary' column as a Series and display its last 5 values\n",
        "salary_series = df_filtered['Salary']\n",
        "print(\"\\nLast 5 values of the 'Salary' column:\\n\", salary_series.tail(5))\n",
        "\n",
        "\n"
      ],
      "metadata": {
        "id": "suGK5oYQ5GhM"
      },
      "execution_count": null,
      "outputs": []
    },
    {
      "cell_type": "markdown",
      "source": [
        "## **Explanation:**\n",
        "1.pd.read_csv('data.csv', skiprows=50): This reads the data.csv file, skipping the first 50 rows.\n",
        "\n",
        "2.df[['Last Name', 'Gender', 'Email', 'Phone', 'Salary']]: This selects only the columns 'Last Name', 'Gender', 'Email', 'Phone', and 'Salary' from the DataFrame.\n",
        "\n",
        "3.df_filtered.head(10): This displays the first 10 rows of the filtered dataset.\n",
        "\n",
        "4.salary_series.tail(5): This extracts the Salary column as a Series and displays the last 5 values."
      ],
      "metadata": {
        "id": "f7-b75ss5vs0"
      }
    },
    {
      "cell_type": "markdown",
      "source": [
        "## **9.Filter and select rows from the People_Dataset, where the “Last Name' column contains the name 'Duke', 'Gender' column contains the word Female and ‘Salary’ should be less than 85000**\n",
        "\n",
        "**To filter and select rows from a DataFrame (People_Dataset) based on the following conditions:**\n",
        "\n",
        "'Last Name' contains \"Duke\"\n",
        "\n",
        "'Gender' is \"Female\"\n",
        "\n",
        "'Salary' is less than 85000\n",
        "\n",
        "You can use the following code:\n",
        "\n",
        "## **Code:**"
      ],
      "metadata": {
        "id": "xP8N_15i54_E"
      }
    },
    {
      "cell_type": "code",
      "source": [
        "# Filter rows based on the three conditions\n",
        "filtered_df = People_Dataset[\n",
        "    (People_Dataset['Last Name'].str.contains('Duke', case=False, na=False)) &\n",
        "    (People_Dataset['Gender'].str.lower() == 'female') &\n",
        "    (People_Dataset['Salary'] < 85000)\n",
        "]\n",
        "\n",
        "# Display the filtered result\n",
        "print(filtered_df)\n"
      ],
      "metadata": {
        "id": "cmNWjoUS6bJU"
      },
      "execution_count": null,
      "outputs": []
    },
    {
      "cell_type": "markdown",
      "source": [
        "## **Explanation:**\n",
        "1.str.contains('Duke', case=False, na=False): Looks for the substring 'Duke' in 'Last Name', ignoring case and avoiding errors for missing values.\n",
        "\n",
        "2.str.lower() == 'female': Ensures gender comparison is case-insensitive.\n",
        "\n",
        "3.Salary < 85000: Numerical condition applied directly."
      ],
      "metadata": {
        "id": "yeTwRszv6hcM"
      }
    },
    {
      "cell_type": "markdown",
      "source": [
        "## 10.Create a 7*5 Dataframe in Pandas using a series generated from 35 random integers between 1 to 6?\n",
        "\n",
        "To create a 7×5 DataFrame in Pandas using 35 random integers between 1 and 6, you can follow this approach:\n",
        "\n",
        "## **Code:**"
      ],
      "metadata": {
        "id": "hXtbwOFL6rMM"
      }
    },
    {
      "cell_type": "code",
      "source": [
        "import pandas as pd\n",
        "import numpy as np\n",
        "\n",
        "# Generate a Series of 35 random integers between 1 and 6\n",
        "random_series = pd.Series(np.random.randint(1, 7, 35))\n",
        "\n",
        "# Reshape the Series into a 7x5 DataFrame\n",
        "df = pd.DataFrame(random_series.values.reshape(7, 5),\n",
        "                  columns=['Col1', 'Col2', 'Col3', 'Col4', 'Col5'])\n",
        "\n",
        "# Display the DataFrame\n",
        "print(df)\n"
      ],
      "metadata": {
        "id": "n1fYKBiq7MW7"
      },
      "execution_count": null,
      "outputs": []
    },
    {
      "cell_type": "markdown",
      "source": [
        "## **11. Create two different Series, each of length 50, with the following criteria:**\n",
        "\n",
        "a) The first Series should contain random numbers ranging from 10 to 50.\n",
        "\n",
        "b) The second Series should contain random numbers ranging from 100 to 1000.\n",
        "\n",
        "c) Create a DataFrame by joining these Series by column, and, change the names of the columns to 'col1', 'col2',\n",
        "\n",
        "**Here's how you can create two different Series and then combine them into a DataFrame with renamed columns:**\n",
        "\n",
        "## **Code:**\n",
        "\n",
        "\n"
      ],
      "metadata": {
        "id": "VCMJfgmr7cB-"
      }
    },
    {
      "cell_type": "code",
      "source": [
        "import pandas as pd\n",
        "import numpy as np\n",
        "\n",
        "# a) First Series with random numbers from 10 to 50\n",
        "series1 = pd.Series(np.random.randint(10, 51, size=50))\n",
        "\n",
        "# b) Second Series with random numbers from 100 to 1000\n",
        "series2 = pd.Series(np.random.randint(100, 1001, size=50))\n",
        "\n",
        "# c) Combine the Series into a DataFrame by columns\n",
        "df = pd.concat([series1, series2], axis=1)\n",
        "\n",
        "# Rename the columns to 'col1', 'col2'\n",
        "df.columns = ['col1', 'col2']\n",
        "\n",
        "# Display the DataFrame\n",
        "print(df)\n"
      ],
      "metadata": {
        "id": "kOc1RnJK7xmc"
      },
      "execution_count": null,
      "outputs": []
    },
    {
      "cell_type": "markdown",
      "source": [
        "## **Explanation:**\n",
        "1.np.random.randint(10, 51, size=50) generates integers from 10 to 50 (inclusive of 10, exclusive of 51).\n",
        "\n",
        "2.pd.concat([...], axis=1) joins the Series column-wise.\n",
        "\n",
        "3.Columns are renamed using df.columns = ['col1', 'col2']."
      ],
      "metadata": {
        "id": "VC6si-8o7-4k"
      }
    },
    {
      "cell_type": "markdown",
      "source": [
        "## **12.Perform the following operations using people data set:**\n",
        "\n",
        "a) Delete the 'Email', 'Phone', and 'Date of birth' columns from the dataset.\n",
        "\n",
        "b) Delete the rows containing any missing values.\n",
        "\n",
        "d) Print the final output also\n",
        "\n",
        "**To perform the specified operations on the people dataset, here’s the step-by-step process using Pandas:**\n",
        "\n",
        "## **Code:**\n"
      ],
      "metadata": {
        "id": "PZLNwkjA8FZk"
      }
    },
    {
      "cell_type": "code",
      "source": [
        "import pandas as pd\n",
        "\n",
        "# Load the dataset (replace 'data.csv' with your actual file if needed)\n",
        "people_df = pd.read_csv('data.csv')\n",
        "\n",
        "# a) Delete the 'Email', 'Phone', and 'Date of birth' columns\n",
        "people_df.drop(columns=['Email', 'Phone', 'Date of birth'], inplace=True, errors='ignore')\n",
        "\n",
        "# b) Delete rows containing any missing values\n",
        "people_df.dropna(inplace=True)\n",
        "\n",
        "# d) Print the final cleaned DataFrame\n",
        "print(\"Cleaned People Dataset:\\n\")\n",
        "print(people_df)\n"
      ],
      "metadata": {
        "id": "9SnIkKMb8nl0"
      },
      "execution_count": null,
      "outputs": []
    },
    {
      "cell_type": "markdown",
      "source": [
        "## **Explanation:**\n",
        "\n",
        "drop(columns=[...], inplace=True): Removes specified columns directly from\n",
        "the DataFrame.\n",
        "\n",
        "errors='ignore': Prevents an error if any of the columns are not present.\n",
        "\n",
        "dropna(inplace=True): Removes all rows with any NaN (missing) values.\n",
        "\n",
        "print(people_df): Displays the final cleaned dataset."
      ],
      "metadata": {
        "id": "QZHYzM-48sv8"
      }
    },
    {
      "cell_type": "markdown",
      "source": [
        "## **13.Create two NumPy arrays, x and y, each containing 100 random float values between 0 and Perform the following tasks using Matplotlib and NumPy:**\n",
        "\n",
        "a) Create a scatter plot using x and y, setting the color of the points to red and the marker style to 'o'.\n",
        "\n",
        "b) Add a horizontal line at y = 0.5 using a dashed line style and label it as 'y = 0.5'.\n",
        "\n",
        "c) Add a vertical line at x = 0.5 using a dotted line style and label it as 'x = 0.5'.\n",
        "\n",
        "d) Label the x-axis as 'X-axis' and the y-axis as 'Y-axis'.\n",
        "\n",
        "e) Set the title of the plot as 'Advanced Scatter Plot of Random Values'.\n",
        "\n",
        "f) Display a legend for the scatter plot, the horizontal line, and the vertical line.\n",
        "\n",
        "**Here's how you can complete all the specified tasks using NumPy and Matplotlib:**\n",
        "\n",
        "## **Code:**"
      ],
      "metadata": {
        "id": "rm2MQLwClPHz"
      }
    },
    {
      "cell_type": "code",
      "source": [
        "import numpy as np\n",
        "import matplotlib.pyplot as plt\n",
        "\n",
        "# Generate random float values between 0 and 1 for x and y\n",
        "np.random.seed(42)  # Optional: for reproducibility\n",
        "x = np.random.rand(100)\n",
        "y = np.random.rand(100)\n",
        "\n",
        "# Create the scatter plot\n",
        "plt.figure(figsize=(8, 6))\n",
        "plt.scatter(x, y, color='red', marker='o', label='Data Points')\n",
        "\n",
        "# Add horizontal line at y = 0.5\n",
        "plt.axhline(y=0.5, color='blue', linestyle='--', label='y = 0.5')\n",
        "\n",
        "# Add vertical line at x = 0.5\n",
        "plt.axvline(x=0.5, color='green', linestyle=':', label='x = 0.5')\n",
        "\n",
        "# Label axes\n",
        "plt.xlabel('X-axis')\n",
        "plt.ylabel('Y-axis')\n",
        "\n",
        "# Set title\n",
        "plt.title('Advanced Scatter Plot of Random Values')\n",
        "\n",
        "# Display legend\n",
        "plt.legend()\n",
        "\n",
        "# Show the plot\n",
        "plt.show()\n"
      ],
      "metadata": {
        "id": "NVtXHHTClqBS"
      },
      "execution_count": null,
      "outputs": []
    },
    {
      "cell_type": "markdown",
      "source": [
        "## **Features Implemented:**\n",
        "\n",
        "Red 'o' markers for scatter points.\n",
        "\n",
        "Dashed blue horizontal line at y = 0.5.\n",
        "\n",
        "Dotted green vertical line at x = 0.5.\n",
        "\n",
        "Proper labels and title.\n",
        "\n",
        "Legend showing all components."
      ],
      "metadata": {
        "id": "5aLLMi6il3RN"
      }
    },
    {
      "cell_type": "markdown",
      "source": [
        "## **14.Create a time-series dataset in a Pandas DataFrame with columns: 'Date', 'Temperature', 'Humidity' and Perform the following tasks using Matplotlib:**\n",
        "\n",
        "a) Plot the 'Temperature' and 'Humidity' on the same plot with different y-axes (left y-axis for 'Temperature' and\n",
        "right y-axis for 'Humidity').\n",
        "\n",
        "b) Label the x-axis as 'Date'.\n",
        "\n",
        "c) Set the title of the plot as 'Temperature and Humidity Over Time'.\n",
        "\n",
        "\n",
        "**Here's how you can create a time-series dataset in Pandas and use Matplotlib to visualize 'Temperature' and 'Humidity' on the same plot with dual y-axes:**\n",
        "\n",
        "## **Code:**"
      ],
      "metadata": {
        "id": "i3oDYO6DmgyL"
      }
    },
    {
      "cell_type": "code",
      "source": [
        "import pandas as pd\n",
        "import numpy as np\n",
        "import matplotlib.pyplot as plt\n",
        "\n",
        "# Create a time-series dataset\n",
        "np.random.seed(0)\n",
        "dates = pd.date_range(start='2023-01-01', periods=30)\n",
        "temperature = np.random.uniform(15, 35, size=30)\n",
        "humidity = np.random.uniform(40, 90, size=30)\n",
        "\n",
        "df = pd.DataFrame({\n",
        "    'Date': dates,\n",
        "    'Temperature': temperature,\n",
        "    'Humidity': humidity\n",
        "})\n",
        "\n",
        "# Plot with dual y-axes\n",
        "fig, ax1 = plt.subplots(figsize=(10, 6))\n",
        "\n",
        "# Plot Temperature on the left y-axis\n",
        "ax1.plot(df['Date'], df['Temperature'], color='red', label='Temperature')\n",
        "ax1.set_ylabel('Temperature (°C)', color='red')\n",
        "ax1.tick_params(axis='y', labelcolor='red')\n",
        "\n",
        "# Create right y-axis for Humidity\n",
        "ax2 = ax1.twinx()\n",
        "ax2.plot(df['Date'], df['Humidity'], color='blue', label='Humidity')\n",
        "ax2.set_ylabel('Humidity (%)', color='blue')\n",
        "ax2.tick_params(axis='y', labelcolor='blue')\n",
        "\n",
        "# Label x-axis and set title\n",
        "ax1.set_xlabel('Date')\n",
        "plt.title('Temperature and Humidity Over Time')\n",
        "\n",
        "# Show the plot\n",
        "plt.tight_layout()\n",
        "plt.show()\n"
      ],
      "metadata": {
        "id": "LO9YyzGPnF6D"
      },
      "execution_count": null,
      "outputs": []
    },
    {
      "cell_type": "markdown",
      "source": [
        "## **Key Features:**\n",
        "Left y-axis: Temperature in red.\n",
        "\n",
        "Right y-axis: Humidity in blue.\n",
        "\n",
        "X-axis labeled as Date.\n",
        "\n",
        "Title set as \"Temperature and Humidity Over Time\"."
      ],
      "metadata": {
        "id": "TxBizdk5nLgK"
      }
    },
    {
      "cell_type": "markdown",
      "source": [
        "## **15.Create a NumPy array data containing 1000 samples from a normal distribution. Perform the following tasks using Matplotlib:**\n",
        "\n",
        "a) Plot a histogram of the data with 30 bins.\n",
        "\n",
        "b) Overlay a line plot representing the normal distribution's probability density function (PDF).\n",
        "\n",
        "c) Label the x-axis as 'Value' and the y-axis as 'Frequency/Probability'.\n",
        "\n",
        "d) Set the title of the plot as 'Histogram with PDF Overlay'.\n",
        "\n",
        "**Here's how to create a NumPy array of 1000 normally distributed samples and visualize both the histogram and the PDF (Probability Density Function) using Matplotlib:**\n",
        "\n",
        "## **Code:**\n",
        "\n",
        "\n"
      ],
      "metadata": {
        "id": "mZ5SMQPznOvy"
      }
    },
    {
      "cell_type": "code",
      "source": [
        "import numpy as np\n",
        "import matplotlib.pyplot as plt\n",
        "from scipy.stats import norm\n",
        "\n",
        "# Generate 1000 samples from a normal distribution\n",
        "np.random.seed(0)\n",
        "data = np.random.normal(loc=0, scale=1, size=1000)\n",
        "\n",
        "# a) Plot histogram\n",
        "count, bins, ignored = plt.hist(data, bins=30, density=True, alpha=0.6, color='skyblue', label='Histogram')\n",
        "\n",
        "# b) Overlay PDF line\n",
        "x = np.linspace(min(bins), max(bins), 1000)\n",
        "pdf = norm.pdf(x, np.mean(data), np.std(data))\n",
        "plt.plot(x, pdf, 'r-', linewidth=2, label='PDF')\n",
        "\n",
        "# c) Label axes\n",
        "plt.xlabel('Value')\n",
        "plt.ylabel('Frequency/Probability')\n",
        "\n",
        "# d) Set title\n",
        "plt.title('Histogram with PDF Overlay')\n",
        "\n",
        "# Show legend and plot\n",
        "plt.legend()\n",
        "plt.grid(True)\n",
        "plt.show()\n"
      ],
      "metadata": {
        "id": "WFgnQrbEnp_R"
      },
      "execution_count": null,
      "outputs": []
    },
    {
      "cell_type": "markdown",
      "source": [
        "## **What This Does:**\n",
        "Uses density=True in plt.hist so the histogram shows probability density.\n",
        "\n",
        "Overlays the PDF calculated using scipy.stats.norm.pdf.\n",
        "\n",
        "Clearly labels the plot for interpretability."
      ],
      "metadata": {
        "id": "9nAmwbd5ntSi"
      }
    },
    {
      "cell_type": "markdown",
      "source": [
        "## **16.Set the title of the plot as 'Histogram with PDF Overlay'.**\n",
        "\n",
        "\n",
        "You're right to emphasize the title — it's already included in the code. Here's the exact line responsible for setting the title:\n",
        "\n"
      ],
      "metadata": {
        "id": "VNwh_m6bnx8y"
      }
    },
    {
      "cell_type": "code",
      "source": [
        "plt.title('Histogram with PDF Overlay')\n"
      ],
      "metadata": {
        "id": "WivJII6woAVq"
      },
      "execution_count": null,
      "outputs": []
    },
    {
      "cell_type": "markdown",
      "source": [
        "If you're reusing or modifying the code, ensure this line is placed after all your plotting elements (histogram, PDF line) but before plt.show().\n",
        "\n",
        "## **Full Summary Snippet with Title:**\n",
        "\n"
      ],
      "metadata": {
        "id": "fRI5jNAPoEQi"
      }
    },
    {
      "cell_type": "code",
      "source": [
        "# ... previous code for generating data and plotting ...\n",
        "plt.title('Histogram with PDF Overlay')  # ✅ Sets the plot title\n",
        "plt.legend()\n",
        "plt.grid(True)\n",
        "plt.show()\n"
      ],
      "metadata": {
        "id": "B_vtgdLFoJyS"
      },
      "execution_count": null,
      "outputs": []
    },
    {
      "cell_type": "markdown",
      "source": [
        "## **17.Create a Seaborn scatter plot of two random arrays, color points based on their position relative to the origin (quadrants), add a legend, label the axes, and set the title as 'Quadrant-wise Scatter Plot'.**\n",
        "\n",
        "Here's how to create a Seaborn scatter plot of two random arrays, with color-coding based on the point's quadrant relative to the origin. The plot includes a legend, axis labels, and a title.\n",
        "\n",
        "## **Code:**"
      ],
      "metadata": {
        "id": "9dbXn7LAoNii"
      }
    },
    {
      "cell_type": "code",
      "source": [
        "import numpy as np\n",
        "import pandas as pd\n",
        "import seaborn as sns\n",
        "import matplotlib.pyplot as plt\n",
        "\n",
        "# Generate two random arrays\n",
        "np.random.seed(1)\n",
        "x = np.random.randn(100)\n",
        "y = np.random.randn(100)\n",
        "\n",
        "# Determine quadrant based on x and y values\n",
        "def get_quadrant(x, y):\n",
        "    if x > 0 and y > 0:\n",
        "        return 'Quadrant I'\n",
        "    elif x < 0 and y > 0:\n",
        "        return 'Quadrant II'\n",
        "    elif x < 0 and y < 0:\n",
        "        return 'Quadrant III'\n",
        "    else:\n",
        "        return 'Quadrant IV'\n",
        "\n",
        "# Create DataFrame\n",
        "df = pd.DataFrame({'x': x, 'y': y})\n",
        "df['Quadrant'] = [get_quadrant(xi, yi) for xi, yi in zip(df['x'], df['y'])]\n",
        "\n",
        "# Plot using Seaborn\n",
        "plt.figure(figsize=(8, 6))\n",
        "sns.scatterplot(data=df, x='x', y='y', hue='Quadrant', palette='Set2')\n",
        "\n",
        "# Customize plot\n",
        "plt.axhline(0, color='gray', linewidth=0.5)\n",
        "plt.axvline(0, color='gray', linewidth=0.5)\n",
        "plt.xlabel('X-axis')\n",
        "plt.ylabel('Y-axis')\n",
        "plt.title('Quadrant-wise Scatter Plot')\n",
        "plt.legend(title='Quadrant')\n",
        "plt.grid(True)\n",
        "plt.tight_layout()\n",
        "plt.show()\n"
      ],
      "metadata": {
        "id": "yaWvlGECoclD"
      },
      "execution_count": null,
      "outputs": []
    },
    {
      "cell_type": "markdown",
      "source": [
        "## **What It Includes:**\n",
        "Random points generated with np.random.randn.\n",
        "\n",
        "A custom function to assign quadrants.\n",
        "\n",
        "Seaborn color-coded scatter plot.\n",
        "\n",
        "Axes and title labeling, gridlines, and legend."
      ],
      "metadata": {
        "id": "gdjA941OohTj"
      }
    },
    {
      "cell_type": "markdown",
      "source": [
        "## **18.With Bokeh, plot a line chart of a sine wave function, add grid lines, label the axes, and set the title as 'Sine Wave Function.**\n",
        "\n",
        "Here's how you can use Bokeh to create a line chart of a sine wave function with labeled axes, grid lines, and a title:\n",
        "\n",
        "## **Code:**"
      ],
      "metadata": {
        "id": "Oe80BJzFojWb"
      }
    },
    {
      "cell_type": "code",
      "source": [
        "from bokeh.plotting import figure, show, output_notebook\n",
        "import numpy as np\n",
        "\n",
        "# Use this if you're running in a Jupyter notebook\n",
        "output_notebook()\n",
        "\n",
        "# Generate x and y values\n",
        "x = np.linspace(0, 4 * np.pi, 100)\n",
        "y = np.sin(x)\n",
        "\n",
        "# Create a Bokeh figure\n",
        "p = figure(title=\"Sine Wave Function\", x_axis_label='X-axis', y_axis_label='sin(X)',\n",
        "           width=700, height=400)\n",
        "\n",
        "# Plot the sine wave\n",
        "p.line(x, y, line_width=2, color='navy', legend_label='sin(x)')\n",
        "\n",
        "# Add grid lines (enabled by default, but you can customize)\n",
        "p.xgrid.grid_line_color = \"lightgray\"\n",
        "p.ygrid.grid_line_color = \"lightgray\"\n",
        "\n",
        "# Show the plot\n",
        "show(p)\n"
      ],
      "metadata": {
        "id": "Hklm0BLho7bD"
      },
      "execution_count": null,
      "outputs": []
    },
    {
      "cell_type": "markdown",
      "source": [
        "## **What This Includes:**\n",
        "A sine wave line chart.\n",
        "\n",
        "Axis labels and a plot title.\n",
        "\n",
        "Custom light gray grid lines.\n",
        "\n",
        "Live rendering in Jupyter notebooks using output_notebook()."
      ],
      "metadata": {
        "id": "aCuMx7UNpA_j"
      }
    },
    {
      "cell_type": "markdown",
      "source": [
        "## **19.Using Bokeh, generate a bar chart of randomly generated categorical** **data, color bars based on their values, add hover tooltips to display exact values, label the axes, and set the title as 'Random Categorical Bar Chart.**\n",
        "\n",
        "### **Here's how you can create an interactive Bokeh bar chart with:**\n",
        "\n",
        "Random categorical data\n",
        "\n",
        "Bar colors based on values\n",
        "\n",
        "Hover tooltips\n",
        "\n",
        "Labeled axes and title\n",
        "\n",
        "## **Code:**\n",
        "\n"
      ],
      "metadata": {
        "id": "FrSLyOCCpDGU"
      }
    },
    {
      "cell_type": "code",
      "source": [
        "from bokeh.plotting import figure, show, output_notebook\n",
        "from bokeh.models import ColumnDataSource, HoverTool\n",
        "from bokeh.transform import linear_cmap\n",
        "from bokeh.palettes import Viridis256\n",
        "import numpy as np\n",
        "import pandas as pd\n",
        "\n",
        "# For notebook rendering\n",
        "output_notebook()\n",
        "\n",
        "# Generate random categorical data\n",
        "np.random.seed(42)\n",
        "categories = ['A', 'B', 'C', 'D', 'E', 'F']\n",
        "values = np.random.randint(10, 100, size=len(categories))\n",
        "\n",
        "# Create DataFrame and ColumnDataSource\n",
        "df = pd.DataFrame({'category': categories, 'value': values})\n",
        "source = ColumnDataSource(df)\n",
        "\n",
        "# Create color mapper\n",
        "mapper = linear_cmap(field_name='value', palette=Viridis256, low=min(values), high=max(values))\n",
        "\n",
        "# Create figure\n",
        "p = figure(x_range=categories, title=\"Random Categorical Bar Chart\",\n",
        "           x_axis_label='Category', y_axis_label='Value',\n",
        "           plot_height=400, plot_width=600, toolbar_location=None)\n",
        "\n",
        "# Add vertical bars\n",
        "p.vbar(x='category', top='value', width=0.7, source=source, line_color='white', fill_color=mapper)\n",
        "\n",
        "# Add hover tool\n",
        "hover = HoverTool(tooltips=[(\"Category\", \"@category\"), (\"Value\", \"@value\")])\n",
        "p.add_tools(hover)\n",
        "\n",
        "# Display plot\n",
        "show(p)\n"
      ],
      "metadata": {
        "id": "KCYE8kWaqLdD"
      },
      "execution_count": null,
      "outputs": []
    },
    {
      "cell_type": "markdown",
      "source": [
        "## **Features:**\n",
        "Color-coded bars using linear_cmap.\n",
        "\n",
        "Interactive hover to display category and value.\n",
        "\n",
        "Title and axis labels included.\n",
        "\n",
        "Works interactively in notebooks."
      ],
      "metadata": {
        "id": "g3HQc2JwqR_r"
      }
    },
    {
      "cell_type": "markdown",
      "source": [
        "## **20.Using Plotly, create a basic line plot of a randomly generated dataset, label the axes, and set the title as 'Simple Line Plot'**\n",
        "\n",
        "Here's how you can use Plotly to create a basic interactive line plot with:\n",
        "\n",
        "Random data\n",
        "\n",
        "Labeled axes\n",
        "\n",
        "A title: \"Simple Line Plot\"\n",
        "\n",
        "## **Code:**"
      ],
      "metadata": {
        "id": "RgdC10o2qVM7"
      }
    },
    {
      "cell_type": "code",
      "source": [
        "import plotly.graph_objects as go\n",
        "import numpy as np\n",
        "\n",
        "# Generate random data\n",
        "np.random.seed(10)\n",
        "x = np.arange(1, 21)\n",
        "y = np.random.randint(10, 100, size=20)\n",
        "\n",
        "# Create line plot\n",
        "fig = go.Figure()\n",
        "\n",
        "fig.add_trace(go.Scatter(\n",
        "    x=x, y=y, mode='lines+markers',\n",
        "    line=dict(color='blue'),\n",
        "    marker=dict(size=8),\n",
        "    name='Random Data'\n",
        "))\n",
        "\n",
        "# Set titles and labels\n",
        "fig.update_layout(\n",
        "    title='Simple Line Plot',\n",
        "    xaxis_title='X-axis',\n",
        "    yaxis_title='Y-axis',\n",
        "    template='plotly_white'\n",
        ")\n",
        "\n",
        "# Show the plot\n",
        "fig.show()\n"
      ],
      "metadata": {
        "id": "gUQ8TZLGqsxb"
      },
      "execution_count": null,
      "outputs": []
    },
    {
      "cell_type": "markdown",
      "source": [
        "## **Output:**\n",
        "A smooth, zoomable, and interactive line plot.\n",
        "\n",
        "Clear axis labels and title.\n",
        "\n",
        "Points marked for better visibility."
      ],
      "metadata": {
        "id": "j9km92zDq3Z6"
      }
    },
    {
      "cell_type": "markdown",
      "source": [
        "## **21.Using Plotly, create an interactive pie chart of randomly generated data, add labels and percentages, set the title as 'Interactive Pie Chart'.**\n",
        "\n",
        "Here's how you can use Plotly to create an interactive pie chart with:\n",
        "\n",
        "Randomly generated data\n",
        "\n",
        "Labels and percentage values\n",
        "\n",
        "Title: \"Interactive Pie Chart\"\n",
        "\n",
        "## **Code:**"
      ],
      "metadata": {
        "id": "oS06Lqurq6_i"
      }
    },
    {
      "cell_type": "code",
      "source": [
        "import plotly.graph_objects as go\n",
        "import numpy as np\n",
        "\n",
        "# Generate random data\n",
        "np.random.seed(5)\n",
        "labels = ['A', 'B', 'C', 'D', 'E']\n",
        "values = np.random.randint(10, 100, size=len(labels))\n",
        "\n",
        "# Create pie chart\n",
        "fig = go.Figure(data=[go.Pie(\n",
        "    labels=labels,\n",
        "    values=values,\n",
        "    hoverinfo='label+percent+value',\n",
        "    textinfo='percent',\n",
        "    textfont_size=14\n",
        ")])\n",
        "\n",
        "# Update layout\n",
        "fig.update_layout(\n",
        "    title='Interactive Pie Chart',\n",
        "    template='plotly_white'\n",
        ")\n",
        "\n",
        "# Show plot\n",
        "fig.show()\n"
      ],
      "metadata": {
        "id": "i4E0rImIrSJk"
      },
      "execution_count": null,
      "outputs": []
    },
    {
      "cell_type": "markdown",
      "source": [
        "## **Features:**\n",
        "Interactive tooltips showing label, percent, and value.\n",
        "\n",
        "Clean styling with percentages displayed inside slices.\n",
        "\n",
        "Responsive and zoomable."
      ],
      "metadata": {
        "id": "352l2T0xrWqK"
      }
    }
  ]
}