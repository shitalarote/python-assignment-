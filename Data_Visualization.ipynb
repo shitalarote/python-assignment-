{
  "nbformat": 4,
  "nbformat_minor": 0,
  "metadata": {
    "colab": {
      "private_outputs": true,
      "provenance": [],
      "authorship_tag": "ABX9TyMfeRv7irP8evlPu7gA8QXP",
      "include_colab_link": true
    },
    "kernelspec": {
      "name": "python3",
      "display_name": "Python 3"
    },
    "language_info": {
      "name": "python"
    }
  },
  "cells": [
    {
      "cell_type": "markdown",
      "metadata": {
        "id": "view-in-github",
        "colab_type": "text"
      },
      "source": [
        "<a href=\"https://colab.research.google.com/github/shitalarote/python-assignment-/blob/main/Data_Visualization.ipynb\" target=\"_parent\"><img src=\"https://colab.research.google.com/assets/colab-badge.svg\" alt=\"Open In Colab\"/></a>"
      ]
    },
    {
      "cell_type": "markdown",
      "source": [
        "### **1.Create a scatter plot using Matplotlib to visualize the relationship between two arrays, x and y for the given data.**  \n",
        "\n",
        "x = [1, 2, 3, 4, 5, 6, 7, 8, 9, 10]\n",
        "\n",
        "y = [2, 4, 5, 7, 6, 8, 9, 10, 12, 13]\n"
      ],
      "metadata": {
        "id": "_BM9twCdf5uH"
      }
    },
    {
      "cell_type": "markdown",
      "source": [
        "Here's how you can create a scatter plot using Matplotlib to visualize the relationship between the x and y arrays:\n",
        "\n",
        "##**Code Example:**\n",
        "\n"
      ],
      "metadata": {
        "id": "4xjLZcTfgZ6A"
      }
    },
    {
      "cell_type": "code",
      "source": [
        "import matplotlib.pyplot as plt\n",
        "\n",
        "# Data\n",
        "x = [1, 2, 3, 4, 5, 6, 7, 8, 9, 10]\n",
        "y = [2, 4, 5, 7, 6, 8, 9, 10, 12, 13]\n",
        "\n",
        "# Create scatter plot\n",
        "plt.scatter(x, y, color='blue', marker='o')\n",
        "\n",
        "# Add titles and labels\n",
        "plt.title('Scatter Plot of x vs y')\n",
        "plt.xlabel('x values')\n",
        "plt.ylabel('y values')\n",
        "\n",
        "# Show grid\n",
        "plt.grid(True)\n",
        "\n",
        "# Show plot\n",
        "plt.show()\n"
      ],
      "metadata": {
        "id": "YchLCAQ0giA1"
      },
      "execution_count": null,
      "outputs": []
    },
    {
      "cell_type": "markdown",
      "source": [
        "This will produce a simple scatter plot with blue circular markers representing the data points."
      ],
      "metadata": {
        "id": "HBc0qFKIgsPU"
      }
    },
    {
      "cell_type": "markdown",
      "source": [
        "## **2. Generate a line plot to visualize the trend of values for the given data.**\n",
        "\n",
        "data = np.array([3, 7, 9, 15, 22, 29, 35])"
      ],
      "metadata": {
        "id": "olLpePbpgtXt"
      }
    },
    {
      "cell_type": "markdown",
      "source": [
        "To generate a line plot using Matplotlib for the given data, you can use the following code:\n",
        "\n",
        "### **Code Example:**"
      ],
      "metadata": {
        "id": "jCvd5VVig5U4"
      }
    },
    {
      "cell_type": "code",
      "source": [
        "import numpy as np\n",
        "import matplotlib.pyplot as plt\n",
        "\n",
        "# Data\n",
        "data = np.array([3, 7, 9, 15, 22, 29, 35])\n",
        "\n",
        "# Generate x values (indices)\n",
        "x = np.arange(len(data))\n",
        "\n",
        "# Create line plot\n",
        "plt.plot(x, data, marker='o', linestyle='-', color='green')\n",
        "\n",
        "# Add titles and labels\n",
        "plt.title('Line Plot of Data Values')\n",
        "plt.xlabel('Index')\n",
        "plt.ylabel('Value')\n",
        "\n",
        "# Show grid\n",
        "plt.grid(True)\n",
        "\n",
        "# Show plot\n",
        "plt.show()\n"
      ],
      "metadata": {
        "id": "IMNm3_YDhDEO"
      },
      "execution_count": null,
      "outputs": []
    },
    {
      "cell_type": "markdown",
      "source": [
        "This code plots the data values against their indices to show the trend over time or position."
      ],
      "metadata": {
        "id": "7DHYKtwuhNve"
      }
    },
    {
      "cell_type": "markdown",
      "source": [
        "## **3. Display a bar chart to represent the frequency of each item in the given array categories.**\n",
        "\n",
        "categories = ['A', 'B', 'C', 'D', 'E']\n",
        "values = [25, 40, 30, 35, 20]\n",
        "\n",
        "You can use Matplotlib to create a bar chart representing the frequency of each item in the categories array. Here's how:\n",
        "\n",
        "## **Code Example:**"
      ],
      "metadata": {
        "id": "st12qKhahO4-"
      }
    },
    {
      "cell_type": "code",
      "source": [
        "import matplotlib.pyplot as plt\n",
        "\n",
        "# Data\n",
        "categories = ['A', 'B', 'C', 'D', 'E']\n",
        "values = [25, 40, 30, 35, 20]\n",
        "\n",
        "# Create bar chart\n",
        "plt.bar(categories, values, color='skyblue')\n",
        "\n",
        "# Add titles and labels\n",
        "plt.title('Frequency of Categories')\n",
        "plt.xlabel('Category')\n",
        "plt.ylabel('Frequency')\n",
        "\n",
        "# Show grid\n",
        "plt.grid(axis='y', linestyle='--', alpha=0.7)\n",
        "\n",
        "# Show plot\n",
        "plt.show()\n"
      ],
      "metadata": {
        "id": "Dw5zb-YWhpsN"
      },
      "execution_count": null,
      "outputs": []
    },
    {
      "cell_type": "markdown",
      "source": [
        "This will display a vertical bar chart with frequency values for each category."
      ],
      "metadata": {
        "id": "rJ9XIMBzhul9"
      }
    },
    {
      "cell_type": "markdown",
      "source": [
        "## **4. Create a histogram to visualize the distribution of values in the array data.**\n",
        "\n",
        "data = np.random.normal(0, 1, 1000)\n",
        "\n",
        "To create a histogram that visualizes the distribution of values in the array data, you can use the following code. This assumes the data follows a normal distribution.\n",
        "\n",
        "## **Code Example:**\n",
        "\n"
      ],
      "metadata": {
        "id": "iIP2RUdWhvZN"
      }
    },
    {
      "cell_type": "code",
      "source": [
        "import numpy as np\n",
        "import matplotlib.pyplot as plt\n",
        "\n",
        "# Generate data: 1000 samples from a normal distribution (mean=0, std=1)\n",
        "data = np.random.normal(0, 1, 1000)\n",
        "\n",
        "# Create histogram\n",
        "plt.hist(data, bins=30, color='purple', edgecolor='black', alpha=0.7)\n",
        "\n",
        "# Add titles and labels\n",
        "plt.title('Histogram of Normally Distributed Data')\n",
        "plt.xlabel('Value')\n",
        "plt.ylabel('Frequency')\n",
        "\n",
        "# Show grid\n",
        "plt.grid(True, linestyle='--', alpha=0.5)\n",
        "\n",
        "# Show plot\n",
        "plt.show()\n"
      ],
      "metadata": {
        "id": "mW4Zwu9vizyF"
      },
      "execution_count": null,
      "outputs": []
    },
    {
      "cell_type": "markdown",
      "source": [
        "This will display a histogram with 30 bins showing the bell-shaped curve typical of normal distribution."
      ],
      "metadata": {
        "id": "0I_NCVq3i5Gd"
      }
    },
    {
      "cell_type": "markdown",
      "source": [
        "## **5. Show a pie chart to represent the percentage distribution of different sections in the array `sections`.**\n",
        "\n",
        "sections = ['Section A', 'Section B', 'Section C', 'Section D']\n",
        "\n",
        "sizes = [25, 30, 15, 30]\n",
        "\n",
        "You can use Matplotlib to create a pie chart representing the percentage distribution of the sections. Here's how:\n",
        "\n",
        "## **Code Example:**"
      ],
      "metadata": {
        "id": "zVpfJBoCi6EG"
      }
    },
    {
      "cell_type": "code",
      "source": [
        "import matplotlib.pyplot as plt\n",
        "\n",
        "# Data\n",
        "sections = ['Section A', 'Section B', 'Section C', 'Section D']\n",
        "sizes = [25, 30, 15, 30]\n",
        "\n",
        "# Create pie chart\n",
        "plt.pie(sizes, labels=sections, autopct='%1.1f%%', startangle=90, colors=['gold', 'lightblue', 'lightgreen', 'salmon'])\n",
        "\n",
        "# Equal aspect ratio ensures that pie is drawn as a circle\n",
        "plt.axis('equal')\n",
        "\n",
        "# Add title\n",
        "plt.title('Percentage Distribution of Sections')\n",
        "\n",
        "# Show plot\n",
        "plt.show()\n"
      ],
      "metadata": {
        "id": "Aes_5Dw1krFN"
      },
      "execution_count": null,
      "outputs": []
    },
    {
      "cell_type": "markdown",
      "source": [
        "This will display a pie chart with percentage labels and distinguishable colors for each section."
      ],
      "metadata": {
        "id": "zisaaNogkwHs"
      }
    },
    {
      "cell_type": "markdown",
      "source": [
        "## **SEABORN ASSIGNMENT:**\n",
        "**(Use Seaborn for the visualization of the given questions)**"
      ],
      "metadata": {
        "id": "Mlt8bl_hkxQ1"
      }
    },
    {
      "cell_type": "markdown",
      "source": [
        "## **1. Create a scatter plot to visualize the relationship between two variables, by generating a synthetic dataset.**\n",
        "\n",
        "\n",
        "To create a scatter plot for two synthetic variables, you can generate a dataset using NumPy—for example, by creating x values and generating y with some noise to simulate a relationship.\n",
        "\n",
        "## **Code Example:**"
      ],
      "metadata": {
        "id": "2gNiYUhalWOL"
      }
    },
    {
      "cell_type": "code",
      "source": [
        "import numpy as np\n",
        "import matplotlib.pyplot as plt\n",
        "\n",
        "# Generate synthetic data\n",
        "np.random.seed(0)  # For reproducibility\n",
        "x = np.linspace(0, 10, 100)\n",
        "y = 2.5 * x + np.random.normal(0, 3, size=100)  # Linear relationship with noise\n",
        "\n",
        "# Create scatter plot\n",
        "plt.scatter(x, y, color='teal', alpha=0.7)\n",
        "\n",
        "# Add titles and labels\n",
        "plt.title('Synthetic Scatter Plot')\n",
        "plt.xlabel('X values')\n",
        "plt.ylabel('Y values')\n",
        "\n",
        "# Show grid\n",
        "plt.grid(True)\n",
        "\n",
        "# Show plot\n",
        "plt.show()\n"
      ],
      "metadata": {
        "id": "qw4zb6QVlh7z"
      },
      "execution_count": null,
      "outputs": []
    },
    {
      "cell_type": "markdown",
      "source": [
        "This will generate a scatter plot showing a noisy linear relationship between x and y.\n",
        "\n"
      ],
      "metadata": {
        "id": "ZEDTlOAwlne8"
      }
    },
    {
      "cell_type": "markdown",
      "source": [
        "## **2. Generate a dataset of random numbers. Visualize the distribution of a numerical variable.**\n",
        "\n",
        "To generate a dataset of random numbers and visualize the distribution of a numerical variable, you can use a histogram. Below is an example using a normal distribution:\n",
        "\n",
        "## **Code Example:**"
      ],
      "metadata": {
        "id": "SWvj-L5sloMK"
      }
    },
    {
      "cell_type": "code",
      "source": [
        "import numpy as np\n",
        "import matplotlib.pyplot as plt\n",
        "\n",
        "# Generate dataset: 1000 random numbers from a normal distribution\n",
        "data = np.random.randn(1000)  # mean = 0, std = 1\n",
        "\n",
        "# Create histogram\n",
        "plt.hist(data, bins=30, color='cornflowerblue', edgecolor='black', alpha=0.8)\n",
        "\n",
        "# Add titles and labels\n",
        "plt.title('Distribution of Randomly Generated Data')\n",
        "plt.xlabel('Value')\n",
        "plt.ylabel('Frequency')\n",
        "\n",
        "# Show grid\n",
        "plt.grid(True, linestyle='--', alpha=0.5)\n",
        "\n",
        "# Show plot\n",
        "plt.show()\n"
      ],
      "metadata": {
        "id": "x9141i7Xly_M"
      },
      "execution_count": null,
      "outputs": []
    },
    {
      "cell_type": "markdown",
      "source": [
        "This histogram shows how frequently each value (or range of values) occurs in the dataset, revealing the distribution shape—usually bell-shaped for normal data."
      ],
      "metadata": {
        "id": "Gxk2VcwOl3N0"
      }
    },
    {
      "cell_type": "markdown",
      "source": [
        "## **3. Create a dataset representing categories and their corresponding values. Compare different categories based on numerical values.**\n",
        "\n",
        "\n",
        "To compare different categories based on numerical values, you can create a simple dataset and visualize it using a bar chart. Here's an example:\n",
        "\n",
        "\n",
        "## **Code Example:**"
      ],
      "metadata": {
        "id": "moXWHPAXl4Cc"
      }
    },
    {
      "cell_type": "code",
      "source": [
        "import matplotlib.pyplot as plt\n",
        "\n",
        "# Create dataset\n",
        "categories = ['Category A', 'Category B', 'Category C', 'Category D']\n",
        "values = [45, 30, 60, 25]\n",
        "\n",
        "# Create bar chart\n",
        "plt.bar(categories, values, color='mediumseagreen')\n",
        "\n",
        "# Add titles and labels\n",
        "plt.title('Comparison of Categories by Value')\n",
        "plt.xlabel('Categories')\n",
        "plt.ylabel('Values')\n",
        "\n",
        "# Show grid\n",
        "plt.grid(axis='y', linestyle='--', alpha=0.7)\n",
        "\n",
        "# Show plot\n",
        "plt.show()\n"
      ],
      "metadata": {
        "id": "kRlkEKGgmImb"
      },
      "execution_count": null,
      "outputs": []
    },
    {
      "cell_type": "markdown",
      "source": [
        "This chart clearly compares the magnitude of values across categories."
      ],
      "metadata": {
        "id": "EoynrMRVmLqa"
      }
    },
    {
      "cell_type": "markdown",
      "source": [
        "## **4. Generate a dataset with categories and numerical values. Visualize the distribution of a numerical variable across different categories.**\n",
        "\n",
        "To visualize the distribution of a numerical variable across different categories, a box plot is a great choice—it shows median, quartiles, and potential outliers for each category.\n",
        "\n",
        "## **Code Example:**"
      ],
      "metadata": {
        "id": "lwiSCN0OmMvk"
      }
    },
    {
      "cell_type": "code",
      "source": [
        "import numpy as np\n",
        "import matplotlib.pyplot as plt\n",
        "\n",
        "# Generate dataset\n",
        "np.random.seed(42)\n",
        "categories = ['Group A', 'Group B', 'Group C']\n",
        "data = [\n",
        "    np.random.normal(loc=20, scale=5, size=100),  # Group A\n",
        "    np.random.normal(loc=25, scale=7, size=100),  # Group B\n",
        "    np.random.normal(loc=22, scale=4, size=100)   # Group C\n",
        "]\n",
        "\n",
        "# Create box plot\n",
        "plt.boxplot(data, labels=categories, patch_artist=True,\n",
        "            boxprops=dict(facecolor='lightblue', color='navy'),\n",
        "            medianprops=dict(color='darkred'))\n",
        "\n",
        "# Add titles and labels\n",
        "plt.title('Distribution of Values Across Categories')\n",
        "plt.xlabel('Category')\n",
        "plt.ylabel('Numerical Value')\n",
        "\n",
        "# Show plot\n",
        "plt.grid(True, linestyle='--', alpha=0.6)\n",
        "\n",
        "# Show plot\n",
        "plt.show()\n"
      ],
      "metadata": {
        "id": "UCY_AmCDmaq8"
      },
      "execution_count": null,
      "outputs": []
    },
    {
      "cell_type": "markdown",
      "source": [
        "This box plot helps you compare the spread and central tendency of values for each group."
      ],
      "metadata": {
        "id": "sO_T7YBtmezq"
      }
    },
    {
      "cell_type": "markdown",
      "source": [
        "## **5. Generate a synthetic dataset with correlated features. Visualize the correlation matrix of a dataset using a heatmap.**\n",
        "\n",
        "To visualize the correlation matrix of a dataset using a heatmap, you can generate a synthetic dataset with correlated features using NumPy and Pandas, and then use Seaborn for the heatmap.\n",
        "\n",
        "## **Code Example:**"
      ],
      "metadata": {
        "id": "PQ230Lu-mfob"
      }
    },
    {
      "cell_type": "code",
      "source": [
        "import numpy as np\n",
        "import pandas as pd\n",
        "import seaborn as sns\n",
        "import matplotlib.pyplot as plt\n",
        "\n",
        "# Generate synthetic data\n",
        "np.random.seed(0)\n",
        "size = 100\n",
        "\n",
        "# Create correlated features\n",
        "x1 = np.random.normal(0, 1, size)\n",
        "x2 = 2 * x1 + np.random.normal(0, 0.5, size)  # Strongly correlated with x1\n",
        "x3 = np.random.normal(0, 1, size)             # Not strongly correlated\n",
        "x4 = x1 - x3 + np.random.normal(0, 0.3, size) # Moderate correlation\n",
        "\n",
        "# Create DataFrame\n",
        "df = pd.DataFrame({\n",
        "    'Feature 1': x1,\n",
        "    'Feature 2': x2,\n",
        "    'Feature 3': x3,\n",
        "    'Feature 4': x4\n",
        "})\n",
        "\n",
        "# Compute correlation matrix\n",
        "corr_matrix = df.corr()\n",
        "\n",
        "# Plot heatmap\n",
        "plt.figure(figsize=(8, 6))\n",
        "sns.heatmap(corr_matrix, annot=True, cmap='coolwarm', vmin=-1, vmax=1, linewidths=0.5)\n",
        "plt.title('Correlation Matrix Heatmap')\n",
        "plt.tight_layout()\n",
        "plt.show()\n"
      ],
      "metadata": {
        "id": "0JMj6KuImuFK"
      },
      "execution_count": null,
      "outputs": []
    },
    {
      "cell_type": "markdown",
      "source": [
        "This heatmap visually shows how strongly each feature is correlated with the others using color intensity and correlation values."
      ],
      "metadata": {
        "id": "nK3dxa2om1bF"
      }
    },
    {
      "cell_type": "markdown",
      "source": [
        "## **PLOTLY ASSIGNMENT:**\n",
        "**(Use Plotly for the visualization of the given questions)**\n",
        "\n"
      ],
      "metadata": {
        "id": "Q6HcmNP1m3kz"
      }
    },
    {
      "cell_type": "markdown",
      "source": [
        "## **1.Using the given dataset, to generate a 3D scatter plot to visualize the distribution of data points in a threedimensional space.**\n",
        "\n",
        "np.random.seed(30)\n",
        "data = {\n",
        "    'X': np.random.uniform(-10, 10, 300),\n",
        "    'Y': np.random.uniform(-10, 10, 300),\n",
        "    'Z': np.random.uniform(-10, 10, 300)\n",
        "}\n",
        "df = pd.DataFrame(data)"
      ],
      "metadata": {
        "id": "5G623ldynOmD"
      }
    },
    {
      "cell_type": "markdown",
      "source": [
        "To generate a 3D scatter plot from the provided dataset, you can use matplotlib's Axes3D module. Here's how to do it:\n",
        "\n",
        "## **Code Example:**"
      ],
      "metadata": {
        "id": "UevllJwLnexC"
      }
    },
    {
      "cell_type": "code",
      "source": [
        "import numpy as np\n",
        "import pandas as pd\n",
        "import matplotlib.pyplot as plt\n",
        "from mpl_toolkits.mplot3d import Axes3D\n",
        "\n",
        "# Seed and generate data\n",
        "np.random.seed(30)\n",
        "data = {\n",
        "    'X': np.random.uniform(-10, 10, 300),\n",
        "    'Y': np.random.uniform(-10, 10, 300),\n",
        "    'Z': np.random.uniform(-10, 10, 300)\n",
        "}\n",
        "df = pd.DataFrame(data)\n",
        "\n",
        "# Create 3D scatter plot\n",
        "fig = plt.figure(figsize=(8, 6))\n",
        "ax = fig.add_subplot(111, projection='3d')\n",
        "\n",
        "# Plot points\n",
        "ax.scatter(df['X'], df['Y'], df['Z'], c='dodgerblue', marker='o', alpha=0.6)\n",
        "\n",
        "# Labels and title\n",
        "ax.set_title('3D Scatter Plot of Random Data')\n",
        "ax.set_xlabel('X Axis')\n",
        "ax.set_ylabel('Y Axis')\n",
        "ax.set_zlabel('Z Axis')\n",
        "\n",
        "# Show plot\n",
        "plt.tight_layout()\n",
        "plt.show()\n"
      ],
      "metadata": {
        "id": "Nolji7wTnj9C"
      },
      "execution_count": null,
      "outputs": []
    },
    {
      "cell_type": "markdown",
      "source": [
        "This will give you a 3D view of how the data points are distributed in space."
      ],
      "metadata": {
        "id": "eqjQDXq2nonP"
      }
    },
    {
      "cell_type": "markdown",
      "source": [
        "## **2. Using the Student Grades, create a violin plot to display the distribution of scores across different grade categories.**\n",
        "\n",
        "np.random.seed(15)\n",
        "\n",
        "data = {\n",
        "\n",
        "    'Grade': np.random.choice(['A', 'B', 'C', 'D', 'F'], 200),\n",
        "    'Score': np.random.randint(50, 100, 200)\n",
        "}\n",
        "\n",
        "\n",
        "df = pd.DataFrame(data\n",
        " Using the sales data, generate a heatmap to visualize the variation in sales across\n",
        "\n",
        "different months and days.\n",
        "\n",
        "\n",
        "np.random.seed(20)\n",
        "\n",
        "data = {\n",
        "    'Month': np.random.choice(['Jan', 'Feb', 'Mar', 'Apr', 'May'], 100),\n",
        "    'Day': np.random.choice(range(1, 31), 100),\n",
        "    'Sales': np.random.randint(1000, 5000, 100)\n",
        "\n",
        "}\n",
        "\n",
        "df = pd.DataFrame(data)\n",
        "\n",
        "### **1. Violin Plot for Student Grades Distribution**\n",
        "A violin plot combines a box plot and a KDE (Kernel Density Estimate), showing the distribution shape of the data for each category.\n",
        "\n",
        "\n"
      ],
      "metadata": {
        "id": "FiNoiImanpUr"
      }
    },
    {
      "cell_type": "code",
      "source": [
        "import numpy as np\n",
        "import pandas as pd\n",
        "import seaborn as sns\n",
        "import matplotlib.pyplot as plt\n",
        "\n",
        "# Student grades data\n",
        "np.random.seed(15)\n",
        "data_grades = {\n",
        "    'Grade': np.random.choice(['A', 'B', 'C', 'D', 'F'], 200),\n",
        "    'Score': np.random.randint(50, 100, 200)\n",
        "}\n",
        "df_grades = pd.DataFrame(data_grades)\n",
        "\n",
        "# Violin plot\n",
        "plt.figure(figsize=(8, 6))\n",
        "sns.violinplot(x='Grade', y='Score', data=df_grades, palette='Set2')\n",
        "\n",
        "# Add titles and labels\n",
        "plt.title('Distribution of Student Scores by Grade')\n",
        "plt.xlabel('Grade')\n",
        "plt.ylabel('Score')\n",
        "plt.grid(True, linestyle='--', alpha=0.5)\n",
        "plt.show()\n"
      ],
      "metadata": {
        "id": "J9IeKyXCwMwT"
      },
      "execution_count": null,
      "outputs": []
    },
    {
      "cell_type": "markdown",
      "source": [
        "## **2. Heatmap for Sales Variation Across Months and Days** **To plot a heatmap, we’ll first pivot the data into a matrix of days vs months, then visualize using seaborn heatmap.**\n",
        "\n"
      ],
      "metadata": {
        "id": "WVMFi7kCxBzI"
      }
    },
    {
      "cell_type": "code",
      "source": [
        "# Sales data\n",
        "np.random.seed(20)\n",
        "data_sales = {\n",
        "    'Month': np.random.choice(['Jan', 'Feb', 'Mar', 'Apr', 'May'], 100),\n",
        "    'Day': np.random.choice(range(1, 31), 100),\n",
        "    'Sales': np.random.randint(1000, 5000, 100)\n",
        "}\n",
        "df_sales = pd.DataFrame(data_sales)\n",
        "\n",
        "# Pivot table for heatmap\n",
        "heatmap_data = df_sales.pivot_table(index='Day', columns='Month', values='Sales', aggfunc='mean')\n",
        "\n",
        "# Heatmap\n",
        "plt.figure(figsize=(10, 8))\n",
        "sns.heatmap(heatmap_data, annot=True, fmt=\".0f\", cmap='YlGnBu', linewidths=0.5)\n",
        "\n",
        "# Add titles and labels\n",
        "plt.title('Average Sales per Day Across Months')\n",
        "plt.xlabel('Month')\n",
        "plt.ylabel('Day')\n",
        "plt.tight_layout()\n",
        "plt.show()\n"
      ],
      "metadata": {
        "id": "GOxv60JDxeKJ"
      },
      "execution_count": null,
      "outputs": []
    },
    {
      "cell_type": "markdown",
      "source": [
        "### **These plots help visualize:**\n",
        "\n",
        "Violin Plot: Score spread and density per grade.\n",
        "\n",
        "Heatmap: How sales fluctuate by day and month."
      ],
      "metadata": {
        "id": "CbkBGOfnxjQy"
      }
    },
    {
      "cell_type": "markdown",
      "source": [
        "## **3. Using the sales data, generate a heatmap to visualize the variation in sales across different months and days.**\n",
        "\n",
        "To generate a heatmap that shows the variation in sales across different months and days, we’ll follow these steps:\n",
        "\n",
        "1.Create a pivot table of sales values by Day and Month.\n",
        "\n",
        "2.Plot it using Seaborn's heatmap.\n",
        "\n",
        "Here's the complete code:\n",
        "\n",
        "##  **Code Example:**\n",
        "\n",
        "\n"
      ],
      "metadata": {
        "id": "-HONtFrZxl9Q"
      }
    },
    {
      "cell_type": "code",
      "source": [
        "import numpy as np\n",
        "import pandas as pd\n",
        "import seaborn as sns\n",
        "import matplotlib.pyplot as plt\n",
        "\n",
        "# Generate sales data\n",
        "np.random.seed(20)\n",
        "data = {\n",
        "    'Month': np.random.choice(['Jan', 'Feb', 'Mar', 'Apr', 'May'], 100),\n",
        "    'Day': np.random.choice(range(1, 31), 100),\n",
        "    'Sales': np.random.randint(1000, 5000, 100)\n",
        "}\n",
        "df = pd.DataFrame(data)\n",
        "\n",
        "# Create pivot table (average sales per day per month)\n",
        "sales_pivot = df.pivot_table(index='Day', columns='Month', values='Sales', aggfunc='mean')\n",
        "\n",
        "# Create heatmap\n",
        "plt.figure(figsize=(10, 8))\n",
        "sns.heatmap(sales_pivot, annot=True, fmt='.0f', cmap='coolwarm', linewidths=0.5, linecolor='gray')\n",
        "\n",
        "# Add titles and labels\n",
        "plt.title('Sales Variation Heatmap (by Day and Month)')\n",
        "plt.xlabel('Month')\n",
        "plt.ylabel('Day')\n",
        "\n",
        "# Show plot\n",
        "plt.tight_layout()\n",
        "plt.show()\n"
      ],
      "metadata": {
        "id": "ly1949Akyxqg"
      },
      "execution_count": null,
      "outputs": []
    },
    {
      "cell_type": "markdown",
      "source": [
        "## **What This Shows:**\n",
        "Higher sales values appear in warmer colors (reds), and lower values in cooler colors (blues).\n",
        "\n",
        "You can easily spot which days and months tend to have better performance."
      ],
      "metadata": {
        "id": "JXsxnKody2mo"
      }
    },
    {
      "cell_type": "markdown",
      "source": [
        "## **4. Using the given x and y data, generate a 3D surface plot to visualize the function**\n",
        "\n",
        "x = np.linspace(-5, 5, 100)\n",
        "\n",
        "y = np.linspace(-5, 5, 100)\n",
        "\n",
        "x, y = np.meshgrid(x, y)\n",
        "\n",
        "z = np.sin(np.sqrt(x**2 + y**2))\n",
        "\n",
        "data = {\n",
        "    \n",
        "    'X': x.flatten(),\n",
        "    'Y': y.flatten(),\n",
        "    'Z': z.flatten()\n",
        "}\n",
        "df = pd.DataFrame(data)"
      ],
      "metadata": {
        "id": "CAcovJ6y3Ma3"
      }
    },
    {
      "cell_type": "markdown",
      "source": [
        "To generate a 3D surface plot from the provided x, y, and z data representing the function\n",
        "\n",
        "we'll use Matplotlib's plot_surface from the Axes3D toolkit.\n",
        "\n",
        "## **Corrected & Complete Code:**"
      ],
      "metadata": {
        "id": "c_ZihVdwql_3"
      }
    },
    {
      "cell_type": "code",
      "source": [
        "import numpy as np\n",
        "import pandas as pd\n",
        "import matplotlib.pyplot as plt\n",
        "from mpl_toolkits.mplot3d import Axes3D\n",
        "\n",
        "# Generate meshgrid\n",
        "x = np.linspace(-5, 5, 100)\n",
        "y = np.linspace(-5, 5, 100)\n",
        "x, y = np.meshgrid(x, y)\n",
        "\n",
        "# Compute z values\n",
        "z = np.sin(np.sqrt(x**2 + y**2))\n",
        "\n",
        "# Create DataFrame (optional, for data inspection or other use)\n",
        "data = {\n",
        "    'X': x.flatten(),\n",
        "    'Y': y.flatten(),\n",
        "    'Z': z.flatten()\n",
        "}\n",
        "df = pd.DataFrame(data)\n",
        "\n",
        "# Create 3D surface plot\n",
        "fig = plt.figure(figsize=(10, 7))\n",
        "ax = fig.add_subplot(111, projection='3d')\n",
        "\n",
        "# Plot surface\n",
        "surf = ax.plot_surface(x, y, z, cmap='viridis', edgecolor='none')\n",
        "\n",
        "# Add labels and title\n",
        "ax.set_title('3D Surface Plot of z = sin(sqrt(x² + y²))')\n",
        "ax.set_xlabel('X axis')\n",
        "ax.set_ylabel('Y axis')\n",
        "ax.set_zlabel('Z axis')\n",
        "\n",
        "# Add color bar\n",
        "fig.colorbar(surf, ax=ax, shrink=0.5, aspect=10)\n",
        "\n",
        "# Show plot\n",
        "plt.tight_layout()\n",
        "plt.show()\n"
      ],
      "metadata": {
        "id": "zFQlwCr2q0qJ"
      },
      "execution_count": null,
      "outputs": []
    },
    {
      "cell_type": "markdown",
      "source": [
        "## **What You See:**\n",
        "\n",
        "This plot displays a smooth, radial wave pattern—great for visualizing radially symmetric functions."
      ],
      "metadata": {
        "id": "j34pFGJnq-zo"
      }
    },
    {
      "cell_type": "markdown",
      "source": [
        "## **5. Using the given dataset, create a bubble chart to represent each country's population (y-axis), GDP (xaxis), and bubble size proportional to the population.**\n",
        "\n",
        "np.random.seed(25)\n",
        "\n",
        "data = {\n",
        "    \n",
        "    'Country': ['USA', 'Canada', 'UK',\n",
        "'Germany', 'France'],\n",
        "    \n",
        "    'Population':\n",
        "np\n",
        ".random.randint(100, 1000, 5),\n",
        "    \n",
        "    'GDP': np.random.randint(500, 2000,\n",
        "5)\n",
        "\n",
        "}\n",
        "\n",
        "df = pd.DataFrame(data)\n",
        "\n",
        "\n",
        "Here's how you can create a **bubble chart** in **Google Colab** using your provided dataset, with:\n",
        "\n",
        "**X-axis** = GDP\n",
        "\n",
        "**Y-axis** = Population\n",
        "\n",
        "**Bubble size** = Population (scaled for visibility)\n",
        "\n",
        "**Label** = Country names\n",
        "\n",
        "## **Full Code (Ready for Colab):**\n",
        "\n"
      ],
      "metadata": {
        "id": "SKoGO3nzrB0H"
      }
    },
    {
      "cell_type": "code",
      "source": [
        "import numpy as np\n",
        "import pandas as pd\n",
        "import matplotlib.pyplot as plt\n",
        "\n",
        "# Set random seed and generate data\n",
        "np.random.seed(25)\n",
        "data = {\n",
        "    'Country': ['USA', 'Canada', 'UK', 'Germany', 'France'],\n",
        "    'Population': np.random.randint(100, 1000, 5),\n",
        "    'GDP': np.random.randint(500, 2000, 5)\n",
        "}\n",
        "df = pd.DataFrame(data)\n",
        "\n",
        "# Bubble chart\n",
        "plt.figure(figsize=(10, 6))\n",
        "plt.scatter(df['GDP'], df['Population'],\n",
        "            s=df['Population'] * 2,  # Scale bubble size\n",
        "            alpha=0.6,\n",
        "            c='orange',\n",
        "            edgecolors='black',\n",
        "            linewidth=1)\n",
        "\n",
        "# Add country labels above bubbles\n",
        "for i in range(len(df)):\n",
        "    plt.text(df['GDP'][i], df['Population'][i] + 20, df['Country'][i],\n",
        "             ha='center', fontsize=9)\n",
        "\n",
        "# Labels and title\n",
        "plt.title('Bubble Chart: Population vs GDP by Country')\n",
        "plt.xlabel('GDP (Billion USD)')\n",
        "plt.ylabel('Population (Millions)')\n",
        "plt.grid(True, linestyle='--', alpha=0.5)\n",
        "plt.tight_layout()\n",
        "plt.show()\n"
      ],
      "metadata": {
        "id": "ZfEYQMCcrxAr"
      },
      "execution_count": null,
      "outputs": []
    },
    {
      "cell_type": "markdown",
      "source": [
        "## **Notes:**\n",
        "You can run this directly in Colab.\n",
        "\n",
        "Adjust the multiplier in s=df['Population'] * 2 to make bubbles larger or smaller.\n",
        "\n",
        "Add colors or tooltips for more interactivity if using Plotly."
      ],
      "metadata": {
        "id": "DL9ScBD7r1kh"
      }
    },
    {
      "cell_type": "markdown",
      "source": [
        "# **BOKEH ASSIGNMENT:**\n",
        "\n",
        "### **(Use Bokeh for the visualization of the given questions)**"
      ],
      "metadata": {
        "id": "etKs5EMfr9JI"
      }
    },
    {
      "cell_type": "markdown",
      "source": [
        "## **1.Create a Bokeh plot displaying a sine wave. Set x-values from 0 to 10 and y-values as the sine of x.**\n",
        "\n",
        "To create a Bokeh plot that displays a sine wave with x from 0 to 10, and y = sin(x), follow this code example. This is ideal for use in a Jupyter Notebook or Google Colab (with output_notebook()).\n",
        "\n",
        "## **Full Code (Bokeh Sine Wave Plot):**\n",
        "\n"
      ],
      "metadata": {
        "id": "0eeBTh4IsA6Q"
      }
    },
    {
      "cell_type": "code",
      "source": [
        "import numpy as np\n",
        "from bokeh.plotting import figure, show, output_notebook\n",
        "\n",
        "# Prepare Bokeh for notebook output\n",
        "output_notebook()\n",
        "\n",
        "# Generate data\n",
        "x = np.linspace(0, 10, 500)\n",
        "y = np.sin(x)\n",
        "\n",
        "# Create Bokeh figure\n",
        "p = figure(title=\"Sine Wave\",\n",
        "           x_axis_label='x',\n",
        "           y_axis_label='sin(x)',\n",
        "           width=700,\n",
        "           height=400)\n",
        "\n",
        "# Add line to the plot\n",
        "p.line(x, y, legend_label='sin(x)', line_width=2, line_color='navy')\n",
        "\n",
        "# Show plot\n",
        "show(p)\n"
      ],
      "metadata": {
        "id": "PstpCXmosVd1"
      },
      "execution_count": null,
      "outputs": []
    },
    {
      "cell_type": "markdown",
      "source": [
        "## **Requirements:**\n",
        "Make sure you have Bokeh installed in your environment. You can install it with:\n",
        "\n"
      ],
      "metadata": {
        "id": "F0CQew74sc0B"
      }
    },
    {
      "cell_type": "code",
      "source": [
        "pip install bokeh\n"
      ],
      "metadata": {
        "id": "UFN3QqlFsgYR"
      },
      "execution_count": null,
      "outputs": []
    },
    {
      "cell_type": "markdown",
      "source": [
        "## **2.Create a Bokeh scatter plot using randomly generated x and y values. Use different sizes and colors for the markers based on the 'sizes' and 'colors' columns.**\n",
        "\n",
        "You can create a Bokeh scatter plot using randomly generated values and customize marker sizes and colors using the 'sizes' and 'colors' columns in a ColumnDataSource.\n",
        "\n",
        "## **Full Bokeh Scatter Plot Code:**\n"
      ],
      "metadata": {
        "id": "6G-Sw1wXsm-Q"
      }
    },
    {
      "cell_type": "code",
      "source": [
        "import numpy as np\n",
        "import pandas as pd\n",
        "from bokeh.plotting import figure, show, output_notebook\n",
        "from bokeh.models import ColumnDataSource\n",
        "from bokeh.palettes import Category10\n",
        "\n",
        "# Prepare Bokeh for notebook output\n",
        "output_notebook()\n",
        "\n",
        "# Generate random data\n",
        "np.random.seed(42)\n",
        "data = {\n",
        "    'x': np.random.rand(100) * 10,\n",
        "    'y': np.random.rand(100) * 10,\n",
        "    'sizes': np.random.randint(5, 25, 100),\n",
        "    'colors': np.random.choice(Category10[10], 100)\n",
        "}\n",
        "df = pd.DataFrame(data)\n",
        "\n",
        "# Convert to Bokeh data source\n",
        "source = ColumnDataSource(df)\n",
        "\n",
        "# Create Bokeh figure\n",
        "p = figure(title=\"Random Scatter Plot with Variable Sizes and Colors\",\n",
        "           x_axis_label='x', y_axis_label='y',\n",
        "           width=700, height=400)\n",
        "\n",
        "# Add scatter plot\n",
        "p.scatter(x='x', y='y', size='sizes', color='colors', alpha=0.6, source=source)\n",
        "\n",
        "# Show plot\n",
        "show(p)\n"
      ],
      "metadata": {
        "id": "rTszKBQ0s3VI"
      },
      "execution_count": null,
      "outputs": []
    },
    {
      "cell_type": "markdown",
      "source": [
        "## **Features:**\n",
        "Sizes vary for visual emphasis.\n",
        "\n",
        "Colors are randomly assigned using Category10 palette.\n",
        "\n",
        "Easily extendable with tooltips or selection tools."
      ],
      "metadata": {
        "id": "3xBdn7T7s8gJ"
      }
    },
    {
      "cell_type": "markdown",
      "source": [
        "## **3. Generate a Bokeh bar chart representing the counts of different fruits using the following dataset.**\n",
        "\n",
        "fruits = ['Apples', 'Oranges', 'Bananas', 'Pears']\n",
        "\n",
        "counts = [20, 25, 30, 35]\n",
        "\n",
        "To generate a Bokeh bar chart showing the counts of different fruits, you can follow the example below using vbar (vertical bar) plotting.\n",
        "\n",
        "## **Full Bokeh Bar Chart Code:**"
      ],
      "metadata": {
        "id": "N9s2cHS2s-zA"
      }
    },
    {
      "cell_type": "code",
      "source": [
        "from bokeh.plotting import figure, show, output_notebook\n",
        "from bokeh.models import ColumnDataSource\n",
        "from bokeh.transform import dodge\n",
        "from bokeh.palettes import Category10\n",
        "\n",
        "# Prepare for notebook output\n",
        "output_notebook()\n",
        "\n",
        "# Data\n",
        "fruits = ['Apples', 'Oranges', 'Bananas', 'Pears']\n",
        "counts = [20, 25, 30, 35]\n",
        "source = ColumnDataSource(data=dict(fruits=fruits, counts=counts))\n",
        "\n",
        "# Create figure\n",
        "p = figure(x_range=fruits, height=400, title=\"Fruit Counts\",\n",
        "           toolbar_location=None, tools=\"\")\n",
        "\n",
        "# Add bars p.vbar(x='fruits', top='counts', width=0.5, color=Category10[4], source=source)\n",
        "\n",
        "# Customize plot\n",
        "p.xgrid.grid_line_color = None\n",
        "p.y_range.start = 0\n",
        "p.yaxis.axis_label = \"Count\"\n",
        "p.xaxis.axis_label = \"Fruit\"\n",
        "\n",
        "# Show plot\n",
        "show(p)\n"
      ],
      "metadata": {
        "id": "zPoYGSrEtugW"
      },
      "execution_count": null,
      "outputs": []
    },
    {
      "cell_type": "markdown",
      "source": [
        "## **What You Get:**\n",
        "A clean bar chart with one bar per fruit.\n",
        "\n",
        "Color-coded bars using the Category10 palette.\n",
        "\n",
        "Suitable for dashboards or reports."
      ],
      "metadata": {
        "id": "lnfJOPyWth6A"
      }
    },
    {
      "cell_type": "markdown",
      "source": [
        "## **4. Create a Bokeh histogram to visualize the distribution of the given data.**\n",
        "\n",
        "data_hist = np.random.randn(1000)\n",
        "\n",
        "hist, edges = np.histogram(data_hist, bins=30)\n",
        "\n",
        "\n",
        "To create a Bokeh histogram from the given normally-distributed data (data_hist), you’ll use the quad glyph to draw bars using the histogram bins and edges.\n",
        "\n",
        "## **Full Bokeh Histogram Code:**\n",
        "\n",
        "\n"
      ],
      "metadata": {
        "id": "2wonzjZttxw3"
      }
    },
    {
      "cell_type": "code",
      "source": [
        "import numpy as np\n",
        "from bokeh.plotting import figure, show, output_notebook\n",
        "from bokeh.models import ColumnDataSource\n",
        "\n",
        "# Output in notebook\n",
        "output_notebook()\n",
        "\n",
        "# Generate data\n",
        "data_hist = np.random.randn(1000)\n",
        "\n",
        "# Compute histogram\n",
        "hist, edges = np.histogram(data_hist, bins=30)\n",
        "\n",
        "# Create figure\n",
        "p = figure(title=\"Histogram of Normally Distributed Data\",\n",
        "           x_axis_label='Value',\n",
        "           y_axis_label='Frequency',\n",
        "           width=700, height=400)\n",
        "\n",
        "# Add histogram bars using quad\n",
        "p.quad(top=hist, bottom=0, left=edges[:-1], right=edges[1:],\n",
        "       fill_color=\"skyblue\", line_color=\"white\", alpha=0.7)\n",
        "\n",
        "# Show plot\n",
        "show(p)\n"
      ],
      "metadata": {
        "id": "nhkOvUPhuQ7A"
      },
      "execution_count": null,
      "outputs": []
    },
    {
      "cell_type": "markdown",
      "source": [
        "## **Explanation:**\n",
        "edges define the bin boundaries.\n",
        "\n",
        "quad creates vertical bars for each bin.\n",
        "\n",
        "The result is a smooth, interactive histogram."
      ],
      "metadata": {
        "id": "K6c9_jufuciY"
      }
    },
    {
      "cell_type": "markdown",
      "source": [
        "## **5. Create a Bokeh heatmap using the provided dataset.**\n",
        "\n",
        "data_heatmap = np.random.rand(10, 10)\n",
        "\n",
        "x = np.linspace(0, 1, 10)\n",
        "\n",
        "y = np.linspace(0, 1, 10)\n",
        "\n",
        "xx, yy = np.meshgrid(x, y)\n",
        "\n",
        "To create a **Bokeh heatmap** using the **data_heatmap** array, we'll:\n",
        "\n",
        "1.Flatten the xx, yy, and data_heatmap arrays.\n",
        "\n",
        "2.Use rect glyphs to draw colored squares based on the values in data_heatmap.\n",
        "\n",
        "## **Full Bokeh Heatmap Code:**\n",
        "\n",
        "\n",
        "\n"
      ],
      "metadata": {
        "id": "N7iYK0vxueRR"
      }
    },
    {
      "cell_type": "code",
      "source": [
        "import numpy as np\n",
        "import pandas as pd\n",
        "from bokeh.plotting import figure, show, output_notebook\n",
        "from bokeh.models import ColumnDataSource, LinearColorMapper, ColorBar\n",
        "from bokeh.transform import transform\n",
        "from bokeh.palettes import Viridis256\n",
        "\n",
        "# Output in notebook\n",
        "output_notebook()\n",
        "\n",
        "# Generate data\n",
        "data_heatmap = np.random.rand(10, 10)\n",
        "x = np.linspace(0, 1, 10)\n",
        "y = np.linspace(0, 1, 10)\n",
        "xx, yy = np.meshgrid(x, y)\n",
        "\n",
        "# Flatten arrays and prepare DataFrame\n",
        "df = pd.DataFrame({\n",
        "    'x': xx.flatten(),\n",
        "    'y': yy.flatten(),\n",
        "    'value': data_heatmap.flatten()\n",
        "})\n",
        "source = ColumnDataSource(df)\n",
        "\n",
        "# Create color mapper\n",
        "mapper = LinearColorMapper(palette=Viridis256, low=df['value'].min(), high=df['value'].max())\n",
        "\n",
        "# Create figure\n",
        "p = figure(title=\"Heatmap of Random Values\",\n",
        "           x_axis_label='X', y_axis_label='Y',\n",
        "           tools='', width=500, height=500)\n",
        "\n",
        "# Draw rectangles\n",
        "p.rect(x=\"x\", y=\"y\", width=0.1, height=0.1,\n",
        "       source=source,\n",
        "       fill_color=transform('value', mapper),\n",
        "       line_color=None)\n",
        "\n",
        "# Add color bar\n",
        "color_bar = ColorBar(color_mapper=mapper, label_standoff=12, location=(0,0))\n",
        "p.add_layout(color_bar, 'right')\n",
        "\n",
        "# Show plot\n",
        "show(p)\n"
      ],
      "metadata": {
        "id": "8DjUzX02u-8o"
      },
      "execution_count": null,
      "outputs": []
    },
    {
      "cell_type": "markdown",
      "source": [
        "## **What You See:**\n",
        "\n",
        "Each square represents a cell from data_heatmap.\n",
        "\n",
        "Color intensity maps to the cell's value.\n",
        "\n",
        "Useful for visualizing 2D scalar fields."
      ],
      "metadata": {
        "id": "UfZ8G1n2vDwQ"
      }
    },
    {
      "cell_type": "markdown",
      "source": [],
      "metadata": {
        "id": "DayZWBCEvGvZ"
      }
    }
  ]
}