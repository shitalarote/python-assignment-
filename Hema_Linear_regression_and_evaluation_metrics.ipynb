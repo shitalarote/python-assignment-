{
  "nbformat": 4,
  "nbformat_minor": 0,
  "metadata": {
    "colab": {
      "provenance": [],
      "include_colab_link": true
    },
    "kernelspec": {
      "name": "python3",
      "display_name": "Python 3"
    },
    "language_info": {
      "name": "python"
    }
  },
  "cells": [
    {
      "cell_type": "markdown",
      "metadata": {
        "id": "view-in-github",
        "colab_type": "text"
      },
      "source": [
        "<a href=\"https://colab.research.google.com/github/shitalarote/python-assignment-/blob/main/Hema_Linear_regression_and_evaluation_metrics.ipynb\" target=\"_parent\"><img src=\"https://colab.research.google.com/assets/colab-badge.svg\" alt=\"Open In Colab\"/></a>"
      ]
    },
    {
      "cell_type": "markdown",
      "source": [
        "# Theoretical"
      ],
      "metadata": {
        "id": "B5cDgog56QTG"
      }
    },
    {
      "cell_type": "markdown",
      "source": [
        "Q1. What does R-squared represent in a regression model?\n",
        "\n",
        "ANS-> R-squared (R²) is a statistical measure that indicates the goodness of fit of a regression model. It represents the proportion of the variance in the dependent variable (target variable) that is explained by the independent variables (predictor variables) in the model.\n",
        "\n",
        "In other words, R-squared measures how well the model explains the data. A high R-squared value indicates that the model is a good fit for the data, while a low R-squared value indicates that the model is not a good fit.\n",
        "\n",
        "Here are some key aspects of R-squared:\n",
        "\n",
        "1. Proportion of explained variance: R-squared ranges from 0 to 1, where:\n",
        "    - 0: The model explains none of the variance.\n",
        "    - 1: The model explains all of the variance.\n",
        "2. Goodness of fit: Higher R-squared values indicate better fit.\n",
        "3. Model performance: R-squared evaluates model performance, not model accuracy.\n",
        "4. Variance explanation: R-squared measures the proportion of variance explained, not the absolute amount.\n",
        "\n",
        "Interpretation of R-squared values:\n",
        "\n",
        "- 0.9-1.0: Excellent fit (90-100% of variance explained)\n",
        "- 0.7-0.89: Good fit (70-89% of variance explained)\n",
        "- 0.5-0.69: Fair fit (50-69% of variance explained)\n",
        "- 0.3-0.49: Poor fit (30-49% of variance explained)\n",
        "- 0.0-0.29: Very poor fit (0-29% of variance explained)\n",
        "\n",
        "Limitations of R-squared:\n",
        "\n",
        "1. Overfitting: High R-squared doesn't guarantee good predictions.\n",
        "2. Underfitting: Low R-squared doesn't necessarily mean poor predictions.\n",
        "3. Model complexity: R-squared increases with model complexity.\n",
        "\n",
        "To complement R-squared, consider additional metrics:\n",
        "\n",
        "1. Mean Squared Error (MSE)\n",
        "2. Mean Absolute Error (MAE)\n",
        "3. Root Mean Squared Percentage Error (RMSPE)\n",
        "4. Akaike Information Criterion (AIC)\n",
        "5. Bayesian Information Criterion (BIC)"
      ],
      "metadata": {
        "id": "sfJvf2156RkO"
      }
    },
    {
      "cell_type": "markdown",
      "source": [
        "Q2. What are the assumptions of linear regression?\n",
        "\n",
        "ANS-> Linear regression assumes:\n",
        "\n",
        "1. Linearity: Relationship between independent variables (X) and dependent variable (y) is linear.\n",
        "2. Independence: Observations are independent and identically distributed (i.i.d.).\n",
        "3. Homoscedasticity: Constant variance of residuals across all levels of X.\n",
        "4. Normality: Residuals follow a normal distribution.\n",
        "5. No Multicollinearity: Independent variables are not highly correlated.\n",
        "6. No Autocorrelation: Residuals are not correlated.\n",
        "7. Constant Variance: Variance of residuals is constant across all levels of X.\n",
        "8. Outliers: No influential outliers.\n",
        "9. Model Specification: Correct functional form.\n",
        "10. No Heteroscedasticity: Constant variance across all levels of X.\n",
        "\n",
        "Consequences of violating assumptions:\n",
        "\n",
        "1. Biased coefficients: Multicollinearity, autocorrelation.\n",
        "2. Inaccurate predictions: Non-linearity, heteroscedasticity.\n",
        "3. Incorrect inference: Non-normality, autocorrelation.\n",
        "\n",
        "Diagnosis methods:\n",
        "\n",
        "1. Residual plots: Homoscedasticity, normality.\n",
        "2. Durbin-Watson test: Autocorrelation.\n",
        "3. Variance Inflation Factor (VIF): Multicollinearity.\n",
        "4. Breusch-Pagan test: Heteroscedasticity.\n",
        "5. Shapiro-Wilk test: Normality.\n",
        "\n",
        "Remedies:\n",
        "\n",
        "1. Transformations: Non-linearity.\n",
        "2. Robust regression: Outliers.\n",
        "3. Generalized Linear Models (GLM): Non-normality.\n",
        "4. Weighted Least Squares (WLS): Heteroscedasticity.\n",
        "5. Feature engineering: Multicollinearity.\n",
        "\n",
        "Remember:\n",
        "\n",
        "1. Check assumptions.\n",
        "2. Diagnose violations.\n",
        "3. Apply remedies.\n",
        "4. Validate results.\n",
        "\n",
        "Linear regression assumptions ensure:\n",
        "\n",
        "1. Accurate coefficients.\n",
        "2. Reliable predictions.\n",
        "3. Valid inference."
      ],
      "metadata": {
        "id": "ZF-aNpBk6Q82"
      }
    },
    {
      "cell_type": "markdown",
      "source": [
        "Q3. What is the difference between R-squared and Adjusted R-squared?\n",
        "\n",
        "ANS-> R-squared (R²) and Adjusted R-squared (Adj R²) measure the goodness of fit of a regression model, but they differ in how they account for model complexity.\n",
        "\n",
        "R-squared (R²):\n",
        "\n",
        "1. Measures the proportion of variance explained by the model.\n",
        "2. Increases with added independent variables (IVs), even if insignificant.\n",
        "3. Does not penalize for model complexity.\n",
        "\n",
        "Adjusted R-squared (Adj R²):\n",
        "\n",
        "1. Measures the proportion of variance explained, adjusted for model complexity.\n",
        "2. Penalizes for added IVs, especially if insignificant.\n",
        "3. Provides a more realistic measure of model fit.\n",
        "\n",
        "Key differences:\n",
        "\n",
        "1. Model complexity: Adj R² accounts for the number of IVs.\n",
        "2. Penalization: Adj R² reduces the score for unnecessary IVs.\n",
        "3. Overfitting: Adj R² helps detect overfitting.\n",
        "\n",
        "Adj R² calculation:\n",
        "\n",
        "Adj R² = 1 - (1 - R²) × (n - 1) / (n - k - 1)\n",
        "\n",
        "where:\n",
        "\n",
        "- n = sample size\n",
        "- k = number of IVs\n",
        "- R² = R-squared value\n",
        "\n",
        "Interpretation:\n",
        "\n",
        "- R²: Measures variance explained (0-1).\n",
        "- Adj R²: Measures variance explained, adjusted for complexity (0-1).\n",
        "\n",
        "Example:\n",
        "\n",
        "Model 1: R² = 0.8, Adj R² = 0.78 (simple model)\n",
        "Model 2: R² = 0.85, Adj R² = 0.76 (complex model with insignificant IVs)\n",
        "\n",
        "In this example, Model 1 is preferred despite lower R², as Adj R² indicates better fit considering complexity.\n",
        "\n",
        "When to use:\n",
        "\n",
        "- R²: Initial model evaluation, simple models.\n",
        "- Adj R²: Model comparison, complex models, feature selection.\n",
        "\n",
        "Remember:\n",
        "\n",
        "- R² measures variance explained.\n",
        "- Adj R² measures variance explained, adjusted for complexity."
      ],
      "metadata": {
        "id": "xpLCet7S6UAd"
      }
    },
    {
      "cell_type": "markdown",
      "source": [
        "Q4. Why do we use Mean Squared Error (MSE)?\n",
        "\n",
        "ANS-> Mean Squared Error (MSE) is widely used in regression analysis and machine learning due to its beneficial properties:\n",
        "\n",
        "1. Measures error magnitude: MSE quantifies the average squared difference between predicted and actual values.\n",
        "2. Sensitivity to outliers: MSE penalizes large errors, ensuring models are robust to extreme values.\n",
        "3. Differentiable: MSE is a smooth function, making it easy to optimize using gradient-based methods.\n",
        "4. Interpretability: MSE has units similar to the target variable, facilitating understanding.\n",
        "5. Optimization: Minimizing MSE leads to maximum likelihood estimation (MLE) for Gaussian errors.\n",
        "6. Model comparison: MSE enables comparison across models and datasets.\n",
        "7. Error distribution: MSE assumes errors follow a normal distribution.\n",
        "\n",
        "Properties of MSE:\n",
        "\n",
        "1. Non-negative: MSE ≥ 0, with 0 indicating perfect predictions.\n",
        "2. Convexity: MSE is a convex function, ensuring a single global minimum.\n",
        "3. Symmetry: MSE treats under and overestimation equally.\n",
        "\n",
        "Types of MSE:\n",
        "\n",
        "1. Training MSE: Evaluates model performance on training data.\n",
        "2. Test MSE: Evaluates model performance on unseen test data.\n",
        "3. Cross-validation MSE: Evaluates model performance using k-fold cross-validation.\n",
        "\n",
        "Advantages over other error metrics:\n",
        "\n",
        "1. Mean Absolute Error (MAE): MSE is more sensitive to large errors.\n",
        "2. Mean Absolute Percentage Error (MAPE): MSE handles zero or near-zero target values better.\n",
        "3. Root Mean Squared Percentage Error (RMSPE): MSE is more interpretable.\n",
        "\n",
        "Common applications:\n",
        "\n",
        "1. Regression analysis\n",
        "2. Machine learning model evaluation\n",
        "3. Time series forecasting\n",
        "4. Recommendation systems\n",
        "5. Anomaly detection\n",
        "\n",
        "To complement MSE, consider additional metrics:\n",
        "\n",
        "1. Mean Absolute Error (MAE)\n",
        "2. R-squared (R²)\n",
        "3. Adjusted R-squared (Adj R²)\n",
        "4. Coefficient of Determination (R²)\n",
        "5. Akaike Information Criterion (AIC)\n",
        "6. Bayesian Information Criterion (BIC)\n"
      ],
      "metadata": {
        "id": "KLZQ7YuL-cK4"
      }
    },
    {
      "cell_type": "markdown",
      "source": [
        "Q5. What does an Adjusted R-squared value of 0.85 indicate?\n",
        "\n",
        "ANS-> An Adjusted R-squared (Adj R²) value of 0.85 indicates:\n",
        "\n",
        "1. High goodness of fit: The model explains approximately 85% of the variance in the dependent variable (target variable).\n",
        "2. Strong predictive power: The model is effective in predicting the target variable.\n",
        "3. Minimal overfitting: The penalty for complexity is minimal, suggesting the model is well-regularized.\n",
        "4. Good model specification: The functional form and included independent variables (IVs) are likely appropriate.\n",
        "\n",
        "Interpretation:\n",
        "\n",
        "1. 85% variance explained: The model accounts for 85% of the variability in the target variable.\n",
        "2. 15% unexplained variance: 15% of the variability remains unexplained by the model.\n",
        "\n",
        "Considerations:\n",
        "\n",
        "1. Model complexity: With Adj R², complexity is accounted for, making it suitable for model comparison.\n",
        "2. Sample size: Larger samples tend to produce more accurate Adj R² values.\n",
        "3. Data quality: Ensure data is clean, relevant, and representative.\n",
        "\n",
        "Actionable insights:\n",
        "\n",
        "1. Model refinement: Explore additional IVs or interactions to capture remaining variance.\n",
        "2. Model validation: Verify results using techniques like cross-validation or bootstrapping.\n",
        "3. Prediction: Use the model for predictions, considering the 85% explained variance.\n",
        "\n",
        "Comparison to R-squared:\n",
        "\n",
        "1. R-squared (R²): Measures variance explained (0-1).\n",
        "2. Adjusted R-squared (Adj R²): Measures variance explained, adjusted for complexity (0-1).\n",
        "\n",
        "Example:\n",
        "\n",
        "Model 1: R² = 0.85, Adj R² = 0.82 (simple model)\n",
        "Model 2: R² = 0.90, Adj R² = 0.85 (complex model)\n",
        "\n",
        "In this example, Model 2 has a higher Adj R², indicating better predictive power considering complexity.\n",
        "\n",
        "To further evaluate your model, consider additional metrics:\n",
        "\n",
        "1. Mean Squared Error (MSE)\n",
        "2. Mean Absolute Error (MAE)\n",
        "3. Coefficient of Determination (R²)\n",
        "4. Akaike Information Criterion (AIC)\n",
        "5. Bayesian Information Criterion (BIC)"
      ],
      "metadata": {
        "id": "NbYeB3eW-cUf"
      }
    },
    {
      "cell_type": "markdown",
      "source": [
        "Q6. How do we check for normality of residuals in linear regression?\n",
        "\n",
        "ANS-> To check for normality of residuals in linear regression:\n",
        "\n",
        "Methods\n",
        "\n",
        "1. Histogram: Plot a histogram of residuals to visually inspect normality.\n",
        "2. Q-Q Plot (Quantile-Quantile Plot): Compare residual quantiles to normal distribution quantiles.\n",
        "3. Shapiro-Wilk Test: Statistical test for normality (p-value < 0.05 indicates non-normality).\n",
        "4. Kolmogorov-Smirnov Test: Another statistical test for normality.\n",
        "5. Residual Plots: Plot residuals vs. fitted values or vs. independent variables.\n",
        "\n",
        "Interpretation\n",
        "\n",
        "1. Symmetry: Residuals should be symmetric around zero.\n",
        "2. Bell-shaped: Residuals should resemble a normal distribution.\n",
        "3. Random scatter: Residuals should not show patterns.\n",
        "\n",
        "Statistical Tests\n",
        "\n",
        "1. Shapiro-Wilk Test:\n",
        "    1. p-value < 0.05: Reject null hypothesis (non-normality).\n",
        "    2. p-value ≥ 0.05: Fail to reject null hypothesis (normality).\n",
        "2. Kolmogorov-Smirnov Test:\n",
        "    1. p-value < 0.05: Reject null hypothesis (non-normality).\n",
        "    2. p-value ≥ 0.05: Fail to reject null hypothesis (normality).\n",
        "\n",
        "Remedies for Non-Normality\n",
        "\n",
        "1. Transformation: Transform dependent variable or independent variables.\n",
        "2. Robust Regression: Use robust regression techniques (e.g., least absolute deviation).\n",
        "3. Generalized Linear Models (GLM): Use GLM with non-normal distributions.\n",
        "\n",
        "Tools\n",
        "\n",
        "1. R: shapiro.test(), ks.test(), hist(), qqnorm()\n",
        "2. Python: scipy.stats.shapiro(), scipy.stats.kstest(), matplotlib.pyplot.hist(), matplotlib.pyplot.qqplot()\n",
        "\n",
        "Example (Python)"
      ],
      "metadata": {
        "id": "elrEXtCH-caR"
      }
    },
    {
      "cell_type": "code",
      "source": [
        "import matplotlib.pyplot as plt\n",
        "import scipy.stats as stats\n",
        "import statsmodels.formula.api as smf # Import statsmodels\n",
        "import pandas as pd # Import pandas\n",
        "\n",
        "# Create a sample DataFrame (replace with your actual data)\n",
        "# Example:\n",
        "df = pd.DataFrame({\n",
        "    'dependent_variable': [1, 2, 3, 4, 5],\n",
        "    'independent_variables': [2, 4, 5, 4, 5]\n",
        "})\n",
        "\n",
        "\n",
        "# Assuming 'df' is your DataFrame containing the data\n",
        "# Replace 'dependent_variable' and 'independent_variables' with your actual column names\n",
        "model = smf.ols('dependent_variable ~ independent_variables', data=df).fit() # Define and fit the model\n",
        "\n",
        "\n",
        "# Residuals\n",
        "residuals = model.resid\n",
        "\n",
        "# Histogram\n",
        "plt.hist(residuals, bins=20)\n",
        "plt.title('Residual Histogram')\n",
        "plt.show()\n",
        "\n",
        "# Q-Q Plot\n",
        "stats.probplot(residuals, dist='norm', plot=plt)\n",
        "plt.title('Q-Q Plot')\n",
        "plt.show()\n",
        "\n",
        "# Shapiro-Wilk Test\n",
        "w_stat, p_value = stats.shapiro(residuals)\n",
        "print(f'Shapiro-Wilk Test: W={w_stat}, p-value={p_value}')"
      ],
      "metadata": {
        "colab": {
          "base_uri": "https://localhost:8080/",
          "height": 925
        },
        "id": "dRsy2x_B_AYu",
        "outputId": "f0a6b19f-432a-45e2-96b8-2286a5bbda54"
      },
      "execution_count": null,
      "outputs": [
        {
          "output_type": "display_data",
          "data": {
            "text/plain": [
              "<Figure size 640x480 with 1 Axes>"
            ],
            "image/png": "[encoded data removed]"
          },
          "metadata": {}
        },
        {
          "output_type": "display_data",
          "data": {
            "text/plain": [
              "<Figure size 640x480 with 1 Axes>"
            ],
            "image/png": "[encoded data removed]"
          },
          "metadata": {}
        },
        {
          "output_type": "stream",
          "name": "stdout",
          "text": [
            "Shapiro-Wilk Test: W=0.8208346738129599, p-value=0.11850988613890528\n"
          ]
        }
      ]
    },
    {
      "cell_type": "markdown",
      "source": [
        "Q7. What is multicollinearity, and how does it impact regression?\n",
        "\n",
        "ANS-> Multicollinearity occurs when two or more independent variables (IVs) in a regression model are highly correlated, making it challenging to:\n",
        "\n",
        "1. Interpret coefficients\n",
        "2. Estimate model parameters\n",
        "3. Make predictions\n",
        "\n",
        "Effects of multicollinearity:\n",
        "\n",
        "1. Instability: Small changes in data lead to large changes in coefficients.\n",
        "2. Inflated variance: High variance in coefficients, reducing precision.\n",
        "3. Biased coefficients: Coefficients may be biased or incorrect.\n",
        "4. Incorrect inference: Incorrect conclusions about relationships.\n",
        "\n",
        "Consequences:\n",
        "\n",
        "1. Overfitting: Model becomes overly specialized to training data.\n",
        "2. Poor generalization: Model performs poorly on new data.\n",
        "3. Model instability: Model breaks down with small data changes.\n",
        "\n",
        "Detection methods:\n",
        "\n",
        "1. Variance Inflation Factor (VIF): Measures correlation between IVs.\n",
        "2. Tolerance: Measures proportion of variance not explained by other IVs.\n",
        "3. Correlation matrix: Visualizes correlations between IVs.\n",
        "4. Condition index: Measures sensitivity of coefficients to data changes.\n",
        "\n",
        "Remedies:\n",
        "\n",
        "1. Remove redundant IVs: Eliminate highly correlated variables.\n",
        "2. Combine IVs: Create new variables through dimensionality reduction.\n",
        "3. Regularization techniques: Penalize large coefficients (e.g., Ridge regression).\n",
        "4. Principal Component Regression (PCR): Transform IVs into uncorrelated components.\n",
        "5. Partial Least Squares Regression (PLS): Reduce dimensionality while preserving information.\n",
        "\n",
        "Thresholds:\n",
        "\n",
        "1. VIF: > 5 or 10 indicates high multicollinearity\n",
        "2. Tolerance: < 0.1 or 0.2 indicates high multicollinearity\n",
        "\n",
        "Example (Python):\n"
      ],
      "metadata": {
        "id": "BxcL2Ag1-cef"
      }
    },
    {
      "cell_type": "code",
      "source": [
        "import pandas as pd\n",
        "import numpy as np\n",
        "from statsmodels.stats.outliers_influence import variance_inflation_factor\n",
        "\n",
        "# Sample data\n",
        "X = pd.DataFrame(np.random.rand(100, 3), columns=['A', 'B', 'C'])\n",
        "X['B'] = 0.9 * X['A'] + np.random.rand(100)\n",
        "\n",
        "# Calculate VIF\n",
        "vif = pd.DataFrame()\n",
        "vif[\"VIF Factor\"] = [variance_inflation_factor(X.values, i) for i in range(X.shape[1])]\n",
        "vif[\"features\"] = X.columns\n",
        "\n",
        "print(vif)"
      ],
      "metadata": {
        "colab": {
          "base_uri": "https://localhost:8080/"
        },
        "id": "mysym1lr_oFF",
        "outputId": "db630df9-5bf2-4200-bbe3-2182be00c8d9"
      },
      "execution_count": null,
      "outputs": [
        {
          "output_type": "stream",
          "name": "stdout",
          "text": [
            "   VIF Factor features\n",
            "0    6.533409        A\n",
            "1    9.077649        B\n",
            "2    3.161194        C\n"
          ]
        }
      ]
    },
    {
      "cell_type": "markdown",
      "source": [
        "Q8. What is Mean Absolute Error (MAE)?\n",
        "\n",
        "ANS-> Mean Absolute Error (MAE) measures the average magnitude of errors in a model's predictions. It calculates the absolute difference between predicted and actual values, providing a measure of model accuracy.\n",
        "\n",
        "MAE Formula:\n",
        "\n",
        "MAE = (1/n) * ∑|y_true - y_pred|\n",
        "\n",
        "where:\n",
        "\n",
        "1. y_true = actual values\n",
        "2. y_pred = predicted values\n",
        "3. n = number of observations\n",
        "\n",
        "Properties:\n",
        "\n",
        "1. Non-negative: MAE ≥ 0\n",
        "2. Scale-dependent: MAE has same units as target variable\n",
        "3. Robust to outliers: Less sensitive than Mean Squared Error (MSE)\n",
        "\n",
        "Interpretation:\n",
        "\n",
        "1. Lower MAE: Better model performance\n",
        "2. MAE = 0: Perfect predictions\n",
        "\n",
        "Example:\n",
        "\n",
        "Actual values: [1, 2, 3, 4, 5]\n",
        "Predicted values: [1.1, 2.2, 3.1, 4.2, 5.1]\n",
        "\n",
        "MAE calculation:\n",
        "\n",
        "|y_true - y_pred| = [0.1, 0.2, 0.1, 0.2, 0.1]\n",
        "MAE = (0.1 + 0.2 + 0.1 + 0.2 + 0.1) / 5 = 0.14\n",
        "\n",
        "Advantages:\n",
        "\n",
        "1. Easy to understand and interpret\n",
        "2. Robust to outliers\n",
        "3. Suitable for skewed distributions\n",
        "\n",
        "Disadvantages:\n",
        "\n",
        "1. Scale-dependent\n",
        "2. Not differentiable (non-convex)\n",
        "3. Not suitable for optimization\n",
        "\n",
        "Comparison to other metrics:\n",
        "\n",
        "1. Mean Squared Error (MSE): More sensitive to outliers\n",
        "2. Root Mean Squared Percentage Error (RMSPE): Scale-independent\n",
        "3. Mean Absolute Percentage Error (MAPE): Relative error measure\n",
        "\n",
        "Real-world applications:\n",
        "\n",
        "1. Regression analysis\n",
        "2. Time series forecasting\n",
        "3. Recommendation systems\n",
        "4. Anomaly detection\n",
        "\n",
        "Implementation (Python):"
      ],
      "metadata": {
        "id": "1XQ0t5J--ciO"
      }
    },
    {
      "cell_type": "code",
      "source": [
        "import numpy as np\n",
        "\n",
        "def mean_absolute_error(y_true, y_pred):\n",
        "    return np.mean(np.abs(y_true - y_pred))\n",
        "\n",
        "y_true = np.array([1, 2, 3, 4, 5])\n",
        "y_pred = np.array([1.1, 2.2, 3.1, 4.2, 5.1])\n",
        "\n",
        "mae = mean_absolute_error(y_true, y_pred)\n",
        "print(\"MAE:\", mae)"
      ],
      "metadata": {
        "colab": {
          "base_uri": "https://localhost:8080/"
        },
        "id": "y1VeEthwAM-s",
        "outputId": "4eef93cb-9c48-4c3e-ddb3-d2f539fbedd1"
      },
      "execution_count": null,
      "outputs": [
        {
          "output_type": "stream",
          "name": "stdout",
          "text": [
            "MAE: 0.14000000000000004\n"
          ]
        }
      ]
    },
    {
      "cell_type": "markdown",
      "source": [
        "Q9. What are the benefits of using an ML pipeline?\n",
        "\n",
        "ANS-> Benefits of using an ML pipeline:\n",
        "\n",
        "1. Streamlined workflow: Organizes and automates ML tasks, reducing manual effort.\n",
        "2. Improved efficiency: Reuses and shares intermediate results, avoiding redundant computations.\n",
        "3. Enhanced collaboration: Facilitates teamwork, version control, and knowledge sharing.\n",
        "4. Reproducibility: Ensures consistent results, tracking data and model versions.\n",
        "5. Scalability: Supports large datasets, complex models, and distributed computing.\n",
        "6. Flexibility: Accommodates diverse algorithms, frameworks, and languages.\n",
        "7. Model management: Tracks model performance, versioning, and deployment.\n",
        "8. Data governance: Monitors data quality, lineage, and compliance.\n",
        "9. Automated testing: Validates model performance, data quality, and pipeline integrity.\n",
        "10. Faster deployment: Accelerates model deployment, reducing time-to-market.\n",
        "11. Better model selection: Compares and evaluates multiple models, hyperparameters.\n",
        "12. Hyperparameter tuning: Optimizes model performance through automated tuning.\n",
        "13. Model explainability: Provides insights into model behavior, feature importance.\n",
        "14. Data drift detection: Identifies changes in data distribution, ensuring model relevance.\n",
        "15. Continuous integration/continuous deployment (CI/CD): Integrates with DevOps practices.\n",
        "\n",
        "ML pipeline components:\n",
        "\n",
        "1. Data ingestion\n",
        "2. Data preprocessing\n",
        "3. Feature engineering\n",
        "4. Model training\n",
        "5. Model evaluation\n",
        "6. Model selection\n",
        "7. Hyperparameter tuning\n",
        "8. Model deployment\n",
        "9. Model monitoring\n",
        "10. Data drift detection\n",
        "\n",
        "Popular ML pipeline tools:\n",
        "\n",
        "1. TensorFlow Extended (TFX)\n",
        "2. Apache Airflow\n",
        "3. Apache NiFi\n",
        "4. Kubeflow\n",
        "5. MLflow\n",
        "6. PyTorch Lightning\n",
        "7. Scikit-learn Pipeline\n",
        "8. Azure Machine Learning\n",
        "9. Google Cloud AI Platform\n",
        "10. Amazon SageMaker\n",
        "\n",
        "When to use an ML pipeline:\n",
        "\n",
        "1. Large-scale ML projects\n",
        "2. Complex model architectures\n",
        "3. Multiple data sources\n",
        "4. Frequent model updates\n",
        "5. Collaborative environments\n",
        "6. Regulatory compliance requirements\n",
        "7. High-stakes decision-making applications\n",
        "\n",
        "By leveraging an ML pipeline, organizations can:\n",
        "\n",
        "1. Accelerate ML development\n",
        "2. Improve model quality\n",
        "3. Enhance collaboration\n",
        "4. Reduce operational costs\n",
        "5. Increase business value"
      ],
      "metadata": {
        "id": "_B5_xgxQ-clv"
      }
    },
    {
      "cell_type": "markdown",
      "source": [
        "Q10. Why is RMSE considered more interpretable than MSE?\n",
        "\n",
        "ANS-> Root Mean Squared Error (RMSE) is considered more interpretable than Mean Squared Error (MSE) for several reasons:\n",
        "\n",
        "1. Same units as target variable: RMSE has the same units as the target variable, making it easier to understand and interpret.\n",
        "2. Directly comparable to data range: RMSE is directly comparable to the range of values in the target variable, providing context.\n",
        "3. Easier to visualize: RMSE is more intuitive, allowing for easier visualization of error magnitude.\n",
        "4. Less sensitive to scale: RMSE is less sensitive to the scale of the target variable, making comparisons across models and datasets more straightforward.\n",
        "5. More meaningful for regression: RMSE is more meaningful for regression tasks, where the goal is to predict continuous values.\n",
        "\n",
        "In contrast, MSE:\n",
        "\n",
        "1. Squared units: MSE has squared units, making interpretation more challenging.\n",
        "2. Less intuitive: MSE is less intuitive, requiring additional calculations to understand error magnitude.\n",
        "3. Scale-dependent: MSE is sensitive to the scale of the target variable.\n",
        "\n",
        "Example:\n",
        "\n",
        "Suppose we're predicting house prices (target variable: $).\n",
        "\n",
        "MSE = 100,000\n",
        "RMSE = 316.23\n",
        "\n",
        "The RMSE value ($316.23) provides a clearer understanding of the average error magnitude in dollars, whereas the MSE value (100,000) requires additional calculations.\n",
        "\n",
        "When to use RMSE:\n",
        "\n",
        "1. Regression tasks\n",
        "2. Continuous target variables\n",
        "3. Model evaluation and comparison\n",
        "4. Error analysis and visualization\n",
        "\n",
        "When to use MSE:\n",
        "\n",
        "1. Optimization algorithms (e.g., gradient descent)\n",
        "2. Theoretical calculations\n",
        "3. Model complexity penalties\n",
        "\n",
        "Conversion between MSE and RMSE:\n",
        "\n",
        "RMSE = √MSE\n",
        "\n",
        "MSE = RMSE²"
      ],
      "metadata": {
        "id": "edUDY18y-cpN"
      }
    },
    {
      "cell_type": "markdown",
      "source": [
        "Q11. What is pickling in Python, and how is it useful in ML?\n",
        "\n",
        "ANS-> Pickling in Python:\n",
        "\n",
        "Pickling is a process to serialize and de-serialize Python objects, converting them into byte streams. This allows storing or transmitting objects, preserving their state.\n",
        "\n",
        "pickle module:\n",
        "\n",
        "Python's built-in pickle module provides functions for:\n",
        "\n",
        "1. dump() - Serialize object to file/stream\n",
        "2. load() - De-serialize object from file/stream\n",
        "\n",
        "Example:"
      ],
      "metadata": {
        "id": "Gf-GaU49-ctI"
      }
    },
    {
      "cell_type": "code",
      "source": [
        "import pickle\n",
        "\n",
        "# Create object\n",
        "data = {'name': 'John', 'age': 30}\n",
        "\n",
        "# Pickle object\n",
        "with open('data.pkl', 'wb') as f:\n",
        "    pickle.dump(data, f)\n",
        "\n",
        "# Unpickle object\n",
        "with open('data.pkl', 'rb') as f:\n",
        "    loaded_data = pickle.load(f)\n",
        "print(loaded_data)  # {'name': 'John', 'age': 30}"
      ],
      "metadata": {
        "colab": {
          "base_uri": "https://localhost:8080/"
        },
        "id": "f7BgSpqMA1zy",
        "outputId": "92ffdc93-9a04-496a-9d35-af19432afb93"
      },
      "execution_count": null,
      "outputs": [
        {
          "output_type": "stream",
          "name": "stdout",
          "text": [
            "{'name': 'John', 'age': 30}\n"
          ]
        }
      ]
    },
    {
      "cell_type": "markdown",
      "source": [
        "Usefulness in ML:\n",
        "\n",
        "1. Model persistence: Save trained models for later use or deployment.\n",
        "2. Data storage: Store preprocessed data for efficient reloading.\n",
        "3. Hyperparameter tuning: Store and reload hyperparameter configurations.\n",
        "4. Experiment tracking: Store experiment results and settings.\n",
        "5. Distributed computing: Transmit objects between nodes.\n",
        "\n",
        "ML libraries supporting pickling:\n",
        "\n",
        "1. scikit-learn\n",
        "2. TensorFlow\n",
        "3. PyTorch\n",
        "4. Keras\n",
        "\n",
        "Best practices:\n",
        "\n",
        "1. Use binary mode ('wb' and 'rb') for files.\n",
        "2. Avoid pickling large objects; use compression or chunking.\n",
        "3. Be cautious with unpickling untrusted data (security risks).\n",
        "4. Use specific pickle protocol versions for compatibility."
      ],
      "metadata": {
        "id": "x5Eri8F2ArAK"
      }
    },
    {
      "cell_type": "markdown",
      "source": [
        "Q12. What does a high R-squared value mean?\n",
        "\n",
        "ANS-> A high R-squared (R²) value indicates:\n",
        "\n",
        "1. Strong linear relationship: The independent variable(s) effectively explain the variation in the dependent variable.\n",
        "2. Good model fit: The model accurately captures the underlying pattern in the data.\n",
        "3. High predictive power: The model can reliably predict future observations.\n",
        "\n",
        "Interpretation:\n",
        "\n",
        "1. R² = 1: Perfect fit (100% of variance explained)\n",
        "2. R² ≥ 0.9: Excellent fit (90-100% of variance explained)\n",
        "3. R² ≥ 0.7: Good fit (70-89% of variance explained)\n",
        "4. R² ≥ 0.5: Fair fit (50-69% of variance explained)\n",
        "5. R² < 0.5: Poor fit (<50% of variance explained)\n",
        "\n",
        "Implications:\n",
        "\n",
        "1. Confidence in predictions: High R² values indicate reliable predictions.\n",
        "2. Model selection: Compare R² values across models to choose the best.\n",
        "3. Feature engineering: Identify relevant features contributing to high R².\n",
        "4. Overfitting detection: Extremely high R² may indicate overfitting.\n",
        "\n",
        "Limitations:\n",
        "\n",
        "1. Assumes linearity: R² measures linear relationships only.\n",
        "2. Sensitive to outliers: Outliers can artificially inflate or deflate R².\n",
        "3. Ignores model complexity: High R² doesn't guarantee simple or interpretable models.\n",
        "\n",
        "To complement R-squared:\n",
        "\n",
        "1. Residual analysis: Examine residuals for patterns or outliers.\n",
        "2. Cross-validation: Validate model performance on unseen data.\n",
        "3. Other metrics: Consider Mean Squared Error (MSE), Mean Absolute Error (MAE), or Akaike Information Criterion (AIC).\n",
        "\n",
        "Example:\n",
        "\n",
        "Suppose a linear regression model predicting house prices has:\n",
        "\n",
        "R² = 0.85\n",
        "\n",
        "This means:\n",
        "\n",
        "- 85% of the variation in house prices is explained by the independent variables.\n",
        "- The model has good predictive power and is a reliable indicator of house prices.\n",
        "\n",
        "Keep in mind:\n",
        "\n",
        "- R-squared values can be misleading if:\n",
        "    - Data is heavily skewed.\n",
        "    - Outliers are present.\n",
        "    - Model assumptions are violated."
      ],
      "metadata": {
        "id": "Y1qLy-oTArF3"
      }
    },
    {
      "cell_type": "markdown",
      "source": [
        "Q13. What happens if linear regression assumptions are violated?\n",
        "\n",
        "ANS-> Consequences of violating linear regression assumptions:\n",
        "\n",
        "1. Non-linearity: Incorrectly assumes linear relationship.\n",
        "    - Consequence: Biased coefficients, inaccurate predictions.\n",
        "    - Remedy: Transform variables, use non-linear regression (e.g., polynomial, logistic).\n",
        "2. Non-normality of residuals: Residuals don't follow normal distribution.\n",
        "    - Consequence: Inaccurate p-values, confidence intervals.\n",
        "    - Remedy: Transform variables, use robust regression (e.g., least absolute deviation).\n",
        "3. Heteroscedasticity: Non-constant variance of residuals.\n",
        "    - Consequence: Inaccurate standard errors, confidence intervals.\n",
        "    - Remedy: Transform variables, use weighted least squares (WLS) or robust regression.\n",
        "4. Autocorrelation: Residuals correlated with each other.\n",
        "    - Consequence: Inaccurate standard errors, confidence intervals.\n",
        "    - Remedy: Use time-series analysis, ARIMA, or generalized least squares (GLS).\n",
        "5. Multicollinearity: High correlation between independent variables.\n",
        "    - Consequence: Unstable coefficients, inflated variance.\n",
        "    - Remedy: Remove redundant variables, use dimensionality reduction (e.g., PCA).\n",
        "6. Outliers: Influential observations affecting model.\n",
        "    - Consequence: Biased coefficients, inaccurate predictions.\n",
        "    - Remedy: Remove or weight outliers, use robust regression.\n",
        "7. Non-constant variance: Variance changes across independent variable range.\n",
        "    - Consequence: Inaccurate standard errors, confidence intervals.\n",
        "    - Remedy: Transform variables, use WLS or robust regression.\n",
        "\n",
        "Effects on:\n",
        "\n",
        "1. Coefficient estimates: Biased, inconsistent or inefficient.\n",
        "2. p-values: Incorrect, potentially leading to false conclusions.\n",
        "3. Confidence intervals: Inaccurate or misleading.\n",
        "4. Predictions: Inaccurate or unreliable.\n",
        "5. Model interpretation: Difficult or misleading.\n",
        "\n",
        "Diagnosis tools:\n",
        "\n",
        "1. Residual plots\n",
        "2. Q-Q plots\n",
        "3. Shapiro-Wilk test (normality)\n",
        "4. Breusch-Pagan test (heteroscedasticity)\n",
        "5. Durbin-Watson test (autocorrelation)\n",
        "6. Variance Inflation Factor (VIF) for multicollinearity\n",
        "\n",
        "Remedies:\n",
        "\n",
        "1. Data transformation\n",
        "2. Robust regression\n",
        "3. Weighted least squares (WLS)\n",
        "4. Generalized least squares (GLS)\n",
        "5. Non-linear regression\n",
        "6. Dimensionality reduction\n",
        "7. Outlier removal or weighting\n",
        "\n",
        "Best practices:\n",
        "\n",
        "1. Check assumptions\n",
        "2. Diagnose violations\n",
        "3. Apply remedies\n",
        "4. Validate results\n",
        "5. Consider alternative models (e.g., generalized linear models, machine learning)"
      ],
      "metadata": {
        "id": "Rwey6nIeArLH"
      }
    },
    {
      "cell_type": "markdown",
      "source": [
        "Q14. How can we address multicollinearity in regression?\n",
        "\n",
        "ANS-> Addressing Multicollinearity in Regression:\n",
        "\n",
        "1. Remove redundant variables: Eliminate highly correlated variables.\n",
        "2. Combine variables: Create new variables through dimensionality reduction techniques.\n",
        "3. Regularization techniques: Penalize large coefficients (e.g., Ridge regression).\n",
        "4. Principal Component Regression (PCR): Transform variables into uncorrelated components.\n",
        "5. Partial Least Squares Regression (PLS): Reduce dimensionality while preserving information.\n",
        "6. Select relevant variables: Use techniques like forward/backward selection, AIC/BIC.\n",
        "7. Collect more data: Increase sample size to reduce correlation.\n",
        "8. Transform variables: Use logarithmic or polynomial transformations.\n",
        "\n",
        "Dimensionality Reduction Techniques:\n",
        "\n",
        "1. Principal Component Analysis (PCA): Identify correlated variables, retain principal components.\n",
        "2. Factor Analysis: Group correlated variables into factors.\n",
        "3. Independent Component Analysis (ICA): Separate multivariate data into independent components.\n",
        "\n",
        "Regularization Techniques:\n",
        "\n",
        "1. Ridge Regression: Add penalty term to coefficients.\n",
        "2. Lasso Regression: Set coefficients to zero (feature selection).\n",
        "3. Elastic Net Regression: Combine Ridge and Lasso penalties.\n",
        "\n",
        "Model Selection:\n",
        "\n",
        "1. Akaike Information Criterion (AIC): Evaluate model complexity.\n",
        "2. Bayesian Information Criterion (BIC): Evaluate model complexity, penalize parameters.\n",
        "\n",
        "Diagnosis Tools:\n",
        "\n",
        "1. Variance Inflation Factor (VIF): Measure correlation between variables.\n",
        "2. Tolerance: Measure proportion of variance not explained by other variables.\n",
        "3. Correlation matrix: Visualize variable correlations.\n",
        "4. Condition index: Measure sensitivity of coefficients to data changes.\n",
        "\n",
        "Example (Python):"
      ],
      "metadata": {
        "id": "NjyMx_wYArO-"
      }
    },
    {
      "cell_type": "code",
      "source": [
        "import pandas as pd\n",
        "from sklearn.decomposition import PCA\n",
        "from sklearn.linear_model import Ridge\n",
        "from sklearn.metrics import mean_squared_error\n",
        "\n",
        "# Sample data\n",
        "X = pd.DataFrame({'A': [1, 2, 3], 'B': [2, 3, 4], 'C': [3, 4, 5]})\n",
        "y = pd.Series([2, 4, 6])\n",
        "\n",
        "# PCA dimensionality reduction\n",
        "pca = PCA(n_components=2)\n",
        "X_pca = pca.fit_transform(X)\n",
        "\n",
        "# Ridge regression\n",
        "ridge = Ridge(alpha=0.1)\n",
        "ridge.fit(X_pca, y)\n",
        "\n",
        "# Evaluate model\n",
        "y_pred = ridge.predict(X_pca)\n",
        "mse = mean_squared_error(y, y_pred)\n",
        "print(f'MSE: {mse}')"
      ],
      "metadata": {
        "colab": {
          "base_uri": "https://localhost:8080/"
        },
        "id": "jaqflVLdBwe5",
        "outputId": "9304932c-def6-456b-cbfb-1c4577ddc8cf"
      },
      "execution_count": null,
      "outputs": [
        {
          "output_type": "stream",
          "name": "stdout",
          "text": [
            "MSE: 0.0007166532294186166\n"
          ]
        }
      ]
    },
    {
      "cell_type": "markdown",
      "source": [
        "Q15. Why do we use pipelines in machine learning?\n",
        "\n",
        "ANS-> Pipelines in Machine Learning:\n",
        "\n",
        "Benefits:\n",
        "\n",
        "1. Streamlined workflow: Organize and automate tasks, reducing manual effort.\n",
        "2. Improved efficiency: Reuse and share intermediate results, avoiding redundant computations.\n",
        "3. Enhanced collaboration: Facilitate teamwork, version control, and knowledge sharing.\n",
        "4. Reproducibility: Ensure consistent results, tracking data and model versions.\n",
        "5. Scalability: Support large datasets, complex models, and distributed computing.\n",
        "6. Flexibility: Accommodate diverse algorithms, frameworks, and languages.\n",
        "7. Model management: Track model performance, versioning, and deployment.\n",
        "8. Data governance: Monitor data quality, lineage, and compliance.\n",
        "\n",
        "Components:\n",
        "\n",
        "1. Data ingestion: Load and preprocess data.\n",
        "2. Feature engineering: Transform and select relevant features.\n",
        "3. Model training: Train and tune machine learning models.\n",
        "4. Model evaluation: Assess model performance and validate results.\n",
        "5. Model deployment: Deploy models to production environments.\n",
        "6. Model monitoring: Track model performance and retrain as needed.\n",
        "\n",
        "Types of Pipelines:\n",
        "\n",
        "1. Data pipeline: Focuses on data processing and storage.\n",
        "2. Machine learning pipeline: Integrates data and model training.\n",
        "3. Deep learning pipeline: Optimized for neural networks and large datasets.\n",
        "4. Real-time pipeline: Supports real-time processing and decision-making.\n",
        "\n",
        "Tools:\n",
        "\n",
        "1. Apache Airflow\n",
        "2. Apache NiFi\n",
        "3. Kubeflow\n",
        "4. MLflow\n",
        "5. TensorFlow Extended (TFX)\n",
        "6. PyTorch Lightning\n",
        "7. Scikit-learn Pipeline\n",
        "8. Azure Machine Learning\n",
        "9. Google Cloud AI Platform\n",
        "10. Amazon SageMaker\n",
        "\n",
        "When to Use Pipelines:\n",
        "\n",
        "1. Large-scale machine learning projects\n",
        "2. Complex model architectures\n",
        "3. Multiple data sources\n",
        "4. Frequent model updates\n",
        "5. Collaborative environments\n",
        "6. Regulatory compliance requirements\n",
        "7. High-stakes decision-making applications\n",
        "\n",
        "Best Practices:\n",
        "\n",
        "1. Modularize pipeline components\n",
        "2. Use version control and tracking\n",
        "3. Monitor and log pipeline performance\n",
        "4. Test and validate pipeline components\n",
        "5. Document pipeline architecture and configuration\n",
        "6. Continuously integrate and deploy pipeline updates\n",
        "\n",
        "By leveraging pipelines, machine learning practitioners can:\n",
        "\n",
        "1. Accelerate development and deployment\n",
        "2. Improve model quality and accuracy\n",
        "3. Enhance collaboration and knowledge sharing\n",
        "4. Reduce operational costs and complexity\n",
        "5. Increase business value and impact"
      ],
      "metadata": {
        "id": "1LCF1E1KArS_"
      }
    },
    {
      "cell_type": "markdown",
      "source": [
        "Q16. How is Adjusted R-squared calculated?\n",
        "\n",
        "ANS-> Adjusted R-squared (Adj R²) Calculation:\n",
        "\n",
        "Adj R² = 1 - (1 - R²) × (n - 1) / (n - k - 1)\n",
        "\n",
        "Where:\n",
        "\n",
        "1. R² = R-squared value (proportion of variance explained)\n",
        "2. n = Sample size (number of observations)\n",
        "3. k = Number of independent variables (predictors)\n",
        "\n",
        "Step-by-Step Calculation:\n",
        "\n",
        "1. Compute R-squared (R²) value.\n",
        "2. Calculate the penalty term: (1 - R²) × (n - 1).\n",
        "3. Calculate the adjustment factor: (n - k - 1).\n",
        "4. Compute Adjusted R-squared: 1 - (penalty term / adjustment factor).\n",
        "\n",
        "Example:\n",
        "\n",
        "Suppose:\n",
        "\n",
        "R² = 0.8 (80% of variance explained)\n",
        "n = 100 (sample size)\n",
        "k = 3 (number of independent variables)\n",
        "\n",
        "Calculation:\n",
        "\n",
        "1. Penalty term: (1 - 0.8) × (100 - 1) = 0.2 × 99 = 19.8\n",
        "2. Adjustment factor: (100 - 3 - 1) = 96\n",
        "3. Adj R²: 1 - (19.8 / 96) = 1 - 0.206 = 0.794\n",
        "\n",
        "Interpretation:\n",
        "\n",
        "Adj R² = 0.794 indicates:\n",
        "\n",
        "1. Approximately 79.4% of variance explained by model.\n",
        "2. Model complexity penalized.\n",
        "\n",
        "Properties:\n",
        "\n",
        "1. Adj R² ≤ R² (always decreases or equals R²)\n",
        "2. Adj R² increases as k decreases (fewer predictors)\n",
        "3. Adj R² decreases as k increases (more predictors)\n",
        "\n",
        "Comparison:\n",
        "\n",
        "1. R² measures variance explained.\n",
        "2. Adj R² measures variance explained, adjusted for complexity.\n",
        "\n",
        "Tools:\n",
        "\n",
        "1. Excel: =1-(1-R^2)*(N-1)/(N-K-1)\n",
        "2. Python: from statsmodels.stats.outliers_influence import variance_inflation_factor\n",
        "3. R: summary(lm(model))$adj.r.squared\n",
        "\n",
        "Best Practices:\n",
        "\n",
        "1. Use Adj R² for model comparison.\n",
        "2. Consider sample size and model complexity.\n",
        "3. Evaluate alongside other metrics (e.g., MSE, MAE)."
      ],
      "metadata": {
        "id": "ESFsDV3FArWU"
      }
    },
    {
      "cell_type": "markdown",
      "source": [
        "Q17. Why is MSE sensitive to outliers?\n",
        "\n",
        "ANS-> Mean Squared Error (MSE) Sensitivity to Outliers:\n",
        "\n",
        "MSE calculates the average squared difference between predicted and actual values. Outliers, being extreme values, significantly impact MSE:\n",
        "\n",
        "1. Squaring errors amplifies outlier effects.\n",
        "2. Large errors dominate the sum, skewing MSE.\n",
        "\n",
        "Consequences:\n",
        "\n",
        "1. Inflated MSE: Outliers increase MSE, making model performance appear worse.\n",
        "2. Biased model selection: MSE favors models that minimize outlier impact.\n",
        "3. Overregularization: Models become overly simplistic to reduce outlier influence.\n",
        "\n",
        "Outlier types:\n",
        "\n",
        "1. Point outliers: Isolated extreme values.\n",
        "2. Contextual outliers: Values unusual within specific context.\n",
        "\n",
        "Mitigation strategies:\n",
        "\n",
        "1. Robust regression techniques:\n",
        "    1. Least Absolute Deviation (LAD)\n",
        "    2. Huber regression\n",
        "    3. Ridge regression\n",
        "2. Outlier removal or weighting:\n",
        "    1. Winsorization\n",
        "    2. Trimming\n",
        "    3. Outlier detection algorithms\n",
        "3. Alternative error metrics:\n",
        "    1. Mean Absolute Error (MAE)\n",
        "    2. Mean Absolute Percentage Error (MAPE)\n",
        "    3. Root Mean Squared Percentage Error (RMSPE)\n",
        "\n",
        "Example (Python):\n"
      ],
      "metadata": {
        "id": "jW1kaluvCOb6"
      }
    },
    {
      "cell_type": "code",
      "source": [
        "import numpy as np\n",
        "\n",
        "# Sample data with outlier\n",
        "y_true = np.array([1, 2, 3, 4, 100])\n",
        "y_pred = np.array([1, 2, 3, 4, 5])\n",
        "\n",
        "# MSE calculation\n",
        "mse = np.mean((y_true - y_pred) ** 2)\n",
        "print(\"MSE:\", mse)\n",
        "\n",
        "# Robust regression using LAD\n",
        "from sklearn.linear_model import LinearRegression\n",
        "lad_model = LinearRegression()\n",
        "lad_model.fit(y_true.reshape(-1, 1), y_pred)\n",
        "print(\"LAD MSE:\", np.mean(np.abs(y_true - lad_model.predict(y_true.reshape(-1, 1)))))"
      ],
      "metadata": {
        "colab": {
          "base_uri": "https://localhost:8080/"
        },
        "id": "dDad9u08CX_8",
        "outputId": "af13bc22-95b7-4092-e56f-8f7f66c50680"
      },
      "execution_count": null,
      "outputs": [
        {
          "output_type": "stream",
          "name": "stdout",
          "text": [
            "MSE: 1805.0\n",
            "LAD MSE: 19.768988173455977\n"
          ]
        }
      ]
    },
    {
      "cell_type": "markdown",
      "source": [
        "Q18. What is the role of homoscedasticity in linear regression?\n",
        "\n",
        "ANS-> Homoscedasticity in Linear Regression:\n",
        "\n",
        "Homoscedasticity assumes that the variance of residuals (errors) is constant across all levels of the independent variable(s). This means:\n",
        "\n",
        "1. Equal scatter: Residuals have similar spread throughout the data range.\n",
        "2. No pattern: No systematic change in variance as independent variable changes.\n",
        "\n",
        "Importance:\n",
        "\n",
        "1. Accurate inference: Homoscedasticity ensures reliable hypothesis testing and confidence intervals.\n",
        "2. Efficient estimation: Homoscedasticity allows for optimal parameter estimation.\n",
        "3. Model validity: Homoscedasticity supports linear regression assumptions.\n",
        "\n",
        "Consequences of heteroscedasticity (non-constant variance):\n",
        "\n",
        "1. Biased standard errors\n",
        "2. Inaccurate hypothesis testing\n",
        "3. Incorrect confidence intervals\n",
        "4. Reduced model reliability\n",
        "\n",
        "Types of heteroscedasticity:\n",
        "\n",
        "1. Increasing variance (e.g., exponential growth)\n",
        "2. Decreasing variance (e.g., saturation)\n",
        "3. Non-monotonic variance (e.g., U-shaped)\n",
        "\n",
        "Diagnosis:\n",
        "\n",
        "1. Residual plots\n",
        "2. Breusch-Pagan test\n",
        "3. White test\n",
        "4. Goldfeld-Quandt test\n",
        "\n",
        "Remedies:\n",
        "\n",
        "1. Data transformation (e.g., logarithmic)\n",
        "2. Weighted least squares (WLS)\n",
        "3. Robust regression (e.g., Huber regression)\n",
        "4. Generalized linear models (GLM)\n",
        "\n",
        "Example (Python):"
      ],
      "metadata": {
        "id": "Y9GgbURZCab5"
      }
    },
    {
      "cell_type": "code",
      "source": [
        "import pandas as pd\n",
        "import matplotlib.pyplot as plt\n",
        "import statsmodels.formula.api as smf\n",
        "import statsmodels.stats.diagnostic as diag\n",
        "# Import add_constant from statsmodels.api\n",
        "from statsmodels.api import add_constant\n",
        "\n",
        "# Sample data\n",
        "X = pd.DataFrame({'A': [1, 2, 3, 4, 5]})\n",
        "y = pd.Series([2, 4, 6, 8, 10])\n",
        "\n",
        "# Linear regression using statsmodels OLS for residuals\n",
        "# Define and fit the model using the formula API\n",
        "model = smf.ols('y ~ A', data=pd.concat([X, y.rename('y')], axis=1)).fit()\n",
        "\n",
        "# Residual plot\n",
        "residuals = model.resid\n",
        "plt.scatter(X['A'], residuals)\n",
        "plt.title('Residual Plot')\n",
        "plt.show()\n",
        "\n",
        "# Breusch-Pagan test\n",
        "# Add a constant term to X\n",
        "# Use add_constant imported from statsmodels.api\n",
        "X = add_constant(X)  # This line adds a constant column to X\n",
        "\n",
        "# Now perform the Breusch-Pagan test\n",
        "test_result = diag.het_breuschpagan(residuals, X)\n",
        "print('Breusch-Pagan Test:', test_result)"
      ],
      "metadata": {
        "colab": {
          "base_uri": "https://localhost:8080/",
          "height": 470
        },
        "id": "kREwSUq7CmDo",
        "outputId": "9caa9365-6a5d-440c-df8a-f8bafd72a0d4"
      },
      "execution_count": null,
      "outputs": [
        {
          "output_type": "display_data",
          "data": {
            "text/plain": [
              "<Figure size 640x480 with 1 Axes>"
            ],
            "image/png": "[encoded data removed]"
          },
          "metadata": {}
        },
        {
          "output_type": "stream",
          "name": "stdout",
          "text": [
            "Breusch-Pagan Test: (3.8379156010230178, 0.05010577495142391, 9.907840440165055, 0.05135771967389234)\n"
          ]
        }
      ]
    },
    {
      "cell_type": "markdown",
      "source": [
        "Q19. What is Root Mean Squared Error (RMSE)?\n",
        "\n",
        "ANS-> Root Mean Squared Error (RMSE):\n",
        "\n",
        "RMSE measures the square root of the average squared difference between predicted and actual values.\n",
        "\n",
        "Mathematical Formula:\n",
        "\n",
        "RMSE = √[(Σ(y_true - y_pred)^2) / n]\n",
        "\n",
        "Where:\n",
        "\n",
        "1. y_true = Actual values\n",
        "2. y_pred = Predicted values\n",
        "3. n = Number of observations\n",
        "4. Σ = Summation\n",
        "\n",
        "Interpretation:\n",
        "\n",
        "1. Lower RMSE indicates better model performance.\n",
        "2. RMSE has same units as target variable.\n",
        "3. RMSE sensitive to outliers.\n",
        "\n",
        "Advantages:\n",
        "\n",
        "1. Easy to interpret\n",
        "2. Commonly used metric\n",
        "3. Comparable across models\n",
        "\n",
        "Disadvantages:\n",
        "\n",
        "1. Sensitive to outliers\n",
        "2. Assumes normal distribution\n",
        "\n",
        "Types of RMSE:\n",
        "\n",
        "1. Training RMSE (in-sample)\n",
        "2. Testing RMSE (out-of-sample)\n",
        "3. Validation RMSE (cross-validation)\n",
        "\n",
        "Comparison with other metrics:\n",
        "\n",
        "1. Mean Absolute Error (MAE): Less sensitive to outliers\n",
        "2. Mean Squared Error (MSE): No square root\n",
        "3. R-Squared (R²): Measures variance explained\n",
        "\n",
        "Example (Python):"
      ],
      "metadata": {
        "id": "ABxJ8v2KCqVP"
      }
    },
    {
      "cell_type": "code",
      "source": [
        "import numpy as np\n",
        "\n",
        "# Actual values\n",
        "y_true = np.array([1, 2, 3, 4, 5])\n",
        "\n",
        "# Predicted values\n",
        "y_pred = np.array([1.1, 2.1, 3.1, 4.1, 5.1])\n",
        "\n",
        "# RMSE calculation\n",
        "rmse = np.sqrt(np.mean((y_true - y_pred) ** 2))\n",
        "print(\"RMSE:\", rmse)"
      ],
      "metadata": {
        "colab": {
          "base_uri": "https://localhost:8080/"
        },
        "id": "z2hMOEiMDeOu",
        "outputId": "2b707624-7e3e-41aa-c54c-b6b1c463ceda"
      },
      "execution_count": null,
      "outputs": [
        {
          "output_type": "stream",
          "name": "stdout",
          "text": [
            "RMSE: 0.09999999999999991\n"
          ]
        }
      ]
    },
    {
      "cell_type": "markdown",
      "source": [
        "Q20. Why is pickling considered risky?\n",
        "\n",
        "ANS-> Pickling Considered Risky:\n",
        "\n",
        "Pickling, Python's serialization mechanism, poses security risks due to:\n",
        "\n",
        "1. Arbitrary Code Execution: Pickled objects can contain malicious code, executed upon unpickling.\n",
        "2. Deserialization Vulnerabilities: Pickled data can exploit vulnerabilities in dependent libraries.\n",
        "3. Data Tampering: Pickled data integrity can be compromised.\n",
        "4. Dependence on Specific Python Version: Pickled objects may not be compatible across Python versions.\n",
        "\n",
        "Attack Vectors:\n",
        "\n",
        "1. Remote Code Execution (RCE): Attackers send malicious pickled objects.\n",
        "2. Local File Inclusion (LFI): Malicious pickled objects in local files.\n",
        "3. Cross-Site Scripting (XSS): Pickled objects in web applications.\n",
        "\n",
        "Mitigation Strategies:\n",
        "\n",
        "1. Only unpickle trusted data.\n",
        "2. Validate pickled data using digital signatures or hashes.\n",
        "3. Use secure protocols (e.g., HTTPS) for pickled data transmission.\n",
        "4. Limit dependencies and keep libraries up-to-date.\n",
        "5. Use alternative serialization methods (e.g., JSON, MessagePack).\n",
        "6. Implement logging and monitoring for pickling operations.\n",
        "\n",
        "Best Practices:\n",
        "\n",
        "1. Avoid unpickling untrusted data.\n",
        "2. Use version-specific pickling.\n",
        "3. Document pickling usage.\n",
        "4. Test pickling thoroughly.\n",
        "\n",
        "Safe Alternatives:\n",
        "\n",
        "1. JSON serialization\n",
        "2. MessagePack\n",
        "3. YAML\n",
        "4. Pandas' built-in serialization\n",
        "\n"
      ],
      "metadata": {
        "id": "Fb7HPZ6MDhhO"
      }
    },
    {
      "cell_type": "markdown",
      "source": [
        "Q21. What alternatives exist to pickling for saving ML models?\n",
        "\n",
        "ANS-> Alternatives to Pickling for Saving ML Models:\n",
        "\n",
        "1. Joblib: Efficient serialization for Python objects, especially ML models.\n",
        "2. HDF5: Hierarchical data format for storing numerical data and models.\n",
        "3. TensorFlow SavedModel: Native TensorFlow model serialization.\n",
        "4. PyTorch Serialization: PyTorch's built-in model serialization.\n",
        "5. ONNX (Open Neural Network Exchange): Platform-agnostic model serialization.\n",
        "6. PMML (Predictive Model Markup Language): Standard for serializing ML models.\n",
        "7. Scikit-learn's built-in serialization: Model persistence for scikit-learn.\n",
        "8. Dill: Advanced Python serialization, similar to Pickle.\n",
        "9. CloudPickle: Fast, secure serialization for Python objects.\n",
        "10. Ray: Distributed computing framework with built-in model serialization.\n",
        "\n",
        "Comparison:\n",
        "\n",
        "| Alternative | Advantages | Disadvantages |\n",
        "| --- | --- | --- |\n",
        "| Joblib | Fast, efficient | Limited compatibility |\n",
        "| HDF5 | Flexible, scalable | Complex API |\n",
        "| TensorFlow SavedModel | Native support | TensorFlow-specific |\n",
        "| PyTorch Serialization | Native support | PyTorch-specific |\n",
        "| ONNX | Platform-agnostic | Limited support |\n",
        "| PMML | Standardized | Limited support |\n",
        "| Scikit-learn | Built-in support | Limited flexibility |\n",
        "| Dill | Advanced serialization | Security concerns |\n",
        "| CloudPickle | Secure, fast | Limited compatibility |\n",
        "| Ray | Distributed computing | Steep learning curve |\n",
        "\n",
        "Considerations:\n",
        "\n",
        "1. Model complexity: Choose serialization methods supporting complex models.\n",
        "2. Platform compatibility: Ensure compatibility across Python versions and OS.\n",
        "3. Security: Consider secure serialization methods.\n",
        "4. Performance: Optimize serialization for speed and efficiency.\n",
        "5. Interoperability: Choose standards-based serialization.\n",
        "\n",
        "Example (Python) - Saving Scikit-learn Model with Joblib:\n"
      ],
      "metadata": {
        "id": "6faDxEr8D5o8"
      }
    },
    {
      "cell_type": "code",
      "source": [
        "from sklearn.ensemble import RandomForestClassifier\n",
        "from sklearn.datasets import load_iris\n",
        "from joblib import dump, load\n",
        "\n",
        "# Train model\n",
        "iris = load_iris()\n",
        "X, y = iris.data, iris.target\n",
        "model = RandomForestClassifier(n_estimators=100)\n",
        "model.fit(X, y)\n",
        "\n",
        "# Save model\n",
        "dump(model, 'rf_model.joblib')\n",
        "\n",
        "# Load model\n",
        "loaded_model = load('rf_model.joblib')"
      ],
      "metadata": {
        "id": "jXzZsPqUxdp-"
      },
      "execution_count": null,
      "outputs": []
    },
    {
      "cell_type": "markdown",
      "source": [
        "Q22. What is heteroscedasticity, and why is it a problem?\n",
        "\n",
        "ANS-> Heteroscedasticity:\n",
        "\n",
        "Heteroscedasticity occurs when the variance of residuals (errors) in a regression model changes across different levels of the independent variable(s). This means:\n",
        "\n",
        "1. Non-constant variance: Residuals have varying scatter.\n",
        "2. Non-random pattern: Variance changes systematically.\n",
        "\n",
        "Types:\n",
        "\n",
        "1. Increasing variance (e.g., exponential growth)\n",
        "2. Decreasing variance (e.g., saturation)\n",
        "3. Non-monotonic variance (e.g., U-shaped)\n",
        "\n",
        "Consequences:\n",
        "\n",
        "1. Biased standard errors\n",
        "2. Inaccurate hypothesis testing\n",
        "3. Incorrect confidence intervals\n",
        "4. Reduced model reliability\n",
        "5. Over/underestimation of coefficients\n",
        "\n",
        "Why it's a problem:\n",
        "\n",
        "1. Violates linear regression assumptions\n",
        "2. Affects model interpretability\n",
        "3. Leads to incorrect conclusions\n",
        "4. Impacts model selection and validation\n",
        "5. Reduces predictive accuracy\n",
        "\n",
        "Causes:\n",
        "\n",
        "1. Non-linear relationships\n",
        "2. Outliers/influential observations\n",
        "3. Non-normality of residuals\n",
        "4. Model misspecification\n",
        "5. Data transformation issues\n",
        "\n",
        "Diagnosis:\n",
        "\n",
        "1. Residual plots\n",
        "2. Breusch-Pagan test\n",
        "3. White test\n",
        "4. Goldfeld-Quandt test\n",
        "5. Levene's test\n",
        "\n",
        "Remedies:\n",
        "\n",
        "1. Data transformation (e.g., logarithmic)\n",
        "2. Weighted least squares (WLS)\n",
        "3. Robust regression (e.g., Huber regression)\n",
        "4. Generalized linear models (GLM)\n",
        "5. Non-parametric models\n",
        "\n",
        "Example (Python):"
      ],
      "metadata": {
        "id": "xN8XPWBoxjDx"
      }
    },
    {
      "cell_type": "code",
      "source": [
        "import pandas as pd\n",
        "import matplotlib.pyplot as plt\n",
        "# Import het_breuschpagan from statsmodels.stats.diagnostic\n",
        "from statsmodels.stats.diagnostic import het_breuschpagan\n",
        "# Import add_constant from statsmodels.api\n",
        "from statsmodels.api import add_constant\n",
        "\n",
        "# Sample data\n",
        "X = pd.DataFrame({'A': [1, 2, 3, 4, 5]})\n",
        "y = pd.Series([2, 4, 6, 8, 10])\n",
        "\n",
        "# Linear regression\n",
        "from sklearn.linear_model import LinearRegression\n",
        "model = LinearRegression()\n",
        "model.fit(X, y)\n",
        "\n",
        "# Calculate residuals manually\n",
        "residuals = y - model.predict(X) # Calculate residuals by subtracting predicted values from actual values\n",
        "\n",
        "plt.scatter(X['A'], residuals)\n",
        "plt.title('Residual Plot')\n",
        "plt.show()\n"
      ],
      "metadata": {
        "colab": {
          "base_uri": "https://localhost:8080/",
          "height": 452
        },
        "id": "vGTwzTcNyD1Z",
        "outputId": "3c099592-5d85-403a-d407-cb5ce9cc04d1"
      },
      "execution_count": null,
      "outputs": [
        {
          "output_type": "display_data",
          "data": {
            "text/plain": [
              "<Figure size 640x480 with 1 Axes>"
            ],
            "image/png": "[encoded data removed]"
          },
          "metadata": {}
        }
      ]
    },
    {
      "cell_type": "markdown",
      "source": [
        "Q23. How does adding irrelevant predictors affect R-squared and Adjusted R-squared?\n",
        "\n",
        "ANS-> Adding Irrelevant Predictors:\n",
        "\n",
        "Effects on R-squared and Adjusted R-squared:\n",
        "\n",
        "Effects on R-squared\n",
        "\n",
        "1. Increases: R-squared always increases or remains constant when adding new predictors, regardless of relevance.\n",
        "2. Overestimation: Irrelevant predictors can artificially inflate R-squared, leading to overestimation of model performance.\n",
        "\n",
        "Effects on Adjusted R-squared\n",
        "\n",
        "1. Decreases: Adjusted R-squared penalizes additional predictors, decreasing when irrelevant predictors are added.\n",
        "2. Underestimation: If too many irrelevant predictors are added, Adjusted R-squared may underestimate model performance.\n",
        "\n",
        "Key Differences\n",
        "\n",
        "1. R-squared: Focused on variance explained, ignores model complexity.\n",
        "2. Adjusted R-squared: Accounts for model complexity, penalizes irrelevant predictors.\n",
        "\n",
        "Consequences\n",
        "\n",
        "1. Overfitting: Adding irrelevant predictors increases risk of overfitting.\n",
        "2. Model instability: Irrelevant predictors can destabilize model coefficients.\n",
        "\n",
        "Mitigation Strategies\n",
        "\n",
        "1. Feature selection: Remove irrelevant predictors.\n",
        "2. Regularization: Penalize large coefficients (e.g., Ridge regression).\n",
        "3. Cross-validation: Evaluate model performance on unseen data.\n",
        "\n",
        "Example (Python)\n"
      ],
      "metadata": {
        "id": "OaXlSVJEyiZ5"
      }
    },
    {
      "cell_type": "code",
      "source": [
        "import pandas as pd\n",
        "from sklearn.linear_model import LinearRegression\n",
        "\n",
        "# Sample data\n",
        "X = pd.DataFrame({'A': [1, 2, 3], 'B': [2, 3, 4], 'C': [3, 4, 5]})\n",
        "y = pd.Series([2, 4, 6])\n",
        "\n",
        "# Model with relevant predictor (A)\n",
        "model1 = LinearRegression()\n",
        "model1.fit(X[['A']], y)\n",
        "\n",
        "# Model with irrelevant predictors (A, B, C)\n",
        "model2 = LinearRegression()\n",
        "model2.fit(X, y)\n",
        "\n",
        "print(\"Model 1 R-squared:\", model1.score(X[['A']], y))\n",
        "print(\"Model 1 Adjusted R-squared:\", 1 - (1 - model1.score(X[['A']], y)) * (len(y) - 1) / (len(y) - 2))\n",
        "\n",
        "print(\"Model 2 R-squared:\", model2.score(X, y))\n",
        "print(\"Model 2 Adjusted R-squared:\", 1 - (1 - model2.score(X, y)) * (len(y) - 1) / (len(y) - 4))"
      ],
      "metadata": {
        "colab": {
          "base_uri": "https://localhost:8080/"
        },
        "id": "lUJtt2JTyzNI",
        "outputId": "40fd2957-c559-4523-eee5-35bf6a4e4d0b"
      },
      "execution_count": null,
      "outputs": [
        {
          "output_type": "stream",
          "name": "stdout",
          "text": [
            "Model 1 R-squared: 1.0\n",
            "Model 1 Adjusted R-squared: 1.0\n",
            "Model 2 R-squared: 1.0\n",
            "Model 2 Adjusted R-squared: 1.0\n"
          ]
        }
      ]
    },
    {
      "cell_type": "markdown",
      "source": [
        "# Practical"
      ],
      "metadata": {
        "id": "yfUuxqGty3uI"
      }
    },
    {
      "cell_type": "markdown",
      "source": [
        "Q1. Write a Python script that calculates the Mean Squared Error (MSE) and Mean Absolute Error (MAE) for a\n",
        "multiple linear regression model using Seaborn's \"diamonds\" datasetK"
      ],
      "metadata": {
        "id": "j188pt0wy7uI"
      }
    },
    {
      "cell_type": "code",
      "source": [
        "# Import necessary libraries\n",
        "import seaborn as sns\n",
        "from sklearn.model_selection import train_test_split\n",
        "from sklearn.linear_model import LinearRegression\n",
        "from sklearn.metrics import mean_squared_error, mean_absolute_error\n",
        "# Import pandas for data manipulation and preprocessing\n",
        "import pandas as pd\n",
        "\n",
        "# Load Seaborn's diamonds dataset\n",
        "diamonds = sns.load_dataset('diamonds')\n",
        "\n",
        "# Define features (X) and target (y)\n",
        "X = diamonds[['carat', 'cut', 'color', 'clarity']]\n",
        "y = diamonds['price']\n",
        "\n",
        "# Perform one-hot encoding on categorical features\n",
        "X = pd.get_dummies(X, columns=['cut', 'color', 'clarity'], drop_first=True)\n",
        "# drop_first=True to avoid multicollinearity\n",
        "\n",
        "# Split data into training and testing sets\n",
        "X_train, X_test, y_train, y_test = train_test_split(X, y, test_size=0.2, random_state=42)\n",
        "\n",
        "# Create and train multiple linear regression model\n",
        "model = LinearRegression()\n",
        "model.fit(X_train, y_train)\n",
        "\n",
        "# Make predictions on testing set\n",
        "y_pred = model.predict(X_test)\n",
        "\n",
        "# Calculate Mean Squared Error (MSE)\n",
        "mse = mean_squared_error(y_test, y_pred)\n",
        "print(f'Mean Squared Error (MSE): {mse}')\n",
        "\n",
        "# Calculate Mean Absolute Error (MAE)\n",
        "mae = mean_absolute_error(y_test, y_pred)\n",
        "print(f'Mean Absolute Error (MAE): {mae}')"
      ],
      "metadata": {
        "colab": {
          "base_uri": "https://localhost:8080/"
        },
        "id": "XtCX-9dhy-0A",
        "outputId": "4fcf8b6c-5595-4c0d-a2c1-1ac7a901d36b"
      },
      "execution_count": null,
      "outputs": [
        {
          "output_type": "stream",
          "name": "stdout",
          "text": [
            "Mean Squared Error (MSE): 1346335.5901003846\n",
            "Mean Absolute Error (MAE): 802.1158989237308\n"
          ]
        }
      ]
    },
    {
      "cell_type": "markdown",
      "source": [
        "Q2. Write a Python script to calculate and print Mean Squared Error (MSE), Mean Absolute Error (MAE), and\n",
        "Root Mean Squared Error (RMSE) for a linear regression model."
      ],
      "metadata": {
        "id": "aekMS1lCzF_X"
      }
    },
    {
      "cell_type": "code",
      "source": [
        "# prompt: Write a Python script to calculate and print Mean Squared Error (MSE), Mean Absolute Error (MAE), and\n",
        "# Root Mean Squared Error (RMSE) for a linear regression modelK\n",
        "\n",
        "# Assuming you have y_true (actual values) and y_pred (predicted values) from your model\n",
        "\n",
        "import numpy as np\n",
        "from sklearn.metrics import mean_squared_error, mean_absolute_error\n",
        "\n",
        "# Sample data (replace with your actual data)\n",
        "y_true = np.array([1, 2, 3, 4, 5])\n",
        "y_pred = np.array([1.1, 1.9, 3.2, 3.8, 5.1])\n",
        "\n",
        "\n",
        "# Calculate Mean Squared Error (MSE)\n",
        "mse = mean_squared_error(y_true, y_pred)\n",
        "print(f\"Mean Squared Error (MSE): {mse}\")\n",
        "\n",
        "# Calculate Mean Absolute Error (MAE)\n",
        "mae = mean_absolute_error(y_true, y_pred)\n",
        "print(f\"Mean Absolute Error (MAE): {mae}\")\n",
        "\n",
        "# Calculate Root Mean Squared Error (RMSE)\n",
        "rmse = np.sqrt(mse)  # RMSE is the square root of MSE\n",
        "print(f\"Root Mean Squared Error (RMSE): {rmse}\")"
      ],
      "metadata": {
        "colab": {
          "base_uri": "https://localhost:8080/"
        },
        "id": "N2pHuj1czGmg",
        "outputId": "a84bb889-3dff-4d58-b718-1e7a5d6c272e"
      },
      "execution_count": null,
      "outputs": [
        {
          "output_type": "stream",
          "name": "stdout",
          "text": [
            "Mean Squared Error (MSE): 0.02200000000000002\n",
            "Mean Absolute Error (MAE): 0.14000000000000004\n",
            "Root Mean Squared Error (RMSE): 0.14832396974191334\n"
          ]
        }
      ]
    },
    {
      "cell_type": "markdown",
      "source": [
        "Q3. Write a Python script to check if the assumptions of linear regression are met. Use a scatter plot to check\n",
        "linearity, residuals plot for homoscedasticity, and correlation matrix for multicollinearity."
      ],
      "metadata": {
        "id": "qX5oFBMjzGvg"
      }
    },
    {
      "cell_type": "code",
      "source": [
        "# prompt: Write a Python script to check if the assumptions of linear regression are met. Use a scatter plot to check\n",
        "# linearity, residuals plot for homoscedasticity, and correlation matrix for multicollinearity\n",
        "\n",
        "import matplotlib.pyplot as plt\n",
        "import scipy.stats as stats\n",
        "import statsmodels.formula.api as smf\n",
        "import pandas as pd\n",
        "import numpy as np\n",
        "from statsmodels.stats.outliers_influence import variance_inflation_factor\n",
        "import seaborn as sns\n",
        "\n",
        "def check_linear_regression_assumptions(X, y):\n",
        "    \"\"\"\n",
        "    Checks assumptions of linear regression using visualizations and statistical tests.\n",
        "\n",
        "    Args:\n",
        "        X (pd.DataFrame): Independent variables.\n",
        "        y (pd.Series): Dependent variable.\n",
        "    \"\"\"\n",
        "\n",
        "    # 1. Linearity: Scatter plots of independent vs. dependent variables\n",
        "    for col in X.columns:\n",
        "        plt.figure()\n",
        "        plt.scatter(X[col], y)\n",
        "        plt.xlabel(col)\n",
        "        plt.ylabel('Dependent Variable')\n",
        "        plt.title(f'Scatter Plot: {col} vs. Dependent Variable')\n",
        "        plt.show()\n",
        "\n",
        "\n",
        "    # 2. Homoscedasticity: Residuals plot\n",
        "    model = smf.ols(f'{y.name} ~ {\" + \".join(X.columns)}', data=pd.concat([X, y], axis=1)).fit()\n",
        "    residuals = model.resid\n",
        "    plt.figure()\n",
        "    plt.scatter(model.fittedvalues, residuals)\n",
        "    plt.xlabel('Fitted Values')\n",
        "    plt.ylabel('Residuals')\n",
        "    plt.title('Residuals Plot')\n",
        "    plt.axhline(y=0, color='r', linestyle='--')\n",
        "    plt.show()\n",
        "\n",
        "    # 3. Multicollinearity: Correlation matrix\n",
        "    correlation_matrix = X.corr()\n",
        "    plt.figure(figsize=(10, 8))\n",
        "    sns.heatmap(correlation_matrix, annot=True, cmap='coolwarm', fmt=\".2f\")\n",
        "    plt.title('Correlation Matrix of Independent Variables')\n",
        "    plt.show()\n",
        "\n",
        "    # Calculate VIF for multicollinearity\n",
        "    vif_data = pd.DataFrame()\n",
        "    vif_data[\"feature\"] = X.columns\n",
        "    vif_data[\"VIF\"] = [variance_inflation_factor(X.values, i) for i in range(len(X.columns))]\n",
        "    print(vif_data)\n",
        "\n",
        "# Example usage (replace with your actual data):\n",
        "# Sample data (replace with your dataset)\n",
        "np.random.seed(0)  # for reproducibility\n",
        "X = pd.DataFrame({'feature1': np.random.rand(50), 'feature2': np.random.rand(50)})\n",
        "y = 2*X['feature1'] + 3*X['feature2'] + np.random.randn(50)\n",
        "y = pd.Series(y, name='target')\n",
        "\n",
        "\n",
        "check_linear_regression_assumptions(X, y)"
      ],
      "metadata": {
        "colab": {
          "base_uri": "https://localhost:8080/",
          "height": 1000
        },
        "id": "Usmw9MRTzG4o",
        "outputId": "18185ab9-9948-44ab-a54d-620ef1b3ea62"
      },
      "execution_count": null,
      "outputs": [
        {
          "output_type": "display_data",
          "data": {
            "text/plain": [
              "<Figure size 640x480 with 1 Axes>"
            ],
            "image/png": "[encoded data removed]"
          },
          "metadata": {}
        },
        {
          "output_type": "display_data",
          "data": {
            "text/plain": [
              "<Figure size 640x480 with 1 Axes>"
            ],
            "image/png": "[encoded data removed]"
          },
          "metadata": {}
        },
        {
          "output_type": "display_data",
          "data": {
            "text/plain": [
              "<Figure size 640x480 with 1 Axes>"
            ],
            "image/png": "[encoded data removed]"
          },
          "metadata": {}
        },
        {
          "output_type": "display_data",
          "data": {
            "text/plain": [
              "<Figure size 1000x800 with 2 Axes>"
            ],
            "image/png": "[encoded data removed]"
          },
          "metadata": {}
        },
        {
          "output_type": "stream",
          "name": "stdout",
          "text": [
            "    feature       VIF\n",
            "0  feature1  1.986329\n",
            "1  feature2  1.986329\n"
          ]
        }
      ]
    },
    {
      "cell_type": "markdown",
      "source": [
        "Q4. Create a machine learning pipeline that standardizes the features, fits a linear regression model, and\n",
        "evaluates the model’s R-squared score."
      ],
      "metadata": {
        "id": "-VfRIJvXzHBp"
      }
    },
    {
      "cell_type": "code",
      "source": [
        "# prompt: Create a machine learning pipeline that standardizes the features, fits a linear regression model, and\n",
        "# evaluates the model’s R-squared score\n",
        "\n",
        "import pandas as pd\n",
        "import numpy as np\n",
        "from sklearn.model_selection import train_test_split\n",
        "from sklearn.preprocessing import StandardScaler\n",
        "from sklearn.linear_model import LinearRegression\n",
        "from sklearn.pipeline import Pipeline\n",
        "from sklearn.metrics import r2_score\n",
        "\n",
        "# Sample data (replace with your dataset)\n",
        "np.random.seed(0)\n",
        "X = pd.DataFrame({'feature1': np.random.rand(100), 'feature2': np.random.rand(100)})\n",
        "y = 2*X['feature1'] + 3*X['feature2'] + np.random.randn(100)\n",
        "\n",
        "\n",
        "# Split data into training and testing sets\n",
        "X_train, X_test, y_train, y_test = train_test_split(X, y, test_size=0.2, random_state=42)\n",
        "\n",
        "# Create a pipeline\n",
        "pipeline = Pipeline([\n",
        "    ('scaler', StandardScaler()),  # Standardize features\n",
        "    ('regressor', LinearRegression())  # Fit linear regression model\n",
        "])\n",
        "\n",
        "# Fit the pipeline to the training data\n",
        "pipeline.fit(X_train, y_train)\n",
        "\n",
        "# Make predictions on the testing data\n",
        "y_pred = pipeline.predict(X_test)\n",
        "\n",
        "# Evaluate the model's R-squared score\n",
        "r2 = r2_score(y_test, y_pred)\n",
        "print(f\"R-squared score: {r2}\")"
      ],
      "metadata": {
        "colab": {
          "base_uri": "https://localhost:8080/"
        },
        "id": "zRZMbixPzHKT",
        "outputId": "95152972-3d82-4e89-d55b-3dca16e4cc3f"
      },
      "execution_count": null,
      "outputs": [
        {
          "output_type": "stream",
          "name": "stdout",
          "text": [
            "R-squared score: 0.28919644926539956\n"
          ]
        }
      ]
    },
    {
      "cell_type": "markdown",
      "source": [
        "Q5. Implement a simple linear regression model on a dataset and print the model's coefficients, intercept,\n",
        "and R-squared score."
      ],
      "metadata": {
        "id": "khY-qjfHzHRE"
      }
    },
    {
      "cell_type": "code",
      "source": [
        "# prompt: Implement a simple linear regression model on a dataset and print the model's coefficients, intercept,\n",
        "# and R-squared score\n",
        "\n",
        "from sklearn.linear_model import LinearRegression\n",
        "from sklearn.metrics import r2_score\n",
        "import numpy as np\n",
        "\n",
        "# Sample data (replace with your dataset)\n",
        "X = np.array([[1], [2], [3], [4], [5]])\n",
        "y = np.array([2, 4, 5, 4, 5])\n",
        "\n",
        "# Create and train the linear regression model\n",
        "model = LinearRegression()\n",
        "model.fit(X, y)\n",
        "\n",
        "# Print the model's coefficients, intercept, and R-squared score\n",
        "print(\"Coefficients:\", model.coef_)\n",
        "print(\"Intercept:\", model.intercept_)\n",
        "print(\"R-squared:\", model.score(X, y))"
      ],
      "metadata": {
        "colab": {
          "base_uri": "https://localhost:8080/"
        },
        "id": "g1KCySnHzHaQ",
        "outputId": "3aa23c0b-0ee1-48da-8916-69a1be7e1f36"
      },
      "execution_count": null,
      "outputs": [
        {
          "output_type": "stream",
          "name": "stdout",
          "text": [
            "Coefficients: [0.6]\n",
            "Intercept: 2.2\n",
            "R-squared: 0.6000000000000001\n"
          ]
        }
      ]
    },
    {
      "cell_type": "markdown",
      "source": [
        "Q6. Fit a simple linear regression model to the 'tips' dataset and print the slope and intercept of the regression\n",
        "line."
      ],
      "metadata": {
        "id": "91Q1ff7ozHjA"
      }
    },
    {
      "cell_type": "code",
      "source": [
        "# prompt: Fit a simple linear regression model to the 'tips' dataset and print the slope and intercept of the regression\n",
        "# line\n",
        "\n",
        "import seaborn as sns\n",
        "import statsmodels.formula.api as smf\n",
        "\n",
        "# Load the tips dataset\n",
        "tips = sns.load_dataset('tips')\n",
        "\n",
        "# Fit the linear regression model\n",
        "model = smf.ols('tip ~ total_bill', data=tips).fit()\n",
        "\n",
        "# Print the slope and intercept\n",
        "print(\"Slope:\", model.params['total_bill'])\n",
        "print(\"Intercept:\", model.params['Intercept'])"
      ],
      "metadata": {
        "colab": {
          "base_uri": "https://localhost:8080/"
        },
        "id": "ryOsVkVyzHrD",
        "outputId": "c96c8b62-eecb-49bc-f63c-679513f7d5f4"
      },
      "execution_count": null,
      "outputs": [
        {
          "output_type": "stream",
          "name": "stdout",
          "text": [
            "Slope: 0.1050245173843534\n",
            "Intercept: 0.9202696135546726\n"
          ]
        }
      ]
    },
    {
      "cell_type": "markdown",
      "source": [
        "Q7. Write a Python script that fits a linear regression model to a synthetic dataset with one feature. Use the\n",
        "model to predict new values and plot the data points along with the regression line."
      ],
      "metadata": {
        "id": "rKlhnK6y0B34"
      }
    },
    {
      "cell_type": "code",
      "source": [
        "# prompt: Write a Python script that fits a linear regression model to a synthetic dataset with one feature. Use the\n",
        "# model to predict new values and plot the data points along with the regression line\n",
        "\n",
        "import matplotlib.pyplot as plt\n",
        "import numpy as np\n",
        "from sklearn.linear_model import LinearRegression\n",
        "\n",
        "# Generate synthetic data\n",
        "np.random.seed(0)\n",
        "X = np.random.rand(100, 1) * 10\n",
        "y = 2 * X + 1 + np.random.randn(100, 1)\n",
        "\n",
        "# Create and train the linear regression model\n",
        "model = LinearRegression()\n",
        "model.fit(X, y)\n",
        "\n",
        "# Predict new values\n",
        "X_new = np.array([[0], [10]])\n",
        "y_pred = model.predict(X_new)\n",
        "\n",
        "# Plot the data points and the regression line\n",
        "plt.scatter(X, y, label='Data Points')\n",
        "plt.plot(X_new, y_pred, color='red', label='Regression Line')\n",
        "plt.xlabel('Feature')\n",
        "plt.ylabel('Target')\n",
        "plt.title('Linear Regression')\n",
        "plt.legend()\n",
        "plt.show()"
      ],
      "metadata": {
        "colab": {
          "base_uri": "https://localhost:8080/",
          "height": 472
        },
        "id": "J3i4oy1N0CMA",
        "outputId": "78027eb1-cdc1-41a9-899e-acee50a668a4"
      },
      "execution_count": null,
      "outputs": [
        {
          "output_type": "display_data",
          "data": {
            "text/plain": [
              "<Figure size 640x480 with 1 Axes>"
            ],
            "image/png": "[encoded data removed]"
          },
          "metadata": {}
        }
      ]
    },
    {
      "cell_type": "markdown",
      "source": [
        "Q8. Write a Python script that pickles a trained linear regression model and saves it to a file."
      ],
      "metadata": {
        "id": "OQb55Mv00Ce3"
      }
    },
    {
      "cell_type": "code",
      "source": [
        "# prompt: Write a Python script that pickles a trained linear regression model and saves it to a file\n",
        "\n",
        "import pickle\n",
        "from sklearn.linear_model import LinearRegression\n",
        "\n",
        "# Sample data (replace with your actual data)\n",
        "X = [[1], [2], [3], [4], [5]]\n",
        "y = [2, 4, 5, 4, 5]\n",
        "\n",
        "# Create and train the model\n",
        "model = LinearRegression()\n",
        "model.fit(X, y)\n",
        "\n",
        "# Save the model to a file\n",
        "filename = 'linear_regression_model.pkl'\n",
        "pickle.dump(model, open(filename, 'wb'))\n",
        "\n",
        "print(f\"Model saved to {filename}\")"
      ],
      "metadata": {
        "colab": {
          "base_uri": "https://localhost:8080/"
        },
        "id": "mXxOmcIJ0Ctw",
        "outputId": "d033b19d-ede4-4b00-c782-ff71ffa05020"
      },
      "execution_count": null,
      "outputs": [
        {
          "output_type": "stream",
          "name": "stdout",
          "text": [
            "Model saved to linear_regression_model.pkl\n"
          ]
        }
      ]
    },
    {
      "cell_type": "markdown",
      "source": [
        "Q9. Write a Python script that fits a polynomial regression model (degree 2) to a dataset and plots the\n",
        "regression curve."
      ],
      "metadata": {
        "id": "QkDr5RUv0C4g"
      }
    },
    {
      "cell_type": "code",
      "source": [
        "# prompt: Write a Python script that fits a polynomial regression model (degree 2) to a dataset and plots the\n",
        "# regression curve\n",
        "\n",
        "import numpy as np\n",
        "import matplotlib.pyplot as plt\n",
        "from sklearn.preprocessing import PolynomialFeatures\n",
        "from sklearn.linear_model import LinearRegression\n",
        "\n",
        "# Sample data (replace with your dataset)\n",
        "X = np.array([1, 2, 3, 4, 5]).reshape(-1, 1)  # Reshape X to a 2D array\n",
        "y = np.array([2, 1, 4, 3, 5])\n",
        "\n",
        "# Create polynomial features (degree 2)\n",
        "poly = PolynomialFeatures(degree=2)\n",
        "X_poly = poly.fit_transform(X)\n",
        "\n",
        "# Create and train the linear regression model\n",
        "model = LinearRegression()\n",
        "model.fit(X_poly, y)\n",
        "\n",
        "# Generate points for the regression curve\n",
        "X_plot = np.linspace(X.min(), X.max(), 100).reshape(-1, 1)\n",
        "X_plot_poly = poly.transform(X_plot)\n",
        "y_plot = model.predict(X_plot_poly)\n",
        "\n",
        "# Plot the data points and the regression curve\n",
        "plt.scatter(X, y, label='Data Points')\n",
        "plt.plot(X_plot, y_plot, color='red', label='Regression Curve')\n",
        "plt.xlabel('X')\n",
        "plt.ylabel('y')\n",
        "plt.title('Polynomial Regression (Degree 2)')\n",
        "plt.legend()\n",
        "plt.show()"
      ],
      "metadata": {
        "colab": {
          "base_uri": "https://localhost:8080/",
          "height": 472
        },
        "id": "Z4JEvRFY0DD3",
        "outputId": "fba94d73-494a-45f0-eb35-0018efd25fe1"
      },
      "execution_count": null,
      "outputs": [
        {
          "output_type": "display_data",
          "data": {
            "text/plain": [
              "<Figure size 640x480 with 1 Axes>"
            ],
            "image/png": "[encoded data removed]"
          },
          "metadata": {}
        }
      ]
    },
    {
      "cell_type": "markdown",
      "source": [
        "Q10. Generate synthetic data for simple linear regression (use random values for X and y) and fit a linear\n",
        "regression model to the data. Print the model's coefficient and intercept."
      ],
      "metadata": {
        "id": "o6ux_tuo0DLK"
      }
    },
    {
      "cell_type": "code",
      "source": [
        "# prompt: Generate synthetic data for simple linear regression (use random values for X and y) and fit a linear\n",
        "# regression model to the data. Print the model's coefficient and intercept\n",
        "\n",
        "import numpy as np\n",
        "from sklearn.linear_model import LinearRegression\n",
        "\n",
        "# Generate synthetic data\n",
        "np.random.seed(0)  # for reproducibility\n",
        "X = np.random.rand(100, 1) * 10\n",
        "y = 2 * X + 1 + np.random.randn(100, 1)\n",
        "\n",
        "# Create and train the linear regression model\n",
        "model = LinearRegression()\n",
        "model.fit(X, y)\n",
        "\n",
        "# Print the model's coefficient and intercept\n",
        "print(\"Coefficient:\", model.coef_[0][0])\n",
        "print(\"Intercept:\", model.intercept_[0])"
      ],
      "metadata": {
        "colab": {
          "base_uri": "https://localhost:8080/"
        },
        "id": "Aiyblhsh0DUY",
        "outputId": "070af4eb-857c-4ed8-9a79-e683454da5ef"
      },
      "execution_count": null,
      "outputs": [
        {
          "output_type": "stream",
          "name": "stdout",
          "text": [
            "Coefficient: 1.9936935021402045\n",
            "Intercept: 1.2221510774472257\n"
          ]
        }
      ]
    },
    {
      "cell_type": "markdown",
      "source": [
        "Q11. Write a Python script that fits a polynomial regression model (degree 3) to a synthetic non-linear dataset\n",
        "and plots the curve."
      ],
      "metadata": {
        "id": "FHgyPX2h0Dbw"
      }
    },
    {
      "cell_type": "code",
      "source": [
        "# prompt: Write a Python script that fits a polynomial regression model (degree 3) to a synthetic non-linear dataset\n",
        "# and plots the curvB\n",
        "\n",
        "import numpy as np\n",
        "import matplotlib.pyplot as plt\n",
        "from sklearn.linear_model import LinearRegression\n",
        "from sklearn.preprocessing import PolynomialFeatures\n",
        "\n",
        "# Generate synthetic non-linear data\n",
        "np.random.seed(0)\n",
        "X = np.sort(5 * np.random.rand(80, 1), axis=0)\n",
        "y = np.sin(X).ravel()\n",
        "y[::5] += 3 * (0.5 - np.random.rand(16))\n",
        "\n",
        "# Create polynomial features (degree 3)\n",
        "poly = PolynomialFeatures(degree=3)\n",
        "X_poly = poly.fit_transform(X)\n",
        "\n",
        "# Create and train the linear regression model\n",
        "model = LinearRegression()\n",
        "model.fit(X_poly, y)\n",
        "\n",
        "# Generate points for the regression curve\n",
        "X_plot = np.linspace(X.min(), X.max(), 100).reshape(-1, 1)\n",
        "X_plot_poly = poly.transform(X_plot)\n",
        "y_plot = model.predict(X_plot_poly)\n",
        "\n",
        "# Plot the data points and the regression curve\n",
        "plt.scatter(X, y, label='Data Points')\n",
        "plt.plot(X_plot, y_plot, color='red', label='Regression Curve')\n",
        "plt.xlabel('X')\n",
        "plt.ylabel('y')\n",
        "plt.title('Polynomial Regression (Degree 3)')\n",
        "plt.legend()\n",
        "plt.show()"
      ],
      "metadata": {
        "colab": {
          "base_uri": "https://localhost:8080/",
          "height": 472
        },
        "id": "TvH_ihym0Dj3",
        "outputId": "de902f19-a6d9-4a90-d2a7-3322f8156d54"
      },
      "execution_count": null,
      "outputs": [
        {
          "output_type": "display_data",
          "data": {
            "text/plain": [
              "<Figure size 640x480 with 1 Axes>"
            ],
            "image/png": "[encoded data removed]"
          },
          "metadata": {}
        }
      ]
    },
    {
      "cell_type": "markdown",
      "source": [
        "Q12. Write a Python script that fits a simple linear regression model with two features and prints the model's\n",
        "coefficients, intercept, and R-squared score."
      ],
      "metadata": {
        "id": "c0xwVE6u0Dqq"
      }
    },
    {
      "cell_type": "code",
      "source": [
        "# prompt: Write a Python script that fits a simple linear regression model with two features and prints the model's\n",
        "# coefficients, intercept, and R-squared score\n",
        "\n",
        "import numpy as np\n",
        "from sklearn.linear_model import LinearRegression\n",
        "\n",
        "# Sample data (replace with your actual data)\n",
        "X = np.array([[1, 2], [2, 3], [3, 4], [4, 5], [5, 6]])\n",
        "y = np.array([3, 5, 7, 9, 11])\n",
        "\n",
        "# Create and train the linear regression model\n",
        "model = LinearRegression()\n",
        "model.fit(X, y)\n",
        "\n",
        "# Print the model's coefficients, intercept, and R-squared score\n",
        "print(\"Coefficients:\", model.coef_)\n",
        "print(\"Intercept:\", model.intercept_)\n",
        "print(\"R-squared:\", model.score(X, y))"
      ],
      "metadata": {
        "colab": {
          "base_uri": "https://localhost:8080/"
        },
        "id": "g5FTiCSq0DzJ",
        "outputId": "ec491fe8-bc1a-4c27-ad5d-0436af95a583"
      },
      "execution_count": null,
      "outputs": [
        {
          "output_type": "stream",
          "name": "stdout",
          "text": [
            "Coefficients: [1. 1.]\n",
            "Intercept: 0.0\n",
            "R-squared: 1.0\n"
          ]
        }
      ]
    },
    {
      "cell_type": "markdown",
      "source": [
        "Q13. Write a Python script that generates a synthetic dataset, fits a linear regression model, and calculates the\n",
        "Mean Squared Error (MSE), Mean Absolute Error (MAE), and Root Mean Squared Error (RMSE)."
      ],
      "metadata": {
        "id": "jzDIqNCl0763"
      }
    },
    {
      "cell_type": "code",
      "source": [
        "# prompt: Write a Python script that generates a synthetic dataset, fits a linear regression model, and calculates the\n",
        "# Mean Squared Error (MSE), Mean Absolute Error (MAE), and Root Mean Squared Error (RMSE)\n",
        "\n",
        "import numpy as np\n",
        "from sklearn.linear_model import LinearRegression\n",
        "from sklearn.metrics import mean_squared_error, mean_absolute_error\n",
        "\n",
        "# Generate synthetic data\n",
        "np.random.seed(0)\n",
        "X = np.random.rand(100, 1) * 10\n",
        "y = 2 * X + 1 + np.random.randn(100, 1)\n",
        "\n",
        "# Split data into training and testing sets (optional but recommended)\n",
        "X_train = X[:80]\n",
        "X_test = X[80:]\n",
        "y_train = y[:80]\n",
        "y_test = y[80:]\n",
        "\n",
        "# Create and train the linear regression model\n",
        "model = LinearRegression()\n",
        "model.fit(X_train, y_train)\n",
        "\n",
        "# Make predictions on the test set\n",
        "y_pred = model.predict(X_test)\n",
        "\n",
        "# Calculate MSE\n",
        "mse = mean_squared_error(y_test, y_pred)\n",
        "print(f\"Mean Squared Error (MSE): {mse}\")\n",
        "\n",
        "# Calculate MAE\n",
        "mae = mean_absolute_error(y_test, y_pred)\n",
        "print(f\"Mean Absolute Error (MAE): {mae}\")\n",
        "\n",
        "# Calculate RMSE\n",
        "rmse = np.sqrt(mse)\n",
        "print(f\"Root Mean Squared Error (RMSE): {rmse}\")"
      ],
      "metadata": {
        "colab": {
          "base_uri": "https://localhost:8080/"
        },
        "id": "1lilTz5D08DZ",
        "outputId": "7f31caf0-4aaf-4145-e3df-f2eb1ad428a2"
      },
      "execution_count": null,
      "outputs": [
        {
          "output_type": "stream",
          "name": "stdout",
          "text": [
            "Mean Squared Error (MSE): 0.9000820622604001\n",
            "Mean Absolute Error (MAE): 0.8135806021736997\n",
            "Root Mean Squared Error (RMSE): 0.948726547673459\n"
          ]
        }
      ]
    },
    {
      "cell_type": "markdown",
      "source": [
        "Q14. Write a Python script that uses the Variance Inflation Factor (VIF) to check for multicollinearity in a\n",
        "dataset with multiple features."
      ],
      "metadata": {
        "id": "d-5Ow8gT08Tg"
      }
    },
    {
      "cell_type": "code",
      "source": [
        "# prompt: Write a Python script that uses the Variance Inflation Factor (VIF) to check for multicollinearity in a\n",
        "# dataset with multiple features\n",
        "\n",
        "from statsmodels.stats.outliers_influence import variance_inflation_factor\n",
        "\n",
        "def calculate_vif(X):\n",
        "    \"\"\"\n",
        "    Calculates the Variance Inflation Factor (VIF) for each feature in a dataset.\n",
        "\n",
        "    Args:\n",
        "        X (pd.DataFrame): DataFrame containing the features.\n",
        "\n",
        "    Returns:\n",
        "        pd.DataFrame: DataFrame with features and their corresponding VIF values.\n",
        "    \"\"\"\n",
        "    vif_data = pd.DataFrame()\n",
        "    vif_data[\"feature\"] = X.columns\n",
        "    vif_data[\"VIF\"] = [variance_inflation_factor(X.values, i) for i in range(len(X.columns))]\n",
        "    return vif_data\n",
        "\n",
        "# Example usage (replace with your actual data):\n",
        "# Assuming you have a pandas DataFrame 'X' with your features\n",
        "# Sample data\n",
        "X = pd.DataFrame({'feature1': np.random.rand(50), 'feature2': np.random.rand(50), 'feature3':np.random.rand(50)})\n",
        "\n",
        "vif_values = calculate_vif(X)\n",
        "vif_values"
      ],
      "metadata": {
        "colab": {
          "base_uri": "https://localhost:8080/",
          "height": 143
        },
        "id": "x6Nwa42H08cZ",
        "outputId": "53461e17-d1a9-4615-9956-93ffb3e2309f"
      },
      "execution_count": null,
      "outputs": [
        {
          "output_type": "execute_result",
          "data": {
            "text/plain": [
              "    feature       VIF\n",
              "0  feature1  2.652770\n",
              "1  feature2  2.548005\n",
              "2  feature3  2.932009"
            ],
            "text/html": [
              "\n",
              "  <div id=\"df-62487c8f-16ab-4f76-99f0-d09b61af1357\" class=\"colab-df-container\">\n",
              "    <div>\n",
              "<style scoped>\n",
              "    .dataframe tbody tr th:only-of-type {\n",
              "        vertical-align: middle;\n",
              "    }\n",
              "\n",
              "    .dataframe tbody tr th {\n",
              "        vertical-align: top;\n",
              "    }\n",
              "\n",
              "    .dataframe thead th {\n",
              "        text-align: right;\n",
              "    }\n",
              "</style>\n",
              "<table border=\"1\" class=\"dataframe\">\n",
              "  <thead>\n",
              "    <tr style=\"text-align: right;\">\n",
              "      <th></th>\n",
              "      <th>feature</th>\n",
              "      <th>VIF</th>\n",
              "    </tr>\n",
              "  </thead>\n",
              "  <tbody>\n",
              "    <tr>\n",
              "      <th>0</th>\n",
              "      <td>feature1</td>\n",
              "      <td>2.652770</td>\n",
              "    </tr>\n",
              "    <tr>\n",
              "      <th>1</th>\n",
              "      <td>feature2</td>\n",
              "      <td>2.548005</td>\n",
              "    </tr>\n",
              "    <tr>\n",
              "      <th>2</th>\n",
              "      <td>feature3</td>\n",
              "      <td>2.932009</td>\n",
              "    </tr>\n",
              "  </tbody>\n",
              "</table>\n",
              "</div>\n",
              "    <div class=\"colab-df-buttons\">\n",
              "\n",
              "  <div class=\"colab-df-container\">\n",
              "    <button class=\"colab-df-convert\" onclick=\"convertToInteractive('df-62487c8f-16ab-4f76-99f0-d09b61af1357')\"\n",
              "            title=\"Convert this dataframe to an interactive table.\"\n",
              "            style=\"display:none;\">\n",
              "\n",
              "  <svg xmlns=\"http://www.w3.org/2000/svg\" height=\"24px\" viewBox=\"0 -960 960 960\">\n",
              "    <path d=\"M120-120v-720h720v720H120Zm60-500h600v-160H180v160Zm220 220h160v-160H400v160Zm0 220h160v-160H400v160ZM180-400h160v-160H180v160Zm440 0h160v-160H620v160ZM180-180h160v-160H180v160Zm440 0h160v-160H620v160Z\"/>\n",
              "  </svg>\n",
              "    </button>\n",
              "\n",
              "  <style>\n",
              "    .colab-df-container {\n",
              "      display:flex;\n",
              "      gap: 12px;\n",
              "    }\n",
              "\n",
              "    .colab-df-convert {\n",
              "      background-color: #E8F0FE;\n",
              "      border: none;\n",
              "      border-radius: 50%;\n",
              "      cursor: pointer;\n",
              "      display: none;\n",
              "      fill: #1967D2;\n",
              "      height: 32px;\n",
              "      padding: 0 0 0 0;\n",
              "      width: 32px;\n",
              "    }\n",
              "\n",
              "    .colab-df-convert:hover {\n",
              "      background-color: #E2EBFA;\n",
              "      box-shadow: 0px 1px 2px rgba(60, 64, 67, 0.3), 0px 1px 3px 1px rgba(60, 64, 67, 0.15);\n",
              "      fill: #174EA6;\n",
              "    }\n",
              "\n",
              "    .colab-df-buttons div {\n",
              "      margin-bottom: 4px;\n",
              "    }\n",
              "\n",
              "    [theme=dark] .colab-df-convert {\n",
              "      background-color: #3B4455;\n",
              "      fill: #D2E3FC;\n",
              "    }\n",
              "\n",
              "    [theme=dark] .colab-df-convert:hover {\n",
              "      background-color: #434B5C;\n",
              "      box-shadow: 0px 1px 3px 1px rgba(0, 0, 0, 0.15);\n",
              "      filter: drop-shadow(0px 1px 2px rgba(0, 0, 0, 0.3));\n",
              "      fill: #FFFFFF;\n",
              "    }\n",
              "  </style>\n",
              "\n",
              "    <script>\n",
              "      const buttonEl =\n",
              "        document.querySelector('#df-62487c8f-16ab-4f76-99f0-d09b61af1357 button.colab-df-convert');\n",
              "      buttonEl.style.display =\n",
              "        google.colab.kernel.accessAllowed ? 'block' : 'none';\n",
              "\n",
              "      async function convertToInteractive(key) {\n",
              "        const element = document.querySelector('#df-62487c8f-16ab-4f76-99f0-d09b61af1357');\n",
              "        const dataTable =\n",
              "          await google.colab.kernel.invokeFunction('convertToInteractive',\n",
              "                                                    [key], {});\n",
              "        if (!dataTable) return;\n",
              "\n",
              "        const docLinkHtml = 'Like what you see? Visit the ' +\n",
              "          '<a target=\"_blank\" href=https://colab.research.google.com/notebooks/data_table.ipynb>data table notebook</a>'\n",
              "          + ' to learn more about interactive tables.';\n",
              "        element.innerHTML = '';\n",
              "        dataTable['output_type'] = 'display_data';\n",
              "        await google.colab.output.renderOutput(dataTable, element);\n",
              "        const docLink = document.createElement('div');\n",
              "        docLink.innerHTML = docLinkHtml;\n",
              "        element.appendChild(docLink);\n",
              "      }\n",
              "    </script>\n",
              "  </div>\n",
              "\n",
              "\n",
              "<div id=\"df-16923b55-ac10-421a-9922-650158b388a0\">\n",
              "  <button class=\"colab-df-quickchart\" onclick=\"quickchart('df-16923b55-ac10-421a-9922-650158b388a0')\"\n",
              "            title=\"Suggest charts\"\n",
              "            style=\"display:none;\">\n",
              "\n",
              "<svg xmlns=\"http://www.w3.org/2000/svg\" height=\"24px\"viewBox=\"0 0 24 24\"\n",
              "     width=\"24px\">\n",
              "    <g>\n",
              "        <path d=\"M19 3H5c-1.1 0-2 .9-2 2v14c0 1.1.9 2 2 2h14c1.1 0 2-.9 2-2V5c0-1.1-.9-2-2-2zM9 17H7v-7h2v7zm4 0h-2V7h2v10zm4 0h-2v-4h2v4z\"/>\n",
              "    </g>\n",
              "</svg>\n",
              "  </button>\n",
              "\n",
              "<style>\n",
              "  .colab-df-quickchart {\n",
              "      --bg-color: #E8F0FE;\n",
              "      --fill-color: #1967D2;\n",
              "      --hover-bg-color: #E2EBFA;\n",
              "      --hover-fill-color: #174EA6;\n",
              "      --disabled-fill-color: #AAA;\n",
              "      --disabled-bg-color: #DDD;\n",
              "  }\n",
              "\n",
              "  [theme=dark] .colab-df-quickchart {\n",
              "      --bg-color: #3B4455;\n",
              "      --fill-color: #D2E3FC;\n",
              "      --hover-bg-color: #434B5C;\n",
              "      --hover-fill-color: #FFFFFF;\n",
              "      --disabled-bg-color: #3B4455;\n",
              "      --disabled-fill-color: #666;\n",
              "  }\n",
              "\n",
              "  .colab-df-quickchart {\n",
              "    background-color: var(--bg-color);\n",
              "    border: none;\n",
              "    border-radius: 50%;\n",
              "    cursor: pointer;\n",
              "    display: none;\n",
              "    fill: var(--fill-color);\n",
              "    height: 32px;\n",
              "    padding: 0;\n",
              "    width: 32px;\n",
              "  }\n",
              "\n",
              "  .colab-df-quickchart:hover {\n",
              "    background-color: var(--hover-bg-color);\n",
              "    box-shadow: 0 1px 2px rgba(60, 64, 67, 0.3), 0 1px 3px 1px rgba(60, 64, 67, 0.15);\n",
              "    fill: var(--button-hover-fill-color);\n",
              "  }\n",
              "\n",
              "  .colab-df-quickchart-complete:disabled,\n",
              "  .colab-df-quickchart-complete:disabled:hover {\n",
              "    background-color: var(--disabled-bg-color);\n",
              "    fill: var(--disabled-fill-color);\n",
              "    box-shadow: none;\n",
              "  }\n",
              "\n",
              "  .colab-df-spinner {\n",
              "    border: 2px solid var(--fill-color);\n",
              "    border-color: transparent;\n",
              "    border-bottom-color: var(--fill-color);\n",
              "    animation:\n",
              "      spin 1s steps(1) infinite;\n",
              "  }\n",
              "\n",
              "  @keyframes spin {\n",
              "    0% {\n",
              "      border-color: transparent;\n",
              "      border-bottom-color: var(--fill-color);\n",
              "      border-left-color: var(--fill-color);\n",
              "    }\n",
              "    20% {\n",
              "      border-color: transparent;\n",
              "      border-left-color: var(--fill-color);\n",
              "      border-top-color: var(--fill-color);\n",
              "    }\n",
              "    30% {\n",
              "      border-color: transparent;\n",
              "      border-left-color: var(--fill-color);\n",
              "      border-top-color: var(--fill-color);\n",
              "      border-right-color: var(--fill-color);\n",
              "    }\n",
              "    40% {\n",
              "      border-color: transparent;\n",
              "      border-right-color: var(--fill-color);\n",
              "      border-top-color: var(--fill-color);\n",
              "    }\n",
              "    60% {\n",
              "      border-color: transparent;\n",
              "      border-right-color: var(--fill-color);\n",
              "    }\n",
              "    80% {\n",
              "      border-color: transparent;\n",
              "      border-right-color: var(--fill-color);\n",
              "      border-bottom-color: var(--fill-color);\n",
              "    }\n",
              "    90% {\n",
              "      border-color: transparent;\n",
              "      border-bottom-color: var(--fill-color);\n",
              "    }\n",
              "  }\n",
              "</style>\n",
              "\n",
              "  <script>\n",
              "    async function quickchart(key) {\n",
              "      const quickchartButtonEl =\n",
              "        document.querySelector('#' + key + ' button');\n",
              "      quickchartButtonEl.disabled = true;  // To prevent multiple clicks.\n",
              "      quickchartButtonEl.classList.add('colab-df-spinner');\n",
              "      try {\n",
              "        const charts = await google.colab.kernel.invokeFunction(\n",
              "            'suggestCharts', [key], {});\n",
              "      } catch (error) {\n",
              "        console.error('Error during call to suggestCharts:', error);\n",
              "      }\n",
              "      quickchartButtonEl.classList.remove('colab-df-spinner');\n",
              "      quickchartButtonEl.classList.add('colab-df-quickchart-complete');\n",
              "    }\n",
              "    (() => {\n",
              "      let quickchartButtonEl =\n",
              "        document.querySelector('#df-16923b55-ac10-421a-9922-650158b388a0 button');\n",
              "      quickchartButtonEl.style.display =\n",
              "        google.colab.kernel.accessAllowed ? 'block' : 'none';\n",
              "    })();\n",
              "  </script>\n",
              "</div>\n",
              "\n",
              "  <div id=\"id_41c0b8f0-3f5a-4d76-9666-ce4bbaebb114\">\n",
              "    <style>\n",
              "      .colab-df-generate {\n",
              "        background-color: #E8F0FE;\n",
              "        border: none;\n",
              "        border-radius: 50%;\n",
              "        cursor: pointer;\n",
              "        display: none;\n",
              "        fill: #1967D2;\n",
              "        height: 32px;\n",
              "        padding: 0 0 0 0;\n",
              "        width: 32px;\n",
              "      }\n",
              "\n",
              "      .colab-df-generate:hover {\n",
              "        background-color: #E2EBFA;\n",
              "        box-shadow: 0px 1px 2px rgba(60, 64, 67, 0.3), 0px 1px 3px 1px rgba(60, 64, 67, 0.15);\n",
              "        fill: #174EA6;\n",
              "      }\n",
              "\n",
              "      [theme=dark] .colab-df-generate {\n",
              "        background-color: #3B4455;\n",
              "        fill: #D2E3FC;\n",
              "      }\n",
              "\n",
              "      [theme=dark] .colab-df-generate:hover {\n",
              "        background-color: #434B5C;\n",
              "        box-shadow: 0px 1px 3px 1px rgba(0, 0, 0, 0.15);\n",
              "        filter: drop-shadow(0px 1px 2px rgba(0, 0, 0, 0.3));\n",
              "        fill: #FFFFFF;\n",
              "      }\n",
              "    </style>\n",
              "    <button class=\"colab-df-generate\" onclick=\"generateWithVariable('vif_values')\"\n",
              "            title=\"Generate code using this dataframe.\"\n",
              "            style=\"display:none;\">\n",
              "\n",
              "  <svg xmlns=\"http://www.w3.org/2000/svg\" height=\"24px\"viewBox=\"0 0 24 24\"\n",
              "       width=\"24px\">\n",
              "    <path d=\"M7,19H8.4L18.45,9,17,7.55,7,17.6ZM5,21V16.75L18.45,3.32a2,2,0,0,1,2.83,0l1.4,1.43a1.91,1.91,0,0,1,.58,1.4,1.91,1.91,0,0,1-.58,1.4L9.25,21ZM18.45,9,17,7.55Zm-12,3A5.31,5.31,0,0,0,4.9,8.1,5.31,5.31,0,0,0,1,6.5,5.31,5.31,0,0,0,4.9,4.9,5.31,5.31,0,0,0,6.5,1,5.31,5.31,0,0,0,8.1,4.9,5.31,5.31,0,0,0,12,6.5,5.46,5.46,0,0,0,6.5,12Z\"/>\n",
              "  </svg>\n",
              "    </button>\n",
              "    <script>\n",
              "      (() => {\n",
              "      const buttonEl =\n",
              "        document.querySelector('#id_41c0b8f0-3f5a-4d76-9666-ce4bbaebb114 button.colab-df-generate');\n",
              "      buttonEl.style.display =\n",
              "        google.colab.kernel.accessAllowed ? 'block' : 'none';\n",
              "\n",
              "      buttonEl.onclick = () => {\n",
              "        google.colab.notebook.generateWithVariable('vif_values');\n",
              "      }\n",
              "      })();\n",
              "    </script>\n",
              "  </div>\n",
              "\n",
              "    </div>\n",
              "  </div>\n"
            ],
            "application/vnd.google.colaboratory.intrinsic+json": {
              "type": "dataframe",
              "variable_name": "vif_values",
              "summary": "{\n  \"name\": \"vif_values\",\n  \"rows\": 3,\n  \"fields\": [\n    {\n      \"column\": \"feature\",\n      \"properties\": {\n        \"dtype\": \"string\",\n        \"num_unique_values\": 3,\n        \"samples\": [\n          \"feature1\",\n          \"feature2\",\n          \"feature3\"\n        ],\n        \"semantic_type\": \"\",\n        \"description\": \"\"\n      }\n    },\n    {\n      \"column\": \"VIF\",\n      \"properties\": {\n        \"dtype\": \"number\",\n        \"std\": 0.19849809874762217,\n        \"min\": 2.5480051297834883,\n        \"max\": 2.932009008099417,\n        \"num_unique_values\": 3,\n        \"samples\": [\n          2.652770312364845,\n          2.5480051297834883,\n          2.932009008099417\n        ],\n        \"semantic_type\": \"\",\n        \"description\": \"\"\n      }\n    }\n  ]\n}"
            }
          },
          "metadata": {},
          "execution_count": 22
        }
      ]
    },
    {
      "cell_type": "markdown",
      "source": [
        "Q15. Write a Python script that generates synthetic data for a polynomial relationship (degree 4), fits a\n",
        "polynomial regression model, and plots the regression curve."
      ],
      "metadata": {
        "id": "lsCj-SKG08oA"
      }
    },
    {
      "cell_type": "code",
      "source": [
        "# prompt: Write a Python script that generates synthetic data for a polynomial relationship (degree 4), fits a\n",
        "# polynomial regression model, and plots the regression curve\n",
        "\n",
        "import numpy as np\n",
        "import matplotlib.pyplot as plt\n",
        "from sklearn.preprocessing import PolynomialFeatures\n",
        "from sklearn.linear_model import LinearRegression\n",
        "\n",
        "# Generate synthetic data with a polynomial relationship (degree 4)\n",
        "np.random.seed(0)\n",
        "X = np.sort(6 * np.random.rand(50, 1), axis=0)\n",
        "y = 0.5 * X**4 + X**3 - 2*X**2 + X + 2 + np.random.randn(50, 1)\n",
        "\n",
        "\n",
        "# Create polynomial features (degree 4)\n",
        "poly_features = PolynomialFeatures(degree=4)\n",
        "X_poly = poly_features.fit_transform(X)\n",
        "\n",
        "# Fit the polynomial regression model\n",
        "model = LinearRegression()\n",
        "model.fit(X_poly, y)\n",
        "\n",
        "# Generate points for the regression curve\n",
        "X_plot = np.linspace(X.min(), X.max(), 100).reshape(-1, 1)\n",
        "X_plot_poly = poly_features.transform(X_plot)\n",
        "y_plot = model.predict(X_plot_poly)\n",
        "\n",
        "\n",
        "# Plot the data points and the regression curve\n",
        "plt.scatter(X, y, label='Data Points')\n",
        "plt.plot(X_plot, y_plot, color='red', label='Regression Curve')\n",
        "plt.xlabel('X')\n",
        "plt.ylabel('y')\n",
        "plt.title('Polynomial Regression (Degree 4)')\n",
        "plt.legend()\n",
        "plt.show()"
      ],
      "metadata": {
        "colab": {
          "base_uri": "https://localhost:8080/",
          "height": 472
        },
        "id": "32_tUbOH08wA",
        "outputId": "0b814e1c-8725-44d6-f808-4f8bdefde1c3"
      },
      "execution_count": null,
      "outputs": [
        {
          "output_type": "display_data",
          "data": {
            "text/plain": [
              "<Figure size 640x480 with 1 Axes>"
            ],
            "image/png": "[encoded data removed]"
          },
          "metadata": {}
        }
      ]
    },
    {
      "cell_type": "markdown",
      "source": [
        "Q16. Write a Python script that creates a machine learning pipeline with data standardization and a multiple\n",
        "linear regression model, and prints the R-squared score."
      ],
      "metadata": {
        "id": "H8Nbd4Cn083C"
      }
    },
    {
      "cell_type": "code",
      "source": [
        "# prompt: Write a Python script that creates a machine learning pipeline with data standardization and a multiple\n",
        "# linear regression model, and prints the R-squared score\n",
        "\n",
        "from sklearn.metrics import r2_score\n",
        "from sklearn.preprocessing import StandardScaler\n",
        "from sklearn.pipeline import Pipeline\n",
        "from sklearn.linear_model import LinearRegression\n",
        "from sklearn.model_selection import train_test_split\n",
        "import numpy as np\n",
        "import pandas as pd\n",
        "\n",
        "# Sample data (replace with your dataset)\n",
        "np.random.seed(0)\n",
        "X = pd.DataFrame({'feature1': np.random.rand(100), 'feature2': np.random.rand(100)})\n",
        "y = 2*X['feature1'] + 3*X['feature2'] + np.random.randn(100)\n",
        "\n",
        "# Split data into training and testing sets\n",
        "X_train, X_test, y_train, y_test = train_test_split(X, y, test_size=0.2, random_state=42)\n",
        "\n",
        "# Create a pipeline\n",
        "pipeline = Pipeline([\n",
        "    ('scaler', StandardScaler()),  # Standardize features\n",
        "    ('regressor', LinearRegression())  # Fit linear regression model\n",
        "])\n",
        "\n",
        "# Fit the pipeline to the training data\n",
        "pipeline.fit(X_train, y_train)\n",
        "\n",
        "# Make predictions on the testing data\n",
        "y_pred = pipeline.predict(X_test)\n",
        "\n",
        "# Evaluate the model's R-squared score\n",
        "r2 = r2_score(y_test, y_pred)\n",
        "print(f\"R-squared score: {r2}\")"
      ],
      "metadata": {
        "colab": {
          "base_uri": "https://localhost:8080/"
        },
        "id": "bmyjAD_s09DZ",
        "outputId": "9b51440c-cd67-48e3-c489-074c4e65c3ab"
      },
      "execution_count": null,
      "outputs": [
        {
          "output_type": "stream",
          "name": "stdout",
          "text": [
            "R-squared score: 0.28919644926539956\n"
          ]
        }
      ]
    },
    {
      "cell_type": "markdown",
      "source": [
        "Q17. Write a Python script that performs polynomial regression (degree 3) on a synthetic dataset and plots the\n",
        "regression curve."
      ],
      "metadata": {
        "id": "B5-aYWW609KG"
      }
    },
    {
      "cell_type": "code",
      "source": [
        "# prompt: Write a Python script that performs polynomial regression (degree 3) on a synthetic dataset and plots the\n",
        "# regression curve\n",
        "\n",
        "import numpy as np\n",
        "import matplotlib.pyplot as plt\n",
        "from sklearn.linear_model import LinearRegression\n",
        "from sklearn.preprocessing import PolynomialFeatures\n",
        "\n",
        "# Generate synthetic data\n",
        "np.random.seed(0)\n",
        "X = np.sort(5 * np.random.rand(80, 1), axis=0)\n",
        "y = np.sin(X).ravel()\n",
        "y[::5] += 3 * (0.5 - np.random.rand(16))\n",
        "\n",
        "# Create polynomial features (degree 3)\n",
        "poly = PolynomialFeatures(degree=3)\n",
        "X_poly = poly.fit_transform(X)\n",
        "\n",
        "# Create and train the linear regression model\n",
        "model = LinearRegression()\n",
        "model.fit(X_poly, y)\n",
        "\n",
        "# Generate points for the regression curve\n",
        "X_plot = np.linspace(X.min(), X.max(), 100).reshape(-1, 1)\n",
        "X_plot_poly = poly.transform(X_plot)\n",
        "y_plot = model.predict(X_plot_poly)\n",
        "\n",
        "# Plot the data points and the regression curve\n",
        "plt.scatter(X, y, label='Data Points')\n",
        "plt.plot(X_plot, y_plot, color='red', label='Regression Curve')\n",
        "plt.xlabel('X')\n",
        "plt.ylabel('y')\n",
        "plt.title('Polynomial Regression (Degree 3)')\n",
        "plt.legend()\n",
        "plt.show()"
      ],
      "metadata": {
        "colab": {
          "base_uri": "https://localhost:8080/",
          "height": 472
        },
        "id": "ZI4IFDIW09TQ",
        "outputId": "4064c8b8-f49b-4750-bd09-b1166cc9069f"
      },
      "execution_count": null,
      "outputs": [
        {
          "output_type": "display_data",
          "data": {
            "text/plain": [
              "<Figure size 640x480 with 1 Axes>"
            ],
            "image/png": "[encoded data removed]"
          },
          "metadata": {}
        }
      ]
    },
    {
      "cell_type": "markdown",
      "source": [
        "Q18. Write a Python script that performs multiple linear regression on a synthetic dataset with 5 features. Print\n",
        "the R-squared score and model coefficients."
      ],
      "metadata": {
        "id": "tHknOfUX09do"
      }
    },
    {
      "cell_type": "code",
      "source": [
        "# prompt: Write a Python script that performs multiple linear regression on a synthetic dataset with 5 features. Print\n",
        "# the R-squared score and model coefficients\n",
        "\n",
        "import numpy as np\n",
        "import pandas as pd\n",
        "from sklearn.linear_model import LinearRegression\n",
        "from sklearn.metrics import r2_score\n",
        "\n",
        "# Generate synthetic data with 5 features\n",
        "np.random.seed(0)\n",
        "X = np.random.rand(100, 5)  # 100 samples, 5 features\n",
        "y = 2*X[:, 0] + 3*X[:, 1] - X[:, 2] + 0.5*X[:, 3] - 1*X[:, 4] + np.random.randn(100) # Linear combination of features + noise\n",
        "\n",
        "# Create and train the linear regression model\n",
        "model = LinearRegression()\n",
        "model.fit(X, y)\n",
        "\n",
        "# Make predictions\n",
        "y_pred = model.predict(X)\n",
        "\n",
        "# Calculate the R-squared score\n",
        "r2 = r2_score(y, y_pred)\n",
        "\n",
        "# Print the R-squared score and coefficients\n",
        "print(f\"R-squared score: {r2}\")\n",
        "print(\"Coefficients:\", model.coef_)\n",
        "print(\"Intercept:\", model.intercept_)"
      ],
      "metadata": {
        "colab": {
          "base_uri": "https://localhost:8080/"
        },
        "id": "0S57sSDt09sw",
        "outputId": "51cd999d-c3c1-4af7-a27d-23833d94dd6b"
      },
      "execution_count": null,
      "outputs": [
        {
          "output_type": "stream",
          "name": "stdout",
          "text": [
            "R-squared score: 0.5002853233089913\n",
            "Coefficients: [ 1.99432073  2.740728   -0.49065456  0.49813507 -1.35436099]\n",
            "Intercept: 0.03629598205708584\n"
          ]
        }
      ]
    },
    {
      "cell_type": "markdown",
      "source": [
        "Q19. Write a Python script that generates synthetic data for linear regression, fits a model, and visualizes the\n",
        "data points along with the regression line."
      ],
      "metadata": {
        "id": "Um1JeThjQxof"
      }
    },
    {
      "cell_type": "code",
      "source": [
        "# prompt: Write a Python script that generates synthetic data for linear regression, fits a model, and visualizes the\n",
        "# data points along with the regression line\n",
        "\n",
        "from sklearn.linear_model import LinearRegression\n",
        "from sklearn.metrics import r2_score\n",
        "from sklearn.preprocessing import PolynomialFeatures\n",
        "import numpy as np\n",
        "import matplotlib.pyplot as plt\n",
        "\n",
        "# Generate synthetic data\n",
        "np.random.seed(0)\n",
        "X = np.random.rand(100, 1) * 10\n",
        "y = 2 * X + 1 + np.random.randn(100, 1)\n",
        "\n",
        "# Create and train the linear regression model\n",
        "model = LinearRegression()\n",
        "model.fit(X, y)\n",
        "\n",
        "# Predict new values\n",
        "X_new = np.array([[0], [10]])\n",
        "y_pred = model.predict(X_new)\n",
        "\n",
        "# Plot the data points and the regression line\n",
        "plt.scatter(X, y, label='Data Points')\n",
        "plt.plot(X_new, y_pred, color='red', label='Regression Line')\n",
        "plt.xlabel('Feature')\n",
        "plt.ylabel('Target')\n",
        "plt.title('Linear Regression')\n",
        "plt.legend()\n",
        "plt.show()"
      ],
      "metadata": {
        "colab": {
          "base_uri": "https://localhost:8080/",
          "height": 472
        },
        "id": "V97jvhjGQx1f",
        "outputId": "53dea194-6573-4746-e38c-f02bd822f2dc"
      },
      "execution_count": null,
      "outputs": [
        {
          "output_type": "display_data",
          "data": {
            "text/plain": [
              "<Figure size 640x480 with 1 Axes>"
            ],
            "image/png": "[encoded data removed]"
          },
          "metadata": {}
        }
      ]
    },
    {
      "cell_type": "markdown",
      "source": [
        "Q20. Create a synthetic dataset with 3 features and perform multiple linear regression. Print the model's R-squared score and coefficients."
      ],
      "metadata": {
        "id": "VnV5-sN-Qx_w"
      }
    },
    {
      "cell_type": "code",
      "source": [
        "# prompt: Create a synthetic dataset with 3 features and perform multiple linear regression. Print the model's R\u0002squared score and coefficients\n",
        "\n",
        "import numpy as np\n",
        "from sklearn.linear_model import LinearRegression\n",
        "from sklearn.metrics import r2_score\n",
        "\n",
        "# Generate synthetic data with 3 features\n",
        "np.random.seed(0)\n",
        "X = np.random.rand(100, 3)  # 100 samples, 3 features\n",
        "y = 2*X[:, 0] + 3*X[:, 1] - X[:, 2] + np.random.randn(100) # Linear combination of features + noise\n",
        "\n",
        "# Create and train the linear regression model\n",
        "model = LinearRegression()\n",
        "model.fit(X, y)\n",
        "\n",
        "# Make predictions\n",
        "y_pred = model.predict(X)\n",
        "\n",
        "# Calculate the R-squared score\n",
        "r2 = r2_score(y, y_pred)\n",
        "\n",
        "# Print the R-squared score and coefficients\n",
        "print(f\"R-squared score: {r2}\")\n",
        "print(\"Coefficients:\", model.coef_)\n",
        "print(\"Intercept:\", model.intercept_)"
      ],
      "metadata": {
        "colab": {
          "base_uri": "https://localhost:8080/"
        },
        "id": "UifEiA2vQyI_",
        "outputId": "81fb21f5-f3d4-45a9-f2a4-a6e141de0c1a"
      },
      "execution_count": null,
      "outputs": [
        {
          "output_type": "stream",
          "name": "stdout",
          "text": [
            "R-squared score: 0.5444402777223185\n",
            "Coefficients: [ 1.59132477  2.97995663 -0.74676901]\n",
            "Intercept: -0.04978609753164398\n"
          ]
        }
      ]
    },
    {
      "cell_type": "markdown",
      "source": [
        "Q21. Write a Python script to pickle a trained linear regression model, save it to a file, and load it back for\n",
        "prediction."
      ],
      "metadata": {
        "id": "XgPmjMZuQyTA"
      }
    },
    {
      "cell_type": "code",
      "source": [
        "# prompt: Write a Python script to pickle a trained linear regression model, save it to a file, and load it back for\n",
        "# prediction\n",
        "\n",
        "import pickle\n",
        "from sklearn.linear_model import LinearRegression\n",
        "\n",
        "# Sample data (replace with your actual data)\n",
        "X = [[1], [2], [3], [4], [5]]\n",
        "y = [2, 4, 5, 4, 5]\n",
        "\n",
        "# Create and train the model\n",
        "model = LinearRegression()\n",
        "model.fit(X, y)\n",
        "\n",
        "# Save the model to a file\n",
        "filename = 'linear_regression_model.pkl'\n",
        "pickle.dump(model, open(filename, 'wb'))\n",
        "\n",
        "print(f\"Model saved to {filename}\")\n",
        "\n",
        "# Load the model from the file\n",
        "loaded_model = pickle.load(open(filename, 'rb'))\n",
        "\n",
        "# Use the loaded model to make predictions\n",
        "new_data = [[6], [7]]\n",
        "predictions = loaded_model.predict(new_data)\n",
        "print(\"Predictions:\", predictions)"
      ],
      "metadata": {
        "colab": {
          "base_uri": "https://localhost:8080/"
        },
        "id": "KZL37mL1QycA",
        "outputId": "38c6de07-7289-4ad2-e569-0af9c6ff559e"
      },
      "execution_count": null,
      "outputs": [
        {
          "output_type": "stream",
          "name": "stdout",
          "text": [
            "Model saved to linear_regression_model.pkl\n",
            "Predictions: [5.8 6.4]\n"
          ]
        }
      ]
    },
    {
      "cell_type": "markdown",
      "source": [
        "Q22. Write a Python script to perform linear regression with categorical features using one-hot encoding. Use\n",
        "the Seaborn 'tips' dataset."
      ],
      "metadata": {
        "id": "DlJD9Vj1Qynp"
      }
    },
    {
      "cell_type": "code",
      "source": [
        "# prompt: Write a Python script to perform linear regression with categorical features using one-hot encoding. Use\n",
        "# the Seaborn 'tips' dataset\n",
        "\n",
        "from sklearn.preprocessing import OneHotEncoder\n",
        "from sklearn.compose import ColumnTransformer\n",
        "from sklearn.pipeline import Pipeline\n",
        "from sklearn.linear_model import LinearRegression\n",
        "from sklearn.model_selection import train_test_split\n",
        "from sklearn.metrics import r2_score\n",
        "import seaborn as sns\n",
        "import pandas as pd\n",
        "import numpy as np\n",
        "\n",
        "# Load the tips dataset\n",
        "tips = sns.load_dataset('tips')\n",
        "\n",
        "# Define features (X) and target (y)\n",
        "X = tips.drop('tip', axis=1)\n",
        "y = tips['tip']\n",
        "\n",
        "# Identify categorical features\n",
        "categorical_features = ['sex', 'smoker', 'day', 'time']\n",
        "\n",
        "# Create a column transformer for one-hot encoding\n",
        "preprocessor = ColumnTransformer(\n",
        "    transformers=[\n",
        "        ('cat', OneHotEncoder(handle_unknown='ignore'), categorical_features)\n",
        "    ],\n",
        "    remainder='passthrough'  # Keep numerical features as they are\n",
        ")\n",
        "\n",
        "# Create a pipeline\n",
        "pipeline = Pipeline([\n",
        "    ('preprocessor', preprocessor),\n",
        "    ('regressor', LinearRegression())\n",
        "])\n",
        "\n",
        "\n",
        "# Split data into training and testing sets\n",
        "X_train, X_test, y_train, y_test = train_test_split(X, y, test_size=0.2, random_state=42)\n",
        "\n",
        "# Fit the pipeline to the training data\n",
        "pipeline.fit(X_train, y_train)\n",
        "\n",
        "# Make predictions on the test data\n",
        "y_pred = pipeline.predict(X_test)\n",
        "\n",
        "# Evaluate the model\n",
        "r2 = r2_score(y_test, y_pred)\n",
        "print(f\"R-squared: {r2}\")"
      ],
      "metadata": {
        "colab": {
          "base_uri": "https://localhost:8080/"
        },
        "id": "xIJF-sQ4Qyyp",
        "outputId": "dd019698-4fb2-44f2-ed49-20a4720a683b"
      },
      "execution_count": null,
      "outputs": [
        {
          "output_type": "stream",
          "name": "stdout",
          "text": [
            "R-squared: 0.43730181943482516\n"
          ]
        }
      ]
    },
    {
      "cell_type": "markdown",
      "source": [
        "Q23. Compare Ridge Regression with Linear Regression on a synthetic dataset and print the coefficients and R-squared score."
      ],
      "metadata": {
        "id": "AWWbAGYWeGOZ"
      }
    },
    {
      "cell_type": "code",
      "source": [
        "\n",
        "from sklearn.linear_model import Ridge\n",
        "from sklearn.metrics import r2_score\n",
        "from sklearn.preprocessing import PolynomialFeatures\n",
        "from sklearn.model_selection import train_test_split\n",
        "import numpy as np\n",
        "import pandas as pd\n",
        "\n",
        "# Generate synthetic data\n",
        "np.random.seed(0)\n",
        "X = np.random.rand(100, 5)\n",
        "y = 2*X[:, 0] + 3*X[:, 1] - X[:, 2] + 0.5*X[:, 3] - X[:,4] + np.random.randn(100)\n",
        "\n",
        "# Split data\n",
        "X_train, X_test, y_train, y_test = train_test_split(X, y, test_size=0.2, random_state=42)\n",
        "\n",
        "# Linear Regression\n",
        "lr_model = LinearRegression()\n",
        "lr_model.fit(X_train, y_train)\n",
        "lr_y_pred = lr_model.predict(X_test)\n",
        "lr_r2 = r2_score(y_test, lr_y_pred)\n",
        "\n",
        "# Ridge Regression\n",
        "ridge_model = Ridge(alpha=1.0)  # Adjust alpha as needed\n",
        "ridge_model.fit(X_train, y_train)\n",
        "ridge_y_pred = ridge_model.predict(X_test)\n",
        "ridge_r2 = r2_score(y_test, ridge_y_pred)\n",
        "\n",
        "print(\"Linear Regression:\")\n",
        "print(\"Coefficients:\", lr_model.coef_)\n",
        "print(\"Intercept:\", lr_model.intercept_)\n",
        "print(\"R-squared:\", lr_r2)\n",
        "\n",
        "print(\"\\nRidge Regression:\")\n",
        "print(\"Coefficients:\", ridge_model.coef_)\n",
        "print(\"Intercept:\", ridge_model.intercept_)\n",
        "print(\"R-squared:\", ridge_r2)"
      ],
      "metadata": {
        "colab": {
          "base_uri": "https://localhost:8080/"
        },
        "id": "w7gkWoZ4eGhp",
        "outputId": "909396f6-f4b2-47bf-fbcc-9f2b46d23b8e"
      },
      "execution_count": null,
      "outputs": [
        {
          "output_type": "stream",
          "name": "stdout",
          "text": [
            "Linear Regression:\n",
            "Coefficients: [ 2.11216988  2.86635908 -0.59889517  0.80214549 -1.25697614]\n",
            "Intercept: -0.2652671124537396\n",
            "R-squared: 0.4898012864322301\n",
            "\n",
            "Ridge Regression:\n",
            "Coefficients: [ 1.73740858  2.39895811 -0.43340328  0.70489778 -1.08891429]\n",
            "Intercept: 0.02242669555343113\n",
            "R-squared: 0.5267200917374266\n"
          ]
        }
      ]
    },
    {
      "cell_type": "markdown",
      "source": [
        "Q24. Write a Python script that uses cross-validation to evaluate a Linear Regression model on a synthetic\n",
        "dataset."
      ],
      "metadata": {
        "id": "MmvAU3DVeGxj"
      }
    },
    {
      "cell_type": "code",
      "source": [
        "# prompt: Write a Python script that uses cross-validation to evaluate a Linear Regression model on a synthetic\n",
        "# dataset\n",
        "\n",
        "from sklearn.model_selection import cross_val_score\n",
        "from sklearn.linear_model import LinearRegression\n",
        "import numpy as np\n",
        "\n",
        "# Generate synthetic data\n",
        "np.random.seed(0)\n",
        "X = np.random.rand(100, 5)  # 100 samples, 5 features\n",
        "y = 2*X[:, 0] + 3*X[:, 1] - X[:, 2] + 0.5*X[:, 3] - 1*X[:, 4] + np.random.randn(100)\n",
        "\n",
        "# Create a Linear Regression model\n",
        "model = LinearRegression()\n",
        "\n",
        "# Perform 5-fold cross-validation\n",
        "scores = cross_val_score(model, X, y, cv=5, scoring='r2')\n",
        "\n",
        "# Print the cross-validation scores\n",
        "print(\"Cross-validation R^2 scores:\", scores)\n",
        "print(\"Average R^2 score:\", np.mean(scores))"
      ],
      "metadata": {
        "id": "iPGlikvYeG8_",
        "colab": {
          "base_uri": "https://localhost:8080/"
        },
        "outputId": "9f527ac4-82f8-4033-86b5-a9dfcd7735f8"
      },
      "execution_count": null,
      "outputs": [
        {
          "output_type": "stream",
          "name": "stdout",
          "text": [
            "Cross-validation R^2 scores: [0.54635038 0.08560252 0.52277293 0.49430308 0.25805659]\n",
            "Average R^2 score: 0.381417101066245\n"
          ]
        }
      ]
    },
    {
      "cell_type": "markdown",
      "source": [
        "Q25. Write a Python script that compares polynomial regression models of different degrees and prints the R-squared score for each."
      ],
      "metadata": {
        "id": "Y9Zeh4z-OL0I"
      }
    },
    {
      "cell_type": "code",
      "source": [
        "# prompt: Write a Python script that compares polynomial regression models of different degrees and prints the R\u0002squared score for each\n",
        "\n",
        "from sklearn.preprocessing import PolynomialFeatures\n",
        "from sklearn.linear_model import LinearRegression\n",
        "from sklearn.metrics import r2_score\n",
        "import numpy as np\n",
        "\n",
        "# Generate synthetic data\n",
        "np.random.seed(0)\n",
        "X = np.sort(5 * np.random.rand(80, 1), axis=0)\n",
        "y = np.sin(X).ravel()\n",
        "y[::5] += 3 * (0.5 - np.random.rand(16))\n",
        "\n",
        "# Degrees of polynomials to test\n",
        "degrees = [1, 2, 3, 4, 5]\n",
        "\n",
        "for degree in degrees:\n",
        "    # Create polynomial features\n",
        "    poly = PolynomialFeatures(degree=degree)\n",
        "    X_poly = poly.fit_transform(X)\n",
        "\n",
        "    # Create and train the model\n",
        "    model = LinearRegression()\n",
        "    model.fit(X_poly, y)\n",
        "\n",
        "    # Make predictions on the training data itself\n",
        "    y_pred = model.predict(X_poly)\n",
        "\n",
        "    # Calculate R-squared score\n",
        "    r2 = r2_score(y, y_pred)\n",
        "\n",
        "    print(f\"Polynomial degree {degree}: R-squared = {r2}\")"
      ],
      "metadata": {
        "colab": {
          "base_uri": "https://localhost:8080/"
        },
        "id": "cPXLp6HlOL-i",
        "outputId": "a1417863-5e1c-4ac4-f20d-3064590852de"
      },
      "execution_count": null,
      "outputs": [
        {
          "output_type": "stream",
          "name": "stdout",
          "text": [
            "Polynomial degree 1: R-squared = 0.5444159267136552\n",
            "Polynomial degree 2: R-squared = 0.6863975842378417\n",
            "Polynomial degree 3: R-squared = 0.7798695513749374\n",
            "Polynomial degree 4: R-squared = 0.7874248370622478\n",
            "Polynomial degree 5: R-squared = 0.7927116075338343\n"
          ]
        }
      ]
    },
    {
      "cell_type": "markdown",
      "source": [
        "Q26. Write a Python script that adds interaction terms to a linear regression model and prints the coefficients."
      ],
      "metadata": {
        "id": "qZ33P5siOMIH"
      }
    },
    {
      "cell_type": "code",
      "source": [
        "# prompt: Write a Python script that adds interaction terms to a linear regression model and prints the coefficients\n",
        "\n",
        "from sklearn.preprocessing import PolynomialFeatures\n",
        "from sklearn.linear_model import LinearRegression\n",
        "from sklearn.metrics import r2_score\n",
        "import numpy as np\n",
        "import pandas as pd\n",
        "\n",
        "# Generate synthetic data\n",
        "np.random.seed(0)\n",
        "X = np.random.rand(100, 2)\n",
        "y = 2*X[:, 0] + 3*X[:, 1] + X[:, 0] * X[:, 1] + np.random.randn(100)\n",
        "\n",
        "# Create interaction features\n",
        "poly = PolynomialFeatures(degree=2, interaction_only=True, include_bias=False)\n",
        "X_interaction = poly.fit_transform(X)\n",
        "\n",
        "# Fit linear regression model with interaction terms\n",
        "model = LinearRegression()\n",
        "model.fit(X_interaction, y)\n",
        "\n",
        "# Print coefficients\n",
        "print(\"Coefficients:\", model.coef_)\n",
        "print(\"Intercept:\", model.intercept_)"
      ],
      "metadata": {
        "colab": {
          "base_uri": "https://localhost:8080/"
        },
        "id": "CHKHOTTVOMSh",
        "outputId": "f35636ed-2c91-4ff9-f8b9-8d066000b7a7"
      },
      "execution_count": null,
      "outputs": [
        {
          "output_type": "stream",
          "name": "stdout",
          "text": [
            "Coefficients: [1.7479162  3.19733309 0.66002002]\n",
            "Intercept: 0.026492283647285397\n"
          ]
        }
      ]
    }
  ]
}