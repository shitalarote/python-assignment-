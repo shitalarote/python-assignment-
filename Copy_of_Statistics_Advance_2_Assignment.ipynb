{
  "nbformat": 4,
  "nbformat_minor": 0,
  "metadata": {
    "colab": {
      "provenance": [],
      "include_colab_link": true
    },
    "kernelspec": {
      "name": "python3",
      "display_name": "Python 3"
    },
    "language_info": {
      "name": "python"
    }
  },
  "cells": [
    {
      "cell_type": "markdown",
      "metadata": {
        "id": "view-in-github",
        "colab_type": "text"
      },
      "source": [
        "<a href=\"https://colab.research.google.com/github/shitalarote/python-assignment-/blob/main/Copy_of_Statistics_Advance_2_Assignment.ipynb\" target=\"_parent\"><img src=\"https://colab.research.google.com/assets/colab-badge.svg\" alt=\"Open In Colab\"/></a>"
      ]
    },
    {
      "cell_type": "markdown",
      "source": [
        "# **Statistics Advance 2 Assignment 2**\n",
        "\n",
        "---\n",
        "\n"
      ],
      "metadata": {
        "id": "V3GZb-Kc8Bpx"
      }
    },
    {
      "cell_type": "markdown",
      "source": [
        "**Q1.Generate a list of 100 integers containing values between 90 to 130 and store it in the variable `int_list'**\n",
        "**After generating the list, find the following:**"
      ],
      "metadata": {
        "id": "b7zdwxZ185Td"
      }
    },
    {
      "cell_type": "code",
      "source": [
        "import random\n",
        "\n",
        "# Generating a list of 100 integers between 90 and 130\n",
        "int_list = [random.randint(90, 130) for _ in range(100)]\n",
        "int_list\n"
      ],
      "metadata": {
        "colab": {
          "base_uri": "https://localhost:8080/"
        },
        "id": "8Aa00f9h-AYz",
        "outputId": "e17fd19a-76e8-4d28-ce84-52ead8972f69"
      },
      "execution_count": null,
      "outputs": [
        {
          "output_type": "execute_result",
          "data": {
            "text/plain": [
              "[94,\n",
              " 99,\n",
              " 122,\n",
              " 111,\n",
              " 127,\n",
              " 129,\n",
              " 116,\n",
              " 106,\n",
              " 129,\n",
              " 127,\n",
              " 101,\n",
              " 126,\n",
              " 100,\n",
              " 105,\n",
              " 130,\n",
              " 112,\n",
              " 95,\n",
              " 97,\n",
              " 98,\n",
              " 102,\n",
              " 102,\n",
              " 102,\n",
              " 106,\n",
              " 125,\n",
              " 91,\n",
              " 115,\n",
              " 97,\n",
              " 124,\n",
              " 107,\n",
              " 100,\n",
              " 126,\n",
              " 124,\n",
              " 112,\n",
              " 99,\n",
              " 124,\n",
              " 108,\n",
              " 94,\n",
              " 129,\n",
              " 130,\n",
              " 90,\n",
              " 127,\n",
              " 108,\n",
              " 114,\n",
              " 121,\n",
              " 112,\n",
              " 96,\n",
              " 99,\n",
              " 103,\n",
              " 117,\n",
              " 129,\n",
              " 111,\n",
              " 109,\n",
              " 100,\n",
              " 108,\n",
              " 124,\n",
              " 113,\n",
              " 117,\n",
              " 128,\n",
              " 96,\n",
              " 123,\n",
              " 111,\n",
              " 105,\n",
              " 130,\n",
              " 129,\n",
              " 108,\n",
              " 97,\n",
              " 126,\n",
              " 128,\n",
              " 128,\n",
              " 106,\n",
              " 96,\n",
              " 103,\n",
              " 118,\n",
              " 94,\n",
              " 104,\n",
              " 115,\n",
              " 113,\n",
              " 90,\n",
              " 91,\n",
              " 104,\n",
              " 108,\n",
              " 99,\n",
              " 112,\n",
              " 111,\n",
              " 130,\n",
              " 125,\n",
              " 116,\n",
              " 93,\n",
              " 90,\n",
              " 127,\n",
              " 96,\n",
              " 92,\n",
              " 101,\n",
              " 119,\n",
              " 128,\n",
              " 109,\n",
              " 105,\n",
              " 122,\n",
              " 118,\n",
              " 107]"
            ]
          },
          "metadata": {},
          "execution_count": 1
        }
      ]
    },
    {
      "cell_type": "code",
      "source": [
        "[120, 118, 91, 130, 108, 129, 110, 114, 108, 107, 95, 124, 90, 97, 97, 107, 115, 117, 103, 98, ...]\n"
      ],
      "metadata": {
        "colab": {
          "base_uri": "https://localhost:8080/"
        },
        "id": "5OUYKmCm-am8",
        "outputId": "76435570-9131-40b6-ec15-7f7d811ea104"
      },
      "execution_count": null,
      "outputs": [
        {
          "output_type": "execute_result",
          "data": {
            "text/plain": [
              "[120,\n",
              " 118,\n",
              " 91,\n",
              " 130,\n",
              " 108,\n",
              " 129,\n",
              " 110,\n",
              " 114,\n",
              " 108,\n",
              " 107,\n",
              " 95,\n",
              " 124,\n",
              " 90,\n",
              " 97,\n",
              " 97,\n",
              " 107,\n",
              " 115,\n",
              " 117,\n",
              " 103,\n",
              " 98,\n",
              " Ellipsis]"
            ]
          },
          "metadata": {},
          "execution_count": 2
        }
      ]
    },
    {
      "cell_type": "markdown",
      "source": [
        " (i) Write a Python function to calculate the mean of a given list of numbers.\n",
        "\n",
        "Create a function to find the median of a list of numbers."
      ],
      "metadata": {
        "id": "E9FVGAmS-mDH"
      }
    },
    {
      "cell_type": "code",
      "source": [
        "from typing import List\n",
        "\n",
        "# Function to calculate the mean of a list of numbers\n",
        "def calculate_mean(numbers: List[float]) -> float:\n",
        "    return sum(numbers) / len(numbers) if numbers else 0\n",
        "\n",
        "# Function to calculate the median of a list of numbers\n",
        "def calculate_median(numbers: List[float]) -> float:\n",
        "    sorted_numbers = sorted(numbers)\n",
        "    n = len(sorted_numbers)\n",
        "    if n == 0:\n",
        "        return 0  # Return 0 if the list is empty\n",
        "    midpoint = n // 2\n",
        "    if n % 2 == 1:\n",
        "        # If odd, return the middle number\n",
        "        return sorted_numbers[midpoint]\n",
        "    else:\n",
        "        # If even, return the average of the two middle numbers\n",
        "        return (sorted_numbers[midpoint - 1] + sorted_numbers[midpoint]) / 2\n",
        "\n",
        "# Testing the functions with int_list\n",
        "mean_value = calculate_mean(int_list)\n",
        "median_value = calculate_median(int_list)\n",
        "\n",
        "mean_value, median_value\n"
      ],
      "metadata": {
        "colab": {
          "base_uri": "https://localhost:8080/"
        },
        "id": "2oaC5H_e_Do2",
        "outputId": "13709bac-8933-4567-f3f0-158e5a9836a4"
      },
      "execution_count": null,
      "outputs": [
        {
          "output_type": "execute_result",
          "data": {
            "text/plain": [
              "(110.9, 110.0)"
            ]
          },
          "metadata": {},
          "execution_count": 3
        }
      ]
    },
    {
      "cell_type": "markdown",
      "source": [
        "(ii) Develop a program to compute the mode of a list of integers"
      ],
      "metadata": {
        "id": "P9daUmaG_b5B"
      }
    },
    {
      "cell_type": "code",
      "source": [
        "from collections import Counter\n",
        "from typing import List, Union\n",
        "\n",
        "# Function to calculate the mode of a list of integers\n",
        "def calculate_mode(numbers: List[int]) -> Union[int, List[int], None]:\n",
        "    if not numbers:\n",
        "        return None  # Return None if the list is empty\n",
        "\n",
        "    frequency_counts = Counter(numbers)\n",
        "    max_frequency = max(frequency_counts.values())\n",
        "\n",
        "    # Find all numbers that have the max frequency\n",
        "    mode_values = [num for num, freq in frequency_counts.items() if freq == max_frequency]\n",
        "\n",
        "    # Return the mode(s) - if there's only one mode, return it as an integer; otherwise, return the list\n",
        "    return mode_values[0] if len(mode_values) == 1 else mode_values\n",
        "\n",
        "# Testing the mode function with int_list\n",
        "mode_value = calculate_mode(int_list)\n",
        "\n",
        "mode_value\n"
      ],
      "metadata": {
        "colab": {
          "base_uri": "https://localhost:8080/"
        },
        "id": "AjzifYYc_gkq",
        "outputId": "c2529161-c36e-41bf-8919-087381f15aa0"
      },
      "execution_count": null,
      "outputs": [
        {
          "output_type": "execute_result",
          "data": {
            "text/plain": [
              "[129, 108]"
            ]
          },
          "metadata": {},
          "execution_count": 4
        }
      ]
    },
    {
      "cell_type": "markdown",
      "source": [
        "(iii) Implement a function to calculate the weighted mean of a list of values and their corresponding weights."
      ],
      "metadata": {
        "id": "rhhsU8LV_uHZ"
      }
    },
    {
      "cell_type": "code",
      "source": [
        "from typing import List\n",
        "\n",
        "# Function to calculate the weighted mean of values with corresponding weights\n",
        "def calculate_weighted_mean(values: List[float], weights: List[float]) -> float:\n",
        "    if len(values) != len(weights) or len(values) == 0:\n",
        "        raise ValueError(\"Values and weights must be of the same non-zero length\")\n",
        "\n",
        "    weighted_sum = sum(value * weight for value, weight in zip(values, weights))\n",
        "    total_weight = sum(weights)\n",
        "\n",
        "    # Calculate and return the weighted mean\n",
        "    return weighted_sum / total_weight if total_weight != 0 else 0\n",
        "\n",
        "# Example test values\n",
        "values = [90, 100, 110, 120]\n",
        "weights = [1, 2, 3, 4]\n",
        "\n",
        "# Calculate the weighted mean for the example\n",
        "weighted_mean_value = calculate_weighted_mean(values, weights)\n",
        "\n",
        "weighted_mean_value\n"
      ],
      "metadata": {
        "colab": {
          "base_uri": "https://localhost:8080/"
        },
        "id": "tge5ULRA_7wu",
        "outputId": "59e78297-87f3-467a-80e9-5d6ec09b55b1"
      },
      "execution_count": null,
      "outputs": [
        {
          "output_type": "execute_result",
          "data": {
            "text/plain": [
              "110.0"
            ]
          },
          "metadata": {},
          "execution_count": 5
        }
      ]
    },
    {
      "cell_type": "markdown",
      "source": [
        " (iv) Write a Python function to find the geometric mean of a list of positive numbers."
      ],
      "metadata": {
        "id": "0ajlESofAE4L"
      }
    },
    {
      "cell_type": "code",
      "source": [
        "import math\n",
        "from typing import List\n",
        "\n",
        "# Function to calculate the geometric mean of a list of positive numbers\n",
        "def calculate_geometric_mean(numbers: List[float]) -> float:\n",
        "    if not numbers or any(num <= 0 for num in numbers):\n",
        "        raise ValueError(\"All numbers must be positive and the list must be non-empty\")\n",
        "\n",
        "    product = math.prod(numbers)\n",
        "    n = len(numbers)\n",
        "\n",
        "    # Calculate the geometric mean\n",
        "    return product ** (1 / n)\n",
        "\n",
        "# Example list to test the function\n",
        "example_numbers = [1.5, 2.0, 3.0, 4.0]\n",
        "\n",
        "# Calculating the geometric mean of the example list\n",
        "geometric_mean_value = calculate_geometric_mean(example_numbers)\n",
        "\n",
        "geometric_mean_value\n"
      ],
      "metadata": {
        "colab": {
          "base_uri": "https://localhost:8080/"
        },
        "id": "hwFcg9-vAG06",
        "outputId": "3f205497-806d-4953-cc0e-7b20bf6122ce"
      },
      "execution_count": null,
      "outputs": [
        {
          "output_type": "execute_result",
          "data": {
            "text/plain": [
              "2.449489742783178"
            ]
          },
          "metadata": {},
          "execution_count": 6
        }
      ]
    },
    {
      "cell_type": "markdown",
      "source": [
        "(v) Create a program to calculate the harmonic mean of a list of values."
      ],
      "metadata": {
        "id": "IbyGKCvlAaiR"
      }
    },
    {
      "cell_type": "code",
      "source": [
        "from typing import List\n",
        "\n",
        "# Function to calculate the harmonic mean of a list of values\n",
        "def calculate_harmonic_mean(numbers: List[float]) -> float:\n",
        "    if not numbers or any(num <= 0 for num in numbers):\n",
        "        raise ValueError(\"All numbers must be positive and the list must be non-empty\")\n",
        "\n",
        "    n = len(numbers)\n",
        "    reciprocal_sum = sum(1 / num for num in numbers)\n",
        "\n",
        "    # Calculate the harmonic mean\n",
        "    return n / reciprocal_sum\n",
        "\n",
        "# Example list to test the function\n",
        "example_numbers = [1.5, 2.0, 3.0, 4.0]\n",
        "\n",
        "# Calculating the harmonic mean of the example list\n",
        "harmonic_mean_value = calculate_harmonic_mean(example_numbers)\n",
        "\n",
        "harmonic_mean_value\n"
      ],
      "metadata": {
        "colab": {
          "base_uri": "https://localhost:8080/"
        },
        "id": "cfnkSx3RAb21",
        "outputId": "d1c70d38-4507-4e0a-8883-85c6d62e2bd5"
      },
      "execution_count": null,
      "outputs": [
        {
          "output_type": "execute_result",
          "data": {
            "text/plain": [
              "2.285714285714286"
            ]
          },
          "metadata": {},
          "execution_count": 7
        }
      ]
    },
    {
      "cell_type": "markdown",
      "source": [
        "(vi) Build a function to determine the midrange of a list of numbers (average of the minimum and maximum)."
      ],
      "metadata": {
        "id": "XhdSbenCAp0l"
      }
    },
    {
      "cell_type": "code",
      "source": [
        "from typing import List\n",
        "\n",
        "# Function to calculate the midrange of a list of numbers\n",
        "def calculate_midrange(numbers: List[float]) -> float:\n",
        "    if not numbers:\n",
        "        raise ValueError(\"The list must be non-empty\")\n",
        "\n",
        "    min_value = min(numbers)\n",
        "    max_value = max(numbers)\n",
        "\n",
        "    # Calculate the midrange\n",
        "    return (min_value + max_value) / 2\n",
        "\n",
        "# Example list to test the function\n",
        "example_numbers = [1.5, 2.0, 3.0, 4.0]\n",
        "\n",
        "# Calculating the midrange of the example list\n",
        "midrange_value = calculate_midrange(example_numbers)\n",
        "\n",
        "midrange_value\n"
      ],
      "metadata": {
        "colab": {
          "base_uri": "https://localhost:8080/"
        },
        "id": "KZaPLw6sArFy",
        "outputId": "8656a56e-f01c-40a5-88e6-d8ee95a5342c"
      },
      "execution_count": null,
      "outputs": [
        {
          "output_type": "execute_result",
          "data": {
            "text/plain": [
              "2.75"
            ]
          },
          "metadata": {},
          "execution_count": 8
        }
      ]
    },
    {
      "cell_type": "markdown",
      "source": [
        "(vii) Implement a Python program to find the trimmed mean of a list, excluding a certain percentage of\n",
        "outliers."
      ],
      "metadata": {
        "id": "5PdCWT3NA7zf"
      }
    },
    {
      "cell_type": "code",
      "source": [
        "from typing import List\n",
        "import statistics\n",
        "\n",
        "def calculate_trimmed_mean(numbers: List[float], percentage: float) -> float:\n",
        "    if not 0 <= percentage < 0.5:\n",
        "        raise ValueError(\"Percentage must be between 0 and 0.5 (50%)\")\n",
        "    if not numbers:\n",
        "        raise ValueError(\"The list must be non-empty\")\n",
        "\n",
        "    # Sort the list to trim the outliers\n",
        "    sorted_numbers = sorted(numbers)\n",
        "    n = len(sorted_numbers)\n",
        "\n",
        "    # Calculate the number of elements to trim from each end\n",
        "    trim_count = int(n * percentage)\n",
        "\n",
        "    # Trim the sorted list\n",
        "    trimmed_numbers = sorted_numbers[trim_count:n - trim_count]\n",
        "\n",
        "    # Calculate the mean of the trimmed list\n",
        "    return statistics.mean(trimmed_numbers)\n",
        "\n",
        "# Example usage:\n",
        "example_numbers = [10, 20, 30, 40, 50, 100, 150]\n",
        "trimmed_mean_value = calculate_trimmed_mean(example_numbers, 0.1)  # Excludes 10% from each end\n",
        "print(\"Trimmed Mean:\", trimmed_mean_value)\n"
      ],
      "metadata": {
        "colab": {
          "base_uri": "https://localhost:8080/"
        },
        "id": "57sbzF7GBID7",
        "outputId": "21ec04f4-838d-4c0d-9c6a-e15663088901"
      },
      "execution_count": null,
      "outputs": [
        {
          "output_type": "stream",
          "name": "stdout",
          "text": [
            "Trimmed Mean: 57.142857142857146\n"
          ]
        }
      ]
    },
    {
      "cell_type": "markdown",
      "source": [
        "**Q2.Generate a list of 500 integers containing values between 200 to 300 and store it in the variable `int_list2`.**\n",
        "**After generating the list, find the following**"
      ],
      "metadata": {
        "id": "h09z2_NIBvvu"
      }
    },
    {
      "cell_type": "code",
      "source": [
        "# Generating a list of 500 integers between 200 and 300\n",
        "int_list2 = [random.randint(200, 300) for _ in range(500)]\n",
        "int_list2[:10]  # Displaying the first 10 elements as a preview\n"
      ],
      "metadata": {
        "colab": {
          "base_uri": "https://localhost:8080/"
        },
        "id": "iYLPCzJ8Caq1",
        "outputId": "76cad21b-a5a1-4c4b-9fcc-9ae7a40b7a5d"
      },
      "execution_count": null,
      "outputs": [
        {
          "output_type": "execute_result",
          "data": {
            "text/plain": [
              "[277, 262, 282, 230, 252, 292, 213, 238, 283, 217]"
            ]
          },
          "metadata": {},
          "execution_count": 10
        }
      ]
    },
    {
      "cell_type": "markdown",
      "source": [
        "(i) Compare the given list of visualization for the given data:\n",
        "\n",
        " 1. Frequency & Gaussian distribution\n",
        "\n",
        " 2. Frequency smoothened KDE plot\n",
        "\n",
        "3. Gaussian distribution & smoothened KDE plot"
      ],
      "metadata": {
        "id": "VgwfSJM4Cp6G"
      }
    },
    {
      "cell_type": "markdown",
      "source": [
        " 1. Frequency & Gaussian distribution"
      ],
      "metadata": {
        "id": "zrwM-U8xDFZu"
      }
    },
    {
      "cell_type": "markdown",
      "source": [
        "**Ans.** To compare the visualization of a **Frequency Distribution** and a **Gaussian Distribution**, let's break down the characteristics of each:\n",
        "\n",
        "### 1. **Frequency Distribution**\n",
        "- **Definition**: A frequency distribution is a way to represent how often each value or range of values appears in a dataset. It is often visualized using histograms or bar charts.\n",
        "- **Purpose**: It shows the distribution of data across different intervals or categories.\n",
        "- **Visualization Characteristics**:\n",
        "  - **Shape**: It can take various forms, depending on the dataset. The shape is not predetermined and can be skewed, uniform, bimodal, etc.\n",
        "  - **Axes**:\n",
        "    - **X-axis**: Represents the data intervals (bins) or specific categories.\n",
        "    - **Y-axis**: Represents the frequency or count of data points within each bin or category.\n",
        "  - **Appearance**: A histogram with bars that represent the frequency of data in each interval.\n",
        "\n",
        "#### Example:\n",
        "If you have data on the age of a group of people, a frequency distribution might show how many people fall into different age ranges (e.g., 0-10, 11-20, etc.).\n",
        "\n",
        "### 2. **Gaussian Distribution (Normal Distribution)**\n",
        "- **Definition**: A Gaussian distribution, also known as the normal distribution, is a continuous probability distribution that is symmetric about the mean, with a bell-shaped curve.\n",
        "- **Purpose**: It shows how data points are distributed around a central value (the mean) and is often used to model naturally occurring data, like height or test scores.\n",
        "- **Visualization Characteristics**:\n",
        "  - **Shape**: Symmetrical bell-shaped curve.\n",
        "  - **Axes**:\n",
        "    - **X-axis**: Represents the values of the data (e.g., test scores, height, etc.).\n",
        "    - **Y-axis**: Represents the probability density, showing how likely data points are to occur near specific values.\n",
        "  - **Appearance**: A smooth curve with the highest point at the mean, tapering off symmetrically toward both ends.\n",
        "  \n",
        "#### Example:\n",
        "The heights of adult humans generally follow a Gaussian distribution, where most people are close to the average height, with fewer people being extremely tall or short.\n",
        "\n",
        "### **Comparison**\n",
        "- **Shape**:\n",
        "  - **Frequency Distribution**: The shape is data-dependent and can be uneven (skewed, bimodal, etc.).\n",
        "  - **Gaussian Distribution**: Always forms a bell curve, symmetric around the mean.\n",
        "- **Interpretation**:\n",
        "  - **Frequency Distribution**: Focuses on how often each value occurs. It is useful for understanding the distribution across intervals.\n",
        "  - **Gaussian Distribution**: Provides insights into the probability of data points being close to the mean. It assumes a normal spread of data.\n",
        "- **Application**:\n",
        "  - **Frequency Distribution**: Good for both continuous and discrete data. It helps visualize raw data and distributions.\n",
        "  - **Gaussian Distribution**: More relevant for modeling continuous data that follows a normal distribution, often used in statistical analysis.\n",
        "\n",
        "### When to Use Each:\n",
        "- **Frequency Distribution** is used when you have a dataset and want to visualize its distribution and how frequently each value occurs.\n",
        "- **Gaussian Distribution** is used when you assume or want to test if the data follows a normal distribution. This is helpful in statistics for hypothesis testing, probability estimation, and data modeling.\n"
      ],
      "metadata": {
        "id": "n4RKAg_CDlnH"
      }
    },
    {
      "cell_type": "markdown",
      "source": [
        " 2. Frequency smoothened KDE plot"
      ],
      "metadata": {
        "id": "hT2EHokVD1oz"
      }
    },
    {
      "cell_type": "code",
      "source": [
        "import seaborn as sns\n",
        "import matplotlib.pyplot as plt\n",
        "\n",
        "# Example dataset\n",
        "data = [23, 45, 56, 67, 45, 56, 78, 45, 34, 22, 56, 67, 89, 45]\n",
        "\n",
        "# Create a KDE plot\n",
        "sns.kdeplot(data, shade=True)\n",
        "\n",
        "# Show the plot\n",
        "plt.show()\n"
      ],
      "metadata": {
        "colab": {
          "base_uri": "https://localhost:8080/",
          "height": 534
        },
        "id": "1FLrJKHREOFt",
        "outputId": "53e1a0a0-858f-4aaa-a923-b4049c85d4c4"
      },
      "execution_count": null,
      "outputs": [
        {
          "output_type": "stream",
          "name": "stderr",
          "text": [
            "<ipython-input-11-a1df39120b40>:8: FutureWarning: \n",
            "\n",
            "`shade` is now deprecated in favor of `fill`; setting `fill=True`.\n",
            "This will become an error in seaborn v0.14.0; please update your code.\n",
            "\n",
            "  sns.kdeplot(data, shade=True)\n"
          ]
        },
        {
          "output_type": "display_data",
          "data": {
            "text/plain": [
              "<Figure size 640x480 with 1 Axes>"
            ],
            "image/png": "[encoded data removed]"
          },
          "metadata": {}
        }
      ]
    },
    {
      "cell_type": "markdown",
      "source": [
        "3. Gaussian distribution & smoothened KDE plot"
      ],
      "metadata": {
        "id": "l-TawbT7EXRD"
      }
    },
    {
      "cell_type": "markdown",
      "source": [
        "**Ans.**### **Gaussian Distribution vs Smoothened KDE Plot**\n",
        "\n",
        "Both the **Gaussian Distribution** (Normal Distribution) and a **Smoothened KDE (Kernel Density Estimate) Plot** are used to describe and visualize the distribution of continuous data. While they both serve a similar purpose, they are different in terms of their construction and what they represent.\n",
        "\n",
        "#### 1. **Gaussian Distribution (Normal Distribution)**\n",
        "\n",
        "- **Definition**: The **Gaussian Distribution** is a specific, well-known continuous probability distribution characterized by its bell-shaped curve. It is symmetric about its mean, with data points being more concentrated around the mean and less frequent as you move farther away.\n",
        "  \n",
        "- **Mathematical Equation**:\n",
        "  \\[\n",
        "  f(x) = \\frac{1}{\\sigma\\sqrt{2\\pi}} e^{-\\frac{(x - \\mu)^2}{2\\sigma^2}}\n",
        "  \\]\n",
        "  Where:\n",
        "  - \\(\\mu\\) is the mean of the distribution (the peak of the curve),\n",
        "  - \\(\\sigma\\) is the standard deviation (which determines the spread of the curve).\n",
        "\n",
        "- **Shape**: The Gaussian distribution is **always** bell-shaped and symmetric around the mean. Its peak represents the mean value, and the spread (width) of the curve is determined by the standard deviation.\n",
        "  \n",
        "- **Properties**:\n",
        "  - The area under the curve equals 1 (representing the total probability).\n",
        "  - The majority of data points fall within \\(\\pm 1 \\sigma\\) from the mean (68% of the data), \\(\\pm 2 \\sigma\\) (95%), and \\(\\pm 3 \\sigma\\) (99.7%).\n",
        "\n",
        "- **Use Case**: It's used when you assume or know that your data follows a normal distribution. It is commonly applied in statistical tests, modeling, and predictions when the data is believed to be normally distributed.\n",
        "\n",
        "#### 2. **Smoothened KDE Plot**\n",
        "\n",
        "- **Definition**: A **Kernel Density Estimate (KDE)** plot is a non-parametric way to estimate the probability density function of a continuous random variable. Unlike the Gaussian distribution, which is a theoretical model with a fixed shape, a KDE plot is based on the actual data points and creates a smoothed curve to represent the data's underlying distribution.\n",
        "\n",
        "- **How It Works**: In a KDE plot:\n",
        "  - A kernel function (commonly Gaussian) is placed at each data point.\n",
        "  - The kernels are summed up to create a smooth curve that approximates the data's density distribution.\n",
        "\n",
        "- **Shape**: The shape of the KDE plot depends on the underlying data. Unlike the Gaussian distribution, which has a fixed form, the KDE plot can have various shapes: it may be unimodal, bimodal, skewed, or multi-modal depending on the data. The smoothness of the plot is controlled by the **bandwidth** parameter, which determines how much smoothing is applied to the data.\n",
        "\n",
        "- **Properties**:\n",
        "  - **Non-parametric**: KDE does not assume a specific distribution for the data (like the Gaussian distribution). It uses the data itself to estimate the density.\n",
        "  - **Smoothness**: The bandwidth parameter controls how smooth the estimate is. A smaller bandwidth results in a more jagged curve, while a larger bandwidth gives a smoother curve.\n",
        "  - **Flexibility**: The KDE can model distributions that are not Gaussian, such as bimodal distributions (with two peaks) or distributions with skewness.\n",
        "\n",
        "- **Use Case**: KDE plots are useful for visualizing the actual distribution of a dataset without assuming a specific underlying distribution. It is ideal for exploratory data analysis, especially when you suspect the data might not follow a normal distribution.\n",
        "\n",
        "### **Comparison**:\n",
        "\n",
        "| Feature                    | **Gaussian Distribution**                          | **Smoothened KDE Plot**                         |\n",
        "|----------------------------|---------------------------------------------------|------------------------------------------------|\n",
        "| **Assumptions**             | Assumes a specific normal (Gaussian) distribution. | Non-parametric, based on the actual data.      |\n",
        "| **Shape**                   | Fixed bell curve (symmetric).                     | Varies depending on the data, can be unimodal, bimodal, etc. |\n",
        "| **Application**             | Used for data that is known or assumed to follow a normal distribution. | Used for exploring and estimating the distribution of any continuous data. |\n",
        "| **Mathematical Formula**    | Defined by a fixed mathematical formula.          | Based on data points and kernels, with no fixed formula. |\n",
        "| **Smoothness**              | Fixed smoothness determined by the standard deviation. | Smoothness controlled by bandwidth parameter. |\n",
        "| **Interpretation**          | Represents the likelihood of a value occurring in a normal distribution. | Provides an estimate of the data's probability density function, which can have more complex shapes. |\n",
        "| **Data Dependency**         | Does not depend on data, it is a theoretical model. | Directly depends on the data and its distribution. |\n",
        "\n",
        "### **Visual Comparison**:\n",
        "- A **Gaussian Distribution** will always look like a bell curve, symmetric about its mean.\n",
        "- A **KDE plot**, on the other hand, can take on any shape, depending on the data. It will still smooth out the frequencies but doesn't assume any specific distribution like the Gaussian.\n",
        "\n",
        "#### Example:\n",
        "\n",
        "- **Gaussian Distribution**: If you have data on people's heights, and you know that the heights are normally distributed, the Gaussian distribution will give you a theoretical bell curve for the data.\n",
        "  \n",
        "- **KDE Plot**: If you don't know if the height data is normally distributed, a KDE plot will show you the actual distribution of the data, whether it is bell-shaped, skewed, or bimodal.\n",
        "\n",
        "### **When to Use Each**:\n",
        "- **Gaussian Distribution**: Use this when you know or assume your data follows a normal distribution (e.g., heights, weights, test scores under normal conditions). It’s useful in many classical statistical methods and hypothesis testing.\n",
        "  \n",
        "- **Smoothened KDE Plot**: Use this when you want to explore the underlying distribution of a dataset without assuming a specific form. It's particularly helpful in exploratory data analysis and when you suspect the data might not be normally distributed.\n",
        "\n",
        "### **Conclusion**:\n",
        "- **Gaussian Distribution** is a theoretical model with a fixed, bell-shaped curve that works well for normally distributed data.\n",
        "- **KDE Plot** is more flexible, as it is based directly on the data and can show a variety of distributions, from unimodal to multi-modal shapes. It is ideal for estimating the probability density without assuming a specific distribution like the Gaussian."
      ],
      "metadata": {
        "id": "VPYosqteEs3y"
      }
    },
    {
      "cell_type": "markdown",
      "source": [
        " (ii) Write a Python function to calculate the range of a given list of numbers."
      ],
      "metadata": {
        "id": "Om1YYtdBE1AY"
      }
    },
    {
      "cell_type": "code",
      "source": [
        "def calculate_range(numbers):\n",
        "    # Check if the list is not empty\n",
        "    if len(numbers) == 0:\n",
        "        return \"The list is empty.\"\n",
        "\n",
        "    # Calculate the range (max - min)\n",
        "    range_value = max(numbers) - min(numbers)\n",
        "\n",
        "    return range_value\n",
        "\n",
        "# Example usage:\n",
        "numbers = [5, 10, 2, 8, 7]\n",
        "print(\"Range:\", calculate_range(numbers))\n"
      ],
      "metadata": {
        "colab": {
          "base_uri": "https://localhost:8080/"
        },
        "id": "GSDtaIhoE9qa",
        "outputId": "770a3494-7ed3-4feb-a008-04321b151830"
      },
      "execution_count": null,
      "outputs": [
        {
          "output_type": "stream",
          "name": "stdout",
          "text": [
            "Range: 8\n"
          ]
        }
      ]
    },
    {
      "cell_type": "markdown",
      "source": [
        " (iii) Create a program to find the variance and standard deviation of a list of numbers."
      ],
      "metadata": {
        "id": "H5bh4tmVFAO1"
      }
    },
    {
      "cell_type": "code",
      "source": [
        "import math\n",
        "\n",
        "def calculate_variance_and_std(numbers):\n",
        "    # Check if the list is not empty\n",
        "    if len(numbers) == 0:\n",
        "        return \"The list is empty.\"\n",
        "\n",
        "    # Calculate the mean\n",
        "    mean = sum(numbers) / len(numbers)\n",
        "\n",
        "    # Calculate the variance\n",
        "    squared_diffs = [(x - mean) ** 2 for x in numbers]\n",
        "    variance = sum(squared_diffs) / len(numbers)\n",
        "\n",
        "    # Calculate the standard deviation\n",
        "    std_deviation = math.sqrt(variance)\n",
        "\n",
        "    return variance, std_deviation\n",
        "\n",
        "# Example usage:\n",
        "numbers = [5, 10, 2, 8, 7]\n",
        "variance, std_deviation = calculate_variance_and_std(numbers)\n",
        "\n",
        "print(\"Variance:\", variance)\n",
        "print(\"Standard Deviation:\", std_deviation)\n"
      ],
      "metadata": {
        "colab": {
          "base_uri": "https://localhost:8080/"
        },
        "id": "4-vtYAm_FN4y",
        "outputId": "47ff15f0-a5d3-402f-8967-35478d9c25f5"
      },
      "execution_count": null,
      "outputs": [
        {
          "output_type": "stream",
          "name": "stdout",
          "text": [
            "Variance: 7.44\n",
            "Standard Deviation: 2.727636339397171\n"
          ]
        }
      ]
    },
    {
      "cell_type": "markdown",
      "source": [
        " (iv) Implement a function to compute the interquartile range (IQR) of a list of values."
      ],
      "metadata": {
        "id": "XRwM3_7UFRAB"
      }
    },
    {
      "cell_type": "code",
      "source": [
        "import numpy as np\n",
        "\n",
        "def calculate_iqr(numbers):\n",
        "    # Check if the list is not empty\n",
        "    if len(numbers) == 0:\n",
        "        return \"The list is empty.\"\n",
        "\n",
        "    # Sort the list of numbers\n",
        "    numbers.sort()\n",
        "\n",
        "    # Calculate the first quartile (Q1) and third quartile (Q3)\n",
        "    Q1 = np.percentile(numbers, 25)\n",
        "    Q3 = np.percentile(numbers, 75)\n",
        "\n",
        "    # Calculate the interquartile range (IQR)\n",
        "    IQR = Q3 - Q1\n",
        "\n",
        "    return IQR\n",
        "\n",
        "# Example usage:\n",
        "numbers = [5, 10, 2, 8, 7, 12, 15, 14, 9]\n",
        "IQR = calculate_iqr(numbers)\n",
        "\n",
        "print(\"Interquartile Range (IQR):\", IQR)\n"
      ],
      "metadata": {
        "colab": {
          "base_uri": "https://localhost:8080/"
        },
        "id": "b4S5dZB3FdZl",
        "outputId": "edadaf46-a488-4e8f-cf2e-179df4af01ef"
      },
      "execution_count": null,
      "outputs": [
        {
          "output_type": "stream",
          "name": "stdout",
          "text": [
            "Interquartile Range (IQR): 5.0\n"
          ]
        }
      ]
    },
    {
      "cell_type": "markdown",
      "source": [
        "(v) Build a program to calculate the coefficient of variation for a dataset"
      ],
      "metadata": {
        "id": "seq6v8eMFp9o"
      }
    },
    {
      "cell_type": "code",
      "source": [
        "import math\n",
        "\n",
        "def calculate_cv(numbers):\n",
        "    # Check if the list is not empty\n",
        "    if len(numbers) == 0:\n",
        "        return \"The list is empty.\"\n",
        "\n",
        "    # Calculate the mean\n",
        "    mean = sum(numbers) / len(numbers)\n",
        "\n",
        "    # Calculate the variance\n",
        "    squared_diffs = [(x - mean) ** 2 for x in numbers]\n",
        "    variance = sum(squared_diffs) / len(numbers)\n",
        "\n",
        "    # Calculate the standard deviation\n",
        "    std_deviation = math.sqrt(variance)\n",
        "\n",
        "    # Calculate the coefficient of variation\n",
        "    cv = (std_deviation / mean) * 100\n",
        "\n",
        "    return cv\n",
        "\n",
        "# Example usage:\n",
        "numbers = [5, 10, 2, 8, 7]\n",
        "cv = calculate_cv(numbers)\n",
        "\n",
        "print(f\"Coefficient of Variation (CV): {cv:.2f}%\")\n"
      ],
      "metadata": {
        "colab": {
          "base_uri": "https://localhost:8080/"
        },
        "id": "7uweLqfeGToh",
        "outputId": "bffa1048-9093-4d28-d630-1df37bc632a3"
      },
      "execution_count": null,
      "outputs": [
        {
          "output_type": "stream",
          "name": "stdout",
          "text": [
            "Coefficient of Variation (CV): 42.62%\n"
          ]
        }
      ]
    },
    {
      "cell_type": "markdown",
      "source": [
        " (vi) Write a Python function to find the mean absolute deviation (MAD) of a list of numbers"
      ],
      "metadata": {
        "id": "_wSZl_aoGnQh"
      }
    },
    {
      "cell_type": "code",
      "source": [
        "def calculate_mad(numbers):\n",
        "    # Check if the list is not empty\n",
        "    if len(numbers) == 0:\n",
        "        return \"The list is empty.\"\n",
        "\n",
        "    # Calculate the mean\n",
        "    mean = sum(numbers) / len(numbers)\n",
        "\n",
        "    # Calculate the absolute deviations from the mean\n",
        "    absolute_deviations = [abs(x - mean) for x in numbers]\n",
        "\n",
        "    # Calculate the mean absolute deviation (MAD)\n",
        "    mad = sum(absolute_deviations) / len(numbers)\n",
        "\n",
        "    return mad\n",
        "\n",
        "# Example usage:\n",
        "numbers = [5, 10, 2, 8, 7]\n",
        "mad = calculate_mad(numbers)\n",
        "\n",
        "print(f\"Mean Absolute Deviation (MAD): {mad:.2f}\")\n"
      ],
      "metadata": {
        "colab": {
          "base_uri": "https://localhost:8080/"
        },
        "id": "RFiMFzzQGyzF",
        "outputId": "9bd435d7-b80c-416e-e39b-ec161f70fcaf"
      },
      "execution_count": null,
      "outputs": [
        {
          "output_type": "stream",
          "name": "stdout",
          "text": [
            "Mean Absolute Deviation (MAD): 2.32\n"
          ]
        }
      ]
    },
    {
      "cell_type": "markdown",
      "source": [
        "(vii) Create a program to calculate the quartile deviation of a list of values."
      ],
      "metadata": {
        "id": "epDgS_7WG5P-"
      }
    },
    {
      "cell_type": "code",
      "source": [
        "import numpy as np\n",
        "\n",
        "def calculate_quartile_deviation(numbers):\n",
        "    # Check if the list is not empty\n",
        "    if len(numbers) == 0:\n",
        "        return \"The list is empty.\"\n",
        "\n",
        "    # Sort the list of numbers\n",
        "    numbers.sort()\n",
        "\n",
        "    # Calculate the first quartile (Q1) and third quartile (Q3)\n",
        "    Q1 = np.percentile(numbers, 25)\n",
        "    Q3 = np.percentile(numbers, 75)\n",
        "\n",
        "    # Calculate the quartile deviation (QD)\n",
        "    QD = (Q3 - Q1) / 2\n",
        "\n",
        "    return QD\n",
        "\n",
        "# Example usage:\n",
        "numbers = [5, 10, 2, 8, 7, 12, 15, 14, 9]\n",
        "QD = calculate_quartile_deviation(numbers)\n",
        "\n",
        "print(f\"Quartile Deviation (QD): {QD:.2f}\")\n"
      ],
      "metadata": {
        "colab": {
          "base_uri": "https://localhost:8080/"
        },
        "id": "o1U9xQAzHEV8",
        "outputId": "908a6fe1-114e-46e4-d3a7-0eaed72d172d"
      },
      "execution_count": null,
      "outputs": [
        {
          "output_type": "stream",
          "name": "stdout",
          "text": [
            "Quartile Deviation (QD): 2.50\n"
          ]
        }
      ]
    },
    {
      "cell_type": "markdown",
      "source": [
        "(viii) Implement a function to find the range-based coefficient of dispersion for a dataset."
      ],
      "metadata": {
        "id": "8BiltuppHKI7"
      }
    },
    {
      "cell_type": "code",
      "source": [
        "def calculate_cod(numbers):\n",
        "    # Check if the list is not empty\n",
        "    if len(numbers) == 0:\n",
        "        return \"The list is empty.\"\n",
        "\n",
        "    # Calculate the mean\n",
        "    mean = sum(numbers) / len(numbers)\n",
        "\n",
        "    # Calculate the range (max - min)\n",
        "    range_value = max(numbers) - min(numbers)\n",
        "\n",
        "    # Calculate the Coefficient of Dispersion (COD)\n",
        "    cod = range_value / mean\n",
        "\n",
        "    return cod\n",
        "\n",
        "# Example usage:\n",
        "numbers = [5, 10, 2, 8, 7]\n",
        "cod = calculate_cod(numbers)\n",
        "\n",
        "print(f\"Range-Based Coefficient of Dispersion (COD): {cod:.2f}\")\n"
      ],
      "metadata": {
        "colab": {
          "base_uri": "https://localhost:8080/"
        },
        "id": "UjeWMXYvHUrQ",
        "outputId": "4015bbd1-7226-4dc7-c300-20128eac42fc"
      },
      "execution_count": null,
      "outputs": [
        {
          "output_type": "stream",
          "name": "stdout",
          "text": [
            "Range-Based Coefficient of Dispersion (COD): 1.25\n"
          ]
        }
      ]
    },
    {
      "cell_type": "markdown",
      "source": [
        "**Q3.Write a Python class representing a discrete random variable with methods to calculate its expected**\n",
        "**value and variance.**"
      ],
      "metadata": {
        "id": "GrkKkN5_HjIh"
      }
    },
    {
      "cell_type": "code",
      "source": [
        "class DiscreteRandomVariable:\n",
        "    def __init__(self, values, probabilities):\n",
        "        # Ensure the values and probabilities are valid\n",
        "        if len(values) != len(probabilities):\n",
        "            raise ValueError(\"Values and probabilities must have the same length.\")\n",
        "        if not (0 < sum(probabilities) <= 1):\n",
        "            raise ValueError(\"The sum of probabilities must be between 0 and 1.\")\n",
        "        if any(p < 0 or p > 1 for p in probabilities):\n",
        "            raise ValueError(\"Probabilities must be between 0 and 1.\")\n",
        "\n",
        "        self.values = values\n",
        "        self.probabilities = probabilities\n",
        "\n",
        "    def expected_value(self):\n",
        "        \"\"\"Calculate the expected value (mean) of the random variable.\"\"\"\n",
        "        return sum(x * p for x, p in zip(self.values, self.probabilities))\n",
        "\n",
        "    def variance(self):\n",
        "        \"\"\"Calculate the variance of the random variable.\"\"\"\n",
        "        # E[X^2]\n",
        "        expected_value_squared = sum((x ** 2) * p for x, p in zip(self.values, self.probabilities))\n",
        "        # Variance = E[X^2] - (E[X])^2\n",
        "        return expected_value_squared - self.expected_value() ** 2\n",
        "\n",
        "# Example usage:\n",
        "values = [1, 2, 3, 4]\n",
        "probabilities = [0.1, 0.2, 0.3, 0.4]\n",
        "\n",
        "random_var = DiscreteRandomVariable(values, probabilities)\n",
        "\n",
        "print(f\"Expected Value: {random_var.expected_value()}\")\n",
        "print(f\"Variance: {random_var.variance()}\")\n"
      ],
      "metadata": {
        "colab": {
          "base_uri": "https://localhost:8080/"
        },
        "id": "cATvN47tIcXW",
        "outputId": "408ad08a-e90c-48c6-89d3-1c02f061eacb"
      },
      "execution_count": null,
      "outputs": [
        {
          "output_type": "stream",
          "name": "stdout",
          "text": [
            "Expected Value: 3.0\n",
            "Variance: 1.0\n"
          ]
        }
      ]
    },
    {
      "cell_type": "markdown",
      "source": [
        "**Q4.Implement a program to simulate the rolling of a fair six-sided die and calculate the expected value and**\n",
        "**variance of the outcomes.**"
      ],
      "metadata": {
        "id": "nItbWN3nKkxO"
      }
    },
    {
      "cell_type": "code",
      "source": [
        "import numpy as np\n",
        "\n",
        "def simulate_die_rolls(num_rolls=1000):\n",
        "    \"\"\"\n",
        "    Simulate the rolling of a fair six-sided die for a given number of rolls.\n",
        "    It calculates and returns the expected value and variance of the outcomes.\n",
        "\n",
        "    :param num_rolls: Number of rolls to simulate. Default is 1000.\n",
        "    :return: A dictionary with the expected value and variance of the outcomes.\n",
        "    \"\"\"\n",
        "    # Simulate the die rolls: 1 to 6 outcomes, each with a probability of 1/6\n",
        "    rolls = np.random.choice([1, 2, 3, 4, 5, 6], size=num_rolls, p=[1/6] * 6)\n",
        "\n",
        "    # Calculate the expected value (mean) of the rolls\n",
        "    expected_value = np.mean(rolls)\n",
        "\n",
        "    # Calculate the variance of the rolls\n",
        "    variance = np.var(rolls)\n",
        "\n",
        "    return {'expected_value': expected_value, 'variance': variance}\n",
        "\n",
        "# Example usage:\n",
        "results = simulate_die_rolls(1000)\n",
        "\n",
        "print(f\"Expected Value: {results['expected_value']}\")\n",
        "print(f\"Variance: {results['variance']}\")\n"
      ],
      "metadata": {
        "colab": {
          "base_uri": "https://localhost:8080/"
        },
        "id": "LH6HjTjpMoCW",
        "outputId": "f04e6d16-04ea-4840-e28c-e101da1cebb8"
      },
      "execution_count": null,
      "outputs": [
        {
          "output_type": "stream",
          "name": "stdout",
          "text": [
            "Expected Value: 3.474\n",
            "Variance: 2.8373240000000006\n"
          ]
        }
      ]
    },
    {
      "cell_type": "markdown",
      "source": [
        "**Q5.Create a Python function to generate random samples from a given probability distribution (e.g.,**\n",
        "**binomial, Poisson) and calculate their mean and variance.**"
      ],
      "metadata": {
        "id": "EoiClkFALWkV"
      }
    },
    {
      "source": [
        "import numpy as np\n",
        "\n",
        "def generate_random_samples(distribution, **params):\n",
        "    \"\"\"\n",
        "    Generate random samples from a given probability distribution and calculate mean and variance.\n",
        "\n",
        "    :param distribution: The type of distribution ('binomial' or 'poisson').\n",
        "    :param params: Parameters for the distribution.\n",
        "                   For 'binomial', provide 'n' (number of trials) and 'p' (probability of success).\n",
        "                   For 'poisson', provide 'lambda_' (rate of occurrence). # Changed to lambda_\n",
        "    :return: A dictionary with 'samples', 'mean', and 'variance' of the generated samples.\n",
        "    \"\"\"\n",
        "\n",
        "    if distribution == 'binomial':\n",
        "        n = params.get('n')  # number of trials\n",
        "        p = params.get('p')  # probability of success\n",
        "        if n is None or p is None:\n",
        "            raise ValueError(\"For binomial distribution, 'n' and 'p' must be provided.\")\n",
        "\n",
        "        # Generate random samples from binomial distribution\n",
        "        samples = np.random.binomial(n, p, size=1000)\n",
        "\n",
        "        # Calculate mean and variance of the samples\n",
        "        mean = np.mean(samples)\n",
        "        variance = np.var(samples)\n",
        "\n",
        "    elif distribution == 'poisson':\n",
        "        lambda_ = params.get('lambda_')  # rate of occurrence # Changed from lambda to lambda_\n",
        "        if lambda_ is None:\n",
        "            raise ValueError(\"For Poisson distribution, 'lambda_' must be provided.\") # Changed to lambda_\n",
        "\n",
        "        # Generate random samples from Poisson distribution\n",
        "        samples = np.random.poisson(lambda_, size=1000)\n",
        "\n",
        "        # Calculate mean and variance of the samples\n",
        "        mean = np.mean(samples)\n",
        "        variance = np.var(samples)\n",
        "\n",
        "    else:\n",
        "        raise ValueError(\"Unsupported distribution type. Use 'binomial' or 'poisson'.\")\n",
        "\n",
        "    return {'samples': samples, 'mean': mean, 'variance': variance}\n",
        "\n",
        "# Example usage:\n",
        "# For binomial distribution with n=10 trials and p=0.5 probability\n",
        "binomial_results = generate_random_samples('binomial', n=10, p=0.5)\n",
        "print(\"Binomial Distribution:\")\n",
        "print(f\"Mean: {binomial_results['mean']}\")\n",
        "print(f\"Variance: {binomial_results['variance']}\")\n",
        "\n",
        "# For Poisson distribution with lambda=3 rate of occurrence\n",
        "poisson_results = generate_random_samples('poisson', lambda_=3) # Changed to lambda_\n",
        "print(\"\\nPoisson Distribution:\")\n",
        "print(f\"Mean: {poisson_results['mean']}\")\n",
        "print(f\"Variance: {poisson_results['variance']}\")"
      ],
      "cell_type": "code",
      "metadata": {
        "colab": {
          "base_uri": "https://localhost:8080/"
        },
        "id": "EFjBnvIYN1Vk",
        "outputId": "a98c24a1-ba53-4419-ae65-c2c8035aa30c"
      },
      "execution_count": null,
      "outputs": [
        {
          "output_type": "stream",
          "name": "stdout",
          "text": [
            "Binomial Distribution:\n",
            "Mean: 5.012\n",
            "Variance: 2.729856\n",
            "\n",
            "Poisson Distribution:\n",
            "Mean: 2.991\n",
            "Variance: 2.9349190000000007\n"
          ]
        }
      ]
    },
    {
      "cell_type": "markdown",
      "source": [
        "**Q6.Write a Python script to generate random numbers from a Gaussian (normal) distribution and compute**\n",
        "**the mean, variance, and standard deviation of the samples**."
      ],
      "metadata": {
        "id": "iImmPN6UOBTR"
      }
    },
    {
      "cell_type": "code",
      "source": [
        "import numpy as np\n",
        "\n",
        "def generate_gaussian_samples(mean=0, std_dev=1, num_samples=1000):\n",
        "    \"\"\"\n",
        "    Generate random samples from a Gaussian (normal) distribution and calculate mean, variance, and standard deviation.\n",
        "\n",
        "    :param mean: The mean (μ) of the normal distribution (default is 0).\n",
        "    :param std_dev: The standard deviation (σ) of the normal distribution (default is 1).\n",
        "    :param num_samples: The number of samples to generate (default is 1000).\n",
        "    :return: A dictionary with 'mean', 'variance', and 'standard_deviation' of the samples.\n",
        "    \"\"\"\n",
        "    # Generate random samples from the normal distribution\n",
        "    samples = np.random.normal(loc=mean, scale=std_dev, size=num_samples)\n",
        "\n",
        "    # Calculate the mean, variance, and standard deviation of the samples\n",
        "    calculated_mean = np.mean(samples)\n",
        "    calculated_variance = np.var(samples)\n",
        "    calculated_std_dev = np.std(samples)\n",
        "\n",
        "    return {\n",
        "        'mean': calculated_mean,\n",
        "        'variance': calculated_variance,\n",
        "        'standard_deviation': calculated_std_dev\n",
        "    }\n",
        "\n",
        "# Example usage:\n",
        "# Generate samples from a normal distribution with mean=0 and standard deviation=1\n",
        "results = generate_gaussian_samples(mean=0, std_dev=1, num_samples=1000)\n",
        "\n",
        "print(f\"Mean of samples: {results['mean']}\")\n",
        "print(f\"Variance of samples: {results['variance']}\")\n",
        "print(f\"Standard Deviation of samples: {results['standard_deviation']}\")\n"
      ],
      "metadata": {
        "colab": {
          "base_uri": "https://localhost:8080/"
        },
        "id": "AHD3nYKdOLKn",
        "outputId": "70b2cbd3-366e-4139-ae9c-cbe595927a0c"
      },
      "execution_count": null,
      "outputs": [
        {
          "output_type": "stream",
          "name": "stdout",
          "text": [
            "Mean of samples: 0.034090588982439114\n",
            "Variance of samples: 0.9385427687250592\n",
            "Standard Deviation of samples: 0.9687841703522303\n"
          ]
        }
      ]
    },
    {
      "cell_type": "markdown",
      "source": [
        "**Q7.Use seaborn library to load tips dataset. Find the following from the dataset for the columns total_bill and tip`:**"
      ],
      "metadata": {
        "id": "2Y7qc3oZOex5"
      }
    },
    {
      "cell_type": "code",
      "source": [
        "import seaborn as sns\n",
        "import numpy as np\n",
        "\n",
        "# Load the tips dataset from seaborn\n",
        "tips = sns.load_dataset('tips')\n",
        "\n",
        "# Extract the 'total_bill' and 'tip' columns\n",
        "total_bill = tips['total_bill']\n",
        "tip = tips['tip']\n",
        "\n",
        "# Compute mean, variance, and standard deviation for 'total_bill' and 'tip'\n",
        "total_bill_mean = np.mean(total_bill)\n",
        "total_bill_variance = np.var(total_bill)\n",
        "total_bill_std_dev = np.std(total_bill)\n",
        "\n",
        "tip_mean = np.mean(tip)\n",
        "tip_variance = np.var(tip)\n",
        "tip_std_dev = np.std(tip)\n",
        "\n",
        "# Display the results\n",
        "print(f\"Total Bill - Mean: {total_bill_mean}, Variance: {total_bill_variance}, Standard Deviation: {total_bill_std_dev}\")\n",
        "print(f\"Tip - Mean: {tip_mean}, Variance: {tip_variance}, Standard Deviation: {tip_std_dev}\")\n"
      ],
      "metadata": {
        "colab": {
          "base_uri": "https://localhost:8080/"
        },
        "id": "x2lHdr8FOv3H",
        "outputId": "db6e1aed-c8b7-4b15-ce62-e7a1aeefc3c7"
      },
      "execution_count": null,
      "outputs": [
        {
          "output_type": "stream",
          "name": "stdout",
          "text": [
            "Total Bill - Mean: 19.78594262295082, Variance: 78.92813148851113, Standard Deviation: 8.88415057777113\n",
            "Tip - Mean: 2.99827868852459, Variance: 1.9066085124966428, Standard Deviation: 1.3807999538298958\n"
          ]
        }
      ]
    },
    {
      "cell_type": "markdown",
      "source": [
        " (i) Write a Python function that calculates their skewness."
      ],
      "metadata": {
        "id": "ocH9h5WXPD5N"
      }
    },
    {
      "cell_type": "code",
      "source": [
        "import seaborn as sns\n",
        "from scipy.stats import skew\n",
        "\n",
        "def calculate_skewness(dataset, column):\n",
        "    \"\"\"\n",
        "    Calculate the skewness of a given column in a dataset.\n",
        "\n",
        "    :param dataset: pandas DataFrame containing the dataset.\n",
        "    :param column: The column name (string) whose skewness is to be calculated.\n",
        "    :return: Skewness value for the specified column.\n",
        "    \"\"\"\n",
        "    data = dataset[column]\n",
        "    return skew(data)\n",
        "\n",
        "# Load the tips dataset from seaborn\n",
        "tips = sns.load_dataset('tips')\n",
        "\n",
        "# Calculate skewness for 'total_bill' and 'tip' columns\n",
        "total_bill_skewness = calculate_skewness(tips, 'total_bill')\n",
        "tip_skewness = calculate_skewness(tips, 'tip')\n",
        "\n",
        "# Display the results\n",
        "print(f\"Skewness of total_bill: {total_bill_skewness}\")\n",
        "print(f\"Skewness of tip: {tip_skewness}\")\n"
      ],
      "metadata": {
        "colab": {
          "base_uri": "https://localhost:8080/"
        },
        "id": "HjAC3EWlPOWm",
        "outputId": "19e1f517-0acc-464e-f28b-ec1080a42e9a"
      },
      "execution_count": null,
      "outputs": [
        {
          "output_type": "stream",
          "name": "stdout",
          "text": [
            "Skewness of total_bill: 1.1262346334818638\n",
            "Skewness of tip: 1.4564266884221506\n"
          ]
        }
      ]
    },
    {
      "cell_type": "markdown",
      "source": [
        " (ii) Create a program that determines whether the columns exhibit positive skewness, negative skewness, or is\n",
        "approximately symmetric."
      ],
      "metadata": {
        "id": "TX3NNktTPQ4c"
      }
    },
    {
      "cell_type": "code",
      "source": [
        "import seaborn as sns\n",
        "from scipy.stats import skew\n",
        "\n",
        "def calculate_skewness(dataset, column):\n",
        "    \"\"\"\n",
        "    Calculate the skewness of a given column in a dataset.\n",
        "\n",
        "    :param dataset: pandas DataFrame containing the dataset.\n",
        "    :param column: The column name (string) whose skewness is to be calculated.\n",
        "    :return: Skewness value for the specified column.\n",
        "    \"\"\"\n",
        "    data = dataset[column]\n",
        "    return skew(data)\n",
        "\n",
        "def determine_skewness_type(skewness_value):\n",
        "    \"\"\"\n",
        "    Determine the skewness type based on the skewness value.\n",
        "\n",
        "    :param skewness_value: The skewness value of the dataset column.\n",
        "    :return: A string indicating whether the distribution is 'Positive Skew', 'Negative Skew', or 'Approximately Symmetric'.\n",
        "    \"\"\"\n",
        "    if skewness_value > 0.5:\n",
        "        return 'Positive Skew'\n",
        "    elif skewness_value < -0.5:\n",
        "        return 'Negative Skew'\n",
        "    else:\n",
        "        return 'Approximately Symmetric'\n",
        "\n",
        "# Load the tips dataset from seaborn\n",
        "tips = sns.load_dataset('tips')\n",
        "\n",
        "# Calculate skewness for 'total_bill' and 'tip' columns\n",
        "total_bill_skewness = calculate_skewness(tips, 'total_bill')\n",
        "tip_skewness = calculate_skewness(tips, 'tip')\n",
        "\n",
        "# Determine skewness type for 'total_bill' and 'tip' columns\n",
        "total_bill_skewness_type = determine_skewness_type(total_bill_skewness)\n",
        "tip_skewness_type = determine_skewness_type(tip_skewness)\n",
        "\n",
        "# Display the results\n",
        "print(f\"Skewness of total_bill: {total_bill_skewness} - {total_bill_skewness_type}\")\n",
        "print(f\"Skewness of tip: {tip_skewness} - {tip_skewness_type}\")\n"
      ],
      "metadata": {
        "colab": {
          "base_uri": "https://localhost:8080/"
        },
        "id": "zkMEmfxoPfOA",
        "outputId": "7fb6f6f8-6cea-4e1b-b4b4-1cadd38a6bb5"
      },
      "execution_count": null,
      "outputs": [
        {
          "output_type": "stream",
          "name": "stdout",
          "text": [
            "Skewness of total_bill: 1.1262346334818638 - Positive Skew\n",
            "Skewness of tip: 1.4564266884221506 - Positive Skew\n"
          ]
        }
      ]
    },
    {
      "cell_type": "markdown",
      "source": [
        " (iii) Write a function that calculates the covariance between two columns."
      ],
      "metadata": {
        "id": "FjBVjNeMPto1"
      }
    },
    {
      "cell_type": "code",
      "source": [
        "import numpy as np\n",
        "\n",
        "def calculate_covariance(column1, column2):\n",
        "    \"\"\"\n",
        "    Calculate the covariance between two columns of data.\n",
        "\n",
        "    :param column1: List or numpy array containing data for the first column.\n",
        "    :param column2: List or numpy array containing data for the second column.\n",
        "    :return: Covariance between the two columns.\n",
        "    \"\"\"\n",
        "    # Convert inputs to numpy arrays\n",
        "    column1 = np.array(column1)\n",
        "    column2 = np.array(column2)\n",
        "\n",
        "    # Calculate the means of the two columns\n",
        "    mean_column1 = np.mean(column1)\n",
        "    mean_column2 = np.mean(column2)\n",
        "\n",
        "    # Compute the covariance using the formula\n",
        "    covariance = np.sum((column1 - mean_column1) * (column2 - mean_column2)) / (len(column1) - 1)\n",
        "\n",
        "    return covariance\n",
        "\n",
        "# Example usage\n",
        "column1 = [10, 20, 30, 40, 50]  # Example data for first column\n",
        "column2 = [1, 2, 3, 4, 5]  # Example data for second column\n",
        "\n",
        "cov = calculate_covariance(column1, column2)\n",
        "print(f\"Covariance between the two columns: {cov}\")\n"
      ],
      "metadata": {
        "colab": {
          "base_uri": "https://localhost:8080/"
        },
        "id": "1XEPSyXiP74h",
        "outputId": "43b4b04b-5b91-4c42-a8b5-673ad715fbe2"
      },
      "execution_count": null,
      "outputs": [
        {
          "output_type": "stream",
          "name": "stdout",
          "text": [
            "Covariance between the two columns: 25.0\n"
          ]
        }
      ]
    },
    {
      "cell_type": "markdown",
      "source": [
        " (iv) Implement a Python program that calculates the Pearson correlation coefficient between two columns."
      ],
      "metadata": {
        "id": "1dvilB7zQJNE"
      }
    },
    {
      "cell_type": "code",
      "source": [
        "import numpy as np\n",
        "\n",
        "def calculate_pearson_correlation(column1, column2):\n",
        "    \"\"\"\n",
        "    Calculate the Pearson correlation coefficient between two columns of data.\n",
        "\n",
        "    :param column1: List or numpy array containing data for the first column.\n",
        "    :param column2: List or numpy array containing data for the second column.\n",
        "    :return: Pearson correlation coefficient between the two columns.\n",
        "    \"\"\"\n",
        "    # Convert inputs to numpy arrays\n",
        "    column1 = np.array(column1)\n",
        "    column2 = np.array(column2)\n",
        "\n",
        "    # Calculate the covariance between the two columns\n",
        "    covariance = np.sum((column1 - np.mean(column1)) * (column2 - np.mean(column2))) / (len(column1) - 1)\n",
        "\n",
        "    # Calculate the standard deviations of the two columns\n",
        "    std_dev_column1 = np.std(column1, ddof=1)\n",
        "    std_dev_column2 = np.std(column2, ddof=1)\n",
        "\n",
        "    # Calculate the Pearson correlation coefficient\n",
        "    pearson_correlation = covariance / (std_dev_column1 * std_dev_column2)\n",
        "\n",
        "    return pearson_correlation\n",
        "\n",
        "# Example usage\n",
        "column1 = [10, 20, 30, 40, 50]  # Example data for the first column\n",
        "column2 = [1, 2, 3, 4, 5]  # Example data for the second column\n",
        "\n",
        "# Calculate Pearson correlation\n",
        "correlation = calculate_pearson_correlation(column1, column2)\n",
        "print(f\"Pearson correlation coefficient between the two columns: {correlation}\")\n"
      ],
      "metadata": {
        "colab": {
          "base_uri": "https://localhost:8080/"
        },
        "id": "6IglXBWNQYGy",
        "outputId": "57b1a16f-45ff-4ff2-fe94-3ae424cffd7f"
      },
      "execution_count": null,
      "outputs": [
        {
          "output_type": "stream",
          "name": "stdout",
          "text": [
            "Pearson correlation coefficient between the two columns: 1.0\n"
          ]
        }
      ]
    },
    {
      "cell_type": "markdown",
      "source": [
        " (v) Write a script to visualize the correlation between two specific columns in a Pandas DataFrame using scatter plots."
      ],
      "metadata": {
        "id": "lp_orFpRQjkO"
      }
    },
    {
      "cell_type": "code",
      "source": [
        "import pandas as pd\n",
        "import seaborn as sns\n",
        "import matplotlib.pyplot as plt\n",
        "\n",
        "def visualize_correlation(df, column1, column2):\n",
        "    \"\"\"\n",
        "    Visualize the correlation between two specific columns in a DataFrame using a scatter plot.\n",
        "\n",
        "    :param df: Pandas DataFrame containing the data.\n",
        "    :param column1: Name of the first column (string).\n",
        "    :param column2: Name of the second column (string).\n",
        "    \"\"\"\n",
        "    # Create a scatter plot using seaborn\n",
        "    plt.figure(figsize=(8, 6))\n",
        "    sns.scatterplot(x=df[column1], y=df[column2])\n",
        "\n",
        "    # Add labels and title\n",
        "    plt.title(f\"Scatter Plot: {column1} vs {column2}\", fontsize=16)\n",
        "    plt.xlabel(column1, fontsize=12)\n",
        "    plt.ylabel(column2, fontsize=12)\n",
        "\n",
        "    # Show the plot\n",
        "    plt.show()\n",
        "\n",
        "# Example usage\n",
        "# Load a sample dataset (e.g., tips dataset from seaborn)\n",
        "import seaborn as sns\n",
        "df = sns.load_dataset('tips')\n",
        "\n",
        "# Visualize correlation between 'total_bill' and 'tip' columns\n",
        "visualize_correlation(df, 'total_bill', 'tip')\n"
      ],
      "metadata": {
        "colab": {
          "base_uri": "https://localhost:8080/",
          "height": 570
        },
        "id": "lxBL0R1dQov-",
        "outputId": "d746392e-d76b-4542-cfbf-70e510658ba1"
      },
      "execution_count": null,
      "outputs": [
        {
          "output_type": "display_data",
          "data": {
            "text/plain": [
              "<Figure size 800x600 with 1 Axes>"
            ],
            "image/png": "[encoded data removed]"
          },
          "metadata": {}
        }
      ]
    },
    {
      "cell_type": "markdown",
      "source": [
        "**Q8.Write a Python function to calculate the probability density function (PDF) of a continuous random**\n",
        "**variable for a given normal distribution.**"
      ],
      "metadata": {
        "id": "J6gjSrGtQ4Fz"
      }
    },
    {
      "cell_type": "code",
      "source": [
        "import numpy as np\n",
        "from scipy.stats import norm\n",
        "\n",
        "def normal_pdf(x, mu, sigma):\n",
        "    \"\"\"\n",
        "    Calculate the Probability Density Function (PDF) for a normal distribution.\n",
        "\n",
        "    :param x: The value(s) for which to calculate the PDF (single value or array).\n",
        "    :param mu: The mean of the normal distribution.\n",
        "    :param sigma: The standard deviation of the normal distribution.\n",
        "    :return: The PDF value(s) for the input value(s).\n",
        "    \"\"\"\n",
        "    # Calculate PDF using the normal distribution formula\n",
        "    pdf_value = (1 / (np.sqrt(2 * np.pi * sigma**2))) * np.exp(-0.5 * ((x - mu) / sigma)**2)\n",
        "\n",
        "    return pdf_value\n",
        "\n",
        "# Example usage:\n",
        "mu = 0     # Mean of the normal distribution\n",
        "sigma = 1  # Standard deviation of the normal distribution\n",
        "\n",
        "# Calculate PDF for a single value\n",
        "x = 1\n",
        "pdf_single = normal_pdf(x, mu, sigma)\n",
        "print(f\"PDF at x = {x}: {pdf_single}\")\n",
        "\n",
        "# Calculate PDF for multiple values (e.g., from -3 to 3)\n",
        "x_values = np.linspace(-3, 3, 100)\n",
        "pdf_values = normal_pdf(x_values, mu, sigma)\n",
        "\n",
        "# Plotting the PDF (optional visualization)\n",
        "import matplotlib.pyplot as plt\n",
        "plt.plot(x_values, pdf_values)\n",
        "plt.title('Normal Distribution PDF')\n",
        "plt.xlabel('x')\n",
        "plt.ylabel('Probability Density')\n",
        "plt.grid(True)\n",
        "plt.show()\n"
      ],
      "metadata": {
        "colab": {
          "base_uri": "https://localhost:8080/",
          "height": 489
        },
        "id": "U0GsLyzJRDfF",
        "outputId": "50db2af9-f886-4ae9-fef4-c22cdc73bf7a"
      },
      "execution_count": null,
      "outputs": [
        {
          "output_type": "stream",
          "name": "stdout",
          "text": [
            "PDF at x = 1: 0.24197072451914337\n"
          ]
        },
        {
          "output_type": "display_data",
          "data": {
            "text/plain": [
              "<Figure size 640x480 with 1 Axes>"
            ],
            "image/png": "[encoded data removed]"
          },
          "metadata": {}
        }
      ]
    },
    {
      "cell_type": "code",
      "source": [
        "from scipy.stats import norm\n",
        "\n",
        "# Calculate PDF using scipy's norm.pdf\n",
        "pdf_value_scipy = norm.pdf(x, mu, sigma)\n",
        "print(f\"PDF using scipy at x = {x}: {pdf_value_scipy}\")\n"
      ],
      "metadata": {
        "colab": {
          "base_uri": "https://localhost:8080/"
        },
        "id": "C49R0-ZcRVJY",
        "outputId": "55eda6ee-410c-4c75-9f77-a9002c56ff08"
      },
      "execution_count": null,
      "outputs": [
        {
          "output_type": "stream",
          "name": "stdout",
          "text": [
            "PDF using scipy at x = 1: 0.24197072451914337\n"
          ]
        }
      ]
    },
    {
      "cell_type": "markdown",
      "source": [
        "**Q9.Create a program to calculate the cumulative distribution function (CDF) of exponential distribution.**"
      ],
      "metadata": {
        "id": "eHDZ6MgxRfYa"
      }
    },
    {
      "cell_type": "code",
      "source": [
        "import numpy as np\n",
        "\n",
        "def exponential_cdf(x, rate):\n",
        "    \"\"\"\n",
        "    Calculate the Cumulative Distribution Function (CDF) of an exponential distribution.\n",
        "\n",
        "    :param x: The value(s) for which to calculate the CDF (single value or array).\n",
        "    :param rate: The rate parameter (lambda) of the exponential distribution.\n",
        "    :return: The CDF value(s) for the input value(s).\n",
        "    \"\"\"\n",
        "    # Ensure that x is a numpy array for vectorized operations\n",
        "    x = np.array(x)\n",
        "\n",
        "    # Calculate the CDF for exponential distribution\n",
        "    cdf_value = 1 - np.exp(-rate * x)\n",
        "\n",
        "    return cdf_value\n",
        "\n",
        "# Example usage:\n",
        "rate = 1.0  # Rate parameter (lambda) for the exponential distribution\n",
        "x_values = np.linspace(0, 5, 100)  # Generate 100 values from 0 to 5\n",
        "\n",
        "# Calculate CDF for these x values\n",
        "cdf_values = exponential_cdf(x_values, rate)\n",
        "\n",
        "# Plotting the CDF (optional visualization)\n",
        "import matplotlib.pyplot as plt\n",
        "\n",
        "plt.plot(x_values, cdf_values)\n",
        "plt.title('CDF of Exponential Distribution')\n",
        "plt.xlabel('x')\n",
        "plt.ylabel('CDF')\n",
        "plt.grid(True)\n",
        "plt.show()\n"
      ],
      "metadata": {
        "colab": {
          "base_uri": "https://localhost:8080/",
          "height": 472
        },
        "id": "3Lzg9_SWRjqk",
        "outputId": "bf2b3656-627b-4cb3-f94f-f719c3d925ae"
      },
      "execution_count": null,
      "outputs": [
        {
          "output_type": "display_data",
          "data": {
            "text/plain": [
              "<Figure size 640x480 with 1 Axes>"
            ],
            "image/png": "[encoded data removed]"
          },
          "metadata": {}
        }
      ]
    },
    {
      "cell_type": "markdown",
      "source": [
        "**Q10.Write a Python function to calculate the probability mass function (PMF) of Poisson distribution.**"
      ],
      "metadata": {
        "id": "EOa9VWYbR-_n"
      }
    },
    {
      "cell_type": "code",
      "source": [
        "import math\n",
        "\n",
        "def poisson_pmf(k, rate):\n",
        "    \"\"\"\n",
        "    Calculate the Probability Mass Function (PMF) of a Poisson distribution.\n",
        "\n",
        "    :param k: The number of occurrences (non-negative integer).\n",
        "    :param rate: The rate parameter (lambda) of the Poisson distribution.\n",
        "    :return: The PMF value for the input value(s).\n",
        "    \"\"\"\n",
        "    if k < 0 or not isinstance(k, int):\n",
        "        raise ValueError(\"k must be a non-negative integer.\")\n",
        "\n",
        "    # Calculate PMF using the Poisson distribution formula\n",
        "    pmf_value = (rate ** k * math.exp(-rate)) / math.factorial(k)\n",
        "\n",
        "    return pmf_value\n",
        "\n",
        "# Example usage:\n",
        "rate = 3  # The rate parameter (lambda)\n",
        "k = 4     # The number of occurrences (k)\n",
        "\n",
        "# Calculate PMF for the given k and rate\n",
        "pmf_value = poisson_pmf(k, rate)\n",
        "print(f\"PMF of Poisson distribution for k = {k} and rate = {rate}: {pmf_value}\")\n"
      ],
      "metadata": {
        "colab": {
          "base_uri": "https://localhost:8080/"
        },
        "id": "tnYxPRXgSGEa",
        "outputId": "5269ad1f-87d5-4c9a-a43e-f92d58715e66"
      },
      "execution_count": null,
      "outputs": [
        {
          "output_type": "stream",
          "name": "stdout",
          "text": [
            "PMF of Poisson distribution for k = 4 and rate = 3: 0.16803135574154082\n"
          ]
        }
      ]
    },
    {
      "cell_type": "markdown",
      "source": [
        "**Q11.A company wants to test if a new website layout leads to a higher conversion rate (percentage of visitors**\n",
        "**who make a purchase). They collect data from the old and new layouts to compare.**\n",
        "\n",
        "To generate the data use the following command:\n",
        "\n",
        "```python\n",
        "\n",
        "import numpy as np\n",
        "\n",
        "# 50 purchases out of 1000 visitors\n",
        "\n",
        "old_layout = np.array([1] * 50 + [0] * 950)\n",
        "\n",
        "# 70 purchases out of 1000 visitors  \n",
        "\n",
        "new_layout = np.array([1] * 70 + [0] * 930)\n",
        "\n",
        "  ```\n",
        "\n",
        "Apply z-test to find which layout is successful.\n"
      ],
      "metadata": {
        "id": "UUXNpk-IS3cX"
      }
    },
    {
      "cell_type": "code",
      "source": [
        "import numpy as np\n",
        "import math\n",
        "from scipy.stats import norm\n",
        "\n",
        "# Data for the old and new layouts\n",
        "old_layout = np.array([1] * 50 + [0] * 950)\n",
        "new_layout = np.array([1] * 70 + [0] * 930)\n",
        "\n",
        "# Number of visitors (n) and successes (x) for both old and new layouts\n",
        "n_old = len(old_layout)\n",
        "n_new = len(new_layout)\n",
        "x_old = np.sum(old_layout)\n",
        "x_new = np.sum(new_layout)\n",
        "\n",
        "# Sample proportions\n",
        "p_old = x_old / n_old\n",
        "p_new = x_new / n_new\n",
        "\n",
        "# Pooled proportion\n",
        "p_pool = (x_old + x_new) / (n_old + n_new)\n",
        "\n",
        "# Standard error of the difference\n",
        "SE = math.sqrt(p_pool * (1 - p_pool) * (1/n_old + 1/n_new))\n",
        "\n",
        "# Z-statistic\n",
        "z = (p_new - p_old) / SE\n",
        "\n",
        "# P-value (one-tailed test)\n",
        "p_value = 1 - norm.cdf(z)\n",
        "\n",
        "# Output results\n",
        "print(f\"z-statistic: {z}\")\n",
        "print(f\"p-value: {p_value}\")\n",
        "\n",
        "# Decision based on p-value\n",
        "alpha = 0.05\n",
        "if p_value < alpha:\n",
        "    print(\"Reject the null hypothesis: The new layout significantly increases the conversion rate.\")\n",
        "else:\n",
        "    print(\"Fail to reject the null hypothesis: There is no significant difference in conversion rates.\")\n"
      ],
      "metadata": {
        "colab": {
          "base_uri": "https://localhost:8080/"
        },
        "id": "JrN9QDwfUS7Z",
        "outputId": "44badee5-0eee-4f0b-82c5-83e0c895bd80"
      },
      "execution_count": null,
      "outputs": [
        {
          "output_type": "stream",
          "name": "stdout",
          "text": [
            "z-statistic: 1.883108942886774\n",
            "p-value: 0.029842802766213095\n",
            "Reject the null hypothesis: The new layout significantly increases the conversion rate.\n"
          ]
        }
      ]
    },
    {
      "cell_type": "markdown",
      "source": [
        "Q12.A tutoring service claims that its program improves students' exam scores. A sample of students who\n",
        "participated in the program was taken, and their scores before and after the program were recorded.\n",
        "\n",
        "Use the below code to generate samples of respective arrays of marks:\n",
        "\n",
        "```python\n",
        "\n",
        "before_program = np.array([75, 80, 85, 70, 90, 78, 92, 88, 82, 87])\n",
        "\n",
        "after_program = np.array([80, 85, 90, 80, 92, 80, 95, 90, 85, 88])\n",
        "\n",
        "```\n",
        "\n",
        "Use z-test to find if the claims made by tutor are true or false."
      ],
      "metadata": {
        "id": "tWKenCibVHpn"
      }
    },
    {
      "cell_type": "code",
      "source": [
        "import numpy as np\n",
        "import math\n",
        "from scipy.stats import norm\n",
        "\n",
        "# Data for the students' scores before and after the program\n",
        "before_program = np.array([75, 80, 85, 70, 90, 78, 92, 88, 82, 87])\n",
        "after_program = np.array([80, 85, 90, 80, 92, 80, 95, 90, 85, 88])\n",
        "\n",
        "# Step 1: Calculate the differences between the before and after scores\n",
        "differences = after_program - before_program\n",
        "\n",
        "# Step 2: Calculate the mean and standard deviation of the differences\n",
        "mean_diff = np.mean(differences)\n",
        "std_diff = np.std(differences, ddof=1)  # Sample standard deviation\n",
        "\n",
        "# Step 3: Calculate the standard error of the mean difference\n",
        "n = len(differences)\n",
        "SE = std_diff / math.sqrt(n)\n",
        "\n",
        "# Step 4: Calculate the z-statistic\n",
        "z = mean_diff / SE\n",
        "\n",
        "# Step 5: Calculate the p-value for a one-tailed test\n",
        "p_value = 1 - norm.cdf(z)\n",
        "\n",
        "# Output results\n",
        "print(f\"Mean of differences: {mean_diff}\")\n",
        "print(f\"Standard deviation of differences: {std_diff}\")\n",
        "print(f\"Standard error: {SE}\")\n",
        "print(f\"z-statistic: {z}\")\n",
        "print(f\"p-value: {p_value}\")\n",
        "\n",
        "# Decision based on p-value\n",
        "alpha = 0.05\n",
        "if p_value < alpha:\n",
        "    print(\"Reject the null hypothesis: The tutoring program significantly improves exam scores.\")\n",
        "else:\n",
        "    print(\"Fail to reject the null hypothesis: There is no significant improvement in exam scores.\")\n"
      ],
      "metadata": {
        "colab": {
          "base_uri": "https://localhost:8080/"
        },
        "id": "cOSCLW6mVxQW",
        "outputId": "be1a40ca-ebad-480b-c1b5-231c4facdbc8"
      },
      "execution_count": null,
      "outputs": [
        {
          "output_type": "stream",
          "name": "stdout",
          "text": [
            "Mean of differences: 3.8\n",
            "Standard deviation of differences: 2.616188916046478\n",
            "Standard error: 0.8273115763993905\n",
            "z-statistic: 4.593190894944668\n",
            "p-value: 2.182597052646784e-06\n",
            "Reject the null hypothesis: The tutoring program significantly improves exam scores.\n"
          ]
        }
      ]
    },
    {
      "cell_type": "markdown",
      "source": [
        "Q13. A pharmaceutical company wants to determine if a new drug is effective in reducing blood pressure. They\n",
        "conduct a study and record blood pressure measurements before and after administering the drug.\n",
        "\n",
        "Use the below code to generate samples of respective arrays of blood pressure:\n",
        "\n",
        "\n",
        "```python\n",
        "\n",
        "before_drug = np.array([145, 150, 140, 135, 155, 160, 152, 148, 130, 138])\n",
        "\n",
        "after_drug = np.array([130, 140, 132, 128, 145, 148, 138, 136, 125, 130])\n",
        "\n",
        "  ```\n",
        "\n",
        "\n",
        "Implement z-test to find if the drug really works or not"
      ],
      "metadata": {
        "id": "NySMSry3V006"
      }
    },
    {
      "cell_type": "code",
      "source": [
        "import numpy as np\n",
        "import math\n",
        "from scipy.stats import norm\n",
        "\n",
        "# Data for blood pressure before and after the drug\n",
        "before_drug = np.array([145, 150, 140, 135, 155, 160, 152, 148, 130, 138])\n",
        "after_drug = np.array([130, 140, 132, 128, 145, 148, 138, 136, 125, 130])\n",
        "\n",
        "# Step 1: Calculate the differences between before and after the drug\n",
        "differences = before_drug - after_drug\n",
        "\n",
        "# Step 2: Calculate the mean and standard deviation of the differences\n",
        "mean_diff = np.mean(differences)\n",
        "std_diff = np.std(differences, ddof=1)  # Sample standard deviation\n",
        "\n",
        "# Step 3: Calculate the standard error of the mean difference\n",
        "n = len(differences)\n",
        "SE = std_diff / math.sqrt(n)\n",
        "\n",
        "# Step 4: Calculate the z-statistic\n",
        "z = mean_diff / SE\n",
        "\n",
        "# Step 5: Calculate the p-value for a one-tailed test\n",
        "p_value = norm.cdf(z)\n",
        "\n",
        "# Output results\n",
        "print(f\"Mean of differences: {mean_diff}\")\n",
        "print(f\"Standard deviation of differences: {std_diff}\")\n",
        "print(f\"Standard error: {SE}\")\n",
        "print(f\"z-statistic: {z}\")\n",
        "print(f\"p-value: {p_value}\")\n",
        "\n",
        "# Decision based on p-value\n",
        "alpha = 0.05\n",
        "if p_value < alpha:\n",
        "    print(\"Reject the null hypothesis: The drug significantly reduces blood pressure.\")\n",
        "else:\n",
        "    print(\"Fail to reject the null hypothesis: There is no significant reduction in blood pressure.\")\n"
      ],
      "metadata": {
        "colab": {
          "base_uri": "https://localhost:8080/"
        },
        "id": "s_ED9U-pW9GP",
        "outputId": "cf21d581-cdaf-44cb-9524-755fc260b66e"
      },
      "execution_count": null,
      "outputs": [
        {
          "output_type": "stream",
          "name": "stdout",
          "text": [
            "Mean of differences: 10.1\n",
            "Standard deviation of differences: 3.178049716414141\n",
            "Standard error: 1.0049875621120892\n",
            "z-statistic: 10.049875621120888\n",
            "p-value: 1.0\n",
            "Fail to reject the null hypothesis: There is no significant reduction in blood pressure.\n"
          ]
        }
      ]
    },
    {
      "cell_type": "markdown",
      "source": [
        "**Q14.A customer service department claims that their average response time is less than 5 minutes. A sample**\n",
        "**of recent customer interactions was taken, and the response times were recorded**.\n",
        "\n",
        "Implement the below code to generate the array of response time:\n",
        "\n",
        "```python\n",
        "\n",
        "response_times = np.array([4.3, 3.8, 5.1, 4.9, 4.7, 4.2, 5.2, 4.5, 4.6, 4.4])\n",
        "\n",
        "```\n",
        "\n",
        "Implement z-test to find the claims made by customer service department are tru or false."
      ],
      "metadata": {
        "id": "h6U1FSJSW_uf"
      }
    },
    {
      "cell_type": "code",
      "source": [
        "import numpy as np\n",
        "import math\n",
        "from scipy.stats import norm\n",
        "\n",
        "# Data for response times\n",
        "response_times = np.array([4.3, 3.8, 5.1, 4.9, 4.7, 4.2, 5.2, 4.5, 4.6, 4.4])\n",
        "\n",
        "# Step 1: Calculate the sample mean and sample standard deviation\n",
        "sample_mean = np.mean(response_times)\n",
        "sample_std = np.std(response_times, ddof=1)  # Sample standard deviation\n",
        "\n",
        "# Step 2: Calculate the standard error of the mean\n",
        "n = len(response_times)\n",
        "SE = sample_std / math.sqrt(n)\n",
        "\n",
        "# Step 3: Calculate the z-statistic\n",
        "population_mean = 5  # Claimed average response time\n",
        "z = (sample_mean - population_mean) / SE\n",
        "\n",
        "# Step 4: Calculate the p-value for a one-tailed test\n",
        "p_value = norm.cdf(z)\n",
        "\n",
        "# Output results\n",
        "print(f\"Sample mean: {sample_mean}\")\n",
        "print(f\"Sample standard deviation: {sample_std}\")\n",
        "print(f\"Standard error: {SE}\")\n",
        "print(f\"z-statistic: {z}\")\n",
        "print(f\"p-value: {p_value}\")\n",
        "\n",
        "# Decision based on p-value\n",
        "alpha = 0.05\n",
        "if p_value < alpha:\n",
        "    print(\"Reject the null hypothesis: The response time is significantly less than 5 minutes.\")\n",
        "else:\n",
        "    print(\"Fail to reject the null hypothesis: The response time is not significantly less than 5 minutes.\")\n"
      ],
      "metadata": {
        "colab": {
          "base_uri": "https://localhost:8080/"
        },
        "id": "wYWSbj4TYAns",
        "outputId": "a07e2fb8-8e90-4b93-afd3-d110ac6cd286"
      },
      "execution_count": null,
      "outputs": [
        {
          "output_type": "stream",
          "name": "stdout",
          "text": [
            "Sample mean: 4.57\n",
            "Sample standard deviation: 0.4270050741306634\n",
            "Standard error: 0.13503086067019396\n",
            "z-statistic: -3.184457226042963\n",
            "p-value: 0.0007251287113068958\n",
            "Reject the null hypothesis: The response time is significantly less than 5 minutes.\n"
          ]
        }
      ]
    },
    {
      "cell_type": "markdown",
      "source": [
        "**Q15.A company is testing two different website layouts to see which one leads to higher click-through rates.**\n",
        "**Write a Python function to perform an A/B test analysis, including calculating the t-statistic, degrees of**\n",
        "**freedom, and p-value.**\n",
        "\n",
        "Use the following data:\n",
        "\n",
        "```python\n",
        "\n",
        "layout_a_clicks = [28, 32, 33, 29, 31, 34, 30, 35, 36, 37]\n",
        "\n",
        "layout_b_clicks = [40, 41, 38, 42, 39, 44, 43, 41, 45, 47]"
      ],
      "metadata": {
        "id": "J7VjYL8ZYI7-"
      }
    },
    {
      "cell_type": "code",
      "source": [
        "import numpy as np\n",
        "import math\n",
        "from scipy import stats\n",
        "\n",
        "# Data for click-through rates\n",
        "layout_a_clicks = [28, 32, 33, 29, 31, 34, 30, 35, 36, 37]\n",
        "layout_b_clicks = [40, 41, 38, 42, 39, 44, 43, 41, 45, 47]\n",
        "\n",
        "# Calculate sample means and standard deviations\n",
        "mean_a = np.mean(layout_a_clicks)\n",
        "mean_b = np.mean(layout_b_clicks)\n",
        "std_a = np.std(layout_a_clicks, ddof=1)  # Sample standard deviation\n",
        "std_b = np.std(layout_b_clicks, ddof=1)\n",
        "\n",
        "# Sample sizes\n",
        "n_a = len(layout_a_clicks)\n",
        "n_b = len(layout_b_clicks)\n",
        "\n",
        "# Calculate the t-statistic\n",
        "t_stat = (mean_a - mean_b) / math.sqrt((std_a**2 / n_a) + (std_b**2 / n_b))\n",
        "\n",
        "# Calculate degrees of freedom (Welch-Satterthwaite equation)\n",
        "df = ((std_a**2 / n_a + std_b**2 / n_b)**2) / ((std_a**2 / n_a)**2 / (n_a - 1) + (std_b**2 / n_b)**2 / (n_b - 1))\n",
        "\n",
        "# Calculate the p-value (two-tailed test)\n",
        "p_value = 2 * stats.t.cdf(-abs(t_stat), df)  # Two-tailed test\n",
        "\n",
        "# Output results\n",
        "print(f\"Mean of layout A: {mean_a}\")\n",
        "print(f\"Mean of layout B: {mean_b}\")\n",
        "print(f\"Standard deviation of layout A: {std_a}\")\n",
        "print(f\"Standard deviation of layout B: {std_b}\")\n",
        "print(f\"t-statistic: {t_stat}\")\n",
        "print(f\"Degrees of freedom: {df}\")\n",
        "print(f\"p-value: {p_value}\")\n",
        "\n",
        "# Decision based on p-value\n",
        "alpha = 0.05\n",
        "if p_value < alpha:\n",
        "    print(\"Reject the null hypothesis: There is a significant difference between the two layouts.\")\n",
        "else:\n",
        "    print(\"Fail to reject the null hypothesis: There is no significant difference between the two layouts.\")\n"
      ],
      "metadata": {
        "colab": {
          "base_uri": "https://localhost:8080/"
        },
        "id": "JIXtmAc4ZAk_",
        "outputId": "2e5c0c08-d7e0-4355-f58e-43057d6edb22"
      },
      "execution_count": null,
      "outputs": [
        {
          "output_type": "stream",
          "name": "stdout",
          "text": [
            "Mean of layout A: 32.5\n",
            "Mean of layout B: 42.0\n",
            "Standard deviation of layout A: 3.0276503540974917\n",
            "Standard deviation of layout B: 2.788866755113585\n",
            "t-statistic: -7.298102156175071\n",
            "Degrees of freedom: 17.879871863320876\n",
            "p-value: 9.196596070789357e-07\n",
            "Reject the null hypothesis: There is a significant difference between the two layouts.\n"
          ]
        }
      ]
    },
    {
      "cell_type": "markdown",
      "source": [
        "**Q16.A pharmaceutical company wants to determine if a new drug is more effective than an existing drug in**\n",
        "**reducing cholesterol levels. Create a program to analyze the clinical trial data and calculate the tstatistic and p-value for the treatment effect.**\n",
        "\n",
        "Use the following data of cholestrol level:\n",
        "\n",
        "```python\n",
        "\n",
        "existing_drug_levels = [180, 182, 175, 185, 178, 176, 172, 184, 179, 183]\n",
        "\n",
        "new_drug_levels = [170, 172, 165, 168, 175, 173, 170, 178, 172, 176]"
      ],
      "metadata": {
        "id": "78D66y8RZHA6"
      }
    },
    {
      "cell_type": "code",
      "source": [
        "import numpy as np\n",
        "import math\n",
        "from scipy import stats\n",
        "\n",
        "# Data for cholesterol levels\n",
        "existing_drug_levels = [180, 182, 175, 185, 178, 176, 172, 184, 179, 183]\n",
        "new_drug_levels = [170, 172, 165, 168, 175, 173, 170, 178, 172, 176]\n",
        "\n",
        "# Calculate sample means and standard deviations\n",
        "mean_existing = np.mean(existing_drug_levels)\n",
        "mean_new = np.mean(new_drug_levels)\n",
        "std_existing = np.std(existing_drug_levels, ddof=1)  # Sample standard deviation\n",
        "std_new = np.std(new_drug_levels, ddof=1)\n",
        "\n",
        "# Sample sizes\n",
        "n_existing = len(existing_drug_levels)\n",
        "n_new = len(new_drug_levels)\n",
        "\n",
        "# Calculate the t-statistic\n",
        "t_stat = (mean_existing - mean_new) / math.sqrt((std_existing**2 / n_existing) + (std_new**2 / n_new))\n",
        "\n",
        "# Calculate degrees of freedom (Welch-Satterthwaite equation)\n",
        "df = ((std_existing**2 / n_existing + std_new**2 / n_new)**2) / ((std_existing**2 / n_existing)**2 / (n_existing - 1) + (std_new**2 / n_new)**2 / (n_new - 1))\n",
        "\n",
        "# Calculate the p-value (two-tailed test)\n",
        "p_value = 2 * stats.t.cdf(-abs(t_stat), df)  # Two-tailed test\n",
        "\n",
        "# Output results\n"
      ],
      "metadata": {
        "id": "Nt-p4LzlaIza"
      },
      "execution_count": null,
      "outputs": []
    },
    {
      "cell_type": "markdown",
      "source": [
        "**Q17.A school district introduces an educational intervention program to improve math scores. Write a Python**\n",
        "**function to analyze pre- and post-intervention test scores, calculating the t-statistic and p-value to**\n",
        "**determine if the intervention had a significant impact.**\n",
        "\n",
        "Use the following data of test score:\n",
        "\n",
        "\n",
        "  ```python\n",
        "\n",
        "  pre_intervention_scores = [80, 85, 90, 75, 88, 82, 92, 78, 85, 87]\n",
        "\n",
        "  post_intervention_scores = [90, 92, 88, 92, 95, 91, 96, 93, 89, 93]"
      ],
      "metadata": {
        "id": "j_DJ3sanaOd_"
      }
    },
    {
      "cell_type": "code",
      "source": [
        "import numpy as np\n",
        "import math\n",
        "from scipy import stats\n",
        "\n",
        "# Data for test scores before and after intervention\n",
        "pre_intervention_scores = [80, 85, 90, 75, 88, 82, 92, 78, 85, 87]\n",
        "post_intervention_scores = [90, 92, 88, 92, 95, 91, 96, 93, 89, 93]\n",
        "\n",
        "# Calculate the differences (post - pre)\n",
        "differences = np.array(post_intervention_scores) - np.array(pre_intervention_scores)\n",
        "\n",
        "# Calculate the mean and standard deviation of the differences\n",
        "mean_difference = np.mean(differences)\n",
        "std_difference = np.std(differences, ddof=1)  # Sample standard deviation\n",
        "n = len(differences)\n",
        "\n",
        "# Calculate the t-statistic\n",
        "t_stat = mean_difference / (std_difference / math.sqrt(n))\n",
        "\n",
        "# Calculate the degrees of freedom\n",
        "df = n - 1\n",
        "\n",
        "# Calculate the p-value (two-tailed test)\n",
        "p_value = 2 * stats.t.cdf(-abs(t_stat), df)  # Two-tailed test\n",
        "\n",
        "# Output results\n",
        "print(f\"Mean of differences: {mean_difference}\")\n",
        "print(f\"Standard deviation of differences: {std_difference}\")\n",
        "print(f\"t-statistic: {t_stat}\")\n",
        "print(f\"Degrees of freedom: {df}\")\n",
        "print(f\"p-value: {p_value}\")\n",
        "\n",
        "# Decision based on p-value\n",
        "alpha = 0.05\n",
        "if p_value < alpha:\n",
        "    print(\"Reject the null hypothesis: The intervention had a significant effect on test scores.\")\n",
        "else:\n",
        "    print(\"Fail to reject the null hypothesis: There is no significant effect of the intervention on test scores.\")\n"
      ],
      "metadata": {
        "colab": {
          "base_uri": "https://localhost:8080/"
        },
        "id": "EcU3V761agXM",
        "outputId": "9849321f-124f-4b16-d1e8-c1401c8eddf6"
      },
      "execution_count": null,
      "outputs": [
        {
          "output_type": "stream",
          "name": "stdout",
          "text": [
            "Mean of differences: 7.7\n",
            "Standard deviation of differences: 5.49848463972878\n",
            "t-statistic: 4.428408839657611\n",
            "Degrees of freedom: 9\n",
            "p-value: 0.0016509548165795493\n",
            "Reject the null hypothesis: The intervention had a significant effect on test scores.\n"
          ]
        }
      ]
    },
    {
      "cell_type": "markdown",
      "source": [
        "**Q18.An HR department wants to investigate if there's a gender-based salary gap within the company. Develop**\n",
        "**a program to analyze salary data, calculate the t-statistic, and determine if there's a statistically**\n",
        "**significant difference between the average salaries of male and female employees.**\n",
        "\n",
        "Use the below code to generate synthetic data:\n",
        "\n",
        "\n",
        "```python\n",
        "\n",
        "# Generate synthetic salary data for male and female employees\n",
        "\n",
        "np.random.seed(0)  # For reproducibility\n",
        "\n",
        "male_salaries = np.random.normal(loc=50000, scale=10000, size=20)\n",
        "\n",
        "female_salaries = np.random.normal(loc=55000, scale=9000, size=20)\n",
        "\n",
        "  ```\n"
      ],
      "metadata": {
        "id": "4ZvRy1wJTH1b"
      }
    },
    {
      "cell_type": "code",
      "source": [
        "import numpy as np\n",
        "import math\n",
        "from scipy import stats\n",
        "\n",
        "# Generate synthetic salary data\n",
        "np.random.seed(0)\n",
        "male_salaries = np.random.normal(loc=50000, scale=10000, size=20)\n",
        "female_salaries = np.random.normal(loc=55000, scale=9000, size=20)\n",
        "\n",
        "# Calculate sample means and standard deviations\n",
        "mean_male = np.mean(male_salaries)\n",
        "mean_female = np.mean(female_salaries)\n",
        "std_male = np.std(male_salaries, ddof=1)  # Sample standard deviation\n",
        "std_female = np.std(female_salaries, ddof=1)\n",
        "\n",
        "# Sample sizes\n",
        "n_male = len(male_salaries)\n",
        "n_female = len(female_salaries)\n",
        "\n",
        "# Calculate the t-statistic\n",
        "t_stat = (mean_male - mean_female) / math.sqrt((std_male**2 / n_male) + (std_female**2 / n_female))\n",
        "\n",
        "# Calculate degrees of freedom (Welch-Satterthwaite equation)\n",
        "df = ((std_male**2 / n_male + std_female**2 / n_female)**2) / ((std_male**2 / n_male)**2 / (n_male - 1) + (std_female**2 / n_female)**2 / (n_female - 1))\n",
        "\n",
        "# Calculate the p-value (two-tailed test)\n",
        "p_value = 2 * stats.t.cdf(-abs(t_stat), df)  # Two-tailed test\n",
        "\n",
        "# Output results\n",
        "print(f\"Mean salary (male): {mean_male}\")\n",
        "print(f\"Mean salary (female): {mean_female}\")\n",
        "print(f\"Standard deviation (male): {std_male}\")\n",
        "print(f\"Standard deviation (female): {std_female}\")\n",
        "print(f\"t-statistic: {t_stat}\")\n",
        "print(f\"Degrees of freedom: {df}\")\n",
        "print(f\"p-value: {p_value}\")\n",
        "\n",
        "# Decision based on p-value\n",
        "alpha = 0.05\n",
        "if p_value < alpha:\n",
        "    print(\"Reject the null hypothesis: There is a statistically significant gender-based salary gap.\")\n",
        "else:\n",
        "    print(\"Fail to reject the null hypothesis: There is no statistically significant gender-based salary gap.\")\n"
      ],
      "metadata": {
        "colab": {
          "base_uri": "https://localhost:8080/"
        },
        "id": "vSiK42qLTlXq",
        "outputId": "9b7b7da5-53b8-4b37-edc4-5af25f96ff2f"
      },
      "execution_count": null,
      "outputs": [
        {
          "output_type": "stream",
          "name": "stdout",
          "text": [
            "Mean salary (male): 55693.345929456365\n",
            "Mean salary (female): 55501.753181380416\n",
            "Standard deviation (male): 8722.691485249854\n",
            "Standard deviation (female): 10968.104612042216\n",
            "t-statistic: 0.061142089696313844\n",
            "Degrees of freedom: 36.166783312917644\n",
            "p-value: 0.9515826849267927\n",
            "Fail to reject the null hypothesis: There is no statistically significant gender-based salary gap.\n"
          ]
        }
      ]
    },
    {
      "cell_type": "markdown",
      "source": [
        "**Q19.A manufacturer produces two different versions of a product and wants to compare their quality scores.**\n",
        "**Create a Python function to analyze quality assessment data, calculate the t-statistic, and decide**\n",
        "**whether there's a significant difference in quality between the two versions**\n",
        "\n",
        "Use the following data:\n",
        "\n",
        "\n",
        "```python\n",
        "\n",
        "version1_scores = [85, 88, 82, 89, 87, 84, 90, 88, 85, 86, 91, 83, 87, 84, 89, 86, 84, 88, 85, 86, 89, 90, 87, 88, 85]\n",
        "\n",
        "version2_scores = [80, 78, 83, 81, 79, 82, 76, 80, 78, 81, 77, 82, 80, 79, 82, 79, 80, 81, 79, 82, 79, 78, 80, 81, 82]"
      ],
      "metadata": {
        "id": "JnlXmqXMUt-g"
      }
    },
    {
      "cell_type": "code",
      "source": [
        "import numpy as np\n",
        "from scipy import stats\n",
        "import math\n",
        "\n",
        "# Quality scores for each version\n",
        "version1_scores = [85, 88, 82, 89, 87, 84, 90, 88, 85, 86, 91, 83, 87, 84, 89, 86, 84, 88, 85, 86, 89, 90, 87, 88, 85]\n",
        "version2_scores = [80, 78, 83, 81, 79, 82, 76, 80, 78, 81, 77, 82, 80, 79, 82, 79, 80, 81, 79, 82, 79, 78, 80, 81, 82]\n",
        "\n",
        "# Calculate means and standard deviations\n",
        "mean_version1 = np.mean(version1_scores)\n",
        "mean_version2 = np.mean(version2_scores)\n",
        "std_version1 = np.std(version1_scores, ddof=1)  # Sample standard deviation\n",
        "std_version2 = np.std(version2_scores, ddof=1)\n",
        "\n",
        "# Sample sizes\n",
        "n_version1 = len(version1_scores)\n",
        "n_version2 = len(version2_scores)\n",
        "\n",
        "# Calculate the t-statistic\n",
        "t_stat = (mean_version1 - mean_version2) / math.sqrt((std_version1**2 / n_version1) + (std_version2**2 / n_version2))\n",
        "\n",
        "# Calculate degrees of freedom\n",
        "df = ((std_version1**2 / n_version1 + std_version2**2 / n_version2)**2) / ((std_version1**2 / n_version1)**2 / (n_version1 - 1) + (std_version2**2 / n_version2)**2 / (n_version2 - 1))\n",
        "\n",
        "# Calculate the p-value (two-tailed test)\n",
        "p_value = 2 * stats.t.cdf(-abs(t_stat), df)\n",
        "\n",
        "# Output results\n",
        "print(f\"Mean score (Version 1): {mean_version1}\")\n",
        "print(f\"Mean score (Version 2): {mean_version2}\")\n",
        "print(f\"Standard deviation (Version 1): {std_version1}\")\n",
        "print(f\"Standard deviation (Version 2): {std_version2}\")\n",
        "print(f\"t-statistic: {t_stat}\")\n",
        "print(f\"Degrees of freedom: {df}\")\n",
        "print(f\"p-value: {p_value}\")\n",
        "\n",
        "# Decision based on p-value\n",
        "alpha = 0.05\n",
        "if p_value < alpha:\n",
        "    print(\"Reject the null hypothesis: There is a statistically significant difference in quality between the two versions.\")\n",
        "else:\n",
        "    print(\"Fail to reject the null hypothesis: There is no statistically significant difference in quality between the two versions.\")\n"
      ],
      "metadata": {
        "colab": {
          "base_uri": "https://localhost:8080/"
        },
        "id": "IbRG9rVjVS2R",
        "outputId": "e9324595-cfc1-4c6b-d658-e7d426c542ed"
      },
      "execution_count": null,
      "outputs": [
        {
          "output_type": "stream",
          "name": "stdout",
          "text": [
            "Mean score (Version 1): 86.64\n",
            "Mean score (Version 2): 79.96\n",
            "Standard deviation (Version 1): 2.3607908279501033\n",
            "Standard deviation (Version 2): 1.767295485574875\n",
            "t-statistic: 11.325830417646698\n",
            "Degrees of freedom: 44.47061033283036\n",
            "p-value: 1.078754084378157e-14\n",
            "Reject the null hypothesis: There is a statistically significant difference in quality between the two versions.\n"
          ]
        }
      ]
    },
    {
      "cell_type": "markdown",
      "source": [
        "**Q20.A restaurant chain collects customer satisfaction scores for two different branches. Write a program to**\n",
        "**analyze the scores, calculate the t-statistic, and determine if there's a statistically significant difference in**\n",
        "**customer satisfaction between the branches.**\n",
        "\n",
        "Use the below data of scores:\n",
        "\n",
        "  ```python\n",
        "\n",
        "branch_a_scores = [4, 5, 3, 4, 5, 4, 5, 3, 4, 4, 5, 4, 4, 3, 4, 5, 5, 4, 3, 4, 5, 4, 3, 5, 4, 4, 5, 3, 4, 5, 4]\n",
        "\n",
        "branch_b_scores = [3, 4, 2, 3, 4, 3, 4, 2, 3, 3, 4, 3, 3, 2, 3, 4, 4, 3, 2, 3, 4, 3, 2, 4, 3, 3, 4, 2, 3, 4, 3]"
      ],
      "metadata": {
        "id": "V9uF65qDV6Mj"
      }
    },
    {
      "cell_type": "code",
      "source": [
        "import numpy as np\n",
        "from scipy import stats\n",
        "import math\n",
        "\n",
        "# Customer satisfaction scores for each branch\n",
        "branch_a_scores = [4, 5, 3, 4, 5, 4, 5, 3, 4, 4, 5, 4, 4, 3, 4, 5, 5, 4, 3, 4, 5, 4, 3, 5, 4, 4, 5, 3, 4, 5, 4]\n",
        "branch_b_scores = [3, 4, 2, 3, 4, 3, 4, 2, 3, 3, 4, 3, 3, 2, 3, 4, 4, 3, 2, 3, 4, 3, 2, 4, 3, 3, 4, 2, 3, 4, 3]\n",
        "\n",
        "# Calculate means and standard deviations\n",
        "mean_branch_a = np.mean(branch_a_scores)\n",
        "mean_branch_b = np.mean(branch_b_scores)\n",
        "std_branch_a = np.std(branch_a_scores, ddof=1)  # Sample standard deviation\n",
        "std_branch_b = np.std(branch_b_scores, ddof=1)\n",
        "\n",
        "# Sample sizes\n",
        "n_branch_a = len(branch_a_scores)\n",
        "n_branch_b = len(branch_b_scores)\n",
        "\n",
        "# Calculate the t-statistic\n",
        "t_stat = (mean_branch_a - mean_branch_b) / math.sqrt((std_branch_a**2 / n_branch_a) + (std_branch_b**2 / n_branch_b))\n",
        "\n",
        "# Calculate degrees of freedom\n",
        "df = ((std_branch_a**2 / n_branch_a + std_branch_b**2 / n_branch_b)**2) / ((std_branch_a**2 / n_branch_a)**2 / (n_branch_a - 1) + (std_branch_b**2 / n_branch_b)**2 / (n_branch_b - 1))\n",
        "\n",
        "# Calculate p-value (two-tailed test)\n",
        "p_value = 2 * stats.t.cdf(-abs(t_stat), df)\n",
        "\n",
        "# Output results\n",
        "print(f\"Mean score (Branch A): {mean_branch_a}\")\n",
        "print(f\"Mean score (Branch B): {mean_branch_b}\")\n",
        "print(f\"Standard deviation (Branch A): {std_branch_a}\")\n",
        "print(f\"Standard deviation (Branch B): {std_branch_b}\")\n",
        "print(f\"t-statistic: {t_stat}\")\n",
        "print(f\"Degrees of freedom: {df}\")\n",
        "print(f\"p-value: {p_value}\")\n",
        "\n",
        "# Decision based on p-value\n",
        "alpha = 0.05\n",
        "if p_value < alpha:\n",
        "    print(\"Reject the null hypothesis: There is a statistically significant difference in customer satisfaction between the branches.\")\n",
        "else:\n",
        "    print(\"Fail to reject the null hypothesis: There is no statistically significant difference in customer satisfaction between the branches.\")\n"
      ],
      "metadata": {
        "colab": {
          "base_uri": "https://localhost:8080/"
        },
        "id": "sxTOThUIW4aM",
        "outputId": "da1c1f66-7954-4ff1-f11b-f5160891eba1"
      },
      "execution_count": null,
      "outputs": [
        {
          "output_type": "stream",
          "name": "stdout",
          "text": [
            "Mean score (Branch A): 4.129032258064516\n",
            "Mean score (Branch B): 3.129032258064516\n",
            "Standard deviation (Branch A): 0.7184212081070998\n",
            "Standard deviation (Branch B): 0.7184212081070998\n",
            "t-statistic: 5.480077554195743\n",
            "Degrees of freedom: 60.0\n",
            "p-value: 8.895290509945655e-07\n",
            "Reject the null hypothesis: There is a statistically significant difference in customer satisfaction between the branches.\n"
          ]
        }
      ]
    },
    {
      "cell_type": "markdown",
      "source": [
        "**Q21.A political analyst wants to determine if there is a significant association between age groups and voter**\n",
        "**preferences (Candidate A or Candidate B). They collect data from a sample of 500 voters and classify**\n",
        "**them into different age groups and candidate preferences. Perform a Chi-Square test to determine if**\n",
        "**there is a significant association between age groups and voter preferences.**\n",
        "\n",
        "Use the below code to generate data:\n",
        "\n",
        "```python\n",
        "\n",
        "np.random.seed(0)\n",
        "\n",
        "age_groups = np.random.choice([ 18 - 30 , 31 - 50 , 51+', 51+'], size=30)\n",
        "\n",
        "voter_preferences = np.random.choice(['Candidate A', 'Candidate B'], size=30)"
      ],
      "metadata": {
        "id": "Hh_Pfi7sW8iW"
      }
    },
    {
      "cell_type": "code",
      "source": [
        "import numpy as np\n",
        "import pandas as pd\n",
        "from scipy.stats import chi2_contingency\n",
        "\n",
        "# Seed for reproducibility\n",
        "np.random.seed(0)\n",
        "\n",
        "# Generate data\n",
        "age_groups = np.random.choice(['18-30', '31-50', '51+'], size=500)\n",
        "voter_preferences = np.random.choice(['Candidate A', 'Candidate B'], size=500)\n",
        "\n",
        "# Create a DataFrame\n",
        "data = pd.DataFrame({\n",
        "    'Age Group': age_groups,\n",
        "    'Voter Preference': voter_preferences\n",
        "})\n",
        "\n",
        "# Create contingency table\n",
        "contingency_table = pd.crosstab(data['Age Group'], data['Voter Preference'])\n",
        "\n",
        "# Perform Chi-Square test\n",
        "chi2, p_value, dof, expected = chi2_contingency(contingency_table)\n",
        "\n",
        "# Output results\n",
        "print(\"Contingency Table:\")\n",
        "print(contingency_table)\n",
        "print(\"\\nChi-Square Statistic:\", chi2)\n",
        "print(\"p-value:\", p_value)\n",
        "print(\"Degrees of Freedom:\", dof)\n",
        "print(\"\\nExpected Frequencies Table:\")\n",
        "print(pd.DataFrame(expected, index=contingency_table.index, columns=contingency_table.columns))\n",
        "\n",
        "# Decision based on p-value\n",
        "alpha = 0.05\n",
        "if p_value < alpha:\n",
        "    print(\"\\nReject the null hypothesis: There is a significant association between age groups and voter preferences.\")\n",
        "else:\n",
        "    print(\"\\nFail to reject the null hypothesis: There is no significant association between age groups and voter preferences.\")\n"
      ],
      "metadata": {
        "colab": {
          "base_uri": "https://localhost:8080/"
        },
        "id": "K6M6zLPxX4Cw",
        "outputId": "b1521ba0-3c9a-4941-c653-904288d2871d"
      },
      "execution_count": null,
      "outputs": [
        {
          "output_type": "stream",
          "name": "stdout",
          "text": [
            "Contingency Table:\n",
            "Voter Preference  Candidate A  Candidate B\n",
            "Age Group                                 \n",
            "18-30                      95           87\n",
            "31-50                      87           82\n",
            "51+                        84           65\n",
            "\n",
            "Chi-Square Statistic: 0.8779923945254768\n",
            "p-value: 0.6446832311860852\n",
            "Degrees of Freedom: 2\n",
            "\n",
            "Expected Frequencies Table:\n",
            "Voter Preference  Candidate A  Candidate B\n",
            "Age Group                                 \n",
            "18-30                  96.824       85.176\n",
            "31-50                  89.908       79.092\n",
            "51+                    79.268       69.732\n",
            "\n",
            "Fail to reject the null hypothesis: There is no significant association between age groups and voter preferences.\n"
          ]
        }
      ]
    },
    {
      "cell_type": "markdown",
      "source": [
        "**Q22. A company conducted a customer satisfaction survey to determine if there is a significant relationship**\n",
        "**between product satisfaction levels (Satisfied, Neutral, Dissatisfied) and the region where customers are**\n",
        "**located (East, West, North, South). The survey data is summarized in a contingency table. Conduct a ChiSquare test to determine if there is a** significant relationship between product satisfaction levels and\n",
        "customer regions.\n",
        "\n",
        "Sample data:\n",
        "\n",
        "```python\n",
        "\n",
        "#Sample data: Product satisfaction levels (rows) vs. Customer regions (columns)\n",
        "\n",
        "data = np.array([[50, 30, 40, 20], [30, 40, 30, 50], [20, 30, 40, 30]])\n",
        "\n",
        "```"
      ],
      "metadata": {
        "id": "ZIy6UNLeX-mH"
      }
    },
    {
      "cell_type": "code",
      "source": [
        "import numpy as np\n",
        "from scipy.stats import chi2_contingency\n",
        "\n",
        "# Sample data: Product satisfaction levels (rows) vs. Customer regions (columns)\n",
        "data = np.array([\n",
        "    [50, 30, 40, 20],  # Satisfied\n",
        "    [30, 40, 30, 50],  # Neutral\n",
        "    [20, 30, 40, 30]   # Dissatisfied\n",
        "])\n",
        "\n",
        "# Perform Chi-Square test\n",
        "chi2, p_value, dof, expected = chi2_contingency(data)\n",
        "\n",
        "# Output results\n",
        "print(\"Observed Data:\")\n",
        "print(data)\n",
        "print(\"\\nChi-Square Statistic:\", chi2)\n",
        "print(\"p-value:\", p_value)\n",
        "print(\"Degrees of Freedom:\", dof)\n",
        "print(\"\\nExpected Frequencies Table:\")\n",
        "print(np.round(expected, 2))\n",
        "\n",
        "# Decision based on p-value\n",
        "alpha = 0.05\n",
        "if p_value < alpha:\n",
        "    print(\"\\nReject the null hypothesis: There is a significant relationship between satisfaction levels and customer regions.\")\n",
        "else:\n",
        "    print(\"\\nFail to reject the null hypothesis: There is no significant relationship between satisfaction levels and customer regions.\")\n"
      ],
      "metadata": {
        "colab": {
          "base_uri": "https://localhost:8080/"
        },
        "id": "q-rcQ9t8Y79s",
        "outputId": "dfc52e67-6bd7-4da3-bef7-76b1670bf6e8"
      },
      "execution_count": null,
      "outputs": [
        {
          "output_type": "stream",
          "name": "stdout",
          "text": [
            "Observed Data:\n",
            "[[50 30 40 20]\n",
            " [30 40 30 50]\n",
            " [20 30 40 30]]\n",
            "\n",
            "Chi-Square Statistic: 27.777056277056275\n",
            "p-value: 0.00010349448486004387\n",
            "Degrees of Freedom: 6\n",
            "\n",
            "Expected Frequencies Table:\n",
            "[[34.15 34.15 37.56 34.15]\n",
            " [36.59 36.59 40.24 36.59]\n",
            " [29.27 29.27 32.2  29.27]]\n",
            "\n",
            "Reject the null hypothesis: There is a significant relationship between satisfaction levels and customer regions.\n"
          ]
        }
      ]
    },
    {
      "cell_type": "markdown",
      "source": [
        "**Q23.A company implemented an employee training program to improve job performance (Effective, Neutral,**\n",
        "I**neffective). After the training, they collected data from a sample of employees and classified them based**\n",
        "**on their job performance before and after the training. Perform a Chi-Square test to determine if there is a**\n",
        "**significant difference between job performance levels before and after the training.**\n",
        "\n",
        "Sample data:\n",
        "\n",
        "```python\n",
        "\n",
        "# Sample data: Job performance levels before (rows) and after (columns) training\n",
        "\n",
        "data = np.array([[50, 30, 20], [30, 40, 30], [20, 30, 40]])\n",
        "\n",
        "```\n"
      ],
      "metadata": {
        "id": "ngsHJM3zY-y6"
      }
    },
    {
      "cell_type": "code",
      "source": [
        "import numpy as np\n",
        "from scipy.stats import chi2_contingency\n",
        "\n",
        "# Sample data: Job performance levels before (rows) and after (columns) training\n",
        "data = np.array([\n",
        "    [50, 30, 20],  # Effective (before)\n",
        "    [30, 40, 30],  # Neutral (before)\n",
        "    [20, 30, 40]   # Ineffective (before)\n",
        "])\n",
        "\n",
        "# Perform Chi-Square test\n",
        "chi2, p_value, dof, expected = chi2_contingency(data)\n",
        "\n",
        "# Output results\n",
        "print(\"Observed Data:\")\n",
        "print(data)\n",
        "print(\"\\nChi-Square Statistic:\", chi2)\n",
        "print(\"p-value:\", p_value)\n",
        "print(\"Degrees of Freedom:\", dof)\n",
        "print(\"\\nExpected Frequencies Table:\")\n",
        "print(np.round(expected, 2))\n",
        "\n",
        "# Decision based on p-value\n",
        "alpha = 0.05\n",
        "if p_value < alpha:\n",
        "    print(\"\\nReject the null hypothesis: There is a significant association between job performance levels before and after training.\")\n",
        "else:\n",
        "    print(\"\\nFail to reject the null hypothesis: There is no significant association between job performance levels before and after training.\")\n"
      ],
      "metadata": {
        "colab": {
          "base_uri": "https://localhost:8080/"
        },
        "id": "y-4EIvIIZXIQ",
        "outputId": "407c3ad9-31c1-4625-e0b3-cdf83926cb4e"
      },
      "execution_count": null,
      "outputs": [
        {
          "output_type": "stream",
          "name": "stdout",
          "text": [
            "Observed Data:\n",
            "[[50 30 20]\n",
            " [30 40 30]\n",
            " [20 30 40]]\n",
            "\n",
            "Chi-Square Statistic: 22.161728395061726\n",
            "p-value: 0.00018609719479882557\n",
            "Degrees of Freedom: 4\n",
            "\n",
            "Expected Frequencies Table:\n",
            "[[34.48 34.48 31.03]\n",
            " [34.48 34.48 31.03]\n",
            " [31.03 31.03 27.93]]\n",
            "\n",
            "Reject the null hypothesis: There is a significant association between job performance levels before and after training.\n"
          ]
        }
      ]
    },
    {
      "cell_type": "markdown",
      "source": [
        "**Q24.A company produces three different versions of a product: Standard, Premium, and Deluxe. The**\n",
        "**company wants to determine if there is a significant difference in customer satisfaction scores among the**\n",
        "t**hree product versions. They conducted a survey and collected customer satisfaction scores for each**\n",
        "**version from a random sample of customers. Perform an ANOVA test to determine if there is a significant**\n",
        "**difference in customer satisfaction scores.**\n",
        "\n",
        " Use the following data:\n",
        "\n",
        "  ```python\n",
        "\n",
        "  # Sample data: Customer satisfaction scores for each product version\n",
        "\n",
        "  standard_scores = [80, 85, 90, 78, 88, 82, 92, 78, 85, 87]\n",
        "\n",
        "  premium_scores = [90, 92, 88, 92, 95, 91, 96, 93, 89, 93]\n",
        "\n",
        "  deluxe_scores = [95, 98, 92, 97, 96, 94, 98, 97, 92, 99]\n",
        "\n",
        "  `"
      ],
      "metadata": {
        "id": "PWbAGIoHa5wu"
      }
    },
    {
      "cell_type": "code",
      "source": [
        "from scipy.stats import f_oneway\n",
        "\n",
        "# Sample data: Customer satisfaction scores for each product version\n",
        "standard_scores = [80, 85, 90, 78, 88, 82, 92, 78, 85, 87]\n",
        "premium_scores = [90, 92, 88, 92, 95, 91, 96, 93, 89, 93]\n",
        "deluxe_scores = [95, 98, 92, 97, 96, 94, 98, 97, 92, 99]\n",
        "\n",
        "# Perform one-way ANOVA test\n",
        "f_statistic, p_value = f_oneway(standard_scores, premium_scores, deluxe_scores)\n",
        "\n",
        "# Output results\n",
        "print(\"F-Statistic:\", f_statistic)\n",
        "print(\"p-value:\", p_value)\n",
        "\n",
        "# Decision based on p-value\n",
        "alpha = 0.05\n",
        "if p_value < alpha:\n",
        "    print(\"\\nReject the null hypothesis: There is a significant difference in customer satisfaction scores among the product versions.\")\n",
        "else:\n",
        "    print(\"\\nFail to reject the null hypothesis: There is no significant difference in customer satisfaction scores among the product versions.\")\n"
      ],
      "metadata": {
        "colab": {
          "base_uri": "https://localhost:8080/"
        },
        "id": "0ag7dgj9bWnn",
        "outputId": "c0fb3509-c731-4ca0-d8ab-0f65bc2a83ee"
      },
      "execution_count": null,
      "outputs": [
        {
          "output_type": "stream",
          "name": "stdout",
          "text": [
            "F-Statistic: 27.03556231003039\n",
            "p-value: 3.5786328857349003e-07\n",
            "\n",
            "Reject the null hypothesis: There is a significant difference in customer satisfaction scores among the product versions.\n"
          ]
        }
      ]
    }
  ]
}